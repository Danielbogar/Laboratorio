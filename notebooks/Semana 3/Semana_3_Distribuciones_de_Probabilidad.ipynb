{
  "nbformat": 4,
  "nbformat_minor": 0,
  "metadata": {
    "colab": {
      "name": "Semana 3 - Distribuciones de Probabilidad",
      "provenance": [],
      "toc_visible": true,
      "authorship_tag": "ABX9TyOy4eDhSOuq3DHqhLxhQH1O",
      "include_colab_link": true
    },
    "kernelspec": {
      "name": "python3",
      "display_name": "Python 3"
    }
  },
  "cells": [
    {
      "cell_type": "markdown",
      "metadata": {
        "id": "view-in-github",
        "colab_type": "text"
      },
      "source": [
        "<a href=\"https://colab.research.google.com/github/pyefiuna/Laboratorio/blob/master/notebooks/Semana%203/Semana_3_Distribuciones_de_Probabilidad.ipynb\" target=\"_parent\"><img src=\"https://colab.research.google.com/assets/colab-badge.svg\" alt=\"Open In Colab\"/></a>"
      ]
    },
    {
      "cell_type": "markdown",
      "metadata": {
        "id": "DlqMfhq3BwGV"
      },
      "source": [
        "!['Logo FIUNA'](http://www.ing.una.py/images/logo-horizontal.png)\n",
        "# PROBABILIDAD Y ESTADÍSTICA\n",
        "---\n"
      ]
    },
    {
      "cell_type": "markdown",
      "metadata": {
        "id": "bX1rIDKUCign"
      },
      "source": [
        "## Semana 3 - Distribuciones de probabilidad\n",
        "### Binomial y Poisson"
      ]
    },
    {
      "cell_type": "markdown",
      "metadata": {
        "id": "l5nAlRx6GPjU"
      },
      "source": [
        "### Materiales y recursos\n",
        "##### Materiales de teoria:\n",
        "* [Distribución Binomial](https://drive.google.com/file/d/1nsSupN3fb80MjWT8yokAAgJBLtAmdk40/view?ts=5f19b9dc)\n",
        "* [Distribución de Poisson](https://drive.google.com/file/d/1l1GnSW3wD3dtmPajYCSCw_sqYnuKUfVl/view?ts=5f0faec8)\n",
        "\n",
        "##### Actividades de laboratorio\n",
        "* [Vídeos de ejercicios de distribución binomial resueltos (en excel)](https://www.youtube.com/playlist?list=PLwx_FbswjRXy0PUH06vFIl3YJpy5daNqC)\n",
        "* [Enunciados de ejercicios de distribución binomial](https://eaula.ing.una.py/pluginfile.php/76573/mod_resource/content/1/5.%20Distribuci%C3%B3n%20binomial%20Laboratorio%20-%20Enunciados.pdf)\n",
        "* [Vídeos de ejercicios de distribución de Poisson resueltos (en excel)](https://www.youtube.com/playlist?list=PLtwTdZpdrv8i7jpvTC64lEpFycvSq-_ed)\n",
        "* [Archivos distribución de Poisson](https://eaula.ing.una.py/mod/folder/view.php?id=27090)\n"
      ]
    },
    {
      "cell_type": "markdown",
      "metadata": {
        "id": "WqsUQvtQDpYM"
      },
      "source": [
        "### Importar módulos necesarios\n",
        "* En esta sección, estaremos usando el módulo [scipy.stats](https://docs.scipy.org/doc/scipy/reference/tutorial/stats.html), el cual nos provee de las clases ```binom``` y  ```poisson```, para la resolución de problemas de distribución de probabilidades binomiales y de Poisson.\n",
        "* Complementariamente usaremos el módulo matplotlib.pyplot para realizar todos los gráficos que necesitemos."
      ]
    },
    {
      "cell_type": "code",
      "metadata": {
        "id": "aYw6xQEfDwNv"
      },
      "source": [
        "from scipy.stats import binom, poisson # De esta manera importamos solamente las clases deseadas y no todo el módulo scipy.stats\n",
        "import matplotlib.pyplot as plt        # De esta manera importamos el módulo matplotlib.pyplot y le asignamos el alias de \"plt\" por conveniencia a la hora de trabajar con el mismo"
      ],
      "execution_count": 5,
      "outputs": []
    },
    {
      "cell_type": "markdown",
      "metadata": {
        "id": "4MrlLbWRKJ90"
      },
      "source": [
        "# Ejercicios de distribución de probabilidad binomial\n",
        "1. La probabilidad de que el comprador de un osciloscopio haga uso del servicedentro del plazo  de  garantía  es  0,2.  Para  los  5  osciloscopios  que  cierta  empresa  ha  vendido independientemente a 5 compradores este mes:\n",
        "(a). ¿Cuál es la probabilidad de que exactamente 3 de los compradores hagan uso de la garantía?\n",
        "(b). ¿Cuál es la probabilidad de que 3 o más compradores hagan uso de la garantía?"
      ]
    },
    {
      "cell_type": "code",
      "metadata": {
        "id": "ee5xtCXcFlWd"
      },
      "source": [
        "# Declaramos las variables que necesitaremos para el ejercicio:\n",
        "cant_ensayos = 5\n",
        "prob_exito = 0.2\n",
        "\n",
        "# Creamos un objeto del tipo distribución binomial, con los parametros anteriores:\n",
        "dist_binomial = binom(cant_ensayos, prob_exito)"
      ],
      "execution_count": 10,
      "outputs": []
    },
    {
      "cell_type": "markdown",
      "metadata": {
        "id": "RvhMrey1Maju"
      },
      "source": [
        "(a). Para hallar la probabilidad de que **exactamente** 3 de los compradores hagan uso de la garantía, debemos aplicar el método ```pmf()``` _probability mass function_ al cual debemos pasar como parémetro x el número de ocurrencias del cual necesitamos calcular la probabilidad, para la función binomial dada."
      ]
    },
    {
      "cell_type": "code",
      "metadata": {
        "id": "ad-uLNL5MNRU",
        "outputId": "76b9416f-6b1f-4699-a3ad-653ceca1caa4",
        "colab": {
          "base_uri": "https://localhost:8080/",
          "height": 35
        }
      },
      "source": [
        "# Para ello aplicamoc la función pmf() a nuestra distribución binomial, a la cual habíamos llamado dist_binomial, de la siguiente manera:\n",
        "prob_de_3 = dist_binomial.pmf(3) # Guardamos el valor calculado dentro de la variable \"prob_de_3\"\n",
        "\n",
        "# A continuación imprimimos lo calculado haciendo uso de la funcion print()\n",
        "# También redondeamos el resultado a 5 digitos decimales\n",
        "print('La probabilidad de que exactamente 3 compradores hagan uso de su garantía es:', round(prob_de_3, 5))\n"
      ],
      "execution_count": 21,
      "outputs": [
        {
          "output_type": "stream",
          "text": [
            "La probabilidad de que exactamente 3 compradores hagan uso de su garantía es: 0.0512\n"
          ],
          "name": "stdout"
        }
      ]
    },
    {
      "cell_type": "markdown",
      "metadata": {
        "id": "IG_Y_zeWS7qF"
      },
      "source": [
        "Antes de resolver el ítem (b), recordemos que: \n",
        "> $p(0) + p(1) + p(2) + p(3) + p(4) + p(5) = 1$\n",
        "\n",
        "es decir, que si queremos hallar la probabilidad de que al menos dos clientes hagan uso de la garantía podemos hallar:\n",
        "> $ p(x>2) = 1 - [p(0) + p(1) + p(2)]$\n",
        "\n",
        "(b). Para hallar la probabilidad de que 3 o más compradores hagan uso de la garantía tenemos dos opciones:\n",
        "* Aplicar la fórmula indicada más arriba. Usando el método ```cdf(x)``` _cumulative distribution function_ podemos calcular la probabilidad acumulada, para x = 2, de que 0, 1 y 2 compradores hagan uso de la garantía, o\n",
        "* Hacer uso del método ```sf()``` _survival function_ la cual calcula el valor $1-cdf(x)$ dónde cdf es la probabilidad acumulada de x."
      ]
    },
    {
      "cell_type": "code",
      "metadata": {
        "id": "T8ictH-AOP9q",
        "outputId": "7ec88a41-d1be-41a0-ad5a-47b20e441d3b",
        "colab": {
          "base_uri": "https://localhost:8080/",
          "height": 35
        }
      },
      "source": [
        "# Hallemos la respuesta usando la primera opción, la probabilidad acumulada para x=2 está dada por:\n",
        "prob_acum_2 = dist_binomial.cdf(2) # Recordemos que: prob_acum_2 = p(0) + p(1) + p(2)\n",
        "\n",
        "prob_almenos_3 = 1 - prob_acum_2\n",
        "# Imprimimos la respuesta redondeada a 5 dígitos decimales\n",
        "print('La probabilidad de que al menos 3 personas hagan uso de la garantía es:', round(prob_almenos_3, 5))"
      ],
      "execution_count": 23,
      "outputs": [
        {
          "output_type": "stream",
          "text": [
            "La probabilidad de que al menos 3 personas hagan uso de la garantía es: 0.05792\n"
          ],
          "name": "stdout"
        }
      ]
    },
    {
      "cell_type": "code",
      "metadata": {
        "id": "hh_qI3MYSnTw",
        "outputId": "b3cb6753-e827-41d7-fb53-19f829a0ee50",
        "colab": {
          "base_uri": "https://localhost:8080/",
          "height": 35
        }
      },
      "source": [
        "# Hallemos ahora la respuesta usando la segunda opción, para evitar confución vamos a usar otra variable: \"p_al_menos_3\":\n",
        "p_al_menos_3 = dist_binomial.sf(2)\n",
        "\n",
        "# Imprimimos la respuesta redondeada a 5 dígitos decimales:\n",
        "print('La probabilidad de que al menos 3 personas hagan uso de la garantía es:', round(p_al_menos_3, 5))\n",
        "\n",
        "# Podemos comparar ambos resultados y comprobar que ambos métodos son factibles"
      ],
      "execution_count": 27,
      "outputs": [
        {
          "output_type": "stream",
          "text": [
            "La probabilidad de que al menos 3 personas hagan uso de la garantía es: 0.05792\n"
          ],
          "name": "stdout"
        }
      ]
    },
    {
      "cell_type": "markdown",
      "metadata": {
        "id": "fFsS0jZZc0Qu"
      },
      "source": [
        "### Opcional\n",
        "De manera a conocer el potencial que nos ofrece el módulo ```scipy.stats``` haremos uso de algunas de sus funciones para hallar otros parámetros de la función binomial dada (n=5, p= 0,2)"
      ]
    },
    {
      "cell_type": "code",
      "metadata": {
        "id": "VDGRDLpMZbrZ",
        "outputId": "aecfca50-a3dd-4935-a20a-ae3e3c511fd7",
        "colab": {
          "base_uri": "https://localhost:8080/",
          "height": 90
        }
      },
      "source": [
        "# Si quisieramos calcular la media, varianza, sesgo y kurtosis para los parámetros dados, solo tendríamos que hacer uso de:\n",
        "media, var, sesgo, kurt = dist_binomial.stats(moments='mvsk')\n",
        "\n",
        "print('Media:', media)\n",
        "print('Varianza:', var)\n",
        "print('Sesgo:', sesgo)\n",
        "print('Kurtosis:', kurt)"
      ],
      "execution_count": 42,
      "outputs": [
        {
          "output_type": "stream",
          "text": [
            "Media: 1.0\n",
            "Varianza: 0.8\n",
            "Sesgo: 0.670820393249937\n",
            "Kurtosis: 0.04999999999999977\n"
          ],
          "name": "stdout"
        }
      ]
    },
    {
      "cell_type": "markdown",
      "metadata": {
        "id": "SuVCKoZ3eHGF"
      },
      "source": [
        "También podríamos valernos de una lista de valores para x, en este caso de 0 a 5 clientes que hacen uso de la garantía y obtener una lista de probabilidades para cada valor correspondiente de x. Esto es particularmente útil para graficar la distribución de probabilidades del problema."
      ]
    },
    {
      "cell_type": "code",
      "metadata": {
        "id": "6jBh-oKYa--E",
        "outputId": "15abbe0c-bd19-4dd4-c384-bb1975544b36",
        "colab": {
          "base_uri": "https://localhost:8080/",
          "height": 35
        }
      },
      "source": [
        "# Creamos una variable x con un rango de valores de 0 a 5\n",
        "x = range(6) # La función range nos devuelve un objeto iterable que inicia en 0 (por defecto) y termina en el valor dado sin incluirlo es decir 0, 1, 2, 3, 4, 5.\n",
        "\n",
        "# Calculemos las probabilidades para cada valor de x, las cuales guardaremos en la variable p\n",
        "p = dist_binomial.pmf(x)\n",
        "\n",
        "# Si imprimimos p, vemos que es una lista (vector) con el valor de probabilidad para cada valor de x dado\n",
        "print(p) # Recordemos que x va de 0 a 5, por lo tanto p(3) es el cuarto valor de la lista p"
      ],
      "execution_count": 49,
      "outputs": [
        {
          "output_type": "stream",
          "text": [
            "[3.2768e-01 4.0960e-01 2.0480e-01 5.1200e-02 6.4000e-03 3.2000e-04]\n"
          ],
          "name": "stdout"
        }
      ]
    },
    {
      "cell_type": "code",
      "metadata": {
        "id": "TuDWB5c_ckqK",
        "outputId": "68129ce5-b097-4ab8-cc42-04f58bc88a5b",
        "colab": {
          "base_uri": "https://localhost:8080/",
          "height": 295
        }
      },
      "source": [
        "# Finalmente podemos graficar la función haciendo uso del módulo matplotlib.plotlib, al que llamamos con el alias de plt\n",
        "fig, ax = plt.subplots(1, 1) # Creamos un lienzo para nuestro gráfic\n",
        "\n",
        "# El gráfico está dado por:\n",
        "ax.plot(x, p, 'bo') # Agregamos nuestro gráfico en forma de puntos azules con el comando 'bo' -> b: blue (azul)- o: puntos\n",
        "ax.vlines(x= x, ymin= 0, ymax= p, colors='b') # Agregamos las líneas verticales desde ymin= 0 hasta ymax = p(x), de color azul\n",
        "\n",
        "# Los demás complementos, opcionales:\n",
        "ax.grid() # Agrega las grillas al gráfico\n",
        "ax.set_title('Distribución de probabilidades')\n",
        "ax.set_xlabel('Cantidad de clientes')\n",
        "ax.set_ylabel('Probabilidad de que usen la garantía')\n",
        "plt.show()"
      ],
      "execution_count": 62,
      "outputs": [
        {
          "output_type": "display_data",
          "data": {
            "image/png": "[encoded data removed]",
            "text/plain": [
              "<Figure size 432x288 with 1 Axes>"
            ]
          },
          "metadata": {
            "tags": [],
            "needs_background": "light"
          }
        }
      ]
    },
    {
      "cell_type": "code",
      "metadata": {
        "id": "trWNeboyg1Rp"
      },
      "source": [
        ""
      ],
      "execution_count": null,
      "outputs": []
    }
  ]
}