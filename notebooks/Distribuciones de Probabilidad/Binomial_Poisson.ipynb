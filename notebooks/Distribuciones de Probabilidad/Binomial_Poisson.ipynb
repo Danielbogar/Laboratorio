{
  "nbformat": 4,
  "nbformat_minor": 0,
  "metadata": {
    "colab": {
      "name": "Binomial/Poisson.ipynb",
      "provenance": [],
      "include_colab_link": true
    },
    "kernelspec": {
      "name": "python3",
      "display_name": "Python 3"
    },
    "language_info": {
      "name": "python"
    }
  },
  "cells": [
    {
      "cell_type": "markdown",
      "metadata": {
        "id": "view-in-github",
        "colab_type": "text"
      },
      "source": [
        "<a href=\"https://colab.research.google.com/github/pyefiuna/Laboratorio/blob/master/notebooks/Distribuciones%20de%20Probabilidad/Binomial_Poisson.ipynb\" target=\"_parent\"><img src=\"https://colab.research.google.com/assets/colab-badge.svg\" alt=\"Open In Colab\"/></a>"
      ]
    },
    {
      "cell_type": "code",
      "metadata": {
        "id": "Fs6naq5t5A1T"
      },
      "source": [
        "import scipy.stats as ss \n",
        "import math\n",
        "import numpy as np\n",
        "import matplotlib.pyplot as plt"
      ],
      "execution_count": null,
      "outputs": []
    },
    {
      "cell_type": "markdown",
      "metadata": {
        "id": "B5l87Q0xUZFp"
      },
      "source": [
        "#Algunos comandos basicos \n",
        "1.   pdf()      Función de densidad de probabilidad.\n",
        "2.   pmf()      Función de probabilidad, evalua la funcion en un punto.\n",
        "3.   cdf()      Función de distribucion acumulativa, devuelve la sumatoria de probabilidad desde el menor valor posible hasta el elemento que se le pasa.\n",
        "4.   sf()       Función de supervivencia, devuelve la sumatoria de probabilidad desde el elemneto que se le pasa hasta el mayor posible (1-cdf()).\n"
      ]
    },
    {
      "cell_type": "markdown",
      "metadata": {
        "id": "xEwW9E0hOTru"
      },
      "source": [
        "# Ejercicio 1\n",
        "\n",
        "Si 3% de los bulbos eléctricos fabricados por una empresa están defectuosos, encontrar la probabilidad de que en una muestra de 100 bulbos: a) 0, b) 1, c) 2, d)5 a 15, e) mas de 9 bulbos estén defectuosos, f) que 5 a 80 bulbos no estén defectuosos"
      ]
    },
    {
      "cell_type": "code",
      "metadata": {
        "id": "32Y_9EGj7FWV"
      },
      "source": [
        "N=100 #siendo N la cantidad de ensayo \n",
        "p=0.03 #siendo p la probabilidad de exito\n",
        "L=N*p #se define la media como lambda  \n",
        "distp=ss.poisson(L) #se declara la distribución de Poisson \n",
        "distb=ss.binom(N,p) #se declara la distribución Binomial"
      ],
      "execution_count": null,
      "outputs": []
    },
    {
      "cell_type": "code",
      "metadata": {
        "id": "J_NbzvEj8ZPP",
        "colab": {
          "base_uri": "https://localhost:8080/",
          "height": 265
        },
        "outputId": "36ec4235-ac25-4ad8-95e3-54b1530e930b"
      },
      "source": [
        "x=np.linspace(0, 100, 101)#se define un vector x cuyos elmentos van desde 0 a 100, con 101 elementos \n",
        "plt.plot(x,distp.pmf(x))#plot es una funcion que grafica puntos y los une, siendo los elemento del vector x el que guarda a los valores de la abscisa \n",
        "plt.plot(x,distb.pmf(x))#y distp.pmf(x) y distb.pmf(x) guardan los valores de la ordenada \n",
        "plt.show()#comando para imprimir los graficos "
      ],
      "execution_count": null,
      "outputs": [
        {
          "output_type": "display_data",
          "data": {
            "image/png": "[encoded data removed]",
            "text/plain": [
              "<Figure size 432x288 with 1 Axes>"
            ]
          },
          "metadata": {
            "tags": [],
            "needs_background": "light"
          }
        }
      ]
    },
    {
      "cell_type": "markdown",
      "metadata": {
        "id": "O6y-gG_HOdkM"
      },
      "source": [
        "## Ítem a"
      ]
    },
    {
      "cell_type": "code",
      "metadata": {
        "colab": {
          "base_uri": "https://localhost:8080/"
        },
        "id": "pZqpT1Gw-su9",
        "outputId": "e7f751c4-13bb-4a15-f2ea-83b0a8809129"
      },
      "source": [
        "print(f\"La probabilidad Poisson de que haya 0 buldos descompuestos es: {(distp.pmf(0))*100}\")\n",
        "print(f\"La probabilidad Binomial de que haya 0 buldos descompuestos es: {(distb.pmf(0))*100}\")"
      ],
      "execution_count": null,
      "outputs": [
        {
          "output_type": "stream",
          "text": [
            "La probabilidad Poisson de que haya 0 buldos descompuestos es: 4.978706836786395\n",
            "La probabilidad Binomial de que haya 0 buldos descompuestos es: 4.755250792540576\n"
          ],
          "name": "stdout"
        }
      ]
    },
    {
      "cell_type": "markdown",
      "metadata": {
        "id": "DocqZNxwCYcq"
      },
      "source": [
        "## Ítem b"
      ]
    },
    {
      "cell_type": "code",
      "metadata": {
        "colab": {
          "base_uri": "https://localhost:8080/"
        },
        "id": "R2ttKbj3CTd4",
        "outputId": "b3435137-7635-4a60-ed86-63ca12a41e5b"
      },
      "source": [
        "print(f\"La probabilidad Poisson de que haya 1 buldos descompuestos es: {(distp.pmf(1))*100}\")\n",
        "print(f\"La probabilidad Binomial de que haya 1 buldos descompuestos es: {(distb.pmf(1))*100}\")"
      ],
      "execution_count": null,
      "outputs": [
        {
          "output_type": "stream",
          "text": [
            "La probabilidad Poisson de que haya 1 buldos descompuestos es: 14.936120510359185\n",
            "La probabilidad Binomial de que haya 1 buldos descompuestos es: 14.706961214042732\n"
          ],
          "name": "stdout"
        }
      ]
    },
    {
      "cell_type": "markdown",
      "metadata": {
        "id": "qKt4wrEWDCu-"
      },
      "source": [
        "## Ítem c"
      ]
    },
    {
      "cell_type": "code",
      "metadata": {
        "colab": {
          "base_uri": "https://localhost:8080/"
        },
        "id": "2HH6tDnMCylI",
        "outputId": "c0ab6470-252e-4554-8f34-e81f127cf2bf"
      },
      "source": [
        "print(f\"La probabilidad Poisson de que haya 2 buldos descompuestos es: {(distp.pmf(2))*100}\")\n",
        "print(f\"La probabilidad Binomial de que haya 2 buldos descompuestos es: {(distb.pmf(2))*100}\")"
      ],
      "execution_count": null,
      "outputs": [
        {
          "output_type": "stream",
          "text": [
            "La probabilidad Poisson de que haya 2 buldos descompuestos es: 22.404180765538776\n",
            "La probabilidad Binomial de que haya 2 buldos descompuestos es: 22.515296291601874\n"
          ],
          "name": "stdout"
        }
      ]
    },
    {
      "cell_type": "markdown",
      "metadata": {
        "id": "OgLJthyCDF3m"
      },
      "source": [
        "## Ítem d"
      ]
    },
    {
      "cell_type": "code",
      "metadata": {
        "colab": {
          "base_uri": "https://localhost:8080/"
        },
        "id": "0p_lQtAmC9bp",
        "outputId": "e1efaf0e-e311-47f6-d441-c420ab7d5e3b"
      },
      "source": [
        "print(f\"La probabilidad Poisson de que haya 5 a 15 buldos descompuestos es: {(distp.cdf(15)-distp.cdf(4))*100}\")\n",
        "print(f\"La probabilidad Binomial de que haya 5 a 15 buldos descompuestos es: {(distb.cdf(15)-distb.cdf(4))*100}\")"
      ],
      "execution_count": null,
      "outputs": [
        {
          "output_type": "stream",
          "text": [
            "La probabilidad Poisson de que haya 5 a 15 buldos descompuestos es: 18.4736631396057\n",
            "La probabilidad Binomial de que haya 5 a 15 buldos descompuestos es: 18.214514109354095\n"
          ],
          "name": "stdout"
        }
      ]
    },
    {
      "cell_type": "markdown",
      "metadata": {
        "id": "snytGkTPD48e"
      },
      "source": [
        "## Ítem e"
      ]
    },
    {
      "cell_type": "code",
      "metadata": {
        "colab": {
          "base_uri": "https://localhost:8080/"
        },
        "id": "q1lH3wjZDyjR",
        "outputId": "193ed1df-f5d7-4c67-ebb5-d30ae35d8930"
      },
      "source": [
        "print(f\"La probabilidad por Poisson de que haya mas de 80 buldos descompuestos es: {(distp.sf(9))*100}\")\n",
        "print(f\"La probabilidad por Binomial de que haya mas de 80 buldos descompuestos es: {(distb.sf(9))*100}\")"
      ],
      "execution_count": null,
      "outputs": [
        {
          "output_type": "stream",
          "text": [
            "La probabilidad por Poisson de que haya mas de 80 buldos descompuestos es: 0.11024881301154815\n",
            "La probabilidad por Binomial de que haya mas de 80 buldos descompuestos es: 0.0874058473735696\n"
          ],
          "name": "stdout"
        }
      ]
    },
    {
      "cell_type": "markdown",
      "metadata": {
        "id": "SeFS1TF5F5zU"
      },
      "source": [
        "## Ítem f"
      ]
    },
    {
      "cell_type": "code",
      "metadata": {
        "colab": {
          "base_uri": "https://localhost:8080/"
        },
        "id": "j_mj2Fo9F9OR",
        "outputId": "16b2fed0-a432-45d2-89d4-a072f06538f4"
      },
      "source": [
        "print(f\"La probabilidad por Poisson de que haya mas de 80 buldos descompuestos es: {(1-distp.sf(80)-distp.cdf(4))*100}\")\n",
        "print(f\"La probabilidad por Binomial de que haya mas de 80 buldos descompuestos es: {(1-distb.sf(80)-distb.cdf(4))*100}\")"
      ],
      "execution_count": null,
      "outputs": [
        {
          "output_type": "stream",
          "text": [
            "La probabilidad por Poisson de que haya mas de 80 buldos descompuestos es: 18.473675547622783\n",
            "La probabilidad por Binomial de que haya mas de 80 buldos descompuestos es: 18.2145193924358\n"
          ],
          "name": "stdout"
        }
      ]
    },
    {
      "cell_type": "markdown",
      "metadata": {
        "id": "ucNPM8lvKYBw"
      },
      "source": [
        "# Ejercicio 2\n",
        "\n",
        "Según la oficina de estadística del Departamento de Salud de Estados Unidos, en ese país la cantidad anual de ahogados accidentalmente es 3 por 100 000 habitantes. Encontrar la probabilidad de que en una ciudad en que la población es de 200 000 habitantes haya anualmente: a) 0, b) 2, c) 6, d ) 8, e) entre 4 y 8, y f ) menos de 3 ahogados en forma accidental."
      ]
    },
    {
      "cell_type": "code",
      "metadata": {
        "id": "BDkYRzrpKtZw"
      },
      "source": [
        "N=200000\n",
        "prop=3/100000\n",
        "L=N*prop\n",
        "distp=ss.poisson(L)\n",
        "distb=ss.binom(N,prop)"
      ],
      "execution_count": null,
      "outputs": []
    },
    {
      "cell_type": "code",
      "metadata": {
        "id": "RguH2UH2PxjQ",
        "colab": {
          "base_uri": "https://localhost:8080/",
          "height": 265
        },
        "outputId": "eeca16ee-2c7b-4c34-a8d7-4953c709b95b"
      },
      "source": [
        "x=np.linspace(0,200,201)\n",
        "plt.plot(x,distp.pmf(x))\n",
        "plt.plot(x,distb.pmf(x))\n",
        "plt.show()"
      ],
      "execution_count": null,
      "outputs": [
        {
          "output_type": "display_data",
          "data": {
            "image/png": "[encoded data removed]",
            "text/plain": [
              "<Figure size 432x288 with 1 Axes>"
            ]
          },
          "metadata": {
            "tags": [],
            "needs_background": "light"
          }
        }
      ]
    },
    {
      "cell_type": "markdown",
      "metadata": {
        "id": "gkqUodvTPpn6"
      },
      "source": [
        "## Ítem a"
      ]
    },
    {
      "cell_type": "code",
      "metadata": {
        "colab": {
          "base_uri": "https://localhost:8080/"
        },
        "id": "Znqkj3T3OhVz",
        "outputId": "8629dca5-0438-43e1-fb56-10ebf1f1c272"
      },
      "source": [
        "print(f\"La probabilidad por Poisson de que haya 0 ahogados accidentalmente es: {(distp.pmf(0))*100}\")\n",
        "print(f\"La probabilidad por Binomial de que haya 0 ahogados accidentalmente es: {(distb.pmf(0))*100}\")"
      ],
      "execution_count": null,
      "outputs": [
        {
          "output_type": "stream",
          "text": [
            "La probabilidad por Poisson de que haya 0 ahogados accidentalmente es: 0.24787521766663584\n",
            "La probabilidad por Binomial de que haya 0 ahogados accidentalmente es: 0.24785290945476493\n"
          ],
          "name": "stdout"
        }
      ]
    },
    {
      "cell_type": "markdown",
      "metadata": {
        "id": "dl3pdPGLPrPM"
      },
      "source": [
        "## Ítem b"
      ]
    },
    {
      "cell_type": "code",
      "metadata": {
        "colab": {
          "base_uri": "https://localhost:8080/"
        },
        "id": "4lnlsYHRPu1l",
        "outputId": "c45189f5-2419-4d78-fcf1-5f43aaac75e7"
      },
      "source": [
        "print(f\"La probabilidad por Poisson de que haya 2 ahogados accidentalmente es: {(distp.pmf(2))*100}\")\n",
        "print(f\"La probabilidad por Binomial de que haya 2 ahogados accidentalmente es: {(distb.pmf(2))*100}\")"
      ],
      "execution_count": null,
      "outputs": [
        {
          "output_type": "stream",
          "text": [
            "La probabilidad por Poisson de que haya 2 ahogados accidentalmente es: 4.461753917999444\n",
            "La probabilidad por Binomial de que haya 2 ahogados accidentalmente es: 4.461597755694655\n"
          ],
          "name": "stdout"
        }
      ]
    },
    {
      "cell_type": "markdown",
      "metadata": {
        "id": "_MzMLa77Qhgs"
      },
      "source": [
        "## Ítem c"
      ]
    },
    {
      "cell_type": "code",
      "metadata": {
        "colab": {
          "base_uri": "https://localhost:8080/"
        },
        "id": "px7N_mcrQXDr",
        "outputId": "ab24c2c3-e8ac-431a-a28a-39e5aa96c719"
      },
      "source": [
        "print(f\"La probabilidad por Poisson de que haya 6 ahogados accidentalmente es: {(distp.pmf(6))*100}\")\n",
        "print(f\"La probabilidad por Binomial de que haya 6 ahogados accidentalmente es: {(distb.pmf(6))*100}\")"
      ],
      "execution_count": null,
      "outputs": [
        {
          "output_type": "stream",
          "text": [
            "La probabilidad por Poisson de que haya 6 ahogados accidentalmente es: 16.06231410479801\n",
            "La probabilidad por Binomial de que haya 6 ahogados accidentalmente es: 16.062555038514212\n"
          ],
          "name": "stdout"
        }
      ]
    },
    {
      "cell_type": "markdown",
      "metadata": {
        "id": "Bws0zlH5QnFs"
      },
      "source": [
        "## Ítem d"
      ]
    },
    {
      "cell_type": "code",
      "metadata": {
        "colab": {
          "base_uri": "https://localhost:8080/"
        },
        "id": "Ne9JUC4qQpjO",
        "outputId": "f1829862-974c-4344-8827-cf268c48e2a4"
      },
      "source": [
        "print(f\"La probabilidad por Poisson de que haya 8 ahogados accidentalmente es: {(distp.pmf(8))*100}\")\n",
        "print(f\"La probabilidad por Binomial de que haya 8 ahogados accidentalmente es: {(distb.pmf(8))*100}\")"
      ],
      "execution_count": null,
      "outputs": [
        {
          "output_type": "stream",
          "text": [
            "La probabilidad por Poisson de que haya 8 ahogados accidentalmente es: 10.32577335308442\n",
            "La probabilidad por Binomial de que haya 8 ahogados accidentalmente es: 10.325876612035387\n"
          ],
          "name": "stdout"
        }
      ]
    },
    {
      "cell_type": "markdown",
      "metadata": {
        "id": "7rbmV3i5Qjnm"
      },
      "source": [
        "## Ítem e"
      ]
    },
    {
      "cell_type": "code",
      "metadata": {
        "colab": {
          "base_uri": "https://localhost:8080/"
        },
        "id": "_6TN5AZ7QlyM",
        "outputId": "410a1f24-727c-4e20-9459-e428d9de055e"
      },
      "source": [
        "print(f\"La probabilidad por Poisson de que haya entre 4 y 8 ahogados accidentalmente es: {(distp.cdf(8)-distp.cdf(3))*100}\")\n",
        "print(f\"La probabilidad por Binomial de que haya entre 4 y 8 ahogados accidentalmente es: {(distb.cdf(8)-distb.cdf(3))*100}\")"
      ],
      "execution_count": null,
      "outputs": [
        {
          "output_type": "stream",
          "text": [
            "La probabilidad por Poisson de que haya entre 4 y 8 ahogados accidentalmente es: 69.60336112079133\n",
            "La probabilidad por Binomial de que haya entre 4 y 8 ahogados accidentalmente es: 69.60407245927016\n"
          ],
          "name": "stdout"
        }
      ]
    },
    {
      "cell_type": "markdown",
      "metadata": {
        "id": "NjjWUWl2R2s7"
      },
      "source": [
        "## Ítem f"
      ]
    },
    {
      "cell_type": "code",
      "metadata": {
        "colab": {
          "base_uri": "https://localhost:8080/"
        },
        "id": "xzEaal4VR002",
        "outputId": "80584a4d-fb5c-4da4-eeac-27c8af069001"
      },
      "source": [
        "print(f\"La probabilidad por Poisson de que haya menos de 3 ahogados accidentalmente es: {(distp.cdf(2))*100}\")\n",
        "print(f\"La probabilidad por Binomial de que haya menos de 3 ahogados accidentalmente es: {(distb.cdf(2))*100}\")"
      ],
      "execution_count": null,
      "outputs": [
        {
          "output_type": "stream",
          "text": [
            "La probabilidad por Poisson de que haya menos de 3 ahogados accidentalmente es: 6.196880441665898\n",
            "La probabilidad por Binomial de que haya menos de 3 ahogados accidentalmente es: 6.196612735072762\n"
          ],
          "name": "stdout"
        }
      ]
    }
  ]
}
