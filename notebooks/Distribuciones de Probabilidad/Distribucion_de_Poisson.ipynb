{
  "nbformat": 4,
  "nbformat_minor": 0,
  "metadata": {
    "colab": {
      "name": "Distribución de Poisson.ipynb",
      "provenance": [],
      "collapsed_sections": [],
      "include_colab_link": true
    },
    "kernelspec": {
      "display_name": "Python 3",
      "language": "python",
      "name": "python3"
    },
    "language_info": {
      "codemirror_mode": {
        "name": "ipython",
        "version": 3
      },
      "file_extension": ".py",
      "mimetype": "text/x-python",
      "name": "python",
      "nbconvert_exporter": "python",
      "pygments_lexer": "ipython3",
      "version": "3.7.9"
    }
  },
  "cells": [
    {
      "cell_type": "markdown",
      "metadata": {
        "id": "view-in-github",
        "colab_type": "text"
      },
      "source": [
        "<a href=\"https://colab.research.google.com/github/pyefiuna/Laboratorio/blob/master/notebooks/Semana%203/Distribucion_de_Poisson.ipynb\" target=\"_parent\"><img src=\"https://colab.research.google.com/assets/colab-badge.svg\" alt=\"Open In Colab\"/></a>"
      ]
    },
    {
      "cell_type": "markdown",
      "metadata": {
        "id": "nzh4mx-S73XE"
      },
      "source": [
        "!['Logo FIUNA'](http://www.ing.una.py/images/logo-horizontal.png)\n",
        "# PROBABILIDAD Y ESTADÍSTICA\n",
        "---"
      ]
    },
    {
      "cell_type": "markdown",
      "metadata": {
        "id": "bX1rIDKUCign"
      },
      "source": [
        "## Semana 3 - Distribuciones de probabilidad\n",
        "### Distribución de Poisson"
      ]
    },
    {
      "cell_type": "markdown",
      "metadata": {
        "id": "DmEMAV44n0AF"
      },
      "source": [
        "### Materiales y recursos\n",
        "##### Teoría\n",
        "* [Distribución de Poisson](https://drive.google.com/file/d/1l1GnSW3wD3dtmPajYCSCw_sqYnuKUfVl/view?ts=5f0faec8)\n",
        "\n",
        "### Actividades de laboratorio\n",
        "* [Vídeos de ejercicios de distribución de Poisson resueltos (en excel)](https://www.youtube.com/playlist?list=PLtwTdZpdrv8i7jpvTC64lEpFycvSq-_ed)\n",
        "* [Archivos distribución de Poisson](https://eaula.ing.una.py/mod/folder/view.php?id=27090)"
      ]
    },
    {
      "cell_type": "markdown",
      "metadata": {
        "id": "WqsUQvtQDpYM"
      },
      "source": [
        "### Importar módulos necesarios\n",
        "* En esta sección, estaremos usando el módulo [scipy.stats](https://docs.scipy.org/doc/scipy/reference/tutorial/stats.html), el cual nos provee la clase `poisson` , para la resolución de problemas de distribución de probabilidades de Poisson.\n",
        "* Complementariamente usaremos el módulo matplotlib.pyplot para realizar todos los gráficos que necesitemos."
      ]
    },
    {
      "cell_type": "code",
      "metadata": {
        "id": "aYw6xQEfDwNv"
      },
      "source": [
        "from scipy.stats import poisson   # De esta manera importamos solamente la clase deseada y no todo el módulo scipy.stats\n",
        "import matplotlib.pyplot as plt   # Importamos el módulo matplotlib.pyplot y le asignamos el alias de \"plt\" por conveniencia a la hora de trabajar con el mismo"
      ],
      "execution_count": 2,
      "outputs": []
    },
    {
      "cell_type": "markdown",
      "metadata": {
        "id": "qRd5WaF7TQar"
      },
      "source": [
        "# Distribución de Poisson\n",
        "Recordemos que la distribución de probabilidades de Poisson está dada por la fórmula:\n",
        "> $p(x) = \\frac{e^{-\\lambda }\\lambda ^{x}}{x!}$\n",
        "\n",
        "donde:\n",
        "* $p(x)$: es la probabilidad de ocurrencia de un suceso, cuando la variable discreta toma un valor finito x.\n",
        "* $\\lambda $ (lambda): es la media de ocurrencia en el segmento dado.\n",
        "* $x$: el número de éxitos por unidad."
      ]
    },
    {
      "cell_type": "markdown",
      "metadata": {
        "id": "ctlr6MaW9mvL"
      },
      "source": [
        "# Ejercicios de distribución de probabilidades de Poisson.\n",
        "1. Carlos ha notado que cada minuto que pasa, hay una probabilidad de 1/720 de que  la  página  en  Facebook  de  su  negocio  obtenga  un  “me  gusta”, independientemente de lo que suceda en cualquier otro minuto.\n",
        "> (a).  ¿Cuántos “me gusta” espera recibir Carlos durante un periodo de 24 horas? (b). ¿Cuál es la probabilidad de que Carlos reciba más de 2 “me gusta” en las próximas 12 horas? (c). ¿Cuál es la probabilidad de que Carlos reciba 3 o 4 “me gusta” en las próximas 12 horas?"
      ]
    },
    {
      "cell_type": "code",
      "metadata": {
        "id": "doj2VKYf8y7F"
      },
      "source": [
        "# Definimos las variables que vamos a necesitar\n",
        "prob_exito = 1/720\n",
        "prob_fracaso = 1 - prob_exito\n",
        "n = 24*60 # 24 horas expresadas en minutos\n",
        "# En python \"lambda\" es una palabra reservada por lo que para resolver los ejercicios estaremos usando la variable L\n",
        "L = n * prob_exito"
      ],
      "execution_count": 3,
      "outputs": []
    },
    {
      "cell_type": "markdown",
      "metadata": {
        "id": "_z21_C4baW6T"
      },
      "source": [
        "(a). ¿Cuántos “me gusta” espera recibir Carlos durante un periodo de 24 horas?. En un periodo de 24 horas se espera recibir L me gustas."
      ]
    },
    {
      "cell_type": "code",
      "metadata": {
        "id": "lv4IP8EtaP3Z",
        "colab": {
          "base_uri": "https://localhost:8080/"
        },
        "outputId": "60750c32-35d5-4f20-d9ae-e99aba79a886"
      },
      "source": [
        "# Imprimimos el resultado\n",
        "print('En un periodo de 24 horas, Carlos espera recibir:', int(L), '\"me gusta\"')"
      ],
      "execution_count": 4,
      "outputs": [
        {
          "output_type": "stream",
          "text": [
            "En un periodo de 24 horas, Carlos espera recibir: 2 \"me gusta\"\n"
          ],
          "name": "stdout"
        }
      ]
    },
    {
      "cell_type": "markdown",
      "metadata": {
        "id": "Saeh1KTYe8PP"
      },
      "source": [
        "(b). ¿Cuál es la probabilidad de que Carlos reciba más de 2 “me gusta” en las próximas 12 horas?. Para este caso, debemos modificar `n` y por lo tanto `L` y aplicar el método `sf(x)` _survival function_ a un objeto del tipo `poisson`. La función `sf(x)` es lo mismo que $1-cdf(x)$ donde `cdf(x)` es la probabilidad acumulada de x."
      ]
    },
    {
      "cell_type": "code",
      "metadata": {
        "id": "0eXCvbhJay1j"
      },
      "source": [
        "# Volvemos a asignar las variables n y L\n",
        "n = 12*60 # 12 horas expresadas en minutos\n",
        "L = n * prob_exito # Para actualizar el valor de L, debemos volver a ejecutar esta línea de código\n",
        "\n",
        "# Creamos un objeto del tipo poisson al que llamaremos dist_poisson, y que contiene los datos del problema\n",
        "dist_poisson = poisson(L)"
      ],
      "execution_count": 5,
      "outputs": []
    },
    {
      "cell_type": "code",
      "metadata": {
        "id": "WzOatMYNfxPS",
        "colab": {
          "base_uri": "https://localhost:8080/"
        },
        "outputId": "0ee38828-9fbd-4d10-d8df-03890530ccb2"
      },
      "source": [
        "# Aplicamos pmf(x) a dist_poisson\n",
        "prob_mas_2_megusta = dist_poisson.sf(2)\n",
        "\n",
        "# Imprimimos la respuesta\n",
        "print('La probabilidad de que Carlos reciba más de 2 \"me gusta\" en 12 horas es:', prob_mas_2_megusta)"
      ],
      "execution_count": 6,
      "outputs": [
        {
          "output_type": "stream",
          "text": [
            "La probabilidad de que Carlos reciba más de 2 \"me gusta\" en 12 horas es: 0.08030139707139418\n"
          ],
          "name": "stdout"
        }
      ]
    },
    {
      "cell_type": "markdown",
      "metadata": {
        "id": "m_KC6gTFXvVd"
      },
      "source": [
        "(c). ¿Cuál es la probabilidad de que Carlos reciba 3 o 4 “me gusta” en las próximas 12 horas?. Para esto tenemos dos opciones que deberían darnos el mismo resultado.\n",
        "* Hallar p(3) y p(4), utilizando el método `pmf(x)`, y sumando ambos resultados\n",
        "* Hallar p(4) acumulado y p(2) acumulado, usando el método `cdf(x)`, y restando ambos resultados"
      ]
    },
    {
      "cell_type": "code",
      "metadata": {
        "id": "vPWh21n4gyrW",
        "colab": {
          "base_uri": "https://localhost:8080/"
        },
        "outputId": "caa11889-00b7-42bc-baf8-fd20bf211197"
      },
      "source": [
        "# Utilicemos el primer método\n",
        "prob_3MG = dist_poisson.pmf(3)\n",
        "prob_4MG = dist_poisson.pmf(4)\n",
        "\n",
        "# La probabilidad de 3 o 4 \"me gusta\" está dada por la suma de p(3) y p(4)\n",
        "prob_3o4MG = prob_3MG + prob_4MG\n",
        "\n",
        "# Imprimimos el resultado\n",
        "print('La probabilidad de que carlos reciba 3 o 4 \"me gusta\" en las próximas 12 horas es:', prob_3o4MG)"
      ],
      "execution_count": 7,
      "outputs": [
        {
          "output_type": "stream",
          "text": [
            "La probabilidad de que carlos reciba 3 o 4 \"me gusta\" en las próximas 12 horas es: 0.07664155024405049\n"
          ],
          "name": "stdout"
        }
      ]
    },
    {
      "cell_type": "code",
      "metadata": {
        "id": "-kSsx96yas-B",
        "colab": {
          "base_uri": "https://localhost:8080/"
        },
        "outputId": "f845a8fe-c8c7-43a0-a426-5da0b58e6e5b"
      },
      "source": [
        "# Resolvemos ahora por el segundo método\n",
        "prob_4MG_acum = dist_poisson.cdf(4)\n",
        "prob_2MG_acum = dist_poisson.cdf(2)\n",
        "\n",
        "# La probabilidad de 3 o 4 \"me gusta\" está dada por la diferencia de p_acum(4) y p_acum(2)\n",
        "prob_3o4MG = prob_4MG_acum - prob_2MG_acum\n",
        "\n",
        "# Imprimimos el resultado\n",
        "print('La probabilidad de que carlos reciba 3 o 4 \"me gusta\" en las próximas 12 horas es:', prob_3o4MG)"
      ],
      "execution_count": 8,
      "outputs": [
        {
          "output_type": "stream",
          "text": [
            "La probabilidad de que carlos reciba 3 o 4 \"me gusta\" en las próximas 12 horas es: 0.0766415502440505\n"
          ],
          "name": "stdout"
        }
      ]
    },
    {
      "cell_type": "markdown",
      "metadata": {
        "id": "N9PhgwStb0fo"
      },
      "source": [
        "De lo anterior se comprueba que ambos métodos arrojan el mismo resultado. Que era lo esperado\n",
        "# Opcional\n",
        "De manera a ver el potencial que nos ofrece el módulo `scipy.stats` vemos los siguientes ejemplos:"
      ]
    },
    {
      "cell_type": "code",
      "metadata": {
        "id": "yCceFG0pbeYx",
        "colab": {
          "base_uri": "https://localhost:8080/"
        },
        "outputId": "64652d90-6c5d-49dd-ddce-60e82bda35d7"
      },
      "source": [
        "# Por ejemplo, haciendo uso de las variables de la pregunta (a)\n",
        "prob_exito = 1/720\n",
        "prob_fracaso = 1 - prob_exito\n",
        "n = 24*60 # 24 horas expresadas en minutos\n",
        "# En python \"lambda\" es una palabra reservada por lo que para resolver los ejercicios estaremos usando la variable L\n",
        "L = n * prob_exito\n",
        "\n",
        "# Podemos hallar los valores que describen nuestra distribución, por medio del método stats\n",
        "media, var, sesgo, curt = poisson.stats(L, moments='mvsk')\n",
        "print('Media:', media)\n",
        "print('Varianza:', var)\n",
        "print('Sesgo:', sesgo)\n",
        "print('Curtosis:', curt)"
      ],
      "execution_count": 9,
      "outputs": [
        {
          "output_type": "stream",
          "text": [
            "Media: 2.0\n",
            "Varianza: 2.0\n",
            "Sesgo: 0.7071067811865476\n",
            "Curtosis: 0.5\n"
          ],
          "name": "stdout"
        }
      ]
    },
    {
      "cell_type": "code",
      "metadata": {
        "id": "xubPzGJld2Fq",
        "colab": {
          "base_uri": "https://localhost:8080/"
        },
        "outputId": "92a902d7-6959-4864-93f8-45529e44ba90"
      },
      "source": [
        "# Usando los valores de la pregunta (b) y (c):\n",
        "n = 12*60 # 12 horas expresadas en minutos\n",
        "L = n * prob_exito # Para actualizar el valor de L, debemos volver a ejecutar esta línea de código\n",
        "\n",
        "# Creamos un objeto del tipo poisson al que llamaremos dist_poisson, y que contiene los datos del problema\n",
        "dist_poisson = poisson(L)\n",
        "\n",
        "# Podriamos calcular, en un solo paso, la distribución de probabilidades para obtener 0, 1, 2, 3, 4... 20 \"me gusta\" en un intervalo de 12 horas\n",
        "# Definamos los valores de x\n",
        "x = range(21) # crea un objeto iterable de 0 a 20\n",
        "p = dist_poisson.pmf(x) # calcula la distribución de probabilidades para cada valor de x dado\n",
        "\n",
        "# Imprimimos el vector p\n",
        "print(p)"
      ],
      "execution_count": 10,
      "outputs": [
        {
          "output_type": "stream",
          "text": [
            "[3.67879441e-01 3.67879441e-01 1.83939721e-01 6.13132402e-02\n",
            " 1.53283100e-02 3.06566201e-03 5.10943668e-04 7.29919526e-05\n",
            " 9.12399408e-06 1.01377712e-06 1.01377712e-07 9.21615563e-09\n",
            " 7.68012969e-10 5.90779207e-11 4.21985148e-12 2.81323432e-13\n",
            " 1.75827145e-14 1.03427732e-15 5.74598513e-17 3.02420270e-18\n",
            " 1.51210135e-19]\n"
          ],
          "name": "stdout"
        }
      ]
    },
    {
      "cell_type": "markdown",
      "metadata": {
        "id": "pCVpqN-Khq1B"
      },
      "source": [
        "Podríamos aprovechar lo anterior para graficar la distribución de probabilidades de Poisson, comparando los resultados para diferentes intervalos de tiempo. Usemos 24 horas y 12 horas, como en las preguntas (a) y (b) de manera a entender como esto afecta a las probabilidades."
      ]
    },
    {
      "cell_type": "code",
      "metadata": {
        "id": "XosvMcEckTgi",
        "colab": {
          "base_uri": "https://localhost:8080/"
        },
        "outputId": "baa40499-443d-4a45-f0ce-fa1787764e05"
      },
      "source": [
        "# Hallemos p(x) para los datos en (a). Siendo x = [0, 1, 2, 3, ... 20]\n",
        "# Como anteriormente definimos x, no necesitamos volver a hacerlo, ya que los valores asignados son los mismos\n",
        "n = 24*60 # 24 horas expresadas en minutos\n",
        "L = n * prob_exito # Para actualizar el valor de L, debemos volver a ejecutar esta línea de código\n",
        "\n",
        "# Otra forma de caldular la probabilidad sin definir antes un objeto del tipo Poisson\n",
        "p24 = poisson.pmf(x, L) \n",
        "\n",
        "# Imprimimos p24(x)\n",
        "print(p24)"
      ],
      "execution_count": 11,
      "outputs": [
        {
          "output_type": "stream",
          "text": [
            "[1.35335283e-01 2.70670566e-01 2.70670566e-01 1.80447044e-01\n",
            " 9.02235222e-02 3.60894089e-02 1.20298030e-02 3.43708656e-03\n",
            " 8.59271640e-04 1.90949253e-04 3.81898506e-05 6.94360921e-06\n",
            " 1.15726820e-06 1.78041262e-07 2.54344660e-08 3.39126213e-09\n",
            " 4.23907766e-10 4.98715019e-11 5.54127799e-12 5.83292420e-13\n",
            " 5.83292420e-14]\n"
          ],
          "name": "stdout"
        }
      ]
    },
    {
      "cell_type": "code",
      "metadata": {
        "id": "aU-O2W8Rf728",
        "colab": {
          "base_uri": "https://localhost:8080/",
          "height": 517
        },
        "outputId": "bfc05b2e-3402-4bba-e96b-4ba5d56b639e"
      },
      "source": [
        "# Finalmente podemos graficar la función haciendo uso del módulo matplotlib.plotlib, al que llamamos con el alias de plt\n",
        "fig, ax = plt.subplots(1, 1, figsize= (16,8)) # Creamos un lienzo para nuestro gráfico\n",
        "\n",
        "# El gráfico está dado por:\n",
        "\n",
        "# Distribución de probabilidades para 24 hs.\n",
        "ax.plot(x, p24, 'go', ms= 10, label= '24 horas') # Agregamos nuestro gráfico en forma de puntos verdes con el comando 'go' -> g: green (verde)- o: puntos, ms determina el tamaño del punto, que lo hacemos más grande para que sea visible\n",
        "ax.vlines(x= x, ymin= 0, ymax= p24, colors='g') # Agregamos las líneas verticales desde ymin= 0 hasta ymax = p(x), de color verde\n",
        "# Distribución de probabilidades para 12 hs.\n",
        "ax.plot(x, p, 'bo', label= '12 horas') # Agregamos nuestro gráfico en forma de puntos azules con el comando 'bo' -> b: blue (azul)- o: puntos\n",
        "ax.vlines(x= x, ymin= 0, ymax= p, colors='b') # Agregamos las líneas verticales desde ymin= 0 hasta ymax = p(x), de color azul\n",
        "\n",
        "# Los demás complementos, opcionales:\n",
        "ax.grid() # Agrega las grillas al gráfico\n",
        "plt.xticks(x) # Modifica los puntos representados en el eje x, y la grilla para que coincidan exactamente a intervalos enteros\n",
        "ax.set_title('Distribución de probabilidades', fontsize='x-large', fontweight= 'bold')\n",
        "ax.set_xlabel('Cantidad de \"Me Gusta\"', fontsize='large')\n",
        "ax.set_ylabel('Probabilidad de obtener \"Me Gusta\" en un intervalo dado.', fontsize='large')\n",
        "ax.legend(loc= 'best')\n",
        "plt.show()"
      ],
      "execution_count": 13,
      "outputs": [
        {
          "output_type": "display_data",
          "data": {
            "image/png": "[encoded data removed]",
            "text/plain": [
              "<Figure size 1152x576 with 1 Axes>"
            ]
          },
          "metadata": {
            "tags": [],
            "needs_background": "light"
          }
        }
      ]
    },
    {
      "cell_type": "markdown",
      "metadata": {
        "id": "Ti2VnZjem0Wd"
      },
      "source": [
        "Del gráfico, resulta muy interesante observar lo siguiente:\n",
        "1. La probabilidad de recibir 0 o 1 \"me gusta\" es menor en un periodo de 24 horas que en uno de 12 horas. Si analizamos, esto nos resulta bastante intuitivo, ya que en un mayor periodo de tiempo sería menos probable que nadie o solo una persona le de \"me gusta\" a la página.\n",
        "2. Por otro lado, la probabilidad de recibir 2, 3, 4, 5, 6 y 7 \"me gusta\" es mayor en un perdiodo de 24 horas que en uno de 12 horas. \n",
        "---"
      ]
    },
    {
      "cell_type": "markdown",
      "metadata": {
        "id": "GqlDA_IGzXC3"
      },
      "source": [
        "2. El  número  de  colonias  de  cianobacterias  contenidas  en  muestras  de  agua  del lago Ypacarai se estima sigue una distribución de Poisson con una media de 2 colonias por centímetro cúbico. \n",
        "> (a). Si   se   toman   en   forma   independiente   cuatro   muestras   de   agua   de   1 centímetro cubico cada una, calcule la probabilidad de que por lo menos una muestra contenga alguna colonia de cianobacterias.\n",
        "(b). La  probabilidad  de  encontrar menos  de  2  colonias  de  cianobacterias  en  2 muestras de agua de 1 centímetro cubico."
      ]
    },
    {
      "cell_type": "code",
      "metadata": {
        "id": "0bs1L4Xagy5Z"
      },
      "source": [
        "# Definimos las variables que vamos a necesitar\n",
        "prob_exito = 2\n",
        "prob_fracaso = 1 - prob_exito\n",
        "cant_ensayos = 4\n",
        "# En python \"lambda\" es una palabra reservada por lo que para resolver los ejercicios estaremos usando la variable L\n",
        "L = cant_ensayos * prob_exito"
      ],
      "execution_count": 14,
      "outputs": []
    },
    {
      "cell_type": "markdown",
      "metadata": {
        "id": "LAnekGEK0u2L"
      },
      "source": [
        "(a). Si se toman en forma independiente cuatro muestras de agua de 1 centímetro cubico cada una, calcule la probabilidad de que por lo menos una muestra contenga alguna colonia de cianobacterias. Para ello hallamos la probabilidad de no encontrar ninguna bacteria p(0), y hacemos 1 - p(0)."
      ]
    },
    {
      "cell_type": "code",
      "metadata": {
        "id": "atjitVpU0sWN",
        "outputId": "eb5fc6c5-b8a2-4f47-efc0-59bf3be191d0",
        "colab": {
          "base_uri": "https://localhost:8080/"
        }
      },
      "source": [
        "# Creamos un objeto del tipo poisson al que llamaremos dist_poisson, y que contiene los datos del problema\n",
        "dist_poisson = poisson(L)\n",
        "\n",
        "# Calculamos la probabilidad de hallar 0 bacterias y guardamos el resultado en la variable prob_0_bacterias\n",
        "prob_0_bacterias = dist_poisson.pmf(0)\n",
        "\n",
        "# Calculamos ahora la probabilidad de encontrar al menos una bacteria\n",
        "prob_almenos_1 = 1 - prob_0_bacterias\n",
        "\n",
        "# Imprimimos el resultado\n",
        "print('La probabilidad de encontrar al menos una bacteria en las cuatro muestras tomadas es de:', prob_almenos_1)"
      ],
      "execution_count": 16,
      "outputs": [
        {
          "output_type": "stream",
          "text": [
            "La probabilidad de encontrar al menos una bacteria en las cuatro muestras tomadas es de: 0.9996645373720975\n"
          ],
          "name": "stdout"
        }
      ]
    },
    {
      "cell_type": "markdown",
      "metadata": {
        "id": "7ToHBYio2iTp"
      },
      "source": [
        "Otra forma de hallar el resultado en un único paso es usar `sf(x)` _survival function_ a un objeto del tipo `poisson`. La función `sf(x)` es lo mismo que $1-cdf(x)$ donde `cdf(x)` es la probabilidad acumulada de x."
      ]
    },
    {
      "cell_type": "code",
      "metadata": {
        "id": "Ii9mgDqQ1UPm",
        "outputId": "53862ea6-9700-488e-aa50-dfcf58db30c6",
        "colab": {
          "base_uri": "https://localhost:8080/"
        }
      },
      "source": [
        "# Calculamos ahora la probabilidad de encontrar al menos una bacteria, haciendo uso de sf(x)\n",
        "prob_almenos_1 = dist_poisson.sf(0)\n",
        "\n",
        "# Imprimimos el resultado\n",
        "print('La probabilidad de encontrar al menos una bacteria en las cuatro muestras tomadas es de:', prob_almenos_1)"
      ],
      "execution_count": 17,
      "outputs": [
        {
          "output_type": "stream",
          "text": [
            "La probabilidad de encontrar al menos una bacteria en las cuatro muestras tomadas es de: 0.9996645373720975\n"
          ],
          "name": "stdout"
        }
      ]
    },
    {
      "cell_type": "markdown",
      "metadata": {
        "id": "dee4GIea3R7t"
      },
      "source": [
        "Y podemos comprobar que ambos métodos nos llevan al mismo resultado, la probabilidad de encontrar al menos 1 bacteria es:\n",
        " $p(x>0) =0.9996645373720975$\n",
        " \n",
        " ---\n",
        "(b). La probabilidad de encontrar menos de 2 colonias de cianobacterias en 2 muestras de agua de 1 centímetro cubico. Para ello podemos hacer: \n",
        "$p(x<2) =p(0) + p(1)$\n",
        "O bien, hacer uso del método cdf(x), el cual aplicado a un objeto de distribución de Poisson nos calcula la probabilidad acumulada de que ocurra x."
      ]
    },
    {
      "cell_type": "code",
      "metadata": {
        "id": "84-OP3Dr3Mzp"
      },
      "source": [
        "# Volvemos a definir las variables que cambian para el enunciado (b)\n",
        "cant_ensayos = 2\n",
        "# L para representar Lambda\n",
        "L = cant_ensayos * prob_exito\n",
        "# Volvemos a crear el objeto del tipo poisson\n",
        "dist_poisson = poisson(L)"
      ],
      "execution_count": 19,
      "outputs": []
    },
    {
      "cell_type": "code",
      "metadata": {
        "id": "QXMUMBW06IY2",
        "outputId": "e738fb39-190f-4419-d410-a3bb7720d8bd",
        "colab": {
          "base_uri": "https://localhost:8080/"
        }
      },
      "source": [
        "# Ahora, haciendo uso del método cdf(x) hallamos:\n",
        "prob_1_acum = dist_poisson.cdf(1)\n",
        "# Imprimimos el valor hallado\n",
        "print('La probabilidad de encontrar menos de 2 colonias en 2 muestras es:', prob_1_acum)"
      ],
      "execution_count": 21,
      "outputs": [
        {
          "output_type": "stream",
          "text": [
            "La probabilidad de encontrar menos de 2 colonias en 2 muestras es: 0.0915781944436709\n"
          ],
          "name": "stdout"
        }
      ]
    },
    {
      "cell_type": "markdown",
      "metadata": {
        "id": "hNaHii1f7aFz"
      },
      "source": [
        "# Opcional\n",
        "Si queremos entender en qué afecta variar la cantidad de muestras tomadas en un problema de distribución de Poisson, nos puede resultar muy útil gráficar la distribución para los ejemplos dados."
      ]
    },
    {
      "cell_type": "code",
      "metadata": {
        "id": "-b-IJoj86m60"
      },
      "source": [
        "# Hallemos primero la probabilidad de encontrar exactamente [0, 1, 2, 3, 4, 5, 6, 7, 8, 9] colonias de bacterias para el caso 1\n",
        "x = range(10) # x es un objeto del tipo range, con valores de 0 a 9.\n",
        "# Recordemos que L era:\n",
        "L = 2*4 # Probabilidad de éxito 2 y 4 muestras\n",
        "p_caso_a = poisson.pmf(x, L) # Esta es otra forma de hallar la probabilidad sin tener que definir previamente un objeto Poisson, cualquiera de los dos caminos es válido"
      ],
      "execution_count": 22,
      "outputs": []
    },
    {
      "cell_type": "code",
      "metadata": {
        "id": "BmCZ6PKZ8-cq"
      },
      "source": [
        "# Hallemos ahora lo mismo, para los datos del caso (b)\n",
        "L = 2*2 # Probabilidad de éxito 2 y 2 muestras\n",
        "p_caso_b = poisson.pmf(x, L)"
      ],
      "execution_count": 24,
      "outputs": []
    },
    {
      "cell_type": "code",
      "metadata": {
        "id": "E-Uv8LmQ9Q3r",
        "outputId": "529f54b1-5f59-412a-a0dd-da123dc962d9",
        "colab": {
          "base_uri": "https://localhost:8080/",
          "height": 517
        }
      },
      "source": [
        "# Finalmente podemos graficar la función haciendo uso del módulo matplotlib.plotlib, al que llamamos con el alias de plt\n",
        "fig, ax = plt.subplots(1, 1, figsize= (16,8)) # Creamos un lienzo para nuestro gráfico\n",
        "\n",
        "# El gráfico está dado por:\n",
        "\n",
        "# Distribución de probabilidades para 4 muestras.\n",
        "ax.plot(x, p_caso_a, 'go', label= '4 muestras') # Agregamos nuestro gráfico en forma de puntos verdes con el comando 'go' -> g: green (verde)- o: puntos, ms determina el tamaño del punto, que lo hacemos más grande para que sea visible\n",
        "ax.vlines(x= x, ymin= 0, ymax= p_caso_a, colors='g') # Agregamos las líneas verticales desde ymin= 0 hasta ymax = p_caso_a(x), de color verde\n",
        "# Distribución de probabilidades para 2 muestras.\n",
        "ax.plot(x, p_caso_b, 'bo', label= '2 muestras') # Agregamos nuestro gráfico en forma de puntos azules con el comando 'bo' -> b: blue (azul)- o: puntos\n",
        "ax.vlines(x= x, ymin= 0, ymax= p_caso_b, colors='b') # Agregamos las líneas verticales desde ymin= 0 hasta ymax = p_caso_b(x), de color azul\n",
        "\n",
        "# Los demás complementos, opcionales:\n",
        "ax.grid() # Agrega las grillas al gráfico\n",
        "plt.xticks(x) # Modifica los puntos representados en el eje x, y la grilla para que coincidan exactamente a intervalos enteros\n",
        "ax.set_title('Distribución de probabilidades para diferentes tamaños de muestra', fontsize='x-large', fontweight= 'bold')\n",
        "ax.set_xlabel('Cantidad de colonias de cianobacterias.', fontsize='large')\n",
        "ax.set_ylabel('Probabilidad de encontrar cianobacterias.', fontsize='large')\n",
        "ax.legend(loc= 'best')\n",
        "plt.show()"
      ],
      "execution_count": 29,
      "outputs": [
        {
          "output_type": "display_data",
          "data": {
            "image/png": "[encoded data removed]",
            "text/plain": [
              "<Figure size 1152x576 with 1 Axes>"
            ]
          },
          "metadata": {
            "tags": [],
            "needs_background": "light"
          }
        }
      ]
    },
    {
      "cell_type": "markdown",
      "metadata": {
        "id": "JINNfKu-CBK1"
      },
      "source": [
        "* El gráfico anterior nos muestra cómo afecta el tamaño de muestra a la distribución de Poisson, haciendo variar la media de las probabilidades.\n",
        "* También es interesante notar que, aparentemente, para un número mayor de muestras, la distribución de probabilidades se hace más \"plana\" es decir, los picos tienen valores menores a medida que aumentamos el número de muestras. \n",
        "\n",
        "### Desafío:\n",
        "Para comprobar esto último podemos calcular nuevas distribuciones de probabilidad y seguir agregándolas al gráfico. Te animámos a que pruebes obtener un gráfico parecido al que dejamos a continuación."
      ]
    },
    {
      "cell_type": "code",
      "metadata": {
        "id": "CWFnAGhZGvgX",
        "outputId": "6773c714-887e-467e-e926-4618b6864fe9",
        "colab": {
          "base_uri": "https://localhost:8080/",
          "height": 517
        }
      },
      "source": [
        ""
      ],
      "execution_count": 43,
      "outputs": [
        {
          "output_type": "display_data",
          "data": {
            "image/png": "[encoded data removed]",
            "text/plain": [
              "<Figure size 1152x576 with 1 Axes>"
            ]
          },
          "metadata": {
            "tags": [],
            "needs_background": "light"
          }
        }
      ]
    }
  ]
}
