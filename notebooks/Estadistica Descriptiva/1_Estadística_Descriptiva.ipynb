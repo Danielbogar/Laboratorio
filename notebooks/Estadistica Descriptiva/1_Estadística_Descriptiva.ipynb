{
  "nbformat": 4,
  "nbformat_minor": 0,
  "metadata": {
    "colab": {
      "name": "1- Estadística Descriptiva.ipynb",
      "provenance": [],
      "collapsed_sections": [],
      "authorship_tag": "ABX9TyNnXjdzeg84rapgdbM+Xt3m",
      "include_colab_link": true
    },
    "kernelspec": {
      "name": "python3",
      "display_name": "Python 3"
    }
  },
  "cells": [
    {
      "cell_type": "markdown",
      "metadata": {
        "id": "view-in-github",
        "colab_type": "text"
      },
      "source": [
        "<a href=\"https://colab.research.google.com/github/pyefiuna/Laboratorio/blob/master/notebooks/Estadistica%20Descriptiva/1_Estad%C3%ADstica_Descriptiva.ipynb\" target=\"_parent\"><img src=\"https://colab.research.google.com/assets/colab-badge.svg\" alt=\"Open In Colab\"/></a>"
      ]
    },
    {
      "cell_type": "markdown",
      "metadata": {
        "id": "5I00cGnQhb76"
      },
      "source": [
        "# Estadística Descriptiva"
      ]
    },
    {
      "cell_type": "markdown",
      "metadata": {
        "id": "hjtYIWdHgWnR"
      },
      "source": [
        "### Importar módulos necesarios"
      ]
    },
    {
      "cell_type": "code",
      "metadata": {
        "id": "iSDKtcHLgdSm"
      },
      "source": [
        "import pandas as pd # módulo que sirve para trabajar con datos tabulares en Python\n",
        "import numpy as np # módulo para operaciones con matrices"
      ],
      "execution_count": null,
      "outputs": []
    },
    {
      "cell_type": "markdown",
      "metadata": {
        "id": "RSO9dvx1hUSi"
      },
      "source": [
        "### Importar datos\n",
        "\n",
        "Para los usuarios de Google Colab, es necesario tener los archivos necesarios en el Drive y, a continuación, montar el Drive.\n",
        "\n",
        "Para ello:  \n",
        "1- Correr la siguiente celda de código (ctrl + enter)  \n",
        "2- Hacer clic en el link que aparece  \n",
        "3- Aceptar los permisos desde la cuenta de gmail que tiene los archivos por importar  \n",
        "4- Copiar el código en la celda de abajo"
      ]
    },
    {
      "cell_type": "code",
      "metadata": {
        "id": "2B4ecf1ZhR3v",
        "colab": {
          "base_uri": "https://localhost:8080/"
        },
        "outputId": "1f66e7fc-e6a7-4d13-9987-1035bf890cbd"
      },
      "source": [
        "from google.colab import drive\n",
        " \n",
        "drive.mount('/content/drive')"
      ],
      "execution_count": null,
      "outputs": [
        {
          "output_type": "stream",
          "text": [
            "Drive already mounted at /content/drive; to attempt to forcibly remount, call drive.mount(\"/content/drive\", force_remount=True).\n"
          ],
          "name": "stdout"
        }
      ]
    },
    {
      "cell_type": "markdown",
      "metadata": {
        "id": "aa7SFvZni2Aa"
      },
      "source": [
        "Los archivos con los cuales se va a trabajar esta semana son:\n",
        "* Archivo de Datos 1er Taller.csv\n",
        "* Archivo de Datos.csv\n",
        "* Diccionario 1er Taller.xls\n",
        "* Catalago smartphones.txt\n",
        "* Catalago smartphones.xlsx\n",
        "\n",
        "Para simplicidad, las rutas de las carpetas que contienen a los archivos serán guardadas en variables llamadas EPH2016_PATH y SMARTPHONES_PATH."
      ]
    },
    {
      "cell_type": "code",
      "metadata": {
        "id": "9C7etHUwj8vd"
      },
      "source": [
        "EPH2016_PATH = '/content/drive/My Drive/LabProba/EPH2016'\n",
        "SMARTPHONES_PATH = '/content/drive/My Drive/LabProba/Smartphones'"
      ],
      "execution_count": null,
      "outputs": []
    },
    {
      "cell_type": "markdown",
      "metadata": {
        "id": "hKJPko0tf0Vq"
      },
      "source": [
        "Para importar, por ejemplo, el archivo .txt de smartphones, se puede utilizar la función de pandas [read_table](https://pandas.pydata.org/pandas-docs/stable/reference/api/pandas.read_table.html)\n",
        "\n",
        "Con una rápida inspección de este archivo, se puede ver que "
      ]
    },
    {
      "cell_type": "code",
      "metadata": {
        "id": "httXOSjQhLAh",
        "colab": {
          "base_uri": "https://localhost:8080/"
        },
        "outputId": "f0570015-e445-45af-e3a1-9c9286c6115d"
      },
      "source": [
        "N = 5 # para imprimir las primeras N líneas del archivo\n",
        "with open(f'{SMARTPHONES_PATH}/Catalago smartphones.txt') as smartphone: # se abre el archivo\n",
        "    for i,linea in enumerate(smartphone): # i es el número de línea, linea es el texto correspondiente\n",
        "      if i == N: break # se detiene la iteración cuando el contador llega a N\n",
        "      print(linea) # se imprime la línea de texto correspondiente"
      ],
      "execution_count": null,
      "outputs": [
        {
          "output_type": "stream",
          "text": [
            "ID PRODUCTO\tORIGEN\tMARCA\tPRECIO (USS)\tPRECIO FINAL (USS)\t\tMonto de referencia\t1000\n",
            "\n",
            "1\tEEUU\tMOTOROLA\t999\t999\t\t\t\n",
            "\n",
            "2\tCHINA\tHUAWEI\t380\t380\t\t\t\n",
            "\n",
            "3\tCHINA\tHUAWEI\t972\t972\t\t\t\n",
            "\n",
            "4\tCHINA\tONE PLUS\t471\t471\t\t\t\n",
            "\n"
          ],
          "name": "stdout"
        }
      ]
    },
    {
      "cell_type": "markdown",
      "metadata": {
        "id": "J9uJd2KSt7R9"
      },
      "source": [
        "##### **Conclusión sobre la primera observación**\n",
        "Se tiene 5 columnas:\n",
        "* ID PRODUCTO\n",
        "* ORIGEN\n",
        "* MARCA\n",
        "* PRECIO (USS)\n",
        "* PRECIO FINAL (USS)\n",
        "\n",
        "Además, se tiene un monto de referencia (1000 USS, según lo que se ve en la primera línea)"
      ]
    },
    {
      "cell_type": "code",
      "metadata": {
        "id": "0xUblq1KgSsd",
        "colab": {
          "base_uri": "https://localhost:8080/",
          "height": 235
        },
        "outputId": "b9e6078d-e2d2-4056-a9de-e16e282836d6"
      },
      "source": [
        "smartphones = pd.read_table(f'{SMARTPHONES_PATH}/Catalago smartphones.txt', # ruta del archivo\n",
        "              usecols = ['ID PRODUCTO', 'ORIGEN', 'MARCA',\n",
        "                         'PRECIO (USS)', 'PRECIO FINAL (USS)'], # columnas que se quiere importar\n",
        "              index_col = 'ID PRODUCTO') # columna correspondiente al índice\n",
        "smartphones.head() # se muestran las primeras 5 entradas"
      ],
      "execution_count": null,
      "outputs": [
        {
          "output_type": "execute_result",
          "data": {
            "text/html": [
              "<div>\n",
              "<style scoped>\n",
              "    .dataframe tbody tr th:only-of-type {\n",
              "        vertical-align: middle;\n",
              "    }\n",
              "\n",
              "    .dataframe tbody tr th {\n",
              "        vertical-align: top;\n",
              "    }\n",
              "\n",
              "    .dataframe thead th {\n",
              "        text-align: right;\n",
              "    }\n",
              "</style>\n",
              "<table border=\"1\" class=\"dataframe\">\n",
              "  <thead>\n",
              "    <tr style=\"text-align: right;\">\n",
              "      <th></th>\n",
              "      <th>ORIGEN</th>\n",
              "      <th>MARCA</th>\n",
              "      <th>PRECIO (USS)</th>\n",
              "      <th>PRECIO FINAL (USS)</th>\n",
              "    </tr>\n",
              "    <tr>\n",
              "      <th>ID PRODUCTO</th>\n",
              "      <th></th>\n",
              "      <th></th>\n",
              "      <th></th>\n",
              "      <th></th>\n",
              "    </tr>\n",
              "  </thead>\n",
              "  <tbody>\n",
              "    <tr>\n",
              "      <th>1</th>\n",
              "      <td>EEUU</td>\n",
              "      <td>MOTOROLA</td>\n",
              "      <td>999</td>\n",
              "      <td>999</td>\n",
              "    </tr>\n",
              "    <tr>\n",
              "      <th>2</th>\n",
              "      <td>CHINA</td>\n",
              "      <td>HUAWEI</td>\n",
              "      <td>380</td>\n",
              "      <td>380</td>\n",
              "    </tr>\n",
              "    <tr>\n",
              "      <th>3</th>\n",
              "      <td>CHINA</td>\n",
              "      <td>HUAWEI</td>\n",
              "      <td>972</td>\n",
              "      <td>972</td>\n",
              "    </tr>\n",
              "    <tr>\n",
              "      <th>4</th>\n",
              "      <td>CHINA</td>\n",
              "      <td>ONE PLUS</td>\n",
              "      <td>471</td>\n",
              "      <td>471</td>\n",
              "    </tr>\n",
              "    <tr>\n",
              "      <th>5</th>\n",
              "      <td>TAIWAN</td>\n",
              "      <td>HTC</td>\n",
              "      <td>569</td>\n",
              "      <td>569</td>\n",
              "    </tr>\n",
              "  </tbody>\n",
              "</table>\n",
              "</div>"
            ],
            "text/plain": [
              "             ORIGEN     MARCA  PRECIO (USS) PRECIO FINAL (USS)\n",
              "ID PRODUCTO                                                   \n",
              "1              EEUU  MOTOROLA           999                999\n",
              "2             CHINA    HUAWEI           380                380\n",
              "3             CHINA    HUAWEI           972                972\n",
              "4             CHINA  ONE PLUS           471                471\n",
              "5            TAIWAN       HTC           569                569"
            ]
          },
          "metadata": {
            "tags": []
          },
          "execution_count": 5
        }
      ]
    },
    {
      "cell_type": "markdown",
      "metadata": {
        "id": "VekWPy7Yw3Ld"
      },
      "source": [
        "#### Análisis exploratorio\n",
        "\n",
        "Se puede empezar por descubrir la naturaleza de cada columna. Esperaríamos que las dos primeras sean categóricas (tipo string) y las columnas de precio numéricas (ya sea del tipo entero o flotante)"
      ]
    },
    {
      "cell_type": "code",
      "metadata": {
        "id": "l9s0YXM9zG78",
        "colab": {
          "base_uri": "https://localhost:8080/"
        },
        "outputId": "6ad5c6d8-c399-47e4-9603-b8d9b9b5cddc"
      },
      "source": [
        "smartphones.dtypes"
      ],
      "execution_count": null,
      "outputs": [
        {
          "output_type": "execute_result",
          "data": {
            "text/plain": [
              "ORIGEN                object\n",
              "MARCA                 object\n",
              "PRECIO (USS)           int64\n",
              "PRECIO FINAL (USS)    object\n",
              "dtype: object"
            ]
          },
          "metadata": {
            "tags": []
          },
          "execution_count": 6
        }
      ]
    },
    {
      "cell_type": "markdown",
      "metadata": {
        "id": "CY12-zC30l_w"
      },
      "source": [
        "Las tres primeras columnas cumplen con lo esperado. La última, sin embargo, es del tipo object. Esto puede deberse a que existen valores flotantes que usa la coma como separador decimal. El tipo de esta columna puede corregirse de la siguiente forma:"
      ]
    },
    {
      "cell_type": "code",
      "metadata": {
        "id": "cxOliWQ-04Og"
      },
      "source": [
        "smartphones['PRECIO FINAL (USS)'] = smartphones['PRECIO FINAL (USS)'].str.replace(',', '.').astype(float)"
      ],
      "execution_count": null,
      "outputs": []
    },
    {
      "cell_type": "markdown",
      "metadata": {
        "id": "qwVb1nbg0AQL"
      },
      "source": [
        "##### Datos categóricos\n",
        "\n",
        "Se puede continuar explorando la cantidad de artículos provenientes de cada pais de origen. A continuación, se muestran las distribuciones por medio de gráfico de [barras](https://pandas.pydata.org/pandas-docs/stable/reference/api/pandas.DataFrame.plot.bar.html) y de [torta](https://pandas.pydata.org/pandas-docs/stable/reference/api/pandas.DataFrame.plot.pie.html)."
      ]
    },
    {
      "cell_type": "code",
      "metadata": {
        "id": "00kMQia1w6Hi",
        "colab": {
          "base_uri": "https://localhost:8080/",
          "height": 295
        },
        "outputId": "bc41f3e2-1368-4a73-85bf-d31e96e7aae3"
      },
      "source": [
        "smartphones['ORIGEN'].value_counts().plot.bar(rot = 0,\n",
        "                                              title = 'Distribución del pais de origen',\n",
        "                                              xlabel = 'Pais de origen',\n",
        "                                              ylabel = 'Cantidad');"
      ],
      "execution_count": null,
      "outputs": [
        {
          "output_type": "display_data",
          "data": {
            "image/png": "[encoded data removed]",
            "text/plain": [
              "<Figure size 432x288 with 1 Axes>"
            ]
          },
          "metadata": {
            "tags": [],
            "needs_background": "light"
          }
        }
      ]
    },
    {
      "cell_type": "code",
      "metadata": {
        "id": "lLhZtPV0xVrz",
        "colab": {
          "base_uri": "https://localhost:8080/",
          "height": 373
        },
        "outputId": "ba0f4471-2734-4da6-8906-2ef417f47da8"
      },
      "source": [
        "smartphones['ORIGEN'].value_counts().plot.pie(figsize = (6,6),\n",
        "                                              startangle = 30,\n",
        "                                              autopct='%1.1f%%',\n",
        "                                              title = 'Otra forma de representar la\\\n",
        " distribución del pais de origen');"
      ],
      "execution_count": null,
      "outputs": [
        {
          "output_type": "display_data",
          "data": {
            "image/png": "[encoded data removed]",
            "text/plain": [
              "<Figure size 432x432 with 1 Axes>"
            ]
          },
          "metadata": {
            "tags": []
          }
        }
      ]
    },
    {
      "cell_type": "markdown",
      "metadata": {
        "id": "Bblel9bFyvSz"
      },
      "source": [
        "El mismo análisis puede hacerse para la marca del producto."
      ]
    },
    {
      "cell_type": "code",
      "metadata": {
        "id": "Xs0wyUoWy0Uq",
        "colab": {
          "base_uri": "https://localhost:8080/",
          "height": 295
        },
        "outputId": "4f8eebcb-601b-4d86-e3d0-4daf0ec070cb"
      },
      "source": [
        "smartphones['MARCA'].value_counts().plot.bar(rot = 0,\n",
        "                                              title = 'Distribución de la marca del producto',\n",
        "                                              xlabel = 'Marca del producto',\n",
        "                                              ylabel = 'Cantidad');"
      ],
      "execution_count": null,
      "outputs": [
        {
          "output_type": "display_data",
          "data": {
            "image/png": "[encoded data removed]",
            "text/plain": [
              "<Figure size 432x288 with 1 Axes>"
            ]
          },
          "metadata": {
            "tags": [],
            "needs_background": "light"
          }
        }
      ]
    },
    {
      "cell_type": "code",
      "metadata": {
        "id": "yd6OUoODy9gg",
        "colab": {
          "base_uri": "https://localhost:8080/",
          "height": 373
        },
        "outputId": "b28cabbb-5c87-428c-c65a-53c0b5645719"
      },
      "source": [
        "smartphones['MARCA'].value_counts().plot.pie(figsize = (6,6),\n",
        "                                              startangle = 30,\n",
        "                                              autopct='%1.1f%%',\n",
        "                                              title = 'Otra forma de representar la\\\n",
        " distribución de la marca del producto');"
      ],
      "execution_count": null,
      "outputs": [
        {
          "output_type": "display_data",
          "data": {
            "image/png": "[encoded data removed]",
            "text/plain": [
              "<Figure size 432x432 with 1 Axes>"
            ]
          },
          "metadata": {
            "tags": []
          }
        }
      ]
    },
    {
      "cell_type": "markdown",
      "metadata": {
        "id": "PcSAt-pezNI6"
      },
      "source": [
        "##### Datos numéricos\n",
        "\n",
        "Para una rápida observación de los datos numéricos, puede utilizarse la función de pandas [describe](https://pandas.pydata.org/pandas-docs/stable/reference/api/pandas.DataFrame.describe.html)"
      ]
    },
    {
      "cell_type": "code",
      "metadata": {
        "id": "iVtYMWtO2S5C",
        "colab": {
          "base_uri": "https://localhost:8080/",
          "height": 297
        },
        "outputId": "20cf2b09-2f80-4d8b-d9d7-af4e0ad646c2"
      },
      "source": [
        "smartphones.describe()"
      ],
      "execution_count": null,
      "outputs": [
        {
          "output_type": "execute_result",
          "data": {
            "text/html": [
              "<div>\n",
              "<style scoped>\n",
              "    .dataframe tbody tr th:only-of-type {\n",
              "        vertical-align: middle;\n",
              "    }\n",
              "\n",
              "    .dataframe tbody tr th {\n",
              "        vertical-align: top;\n",
              "    }\n",
              "\n",
              "    .dataframe thead th {\n",
              "        text-align: right;\n",
              "    }\n",
              "</style>\n",
              "<table border=\"1\" class=\"dataframe\">\n",
              "  <thead>\n",
              "    <tr style=\"text-align: right;\">\n",
              "      <th></th>\n",
              "      <th>PRECIO (USS)</th>\n",
              "      <th>PRECIO FINAL (USS)</th>\n",
              "    </tr>\n",
              "  </thead>\n",
              "  <tbody>\n",
              "    <tr>\n",
              "      <th>count</th>\n",
              "      <td>304.000000</td>\n",
              "      <td>304.000000</td>\n",
              "    </tr>\n",
              "    <tr>\n",
              "      <th>mean</th>\n",
              "      <td>783.611842</td>\n",
              "      <td>699.444737</td>\n",
              "    </tr>\n",
              "    <tr>\n",
              "      <th>std</th>\n",
              "      <td>386.653588</td>\n",
              "      <td>291.790572</td>\n",
              "    </tr>\n",
              "    <tr>\n",
              "      <th>min</th>\n",
              "      <td>108.000000</td>\n",
              "      <td>108.000000</td>\n",
              "    </tr>\n",
              "    <tr>\n",
              "      <th>25%</th>\n",
              "      <td>427.250000</td>\n",
              "      <td>427.250000</td>\n",
              "    </tr>\n",
              "    <tr>\n",
              "      <th>50%</th>\n",
              "      <td>764.500000</td>\n",
              "      <td>764.500000</td>\n",
              "    </tr>\n",
              "    <tr>\n",
              "      <th>75%</th>\n",
              "      <td>1108.750000</td>\n",
              "      <td>936.000000</td>\n",
              "    </tr>\n",
              "    <tr>\n",
              "      <th>max</th>\n",
              "      <td>1496.000000</td>\n",
              "      <td>1196.800000</td>\n",
              "    </tr>\n",
              "  </tbody>\n",
              "</table>\n",
              "</div>"
            ],
            "text/plain": [
              "       PRECIO (USS)  PRECIO FINAL (USS)\n",
              "count    304.000000          304.000000\n",
              "mean     783.611842          699.444737\n",
              "std      386.653588          291.790572\n",
              "min      108.000000          108.000000\n",
              "25%      427.250000          427.250000\n",
              "50%      764.500000          764.500000\n",
              "75%     1108.750000          936.000000\n",
              "max     1496.000000         1196.800000"
            ]
          },
          "metadata": {
            "tags": []
          },
          "execution_count": 12
        }
      ]
    },
    {
      "cell_type": "markdown",
      "metadata": {
        "id": "TzRf1-7o3dYW"
      },
      "source": [
        "La mayor parte de estos datos pueden representarse mediante un [boxplot](https://pandas.pydata.org/pandas-docs/stable/reference/api/pandas.DataFrame.boxplot.html) (bigote de gato)"
      ]
    },
    {
      "cell_type": "code",
      "metadata": {
        "id": "bLLQkA442ci3",
        "colab": {
          "base_uri": "https://localhost:8080/",
          "height": 281
        },
        "outputId": "7bf8ff6f-cad9-45a7-e779-f139c36a360c"
      },
      "source": [
        "smartphones.plot.box(title = 'Gráfico tipo bigote de gato',\n",
        "                     ylabel = 'Valor');"
      ],
      "execution_count": null,
      "outputs": [
        {
          "output_type": "display_data",
          "data": {
            "image/png": "[encoded data removed]",
            "text/plain": [
              "<Figure size 432x288 with 1 Axes>"
            ]
          },
          "metadata": {
            "tags": [],
            "needs_background": "light"
          }
        }
      ]
    },
    {
      "cell_type": "markdown",
      "metadata": {
        "id": "GSjKpf_o3su8"
      },
      "source": [
        "Para conocer de forma más detallada la distribución de estos datos numéricos, se pueden usar [histogramas](https://pandas.pydata.org/pandas-docs/stable/reference/api/pandas.DataFrame.hist.html)"
      ]
    },
    {
      "cell_type": "code",
      "metadata": {
        "id": "wSk-LnQP2t2M",
        "colab": {
          "base_uri": "https://localhost:8080/",
          "height": 281
        },
        "outputId": "cb9fd121-4042-426a-e4a3-87a9e49c77aa"
      },
      "source": [
        "smartphones.plot.hist(alpha = 0.40, # transparencia\n",
        "                      bins = 20, # cantidad de rectángulos por usar\n",
        "                      title = 'Histograma');"
      ],
      "execution_count": null,
      "outputs": [
        {
          "output_type": "display_data",
          "data": {
            "image/png": "[encoded data removed]",
            "text/plain": [
              "<Figure size 432x288 with 1 Axes>"
            ]
          },
          "metadata": {
            "tags": [],
            "needs_background": "light"
          }
        }
      ]
    },
    {
      "cell_type": "markdown",
      "metadata": {
        "id": "XzH-60z033M6"
      },
      "source": [
        "### Operaciones con DataFrames"
      ]
    },
    {
      "cell_type": "markdown",
      "metadata": {
        "id": "Um8iUOj94_x_"
      },
      "source": [
        "#### Item 1\n",
        "\n",
        "Calcular el precio final estableciendo como condición los siguientes criterios:\n",
        "* Si el precio es mayor a un monto de 1000USS realizar un descuento del 20%.\n",
        "* Si el precio es menor a un monto de 1000USS mantener el precio original.\n",
        "\n",
        "**OBS.:** Colocar los valores en  una nueva columna llamada **“VALOR FINAL”**."
      ]
    },
    {
      "cell_type": "code",
      "metadata": {
        "colab": {
          "base_uri": "https://localhost:8080/",
          "height": 475
        },
        "id": "0RfwTXjP4_dz",
        "outputId": "ed55c8aa-5a7e-4983-917d-fc6dcfd34592"
      },
      "source": [
        "smartphones['VALOR FINAL'] = smartphones['PRECIO (USS)'] # se mantiene el precio\n",
        "''' a continuación, se cambian los valores de solo aquellos precious que originalmente son mayores\n",
        "que 1000, por lo que se imprimirá un warning que puede ser ignorado'''\n",
        "smartphones['VALOR FINAL'][smartphones['PRECIO (USS)'] > 1000 ] = smartphones['PRECIO (USS)']*(1-0.20)\n",
        "smartphones['VALOR FINAL'] = smartphones['VALOR FINAL'].astype(int) # se convierte a entero\n",
        "smartphones.sample(10)"
      ],
      "execution_count": null,
      "outputs": [
        {
          "output_type": "stream",
          "text": [
            "/usr/local/lib/python3.6/dist-packages/ipykernel_launcher.py:4: SettingWithCopyWarning: \n",
            "A value is trying to be set on a copy of a slice from a DataFrame\n",
            "\n",
            "See the caveats in the documentation: https://pandas.pydata.org/pandas-docs/stable/user_guide/indexing.html#returning-a-view-versus-a-copy\n",
            "  after removing the cwd from sys.path.\n"
          ],
          "name": "stderr"
        },
        {
          "output_type": "execute_result",
          "data": {
            "text/html": [
              "<div>\n",
              "<style scoped>\n",
              "    .dataframe tbody tr th:only-of-type {\n",
              "        vertical-align: middle;\n",
              "    }\n",
              "\n",
              "    .dataframe tbody tr th {\n",
              "        vertical-align: top;\n",
              "    }\n",
              "\n",
              "    .dataframe thead th {\n",
              "        text-align: right;\n",
              "    }\n",
              "</style>\n",
              "<table border=\"1\" class=\"dataframe\">\n",
              "  <thead>\n",
              "    <tr style=\"text-align: right;\">\n",
              "      <th></th>\n",
              "      <th>ORIGEN</th>\n",
              "      <th>MARCA</th>\n",
              "      <th>PRECIO (USS)</th>\n",
              "      <th>PRECIO FINAL (USS)</th>\n",
              "      <th>VALOR FINAL</th>\n",
              "    </tr>\n",
              "    <tr>\n",
              "      <th>ID PRODUCTO</th>\n",
              "      <th></th>\n",
              "      <th></th>\n",
              "      <th></th>\n",
              "      <th></th>\n",
              "      <th></th>\n",
              "    </tr>\n",
              "  </thead>\n",
              "  <tbody>\n",
              "    <tr>\n",
              "      <th>141</th>\n",
              "      <td>KOREA</td>\n",
              "      <td>SAMSUNG</td>\n",
              "      <td>859</td>\n",
              "      <td>859.0</td>\n",
              "      <td>859</td>\n",
              "    </tr>\n",
              "    <tr>\n",
              "      <th>126</th>\n",
              "      <td>EEUU</td>\n",
              "      <td>IPHONE</td>\n",
              "      <td>1454</td>\n",
              "      <td>1163.2</td>\n",
              "      <td>1163</td>\n",
              "    </tr>\n",
              "    <tr>\n",
              "      <th>303</th>\n",
              "      <td>TAIWAN</td>\n",
              "      <td>HTC</td>\n",
              "      <td>715</td>\n",
              "      <td>715.0</td>\n",
              "      <td>715</td>\n",
              "    </tr>\n",
              "    <tr>\n",
              "      <th>286</th>\n",
              "      <td>CHINA</td>\n",
              "      <td>ONE PLUS</td>\n",
              "      <td>806</td>\n",
              "      <td>806.0</td>\n",
              "      <td>806</td>\n",
              "    </tr>\n",
              "    <tr>\n",
              "      <th>200</th>\n",
              "      <td>EEUU</td>\n",
              "      <td>MOTOROLA</td>\n",
              "      <td>573</td>\n",
              "      <td>573.0</td>\n",
              "      <td>573</td>\n",
              "    </tr>\n",
              "    <tr>\n",
              "      <th>168</th>\n",
              "      <td>CHINA</td>\n",
              "      <td>HUAWEI</td>\n",
              "      <td>287</td>\n",
              "      <td>287.0</td>\n",
              "      <td>287</td>\n",
              "    </tr>\n",
              "    <tr>\n",
              "      <th>218</th>\n",
              "      <td>EEUU</td>\n",
              "      <td>IPHONE</td>\n",
              "      <td>1287</td>\n",
              "      <td>1029.6</td>\n",
              "      <td>1029</td>\n",
              "    </tr>\n",
              "    <tr>\n",
              "      <th>162</th>\n",
              "      <td>CHINA</td>\n",
              "      <td>HUAWEI</td>\n",
              "      <td>1115</td>\n",
              "      <td>892.0</td>\n",
              "      <td>892</td>\n",
              "    </tr>\n",
              "    <tr>\n",
              "      <th>275</th>\n",
              "      <td>EEUU</td>\n",
              "      <td>MOTOROLA</td>\n",
              "      <td>708</td>\n",
              "      <td>708.0</td>\n",
              "      <td>708</td>\n",
              "    </tr>\n",
              "    <tr>\n",
              "      <th>128</th>\n",
              "      <td>EEUU</td>\n",
              "      <td>MOTOROLA</td>\n",
              "      <td>861</td>\n",
              "      <td>861.0</td>\n",
              "      <td>861</td>\n",
              "    </tr>\n",
              "  </tbody>\n",
              "</table>\n",
              "</div>"
            ],
            "text/plain": [
              "             ORIGEN     MARCA  PRECIO (USS)  PRECIO FINAL (USS)  VALOR FINAL\n",
              "ID PRODUCTO                                                                 \n",
              "141           KOREA   SAMSUNG           859               859.0          859\n",
              "126            EEUU    IPHONE          1454              1163.2         1163\n",
              "303          TAIWAN       HTC           715               715.0          715\n",
              "286           CHINA  ONE PLUS           806               806.0          806\n",
              "200            EEUU  MOTOROLA           573               573.0          573\n",
              "168           CHINA    HUAWEI           287               287.0          287\n",
              "218            EEUU    IPHONE          1287              1029.6         1029\n",
              "162           CHINA    HUAWEI          1115               892.0          892\n",
              "275            EEUU  MOTOROLA           708               708.0          708\n",
              "128            EEUU  MOTOROLA           861               861.0          861"
            ]
          },
          "metadata": {
            "tags": []
          },
          "execution_count": 15
        }
      ]
    },
    {
      "cell_type": "markdown",
      "metadata": {
        "id": "_1Xf831F9xd4"
      },
      "source": [
        "#### Ítem 2\n",
        "\n",
        "Calcular las siguientes medidas en una tabla estadística para el **“VALOR FINAL”** (cantidad de artículos, promedio, mediana, moda, máximo, mínimo, rango, desviación estándar)."
      ]
    },
    {
      "cell_type": "code",
      "metadata": {
        "colab": {
          "base_uri": "https://localhost:8080/"
        },
        "id": "ZfXJUOJZ31wp",
        "outputId": "be8ba334-895f-494f-bb3d-3593baf16c91"
      },
      "source": [
        "valor_final = smartphones['VALOR FINAL']\n",
        "tabla_estadistica = pd.Series(index = ['Cantidad', 'Promedio', 'Mediana', 'Moda',\n",
        "                                        'Máx.', 'Mín', 'Rango', 'Desv. Est.'],\n",
        "                              data = [valor_final.count(),\n",
        "                                      valor_final.mean(),\n",
        "                                      valor_final.median(),\n",
        "                                      *valor_final.mode().values,\n",
        "                                      valor_final.max(),\n",
        "                                      valor_final.min(),\n",
        "                                      np.ptp(valor_final), # peak to peak, pico a pico\n",
        "                                      valor_final.std()],\n",
        "                              name = 'Tabla estadística').astype(int) # se convierte a entero\n",
        "print(tabla_estadistica)"
      ],
      "execution_count": null,
      "outputs": [
        {
          "output_type": "stream",
          "text": [
            "Cantidad       304\n",
            "Promedio       699\n",
            "Mediana        764\n",
            "Moda           884\n",
            "Máx.          1196\n",
            "Mín            108\n",
            "Rango         1088\n",
            "Desv. Est.     291\n",
            "Name: Tabla estadística, dtype: int64\n"
          ],
          "name": "stdout"
        }
      ]
    },
    {
      "cell_type": "markdown",
      "metadata": {
        "id": "bm0e3kzTGonw"
      },
      "source": [
        "#### Ítem 3\n",
        "Estimar una cantidad de intervalos de clase (elegir el mayor tamaño) para la tabla de\n",
        "frecuencias del valor final y agruparlas en clases del mismo tamaño."
      ]
    },
    {
      "cell_type": "code",
      "metadata": {
        "id": "0LHN8WjrGxSP",
        "colab": {
          "base_uri": "https://localhost:8080/"
        },
        "outputId": "8e02dc9b-84d9-48b2-d9dd-3ff1b6260129"
      },
      "source": [
        "n_sturges = int(1 + 3.322*np.log10(tabla_estadistica['Cantidad']))\n",
        "n_brooks_carruthers = int(5*np.log10(tabla_estadistica['Cantidad']))\n",
        "print(f'Por el criterio de Sturges: {n_sturges}')\n",
        "print(f'Por el criterio de Brooks y Carruthers: {n_brooks_carruthers}')"
      ],
      "execution_count": null,
      "outputs": [
        {
          "output_type": "stream",
          "text": [
            "Por el criterio de Sturges: 9\n",
            "Por el criterio de Brooks y Carruthers: 12\n"
          ],
          "name": "stdout"
        }
      ]
    },
    {
      "cell_type": "markdown",
      "metadata": {
        "id": "Kghaa8yivweu"
      },
      "source": [
        "Dado que se busca el intervalo más grande, se toma el sugerido por Sturges y se agrega una columna que separa en clases al valor final."
      ]
    },
    {
      "cell_type": "code",
      "metadata": {
        "colab": {
          "base_uri": "https://localhost:8080/"
        },
        "id": "7h9WFKvPv_ET",
        "outputId": "6c343579-0f65-4a80-8d38-231651e86d29"
      },
      "source": [
        "valor_final_clases = pd.cut(smartphones['VALOR FINAL'],\n",
        "                            bins = n_sturges, # cantidad de clases\n",
        "                            precision = 0) # precision: cantidad de decimales por tener en cuenta\n",
        "print(valor_final_clases)"
      ],
      "execution_count": null,
      "outputs": [
        {
          "output_type": "stream",
          "text": [
            "ID PRODUCTO\n",
            "1      (954.0, 1075.0]\n",
            "2       (350.0, 471.0]\n",
            "3      (954.0, 1075.0]\n",
            "4       (471.0, 592.0]\n",
            "5       (471.0, 592.0]\n",
            "            ...       \n",
            "300     (107.0, 229.0]\n",
            "301     (471.0, 592.0]\n",
            "302     (712.0, 833.0]\n",
            "303     (712.0, 833.0]\n",
            "304     (712.0, 833.0]\n",
            "Name: VALOR FINAL, Length: 304, dtype: category\n",
            "Categories (9, interval[float64]): [(107.0, 229.0] < (229.0, 350.0] < (350.0, 471.0] < (471.0, 592.0] <\n",
            "                                    ... < (712.0, 833.0] < (833.0, 954.0] <\n",
            "                                    (954.0, 1075.0] < (1075.0, 1196.0]]\n"
          ],
          "name": "stdout"
        }
      ]
    },
    {
      "cell_type": "markdown",
      "metadata": {
        "id": "ruqbZ5XowoIa"
      },
      "source": [
        "Se agrega esta columna al DataFrame de smartphones:"
      ]
    },
    {
      "cell_type": "code",
      "metadata": {
        "colab": {
          "base_uri": "https://localhost:8080/"
        },
        "id": "nNNutXhZMmQ3",
        "outputId": "a2a755f1-d9b0-4abc-db84-52dd35a7e2b5"
      },
      "source": [
        "smartphones['CLASE'] = valor_final_clases\n",
        "print(smartphones.head())"
      ],
      "execution_count": null,
      "outputs": [
        {
          "output_type": "stream",
          "text": [
            "             ORIGEN     MARCA  ...  VALOR FINAL            CLASE\n",
            "ID PRODUCTO                    ...                              \n",
            "1              EEUU  MOTOROLA  ...          999  (954.0, 1075.0]\n",
            "2             CHINA    HUAWEI  ...          380   (350.0, 471.0]\n",
            "3             CHINA    HUAWEI  ...          972  (954.0, 1075.0]\n",
            "4             CHINA  ONE PLUS  ...          471   (471.0, 592.0]\n",
            "5            TAIWAN       HTC  ...          569   (471.0, 592.0]\n",
            "\n",
            "[5 rows x 6 columns]\n"
          ],
          "name": "stdout"
        }
      ]
    },
    {
      "cell_type": "markdown",
      "metadata": {
        "id": "aF5vCldixUJW"
      },
      "source": [
        "#### Ítem 4\n",
        "Construir una tabla de frecuencias para el valor final de las marcas de cada smartphone utilizando los mismos intervalos de clase estimados en el ítem 3."
      ]
    },
    {
      "cell_type": "code",
      "metadata": {
        "colab": {
          "base_uri": "https://localhost:8080/"
        },
        "id": "jUgiGGFbx6n_",
        "outputId": "16500dd2-d0b4-4030-e496-541aac9385e6"
      },
      "source": [
        "smartphones['CLASE'].value_counts().sort_index()\n",
        "# value_counts: cuenta la cantidad de veces que aparece cada entrada de la columna CLASE\n",
        "# sort_index: ordena el índicer de forma ascendente"
      ],
      "execution_count": null,
      "outputs": [
        {
          "output_type": "execute_result",
          "data": {
            "text/plain": [
              "(107.0, 229.0]      20\n",
              "(229.0, 350.0]      28\n",
              "(350.0, 471.0]      36\n",
              "(471.0, 592.0]      28\n",
              "(592.0, 712.0]      30\n",
              "(712.0, 833.0]      39\n",
              "(833.0, 954.0]      53\n",
              "(954.0, 1075.0]     43\n",
              "(1075.0, 1196.0]    27\n",
              "Name: CLASE, dtype: int64"
            ]
          },
          "metadata": {
            "tags": []
          },
          "execution_count": 20
        }
      ]
    },
    {
      "cell_type": "code",
      "metadata": {
        "colab": {
          "base_uri": "https://localhost:8080/",
          "height": 265
        },
        "id": "r8K6jRCuzz_Z",
        "outputId": "69210215-6a84-4143-9275-b30730989f7a"
      },
      "source": [
        "smartphones['VALOR FINAL'].plot.hist(bins = 9);"
      ],
      "execution_count": null,
      "outputs": [
        {
          "output_type": "display_data",
          "data": {
            "image/png": "[encoded data removed]",
            "text/plain": [
              "<Figure size 432x288 with 1 Axes>"
            ]
          },
          "metadata": {
            "tags": [],
            "needs_background": "light"
          }
        }
      ]
    },
    {
      "cell_type": "markdown",
      "metadata": {
        "id": "9eSZCflm5jPH"
      },
      "source": [
        "#### Ítem 5\n",
        "Crear un histograma comparativo entre el catálogo y tu marca de smartphone en un mismo gráfico.  \n",
        "**OBS.:** Visualizar en el grafico los ejes, títulos de ejes, etiqueta de datos, líneas de cuadrícula y leyenda."
      ]
    },
    {
      "cell_type": "code",
      "metadata": {
        "colab": {
          "base_uri": "https://localhost:8080/",
          "height": 460
        },
        "id": "EPCrXy3b0oFY",
        "outputId": "ca0f2e55-a0ab-46a8-8827-e166d5cc665c"
      },
      "source": [
        "smartphones.groupby(['CLASE'])['MARCA'].value_counts().unstack().plot.bar(figsize = (18,6), rot = 45,\n",
        "                                                                          title = 'Histograma',\n",
        "                                                                          grid = True,\n",
        "                                                                          ylabel = 'Cantidad');"
      ],
      "execution_count": null,
      "outputs": [
        {
          "output_type": "display_data",
          "data": {
            "image/png": "[encoded data removed]",
            "text/plain": [
              "<Figure size 1296x432 with 1 Axes>"
            ]
          },
          "metadata": {
            "tags": [],
            "needs_background": "light"
          }
        }
      ]
    },
    {
      "cell_type": "markdown",
      "metadata": {
        "id": "aad64ofZuXZu"
      },
      "source": [
        "### Segundo caso práctico\n",
        "\n",
        "Comparar el perfil socio-económico (Ingreso per cápita mensual) de las personas que se encuentren en el rango de edades entre 25 y 60 años (inclusive), y:\n",
        "\n",
        "**G1)** Su título más alto es de EEB (1° y 2° Ciclo) (6° grado);  \n",
        "**G2)** Posee título Universitario (superior universitario) o postgrado (especialización,\n",
        "maestría y doctorado)."
      ]
    },
    {
      "cell_type": "code",
      "metadata": {
        "colab": {
          "base_uri": "https://localhost:8080/"
        },
        "id": "aUPTazaqvH9G",
        "outputId": "efddeb14-7efd-46ea-809c-1b43267528c2"
      },
      "source": [
        "## Se importa el .csv necesario\n",
        "EPH = pd.read_csv(f'{EPH2016_PATH}/Archivo de Datos.csv')\n",
        "print(EPH)"
      ],
      "execution_count": null,
      "outputs": [
        {
          "output_type": "stream",
          "text": [
            "      Departamento de residencia  ... Deciles para cada área\n",
            "0                           DPTO  ...                decilai\n",
            "1                            NaN  ...                     10\n",
            "2                            NaN  ...                     10\n",
            "3                            NaN  ...                     10\n",
            "4                            NaN  ...                     10\n",
            "...                          ...  ...                    ...\n",
            "37810                         15  ...                     10\n",
            "37811                         15  ...                      7\n",
            "37812                         15  ...                      7\n",
            "37813                         15  ...                      7\n",
            "37814                         15  ...                      7\n",
            "\n",
            "[37815 rows x 58 columns]\n"
          ],
          "name": "stdout"
        },
        {
          "output_type": "stream",
          "text": [
            "/usr/local/lib/python3.6/dist-packages/IPython/core/interactiveshell.py:2718: DtypeWarning: Columns (0,1,2,3,4,5,6,7,8,9,10,11,12,13,14,15,16,17,18,19,20,21,22,23,24,25,26,27,28,29,30,31,32,33,34,35,36,37,38,39,40,41,42,43,44,45,46,47,48,49,50,51,52,53,54,55,56,57) have mixed types.Specify dtype option on import or set low_memory=False.\n",
            "  interactivity=interactivity, compiler=compiler, result=result)\n"
          ],
          "name": "stderr"
        }
      ]
    },
    {
      "cell_type": "code",
      "metadata": {
        "colab": {
          "base_uri": "https://localhost:8080/"
        },
        "id": "Nklx6-uJvWwZ",
        "outputId": "ddbadebb-45e1-4da3-9cd8-96eb5ccb7967"
      },
      "source": [
        "## La primera columna fila debe ser eliminada, ya que no aporta información útil\n",
        "EPH.drop(index = 0, inplace = True)\n",
        "print(EPH)"
      ],
      "execution_count": null,
      "outputs": [
        {
          "output_type": "stream",
          "text": [
            "      Departamento de residencia  ... Deciles para cada área\n",
            "1                            NaN  ...                     10\n",
            "2                            NaN  ...                     10\n",
            "3                            NaN  ...                     10\n",
            "4                            NaN  ...                     10\n",
            "5                            NaN  ...                     10\n",
            "...                          ...  ...                    ...\n",
            "37810                         15  ...                     10\n",
            "37811                         15  ...                      7\n",
            "37812                         15  ...                      7\n",
            "37813                         15  ...                      7\n",
            "37814                         15  ...                      7\n",
            "\n",
            "[37814 rows x 58 columns]\n"
          ],
          "name": "stdout"
        }
      ]
    },
    {
      "cell_type": "code",
      "metadata": {
        "colab": {
          "base_uri": "https://localhost:8080/"
        },
        "id": "dBWlA-ByxUK5",
        "outputId": "23f54294-9ffe-461c-f449-778a5a934285"
      },
      "source": [
        "print(\"Las columnas del DataFrame son:\")\n",
        "for i,columna in enumerate(EPH.columns): print(i, columna)"
      ],
      "execution_count": null,
      "outputs": [
        {
          "output_type": "stream",
          "text": [
            "Las columnas del DataFrame son:\n",
            "0 Departamento de residencia\n",
            "1 AREA de Residencia\n",
            "2 Edad\n",
            "3 Sexo\n",
            "4 Año de nacimiento\n",
            "5 Estado civil\n",
            "6 Ingreso mensual Ocupación Principal declarado\n",
            "7 Ingreso mensual Ocupación Secundaria declarado\n",
            "8 Ingreso mensual Otras Ocupaciones declarado\n",
            "9 Ingreso mensual Alquileres o Rentas neto declarado\n",
            "10 Ingreso mensual Intereses, Dividendos o Utilidades declarado\n",
            "11 Ingreso mensual Ayuda Familiar del país declarado\n",
            "12 Ingreso mensual Prestaciones por divorcio O cuidado de hijos declarado\n",
            "13 Ingreso mensual Jubilación declarado\n",
            "14 Ingresos del Estado (Monetario: Tekopora) declarado\n",
            "15 Ingreso mensual Pensión declarado\n",
            "16 Ingresos del Estado (Monetario: Adulto Mayor) declarado\n",
            "17 Ingresos por Víveres de alguna institución pública\n",
            "18 Otros ingresos mensuales declarado\n",
            "19 Idioma que habla en la casa la mayor parte del tiempo\n",
            "20 ¿Sabe leer y escibir?\n",
            "21 Asiste o asistió a una institución de ens. educativa\n",
            "22 Nivel y grado aprobado\n",
            "23 Título o diploma que obtuvo\n",
            "24 Asiste actualmente a una institución de enseñanza\n",
            "25 Sector de la Institución donde asiste\n",
            "26 Por qué no asiste o dejó de asistir\n",
            "27 Realizó algún curso no formal del país para trabajar, ejercer un  oficio o mejorar nivel cultural\n",
            "28 Qué tipo de curso fue el mas importante que hizo\n",
            "29 Terminó este curso\n",
            "30 En qué año terminó este curso\n",
            "31 Qué institución dictó este curso que realizó\n",
            "32 Nivel de instrucción del Padre\n",
            "33 Nivel de instrucción de la Madre\n",
            "34 Años de estudio\n",
            "35 Ing por actividad principal corregido\n",
            "36 Ing por actividad secundaria corregido\n",
            "37 Ing por otras actividades corregido\n",
            "38 Ing por alquileres o rentas netas\n",
            "39 Ing por intereses o dividendos\n",
            "40 Ing por ayuda familiar del país\n",
            "41 Ing por divorcio o cuidado de hijos\n",
            "42 Ing por jubilación\n",
            "43 Ing del Estado Monetario Tekopora\n",
            "44 Ing por pensión\n",
            "45 Ing del Estado Monetario Adulto Mayor\n",
            "46 Ing por víveres de alguna institución pública\n",
            "47 Otros ingresos\n",
            "48 Otros ingresos agro asignados al jefe\n",
            "49 Ing por ayuda familiar del exterior 1\n",
            "50 Ing por ayuda familiar del exterior 2\n",
            "51 Ingreso percapita mensual\n",
            "52 Estatus de pobreza\n",
            "53 Condición de pobreza\n",
            "54 Quintiles para el total país\n",
            "55 Deciles para el total país\n",
            "56 Quintiles para cada área\n",
            "57 Deciles para cada área\n"
          ],
          "name": "stdout"
        }
      ]
    },
    {
      "cell_type": "markdown",
      "metadata": {
        "id": "DhZ7UItcBhAg"
      },
      "source": [
        "Las columnas relevantes son:  \n",
        "![image.png](data:image/png;base64,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)"
      ]
    },
    {
      "cell_type": "code",
      "metadata": {
        "colab": {
          "base_uri": "https://localhost:8080/",
          "height": 359
        },
        "id": "qKYlrm0nBfoS",
        "outputId": "d68c8335-4271-4aba-c9f1-bc37de1b4d70"
      },
      "source": [
        "# Se filtra para tener las columnas relevantes\n",
        "EPH = EPH[['Ingreso percapita mensual', 'Edad', 'Título o diploma que obtuvo']]\n",
        "EPH.head(10)"
      ],
      "execution_count": null,
      "outputs": [
        {
          "output_type": "execute_result",
          "data": {
            "text/html": [
              "<div>\n",
              "<style scoped>\n",
              "    .dataframe tbody tr th:only-of-type {\n",
              "        vertical-align: middle;\n",
              "    }\n",
              "\n",
              "    .dataframe tbody tr th {\n",
              "        vertical-align: top;\n",
              "    }\n",
              "\n",
              "    .dataframe thead th {\n",
              "        text-align: right;\n",
              "    }\n",
              "</style>\n",
              "<table border=\"1\" class=\"dataframe\">\n",
              "  <thead>\n",
              "    <tr style=\"text-align: right;\">\n",
              "      <th></th>\n",
              "      <th>Ingreso percapita mensual</th>\n",
              "      <th>Edad</th>\n",
              "      <th>Título o diploma que obtuvo</th>\n",
              "    </tr>\n",
              "  </thead>\n",
              "  <tbody>\n",
              "    <tr>\n",
              "      <th>1</th>\n",
              "      <td>5578541.667</td>\n",
              "      <td>70</td>\n",
              "      <td>14</td>\n",
              "    </tr>\n",
              "    <tr>\n",
              "      <th>2</th>\n",
              "      <td>5578541.667</td>\n",
              "      <td>64</td>\n",
              "      <td>NaN</td>\n",
              "    </tr>\n",
              "    <tr>\n",
              "      <th>3</th>\n",
              "      <td>5578541.667</td>\n",
              "      <td>45</td>\n",
              "      <td>1</td>\n",
              "    </tr>\n",
              "    <tr>\n",
              "      <th>4</th>\n",
              "      <td>5578541.667</td>\n",
              "      <td>36</td>\n",
              "      <td>1</td>\n",
              "    </tr>\n",
              "    <tr>\n",
              "      <th>5</th>\n",
              "      <td>9500000</td>\n",
              "      <td>67</td>\n",
              "      <td>NaN</td>\n",
              "    </tr>\n",
              "    <tr>\n",
              "      <th>6</th>\n",
              "      <td>7250000</td>\n",
              "      <td>65</td>\n",
              "      <td>1</td>\n",
              "    </tr>\n",
              "    <tr>\n",
              "      <th>7</th>\n",
              "      <td>5937500</td>\n",
              "      <td>35</td>\n",
              "      <td>14</td>\n",
              "    </tr>\n",
              "    <tr>\n",
              "      <th>8</th>\n",
              "      <td>5937500</td>\n",
              "      <td>34</td>\n",
              "      <td>1</td>\n",
              "    </tr>\n",
              "    <tr>\n",
              "      <th>9</th>\n",
              "      <td>15666666.67</td>\n",
              "      <td>74</td>\n",
              "      <td>14</td>\n",
              "    </tr>\n",
              "    <tr>\n",
              "      <th>10</th>\n",
              "      <td>15666666.67</td>\n",
              "      <td>72</td>\n",
              "      <td>NaN</td>\n",
              "    </tr>\n",
              "  </tbody>\n",
              "</table>\n",
              "</div>"
            ],
            "text/plain": [
              "   Ingreso percapita mensual Edad Título o diploma que obtuvo\n",
              "1                5578541.667   70                          14\n",
              "2                5578541.667   64                         NaN\n",
              "3                5578541.667   45                           1\n",
              "4                5578541.667   36                           1\n",
              "5                    9500000   67                         NaN\n",
              "6                    7250000   65                           1\n",
              "7                    5937500   35                          14\n",
              "8                    5937500   34                           1\n",
              "9                15666666.67   74                          14\n",
              "10               15666666.67   72                         NaN"
            ]
          },
          "metadata": {
            "tags": []
          },
          "execution_count": 26
        }
      ]
    },
    {
      "cell_type": "markdown",
      "metadata": {
        "id": "SufL_dmvusUf"
      },
      "source": [
        "#### Tabla de estadística descriptiva"
      ]
    },
    {
      "cell_type": "code",
      "metadata": {
        "colab": {
          "base_uri": "https://localhost:8080/"
        },
        "id": "8l1jJQBE7sI3",
        "outputId": "b3d45812-b1ab-4651-c2f3-e88ab0560ac5"
      },
      "source": [
        "# Se filtra para obtener solo aquellos entre 25 y 60 años\n",
        "EPH.dropna(subset = ['Edad'], inplace = True) # se elimina a aquellos que no tienen su edad registrada\n",
        "EPH['Edad'] = EPH['Edad'].astype(int) # se convierten las edades a enteros\n",
        "EPH = EPH[EPH['Edad'].between(25,60)]\n",
        "print(EPH.head())"
      ],
      "execution_count": null,
      "outputs": [
        {
          "output_type": "stream",
          "text": [
            "   Ingreso percapita mensual  Edad Título o diploma que obtuvo\n",
            "3                5578541.667    45                           1\n",
            "4                5578541.667    36                           1\n",
            "7                    5937500    35                          14\n",
            "8                    5937500    34                           1\n",
            "13                    994000    44                         NaN\n"
          ],
          "name": "stdout"
        }
      ]
    },
    {
      "cell_type": "markdown",
      "metadata": {
        "id": "7Ng53wpDBKH4"
      },
      "source": [
        "Para hacer la distinción entre grupo 1 y 2 debe tomarse en cuenta el siguiente criterio para la columna Título Máximo:\n",
        "![image.png](data:image/png;base64,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)"
      ]
    },
    {
      "cell_type": "code",
      "metadata": {
        "id": "swOGdbPfCd5T"
      },
      "source": [
        "EPH.dropna(subset = ['Título o diploma que obtuvo'], inplace = True) # se elimina los que no consiguieron títulos\n",
        "EPH['Título o diploma que obtuvo'] = EPH['Título o diploma que obtuvo'].astype(int) # es necesario pasar a int\n",
        "G1 = EPH[EPH['Título o diploma que obtuvo'] == 3]\n",
        "G2 = EPH[EPH['Título o diploma que obtuvo'].between(8,10)]"
      ],
      "execution_count": null,
      "outputs": []
    },
    {
      "cell_type": "code",
      "metadata": {
        "colab": {
          "base_uri": "https://localhost:8080/"
        },
        "id": "MeJO3IBbDrn8",
        "outputId": "f40ffdb3-2dfe-49b5-8c7d-de7d6f583914"
      },
      "source": [
        "G1_IPCM = G1['Ingreso percapita mensual'].rename('G1').astype(float)\n",
        "G2_IPCM = G2['Ingreso percapita mensual'].rename('G2').astype(float)\n",
        "G_IPCMs = pd.concat([G1_IPCM, G2_IPCM], axis = 1)\n",
        "tabla_estadistica = pd.DataFrame(index = ['Cantidad', 'Media', 'Máximo', 'Mínimo',\n",
        "                                        'Rango.', 'Moda', 'Mediana', 'Desv. Est.'],\n",
        "                              data = [G_IPCMs.count(),\n",
        "                                      G_IPCMs.mean(),\n",
        "                                      G_IPCMs.max(),\n",
        "                                      G_IPCMs.min(),\n",
        "                                      pd.Series(index = ['G1','G2'],\n",
        "                                                data = [np.ptp(G_IPCMs.G1.dropna()),\n",
        "                                                 np.ptp(G_IPCMs.G2.dropna())]), # peak to peak, pico a pico\n",
        "                                      pd.Series(index = ['G1','G2'],\n",
        "                                                data = G_IPCMs.round(-3).mode().values[0]), # se redondea con precisión en los miles para que la moda tenga más sentido\n",
        "                                      G_IPCMs.median(),\n",
        "                                      G_IPCMs.std()]) # se convierte a entero\n",
        "print(tabla_estadistica.astype(int)) # Se imprime la tabla con números enteros"
      ],
      "execution_count": null,
      "outputs": [
        {
          "output_type": "stream",
          "text": [
            "                  G1        G2\n",
            "Cantidad         296        79\n",
            "Media        1864312   4770777\n",
            "Máximo      16507746  25000000\n",
            "Mínimo        192386    644963\n",
            "Rango.      16315360  24355036\n",
            "Moda         1393000   7500000\n",
            "Mediana      1523093   3647730\n",
            "Desv. Est.   1546858   4315474\n"
          ],
          "name": "stdout"
        }
      ]
    },
    {
      "cell_type": "markdown",
      "metadata": {
        "id": "dNN2YoCKuuJc"
      },
      "source": [
        "#### Tabla de Frecuencias"
      ]
    },
    {
      "cell_type": "code",
      "metadata": {
        "colab": {
          "base_uri": "https://localhost:8080/"
        },
        "id": "lwnvHcfDPpuI",
        "outputId": "438f5bd6-f73d-4f7c-f554-3675b350aa50"
      },
      "source": [
        "SAL_MIN = 2192839\n",
        "intervalos = pd.interval_range(start=0,\n",
        "                               end=G_IPCMs.max().max()+SAL_MIN,\n",
        "                               freq=SAL_MIN,\n",
        "                               closed='left')\n",
        "print(\"Los intervalos son:\")\n",
        "for inter in intervalos: print(inter)"
      ],
      "execution_count": null,
      "outputs": [
        {
          "output_type": "stream",
          "text": [
            "Los intervalos son:\n",
            "[0.0, 2192839.0)\n",
            "[2192839.0, 4385678.0)\n",
            "[4385678.0, 6578517.0)\n",
            "[6578517.0, 8771356.0)\n",
            "[8771356.0, 10964195.0)\n",
            "[10964195.0, 13157034.0)\n",
            "[13157034.0, 15349873.0)\n",
            "[15349873.0, 17542712.0)\n",
            "[17542712.0, 19735551.0)\n",
            "[19735551.0, 21928390.0)\n",
            "[21928390.0, 24121229.0)\n",
            "[24121229.0, 26314068.0)\n"
          ],
          "name": "stdout"
        }
      ]
    },
    {
      "cell_type": "code",
      "metadata": {
        "colab": {
          "base_uri": "https://localhost:8080/",
          "height": 421
        },
        "id": "cL3YvPiIRMRe",
        "outputId": "b5d78051-e6c1-415e-fdc8-d9e11d61f189"
      },
      "source": [
        "G1_IPCM['clase'] = pd.cut(G1['Ingreso percapita mensual'].astype(float), bins = intervalos).rename('G1')\n",
        "G2_IPCM['clase'] = pd.cut(G2['Ingreso percapita mensual'].astype(float), bins = intervalos).rename('G2')\n",
        "G = pd.concat([G1_IPCM['clase'], G2_IPCM['clase']], axis = 1)\n",
        "G.apply(pd.Series.value_counts, axis = 0)"
      ],
      "execution_count": null,
      "outputs": [
        {
          "output_type": "execute_result",
          "data": {
            "text/html": [
              "<div>\n",
              "<style scoped>\n",
              "    .dataframe tbody tr th:only-of-type {\n",
              "        vertical-align: middle;\n",
              "    }\n",
              "\n",
              "    .dataframe tbody tr th {\n",
              "        vertical-align: top;\n",
              "    }\n",
              "\n",
              "    .dataframe thead th {\n",
              "        text-align: right;\n",
              "    }\n",
              "</style>\n",
              "<table border=\"1\" class=\"dataframe\">\n",
              "  <thead>\n",
              "    <tr style=\"text-align: right;\">\n",
              "      <th></th>\n",
              "      <th>G1</th>\n",
              "      <th>G2</th>\n",
              "    </tr>\n",
              "  </thead>\n",
              "  <tbody>\n",
              "    <tr>\n",
              "      <th>[0.0, 2192839.0)</th>\n",
              "      <td>219</td>\n",
              "      <td>25</td>\n",
              "    </tr>\n",
              "    <tr>\n",
              "      <th>[2192839.0, 4385678.0)</th>\n",
              "      <td>63</td>\n",
              "      <td>23</td>\n",
              "    </tr>\n",
              "    <tr>\n",
              "      <th>[4385678.0, 6578517.0)</th>\n",
              "      <td>11</td>\n",
              "      <td>14</td>\n",
              "    </tr>\n",
              "    <tr>\n",
              "      <th>[6578517.0, 8771356.0)</th>\n",
              "      <td>1</td>\n",
              "      <td>9</td>\n",
              "    </tr>\n",
              "    <tr>\n",
              "      <th>[8771356.0, 10964195.0)</th>\n",
              "      <td>0</td>\n",
              "      <td>2</td>\n",
              "    </tr>\n",
              "    <tr>\n",
              "      <th>[10964195.0, 13157034.0)</th>\n",
              "      <td>0</td>\n",
              "      <td>1</td>\n",
              "    </tr>\n",
              "    <tr>\n",
              "      <th>[13157034.0, 15349873.0)</th>\n",
              "      <td>1</td>\n",
              "      <td>3</td>\n",
              "    </tr>\n",
              "    <tr>\n",
              "      <th>[15349873.0, 17542712.0)</th>\n",
              "      <td>1</td>\n",
              "      <td>0</td>\n",
              "    </tr>\n",
              "    <tr>\n",
              "      <th>[17542712.0, 19735551.0)</th>\n",
              "      <td>0</td>\n",
              "      <td>0</td>\n",
              "    </tr>\n",
              "    <tr>\n",
              "      <th>[19735551.0, 21928390.0)</th>\n",
              "      <td>0</td>\n",
              "      <td>1</td>\n",
              "    </tr>\n",
              "    <tr>\n",
              "      <th>[21928390.0, 24121229.0)</th>\n",
              "      <td>0</td>\n",
              "      <td>0</td>\n",
              "    </tr>\n",
              "    <tr>\n",
              "      <th>[24121229.0, 26314068.0)</th>\n",
              "      <td>0</td>\n",
              "      <td>1</td>\n",
              "    </tr>\n",
              "  </tbody>\n",
              "</table>\n",
              "</div>"
            ],
            "text/plain": [
              "                           G1  G2\n",
              "[0.0, 2192839.0)          219  25\n",
              "[2192839.0, 4385678.0)     63  23\n",
              "[4385678.0, 6578517.0)     11  14\n",
              "[6578517.0, 8771356.0)      1   9\n",
              "[8771356.0, 10964195.0)     0   2\n",
              "[10964195.0, 13157034.0)    0   1\n",
              "[13157034.0, 15349873.0)    1   3\n",
              "[15349873.0, 17542712.0)    1   0\n",
              "[17542712.0, 19735551.0)    0   0\n",
              "[19735551.0, 21928390.0)    0   1\n",
              "[21928390.0, 24121229.0)    0   0\n",
              "[24121229.0, 26314068.0)    0   1"
            ]
          },
          "metadata": {
            "tags": []
          },
          "execution_count": 31
        }
      ]
    },
    {
      "cell_type": "markdown",
      "metadata": {
        "id": "ZaUALyS4uxXH"
      },
      "source": [
        "#### Histogramas"
      ]
    },
    {
      "cell_type": "code",
      "metadata": {
        "colab": {
          "base_uri": "https://localhost:8080/",
          "height": 390
        },
        "id": "dkyTJC9xTpB8",
        "outputId": "c35fc4b5-7cdd-4766-9afa-aaaaea9d64ff"
      },
      "source": [
        "(G_IPCMs/1e6).plot.hist(bins = 20,\n",
        "                  figsize = (15,6),\n",
        "                  alpha = 0.4,\n",
        "                  title = 'Ingreso per cápita mensual (en millones de guaraníes)');"
      ],
      "execution_count": null,
      "outputs": [
        {
          "output_type": "display_data",
          "data": {
            "image/png": "[encoded data removed]",
            "text/plain": [
              "<Figure size 1080x432 with 1 Axes>"
            ]
          },
          "metadata": {
            "tags": [],
            "needs_background": "light"
          }
        }
      ]
    }
  ]
}