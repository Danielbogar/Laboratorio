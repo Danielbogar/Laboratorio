{
  "nbformat": 4,
  "nbformat_minor": 0,
  "metadata": {
    "colab": {
      "name": "Correlacion.ipynb",
      "provenance": [],
      "authorship_tag": "ABX9TyMFSs2DcF1mWlcA4dDrwV5J",
      "include_colab_link": true
    },
    "kernelspec": {
      "name": "python3",
      "display_name": "Python 3"
    },
    "language_info": {
      "name": "python"
    }
  },
  "cells": [
    {
      "cell_type": "markdown",
      "metadata": {
        "id": "view-in-github",
        "colab_type": "text"
      },
      "source": [
        "<a href=\"https://colab.research.google.com/github/pyefiuna/Laboratorio/blob/master/notebooks/Correlacion.ipynb\" target=\"_parent\"><img src=\"https://colab.research.google.com/assets/colab-badge.svg\" alt=\"Open In Colab\"/></a>"
      ]
    },
    {
      "cell_type": "markdown",
      "metadata": {
        "id": "sIL-qLU2xHaX"
      },
      "source": [
        "# Recta de regresion de minimos cuadrados"
      ]
    },
    {
      "cell_type": "markdown",
      "metadata": {
        "id": "ygd2ZgZQxVd2"
      },
      "source": [
        "## Metodo 1"
      ]
    },
    {
      "cell_type": "code",
      "metadata": {
        "id": "HrTbXSdexCX5"
      },
      "source": [
        "import numpy as np\n",
        "from matplotlib.pyplot import plot, scatter"
      ],
      "execution_count": 2,
      "outputs": []
    },
    {
      "cell_type": "code",
      "metadata": {
        "colab": {
          "base_uri": "https://localhost:8080/"
        },
        "id": "NPkp6mGyx8AM",
        "outputId": "0d331e31-685c-4d9b-e090-2bf62218cad6"
      },
      "source": [
        "X = np.array( [[ -1, 0, 1, 2, 3, 4, 5, 6 ]], dtype = float ).T # .T transpone la matriz\n",
        "Y = np.array( [[ 10, 9, 7, 5, 4, 3, 0, -1 ]], dtype = float ).T\n",
        "\n",
        "N = len(X)\n",
        "\n",
        "print(X)"
      ],
      "execution_count": 5,
      "outputs": [
        {
          "output_type": "stream",
          "text": [
            "[[-1.]\n",
            " [ 0.]\n",
            " [ 1.]\n",
            " [ 2.]\n",
            " [ 3.]\n",
            " [ 4.]\n",
            " [ 5.]\n",
            " [ 6.]]\n"
          ],
          "name": "stdout"
        }
      ]
    },
    {
      "cell_type": "code",
      "metadata": {
        "colab": {
          "base_uri": "https://localhost:8080/",
          "height": 282
        },
        "id": "Jb8n_UHsz9w5",
        "outputId": "cac44974-4c8c-4fcc-b2ad-c3f5aed6ff72"
      },
      "source": [
        "scatter(X, Y)"
      ],
      "execution_count": 6,
      "outputs": [
        {
          "output_type": "execute_result",
          "data": {
            "text/plain": [
              "<matplotlib.collections.PathCollection at 0x7f7ba6fe0b90>"
            ]
          },
          "metadata": {
            "tags": []
          },
          "execution_count": 6
        },
        {
          "output_type": "display_data",
          "data": {
            "image/png": "[encoded data removed]",
            "text/plain": [
              "<Figure size 432x288 with 1 Axes>"
            ]
          },
          "metadata": {
            "tags": [],
            "needs_background": "light"
          }
        }
      ]
    },
    {
      "cell_type": "code",
      "metadata": {
        "colab": {
          "base_uri": "https://localhost:8080/"
        },
        "id": "bFwWtweI0e_V",
        "outputId": "b627a17e-d5b5-4d00-e30d-845f72024169"
      },
      "source": [
        "A = np.zeros([2,2]) \n",
        "\n",
        "A[0,0] = sum( X**2 ) # **: simbolo de pontencia\n",
        "A[0,1] = sum(X)\n",
        "A[1,0] = sum(X)\n",
        "A[1,1] = N\n",
        "\n",
        "A"
      ],
      "execution_count": 7,
      "outputs": [
        {
          "output_type": "execute_result",
          "data": {
            "text/plain": [
              "array([[92., 20.],\n",
              "       [20.,  8.]])"
            ]
          },
          "metadata": {
            "tags": []
          },
          "execution_count": 7
        }
      ]
    },
    {
      "cell_type": "code",
      "metadata": {
        "colab": {
          "base_uri": "https://localhost:8080/"
        },
        "id": "Auybu0-016is",
        "outputId": "2ac2f439-cd58-4d04-f37e-1b62955987f9"
      },
      "source": [
        "B = np.zeros([2,1])\n",
        "\n",
        "B[0,0] = sum( X*Y )\n",
        "B[1,0] = sum (Y)\n",
        "\n",
        "B"
      ],
      "execution_count": 8,
      "outputs": [
        {
          "output_type": "execute_result",
          "data": {
            "text/plain": [
              "array([[25.],\n",
              "       [37.]])"
            ]
          },
          "metadata": {
            "tags": []
          },
          "execution_count": 8
        }
      ]
    },
    {
      "cell_type": "code",
      "metadata": {
        "colab": {
          "base_uri": "https://localhost:8080/"
        },
        "id": "SKguCCM52i2E",
        "outputId": "568fa0a7-e3fe-4827-9883-859b3133d479"
      },
      "source": [
        "Ainv = np.linalg.inv(A) #calculo de A inversa\n",
        "sol = np.dot( Ainv, B ) # Ainv*B\n",
        "sol"
      ],
      "execution_count": 9,
      "outputs": [
        {
          "output_type": "execute_result",
          "data": {
            "text/plain": [
              "array([[-1.60714286],\n",
              "       [ 8.64285714]])"
            ]
          },
          "metadata": {
            "tags": []
          },
          "execution_count": 9
        }
      ]
    },
    {
      "cell_type": "code",
      "metadata": {
        "colab": {
          "base_uri": "https://localhost:8080/"
        },
        "id": "tyHjVYgQ3jXV",
        "outputId": "9f210aee-4ed4-4995-ffd6-0f59ce5a751c"
      },
      "source": [
        "# y = a*x + b\n",
        "a = sol[0,0]\n",
        "b = sol[1,0]\n",
        "print('a: ', a)\n",
        "print('b: ', b)\n"
      ],
      "execution_count": 11,
      "outputs": [
        {
          "output_type": "stream",
          "text": [
            "a:  -1.607142857142857\n",
            "b:  8.642857142857142\n"
          ],
          "name": "stdout"
        }
      ]
    },
    {
      "cell_type": "code",
      "metadata": {
        "colab": {
          "base_uri": "https://localhost:8080/",
          "height": 282
        },
        "id": "esTy5L8T4OMc",
        "outputId": "83b68d46-3ebd-4ec0-de04-fb2bd235e573"
      },
      "source": [
        "f = lambda x: a*x +b\n",
        "\n",
        "plot(X, f(X), c='r')  # c='r': color del grafico rojo\n",
        "scatter(X, Y, c='b')"
      ],
      "execution_count": 14,
      "outputs": [
        {
          "output_type": "execute_result",
          "data": {
            "text/plain": [
              "<matplotlib.collections.PathCollection at 0x7f7ba2980ed0>"
            ]
          },
          "metadata": {
            "tags": []
          },
          "execution_count": 14
        },
        {
          "output_type": "display_data",
          "data": {
            "image/png": "[encoded data removed]",
            "text/plain": [
              "<Figure size 432x288 with 1 Axes>"
            ]
          },
          "metadata": {
            "tags": [],
            "needs_background": "light"
          }
        }
      ]
    },
    {
      "cell_type": "code",
      "metadata": {
        "colab": {
          "base_uri": "https://localhost:8080/"
        },
        "id": "-FJ6r0J_5umB",
        "outputId": "77f4665c-5098-40cc-cfbb-8a665fc92716"
      },
      "source": [
        "Ymed = np.mean(Y) # escalar\n",
        "Yest = f(X)  #vector\n",
        "\n",
        "R2 = sum( (Yest - Ymed)**2 ) / sum( (Y - Ymed)**2 )\n",
        "R = np.sqrt(R2)\n",
        "\n",
        "print('Coeficiente de determinacion: ', R2[0])\n",
        "print('Coeficiente de correlacion: ', R[0])\n"
      ],
      "execution_count": 29,
      "outputs": [
        {
          "output_type": "stream",
          "text": [
            "Coeficiente de determinacion:  0.9873232569478302\n",
            "Coeficiente de correlacion:  0.9936414126574185\n"
          ],
          "name": "stdout"
        }
      ]
    },
    {
      "cell_type": "markdown",
      "metadata": {
        "id": "5RqL1oOR8xcJ"
      },
      "source": [
        "## Metodo 2"
      ]
    },
    {
      "cell_type": "code",
      "metadata": {
        "colab": {
          "base_uri": "https://localhost:8080/"
        },
        "id": "0JBDytja80q5",
        "outputId": "9084e5dc-b1a9-4268-f77d-24c8b080c265"
      },
      "source": [
        "AA = np.concatenate( ( X, np.ones([N,1]) ), axis=1  )\n",
        "#axis=1 concatena en columnas\n",
        "#axis=0 concatena en filas \n",
        "AA\n",
        "BB = Y\n",
        "# sol = (AAt * AA)^-1 * (AAt * BB)\n",
        "sol2 = np.linalg.inv( np.dot(AA.T, AA) ).dot( np.dot(AA.T,BB) )\n",
        "\n",
        "sol3 = np.dot( np.linalg.inv( np.dot(AA.T, AA) )  , np.dot(AA.T,BB) )"
      ],
      "execution_count": 37,
      "outputs": [
        {
          "output_type": "execute_result",
          "data": {
            "text/plain": [
              "array([[-1.60714286],\n",
              "       [ 8.64285714]])"
            ]
          },
          "metadata": {
            "tags": []
          },
          "execution_count": 37
        }
      ]
    },
    {
      "cell_type": "markdown",
      "metadata": {
        "id": "ux6V5GRaCH4I"
      },
      "source": [
        "# Ajuste de curva cuadratico"
      ]
    },
    {
      "cell_type": "markdown",
      "metadata": {
        "id": "NjQ4EhZVCLWQ"
      },
      "source": [
        "##Metodo 1"
      ]
    },
    {
      "cell_type": "code",
      "metadata": {
        "id": "8PD9yVrHCR7D"
      },
      "source": [
        "X=np.array([[1.6, 2, 2.4, 2.9, 3.4, 3.7, 4.2]],dtype=float).T\n",
        "Y=np.array([[5, 5.8, 6.7, 7.5, 8.3, 9.3, 10.7]],dtype=float).T\n",
        "\n",
        "N= len(X)"
      ],
      "execution_count": 41,
      "outputs": []
    },
    {
      "cell_type": "code",
      "metadata": {
        "colab": {
          "base_uri": "https://localhost:8080/"
        },
        "id": "aRCE1xnPDull",
        "outputId": "c4c2ae5f-869a-4c2c-88ac-810fe2871bc8"
      },
      "source": [
        "A = np.zeros([3,3])\n",
        "\n",
        "A[0,0] = sum(X**4)\n",
        "A[0,1] = sum(X**3)\n",
        "A[0,2] = sum(X**2)\n",
        "\n",
        "A[1,0] = sum(X**3)\n",
        "A[1,1] = sum(X**2)\n",
        "A[1,2] = sum(X)\n",
        "\n",
        "A[2,0] = sum(X**2)\n",
        "A[2,1] = sum(X)\n",
        "A[2,2] = N\n",
        "\n",
        "A"
      ],
      "execution_count": 42,
      "outputs": [
        {
          "output_type": "execute_result",
          "data": {
            "text/plain": [
              "array([[758.6786, 214.354 ,  63.62  ],\n",
              "       [214.354 ,  63.62  ,  20.2   ],\n",
              "       [ 63.62  ,  20.2   ,   7.    ]])"
            ]
          },
          "metadata": {
            "tags": []
          },
          "execution_count": 42
        }
      ]
    },
    {
      "cell_type": "code",
      "metadata": {
        "colab": {
          "base_uri": "https://localhost:8080/"
        },
        "id": "hav5RihWEVkK",
        "outputId": "39723621-16c7-47f8-a5bc-6b68cd6f43f6"
      },
      "source": [
        "B = np.zeros([3,1])\n",
        "\n",
        "\n",
        "B[0,0] = sum(X**2 * Y)\n",
        "B[1,0] = sum(X * Y)\n",
        "B[2,0] = sum(Y)\n",
        "\n",
        "B"
      ],
      "execution_count": 43,
      "outputs": [
        {
          "output_type": "execute_result",
          "data": {
            "text/plain": [
              "array([[549.68],\n",
              "       [165.  ],\n",
              "       [ 53.3 ]])"
            ]
          },
          "metadata": {
            "tags": []
          },
          "execution_count": 43
        }
      ]
    },
    {
      "cell_type": "code",
      "metadata": {
        "colab": {
          "base_uri": "https://localhost:8080/"
        },
        "id": "lOZqCAtuEu_M",
        "outputId": "7ccd57fa-bfb0-450f-ca05-4dc273482011"
      },
      "source": [
        "Ainv = np.linalg.inv(A) #calculo de A inversa\n",
        "sol = np.dot( Ainv, B ) # Ainv*B\n",
        "sol"
      ],
      "execution_count": 44,
      "outputs": [
        {
          "output_type": "execute_result",
          "data": {
            "text/plain": [
              "array([[0.22694434],\n",
              "       [0.78999006],\n",
              "       [3.2720003 ]])"
            ]
          },
          "metadata": {
            "tags": []
          },
          "execution_count": 44
        }
      ]
    },
    {
      "cell_type": "code",
      "metadata": {
        "colab": {
          "base_uri": "https://localhost:8080/"
        },
        "id": "ZK9_b9IsFG7T",
        "outputId": "d04c87b0-6b7f-4a8f-f24b-73d3150f1067"
      },
      "source": [
        "# y = a*x^2 + b*x +c\n",
        "a = sol[0,0]\n",
        "b = sol[1,0]\n",
        "c = sol[2,0]\n",
        "print('a: ', a)\n",
        "print('b: ', b)\n",
        "print('c: ', c)"
      ],
      "execution_count": 45,
      "outputs": [
        {
          "output_type": "stream",
          "text": [
            "a:  0.22694433710875922\n",
            "b:  0.789990059685502\n",
            "c:  3.272000295355544\n"
          ],
          "name": "stdout"
        }
      ]
    },
    {
      "cell_type": "code",
      "metadata": {
        "id": "FrxD0-c7J8zL"
      },
      "source": [
        ""
      ],
      "execution_count": null,
      "outputs": []
    },
    {
      "cell_type": "code",
      "metadata": {
        "colab": {
          "base_uri": "https://localhost:8080/",
          "height": 282
        },
        "id": "svj4Sh_XFclC",
        "outputId": "c4de906d-dec8-498e-ba3e-4d80619f218a"
      },
      "source": [
        "f = lambda x: a* x**2 + b*x + c\n",
        "\n",
        "plot(X, f(X), c='r')  # c='r': color del grafico rojo\n",
        "scatter(X, Y, c='b')"
      ],
      "execution_count": 46,
      "outputs": [
        {
          "output_type": "execute_result",
          "data": {
            "text/plain": [
              "<matplotlib.collections.PathCollection at 0x7f7b9a6083d0>"
            ]
          },
          "metadata": {
            "tags": []
          },
          "execution_count": 46
        },
        {
          "output_type": "display_data",
          "data": {
            "image/png": "[encoded data removed]",
            "text/plain": [
              "<Figure size 432x288 with 1 Axes>"
            ]
          },
          "metadata": {
            "tags": [],
            "needs_background": "light"
          }
        }
      ]
    },
    {
      "cell_type": "code",
      "metadata": {
        "colab": {
          "base_uri": "https://localhost:8080/"
        },
        "id": "IsG8cIyFFzkd",
        "outputId": "d92b40be-21c5-4e17-ec38-6cfb04bf6920"
      },
      "source": [
        "Ymed = np.mean(Y) # escalar\n",
        "Yest = f(X)  #vector\n",
        "\n",
        "R2 = sum( (Yest - Ymed)**2 ) / sum( (Y - Ymed)**2 )\n",
        "R = np.sqrt(R2)\n",
        "\n",
        "print('Coeficiente de determinacion: ', R2[0])\n",
        "print('Coeficiente de correlacion: ', R[0])\n"
      ],
      "execution_count": 47,
      "outputs": [
        {
          "output_type": "stream",
          "text": [
            "Coeficiente de determinacion:  0.9933947659170749\n",
            "Coeficiente de correlacion:  0.9966919112328919\n"
          ],
          "name": "stdout"
        }
      ]
    },
    {
      "cell_type": "markdown",
      "metadata": {
        "id": "T2Fd0twdGbxW"
      },
      "source": [
        "##Metodo 2"
      ]
    },
    {
      "cell_type": "code",
      "metadata": {
        "colab": {
          "base_uri": "https://localhost:8080/"
        },
        "id": "MwoEM_SDGgCv",
        "outputId": "9ad38bcd-a8e7-4ed2-b057-521651ee87f5"
      },
      "source": [
        "AA = np.concatenate( (X**2,  X, np.ones([N,1]) ), axis=1  )\n",
        "#axis=1 concatena en columnas\n",
        "#axis=0 concatena en filas \n",
        "AA\n",
        "BB = Y\n",
        "# sol = (AAt * AA)^-1 * (AAt * BB)\n",
        "sol2 = np.linalg.inv( np.dot(AA.T, AA) ).dot( np.dot(AA.T,BB) )\n",
        "\n",
        "sol2"
      ],
      "execution_count": 50,
      "outputs": [
        {
          "output_type": "execute_result",
          "data": {
            "text/plain": [
              "array([[0.22694434],\n",
              "       [0.78999006],\n",
              "       [3.2720003 ]])"
            ]
          },
          "metadata": {
            "tags": []
          },
          "execution_count": 50
        }
      ]
    },
    {
      "cell_type": "code",
      "metadata": {
        "colab": {
          "base_uri": "https://localhost:8080/"
        },
        "id": "AhvlC2vMInE1",
        "outputId": "c0a82642-3c68-4a46-fa40-c2517b50fe97"
      },
      "source": [
        "np.log( np.exp(1) )"
      ],
      "execution_count": 55,
      "outputs": [
        {
          "output_type": "execute_result",
          "data": {
            "text/plain": [
              "1.0"
            ]
          },
          "metadata": {
            "tags": []
          },
          "execution_count": 55
        }
      ]
    }
  ]
}