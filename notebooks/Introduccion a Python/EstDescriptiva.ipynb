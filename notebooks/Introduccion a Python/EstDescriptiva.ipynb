{
  "nbformat": 4,
  "nbformat_minor": 0,
  "metadata": {
    "colab": {
      "name": "EstDescriptiva.ipynb",
      "provenance": [],
      "collapsed_sections": []
    },
    "kernelspec": {
      "name": "python3",
      "display_name": "Python 3"
    },
    "language_info": {
      "name": "python"
    }
  },
  "cells": [
    {
      "cell_type": "code",
      "metadata": {
        "id": "Rc7sOesPj6FZ"
      },
      "source": [
        "import pandas as pd\n",
        "import numpy as np\n",
        "\n",
        "ruta = '/content/drive/MyDrive/probabilidad /Archivo de Datos.csv'"
      ],
      "execution_count": null,
      "outputs": []
    },
    {
      "cell_type": "code",
      "metadata": {
        "id": "b3URMVqBllW1"
      },
      "source": [
        "bdd = pd.read_csv(ruta)\n",
        "bdd=bdd.drop(index = 0)\n",
        "bdd"
      ],
      "execution_count": null,
      "outputs": []
    },
    {
      "cell_type": "code",
      "metadata": {
        "id": "JMH58TW9mQ1a"
      },
      "source": [
        "for i, columna in enumerate(bdd.columns):\n",
        "  print(i,columna)"
      ],
      "execution_count": null,
      "outputs": []
    },
    {
      "cell_type": "code",
      "metadata": {
        "id": "5NVyVK-Sp8K1"
      },
      "source": [
        "bdd = bdd[['Edad','Ingreso percapita mensual','Título o diploma que obtuvo']]\n",
        "bdd = bdd.dropna()\n",
        "print(bdd.dtypes)\n",
        "bdd"
      ],
      "execution_count": null,
      "outputs": []
    },
    {
      "cell_type": "code",
      "metadata": {
        "id": "y8YgwbKBrimi"
      },
      "source": [
        "bdd['Edad']=bdd['Edad'].astype(int)\n",
        "bdd['Ingreso percapita mensual']=bdd['Ingreso percapita mensual'].astype(float)\n",
        "bdd['Título o diploma que obtuvo']=bdd['Título o diploma que obtuvo'].astype(int)\n",
        "bdd.dtypes\n",
        "bdd"
      ],
      "execution_count": null,
      "outputs": []
    },
    {
      "cell_type": "code",
      "metadata": {
        "id": "iDgtJv5MsyVu"
      },
      "source": [
        "bdd=bdd[bdd['Edad'].between(20,60)]\n",
        "bdd"
      ],
      "execution_count": null,
      "outputs": []
    },
    {
      "cell_type": "code",
      "metadata": {
        "id": "RSkVlELz35AP"
      },
      "source": [
        "g1=bdd[bdd['Título o diploma que obtuvo']==3]\n",
        "g2=pd.concat([bdd[bdd['Título o diploma que obtuvo']==1], bdd[bdd['Título o diploma que obtuvo'].between(8,10)]])\n",
        "g1=g1['Ingreso percapita mensual'].rename('G1')\n",
        "g2=g2['Ingreso percapita mensual'].rename('G2')\n",
        "print(g1)\n",
        "print(g1)"
      ],
      "execution_count": null,
      "outputs": []
    },
    {
      "cell_type": "code",
      "metadata": {
        "id": "w0pNGOMCCKmz"
      },
      "source": [
        "ipcm=pd.concat([g1,g2],axis=1)\n",
        "ipcm"
      ],
      "execution_count": null,
      "outputs": []
    },
    {
      "cell_type": "code",
      "metadata": {
        "id": "nRTJE_pbRSjc"
      },
      "source": [
        "tabla=pd.DataFrame({'cantidad':ipcm.count(), \n",
        "                    'media':ipcm.mean(),\n",
        "                    'maximo':ipcm.max(), \n",
        "                    'minimo':ipcm.min(), \n",
        "                    'rango':ipcm.max()-ipcm.min(),\n",
        "                    'desv estand':ipcm.std()})\n",
        "tabla=tabla.astype(int).T\n",
        "tabla"
      ],
      "execution_count": null,
      "outputs": []
    },
    {
      "cell_type": "code",
      "metadata": {
        "id": "NMY22X4gWOZ1"
      },
      "source": [
        "salmin=2192839\n",
        "intervalos=pd.interval_range(start=0,end=ipcm.max().max()+salmin,freq=salmin,closed='left')\n",
        "for inter in intervalos:\n",
        "  print(inter)"
      ],
      "execution_count": null,
      "outputs": []
    },
    {
      "cell_type": "code",
      "metadata": {
        "colab": {
          "base_uri": "https://localhost:8080/",
          "height": 514
        },
        "id": "RbrLwFOzfu15",
        "outputId": "20a32727-b37a-4061-88d0-6117916ac370"
      },
      "source": [
        "distri1['clases']=pd.cut(ipcm['G1'].astype(float),bins=intervalos)\n",
        "distri2['clases']=pd.cut(ipcm['G2'].astype(float),bins=intervalos)\n",
        "G=pd.concat([distri1['clases'], distri2['clases']], axis=1)\n",
        "G=G.apply(pd.Series.value_counts,axis=0)\n",
        "G"
      ],
      "execution_count": null,
      "outputs": [
        {
          "output_type": "execute_result",
          "data": {
            "text/html": [
              "<div>\n",
              "<style scoped>\n",
              "    .dataframe tbody tr th:only-of-type {\n",
              "        vertical-align: middle;\n",
              "    }\n",
              "\n",
              "    .dataframe tbody tr th {\n",
              "        vertical-align: top;\n",
              "    }\n",
              "\n",
              "    .dataframe thead th {\n",
              "        text-align: right;\n",
              "    }\n",
              "</style>\n",
              "<table border=\"1\" class=\"dataframe\">\n",
              "  <thead>\n",
              "    <tr style=\"text-align: right;\">\n",
              "      <th></th>\n",
              "      <th>G1</th>\n",
              "      <th>G2</th>\n",
              "    </tr>\n",
              "  </thead>\n",
              "  <tbody>\n",
              "    <tr>\n",
              "      <th>[0.0, 2192839.0)</th>\n",
              "      <td>226</td>\n",
              "      <td>754</td>\n",
              "    </tr>\n",
              "    <tr>\n",
              "      <th>[2192839.0, 4385678.0)</th>\n",
              "      <td>64</td>\n",
              "      <td>526</td>\n",
              "    </tr>\n",
              "    <tr>\n",
              "      <th>[4385678.0, 6578517.0)</th>\n",
              "      <td>11</td>\n",
              "      <td>182</td>\n",
              "    </tr>\n",
              "    <tr>\n",
              "      <th>[6578517.0, 8771356.0)</th>\n",
              "      <td>1</td>\n",
              "      <td>60</td>\n",
              "    </tr>\n",
              "    <tr>\n",
              "      <th>[8771356.0, 10964195.0)</th>\n",
              "      <td>0</td>\n",
              "      <td>29</td>\n",
              "    </tr>\n",
              "    <tr>\n",
              "      <th>[10964195.0, 13157034.0)</th>\n",
              "      <td>0</td>\n",
              "      <td>20</td>\n",
              "    </tr>\n",
              "    <tr>\n",
              "      <th>[13157034.0, 15349873.0)</th>\n",
              "      <td>1</td>\n",
              "      <td>9</td>\n",
              "    </tr>\n",
              "    <tr>\n",
              "      <th>[15349873.0, 17542712.0)</th>\n",
              "      <td>1</td>\n",
              "      <td>6</td>\n",
              "    </tr>\n",
              "    <tr>\n",
              "      <th>[17542712.0, 19735551.0)</th>\n",
              "      <td>0</td>\n",
              "      <td>5</td>\n",
              "    </tr>\n",
              "    <tr>\n",
              "      <th>[19735551.0, 21928390.0)</th>\n",
              "      <td>0</td>\n",
              "      <td>5</td>\n",
              "    </tr>\n",
              "    <tr>\n",
              "      <th>[21928390.0, 24121229.0)</th>\n",
              "      <td>0</td>\n",
              "      <td>1</td>\n",
              "    </tr>\n",
              "    <tr>\n",
              "      <th>[24121229.0, 26314068.0)</th>\n",
              "      <td>0</td>\n",
              "      <td>3</td>\n",
              "    </tr>\n",
              "    <tr>\n",
              "      <th>[26314068.0, 28506907.0)</th>\n",
              "      <td>0</td>\n",
              "      <td>3</td>\n",
              "    </tr>\n",
              "    <tr>\n",
              "      <th>[28506907.0, 30699746.0)</th>\n",
              "      <td>0</td>\n",
              "      <td>1</td>\n",
              "    </tr>\n",
              "    <tr>\n",
              "      <th>[30699746.0, 32892585.0)</th>\n",
              "      <td>0</td>\n",
              "      <td>1</td>\n",
              "    </tr>\n",
              "  </tbody>\n",
              "</table>\n",
              "</div>"
            ],
            "text/plain": [
              "                           G1   G2\n",
              "[0.0, 2192839.0)          226  754\n",
              "[2192839.0, 4385678.0)     64  526\n",
              "[4385678.0, 6578517.0)     11  182\n",
              "[6578517.0, 8771356.0)      1   60\n",
              "[8771356.0, 10964195.0)     0   29\n",
              "[10964195.0, 13157034.0)    0   20\n",
              "[13157034.0, 15349873.0)    1    9\n",
              "[15349873.0, 17542712.0)    1    6\n",
              "[17542712.0, 19735551.0)    0    5\n",
              "[19735551.0, 21928390.0)    0    5\n",
              "[21928390.0, 24121229.0)    0    1\n",
              "[24121229.0, 26314068.0)    0    3\n",
              "[26314068.0, 28506907.0)    0    3\n",
              "[28506907.0, 30699746.0)    0    1\n",
              "[30699746.0, 32892585.0)    0    1"
            ]
          },
          "metadata": {
            "tags": []
          },
          "execution_count": 190
        }
      ]
    },
    {
      "cell_type": "code",
      "metadata": {
        "colab": {
          "base_uri": "https://localhost:8080/",
          "height": 282
        },
        "id": "3IP1Wc7hoQDr",
        "outputId": "b11cfff6-8476-4ff7-cfc7-7e51184bb894"
      },
      "source": [
        "G.plot.hist(bins=10)"
      ],
      "execution_count": null,
      "outputs": [
        {
          "output_type": "execute_result",
          "data": {
            "text/plain": [
              "<matplotlib.axes._subplots.AxesSubplot at 0x7f6acd255cd0>"
            ]
          },
          "metadata": {
            "tags": []
          },
          "execution_count": 192
        },
        {
          "output_type": "display_data",
          "data": {
            "image/png": "[encoded data removed]",
            "text/plain": [
              "<Figure size 432x288 with 1 Axes>"
            ]
          },
          "metadata": {
            "tags": [],
            "needs_background": "light"
          }
        }
      ]
    }
  ]
}