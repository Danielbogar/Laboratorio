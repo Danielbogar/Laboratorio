{
  "nbformat": 4,
  "nbformat_minor": 0,
  "metadata": {
    "colab": {
      "name": "Distribución de Poisson.ipynb",
      "provenance": [],
      "collapsed_sections": [],
      "include_colab_link": true
    },
    "kernelspec": {
      "display_name": "Python 3",
      "language": "python",
      "name": "python3"
    },
    "language_info": {
      "codemirror_mode": {
        "name": "ipython",
        "version": 3
      },
      "file_extension": ".py",
      "mimetype": "text/x-python",
      "name": "python",
      "nbconvert_exporter": "python",
      "pygments_lexer": "ipython3",
      "version": "3.7.9"
    }
  },
  "cells": [
    {
      "cell_type": "markdown",
      "metadata": {
        "id": "view-in-github",
        "colab_type": "text"
      },
      "source": [
        "<a href=\"https://colab.research.google.com/github/pyefiuna/Laboratorio/blob/master/notebooks/Semana%203/Distribucion_de_Poisson.ipynb\" target=\"_parent\"><img src=\"https://colab.research.google.com/assets/colab-badge.svg\" alt=\"Open In Colab\"/></a>"
      ]
    },
    {
      "cell_type": "markdown",
      "metadata": {
        "id": "nzh4mx-S73XE"
      },
      "source": [
        "!['Logo FIUNA'](http://www.ing.una.py/images/logo-horizontal.png)\n",
        "# PROBABILIDAD Y ESTADÍSTICA\n",
        "---"
      ]
    },
    {
      "cell_type": "markdown",
      "metadata": {
        "id": "bX1rIDKUCign"
      },
      "source": [
        "## Semana 3 - Distribuciones de probabilidad\n",
        "### Distribución de Poisson"
      ]
    },
    {
      "cell_type": "markdown",
      "metadata": {
        "id": "DmEMAV44n0AF"
      },
      "source": [
        "### Materiales y recursos\n",
        "##### Teoría\n",
        "* [Distribución de Poisson](https://drive.google.com/file/d/1l1GnSW3wD3dtmPajYCSCw_sqYnuKUfVl/view?ts=5f0faec8)\n",
        "\n",
        "### Actividades de laboratorio\n",
        "* [Vídeos de ejercicios de distribución de Poisson resueltos (en excel)](https://www.youtube.com/playlist?list=PLtwTdZpdrv8i7jpvTC64lEpFycvSq-_ed)\n",
        "* [Archivos distribución de Poisson](https://eaula.ing.una.py/mod/folder/view.php?id=27090)"
      ]
    },
    {
      "cell_type": "markdown",
      "metadata": {
        "id": "WqsUQvtQDpYM"
      },
      "source": [
        "### Importar módulos necesarios\n",
        "* En esta sección, estaremos usando el módulo [scipy.stats](https://docs.scipy.org/doc/scipy/reference/tutorial/stats.html), el cual nos provee la clase `poisson` , para la resolución de problemas de distribución de probabilidades de Poisson.\n",
        "* Complementariamente usaremos el módulo matplotlib.pyplot para realizar todos los gráficos que necesitemos."
      ]
    },
    {
      "cell_type": "code",
      "metadata": {
        "id": "aYw6xQEfDwNv"
      },
      "source": [
        "from scipy.stats import poisson   # De esta manera importamos solamente la clase deseada y no todo el módulo scipy.stats\n",
        "import matplotlib.pyplot as plt   # Importamos el módulo matplotlib.pyplot y le asignamos el alias de \"plt\" por conveniencia a la hora de trabajar con el mismo"
      ],
      "execution_count": 1,
      "outputs": []
    },
    {
      "cell_type": "markdown",
      "metadata": {
        "id": "qRd5WaF7TQar"
      },
      "source": [
        "# Distribución de Poisson\n",
        "Recordemos que la distribución de probabilidades de Poisson está dada por la fórmula:\n",
        "> $p(x) = \\frac{e^{-\\lambda }\\lambda ^{x}}{x!}$\n",
        "\n",
        "donde:\n",
        "* $p(x)$: es la probabilidad de ocurrencia de un suceso, cuando la variable discreta toma un valor finito x.\n",
        "* $\\lambda $ (lambda): es la media de ocurrencia en el segmento dado.\n",
        "* $x$: el número de éxitos por unidad."
      ]
    },
    {
      "cell_type": "markdown",
      "metadata": {
        "id": "ctlr6MaW9mvL"
      },
      "source": [
        "# Ejercicios de distribución de probabilidades de Poisson.\n",
        "1. Carlos ha notado que cada minuto que pasa, hay una probabilidad de 1/720 de que  la  página  en  Facebook  de  su  negocio  obtenga  un  “me  gusta”, independientemente de lo que suceda en cualquier otro minuto.\n",
        "> (a).  ¿Cuántos “me gusta” espera recibir Carlos durante un periodo de 24 horas? (b). ¿Cuál es la probabilidad de que Carlos reciba más de 2 “me gusta” en las próximas 12 horas? (c). ¿Cuál es la probabilidad de que Carlos reciba 3 o 4 “me gusta” en las próximas 12 horas?"
      ]
    },
    {
      "cell_type": "code",
      "metadata": {
        "id": "doj2VKYf8y7F"
      },
      "source": [
        "# Definimos las variables que vamos a necesitar\n",
        "prob_exito = 1/720\n",
        "prob_fracaso = 1 - prob_exito\n",
        "n = 24*60 # 24 horas expresadas en minutos\n",
        "# En python \"lambda\" es una palabra reservada por lo que para resolver los ejercicios estaremos usando la variable L\n",
        "L = n * prob_exito"
      ],
      "execution_count": 2,
      "outputs": []
    },
    {
      "cell_type": "markdown",
      "metadata": {
        "id": "_z21_C4baW6T"
      },
      "source": [
        "(a). ¿Cuántos “me gusta” espera recibir Carlos durante un periodo de 24 horas?. En un periodo de 24 horas se espera recibir L me gustas."
      ]
    },
    {
      "cell_type": "code",
      "metadata": {
        "id": "lv4IP8EtaP3Z",
        "outputId": "a9c656f6-11ee-4990-9870-c217859a020a",
        "colab": {
          "base_uri": "https://localhost:8080/",
          "height": 35
        }
      },
      "source": [
        "# Imprimimos el resultado\n",
        "print('En un periodo de 24 horas, Carlos espera recibir:', int(L), '\"me gusta\"')"
      ],
      "execution_count": 3,
      "outputs": [
        {
          "output_type": "stream",
          "text": [
            "En un periodo de 24 horas, Carlos espera recibir: 2 \"me gusta\"\n"
          ],
          "name": "stdout"
        }
      ]
    },
    {
      "cell_type": "markdown",
      "metadata": {
        "id": "Saeh1KTYe8PP"
      },
      "source": [
        "(b). ¿Cuál es la probabilidad de que Carlos reciba más de 2 “me gusta” en las próximas 12 horas?. Para este caso, debemos modificar `n` y por lo tanto `L` y aplicar el método `sf(x)` _survival function_ a un objeto del tipo `poisson`. La función `sf(x)` es lo mismo que $1-cdf(x)$ donde `cdf(x)` es la probabilidad acumulada de x."
      ]
    },
    {
      "cell_type": "code",
      "metadata": {
        "id": "0eXCvbhJay1j"
      },
      "source": [
        "# Volvemos a asignar las variables n y L\n",
        "n = 12*60 # 12 horas expresadas en minutos\n",
        "L = n * prob_exito # Para actualizar el valor de L, debemos volver a ejecutar esta línea de código\n",
        "\n",
        "# Creamos un objeto del tipo poisson al que llamaremos dist_poisson, y que contiene los datos del problema\n",
        "dist_poisson = poisson(L)"
      ],
      "execution_count": 4,
      "outputs": []
    },
    {
      "cell_type": "code",
      "metadata": {
        "id": "WzOatMYNfxPS",
        "outputId": "4e7dcc6d-14f9-49cb-af9d-3338024d5d74",
        "colab": {
          "base_uri": "https://localhost:8080/",
          "height": 35
        }
      },
      "source": [
        "# Aplicamos pmf(x) a dist_poisson\n",
        "prob_mas_2_megusta = dist_poisson.sf(2)\n",
        "\n",
        "# Imprimimos la respuesta\n",
        "print('La probabilidad de que Carlos reciba más de 2 \"me gusta\" en 12 horas es:', prob_mas_2_megusta)"
      ],
      "execution_count": 5,
      "outputs": [
        {
          "output_type": "stream",
          "text": [
            "La probabilidad de que Carlos reciba más de 2 \"me gusta\" en 12 horas es: 0.08030139707139418\n"
          ],
          "name": "stdout"
        }
      ]
    },
    {
      "cell_type": "markdown",
      "metadata": {
        "id": "m_KC6gTFXvVd"
      },
      "source": [
        "(c). ¿Cuál es la probabilidad de que Carlos reciba 3 o 4 “me gusta” en las próximas 12 horas?. Para esto tenemos dos opciones que deberían darnos el mismo resultado.\n",
        "* Hallar p(3) y p(4), utilizando el método `pmf(x)`, y sumando ambos resultados\n",
        "* Hallar p(4) acumulado y p(2) acumulado, usando el método `cdf(x)`, y restando ambos resultados"
      ]
    },
    {
      "cell_type": "code",
      "metadata": {
        "id": "vPWh21n4gyrW",
        "outputId": "6218331a-015b-4236-bbed-d0a1822405f0",
        "colab": {
          "base_uri": "https://localhost:8080/",
          "height": 35
        }
      },
      "source": [
        "# Utilicemos el primer método\n",
        "prob_3MG = dist_poisson.pmf(3)\n",
        "prob_4MG = dist_poisson.pmf(4)\n",
        "\n",
        "# La probabilidad de 3 o 4 \"me gusta\" está dada por la suma de p(3) y p(4)\n",
        "prob_3o4MG = prob_3MG + prob_4MG\n",
        "\n",
        "# Imprimimos el resultado\n",
        "print('La probabilidad de que carlos reciba 3 o 4 \"me gusta\" en las próximas 12 horas es:', prob_3o4MG)"
      ],
      "execution_count": 7,
      "outputs": [
        {
          "output_type": "stream",
          "text": [
            "La probabilidad de que carlos reciba 3 o 4 \"me gusta\" en las próximas 12 horas es: 0.07664155024405049\n"
          ],
          "name": "stdout"
        }
      ]
    },
    {
      "cell_type": "code",
      "metadata": {
        "id": "-kSsx96yas-B",
        "outputId": "06965b9f-23a4-44f1-d660-0f27036769db",
        "colab": {
          "base_uri": "https://localhost:8080/",
          "height": 35
        }
      },
      "source": [
        "# Resolvemos ahora por el segundo método\n",
        "prob_4MG_acum = dist_poisson.cdf(4)\n",
        "prob_2MG_acum = dist_poisson.cdf(2)\n",
        "\n",
        "# La probabilidad de 3 o 4 \"me gusta\" está dada por la diferencia de p_acum(4) y p_acum(2)\n",
        "prob_3o4MG = prob_4MG_acum - prob_2MG_acum\n",
        "\n",
        "# Imprimimos el resultado\n",
        "print('La probabilidad de que carlos reciba 3 o 4 \"me gusta\" en las próximas 12 horas es:', prob_3o4MG)"
      ],
      "execution_count": 8,
      "outputs": [
        {
          "output_type": "stream",
          "text": [
            "La probabilidad de que carlos reciba 3 o 4 \"me gusta\" en las próximas 12 horas es: 0.0766415502440505\n"
          ],
          "name": "stdout"
        }
      ]
    },
    {
      "cell_type": "markdown",
      "metadata": {
        "id": "N9PhgwStb0fo"
      },
      "source": [
        "De lo anterior se comprueba que ambos métodos arrojan el mismo resultado. Que era lo esperado\n",
        "# Opcional\n",
        "De manera a ver el potencial que nos ofrece el módulo `scipy.stats` vemos los siguientes ejemplos:"
      ]
    },
    {
      "cell_type": "code",
      "metadata": {
        "id": "yCceFG0pbeYx",
        "outputId": "cf8016c0-392b-4cd0-a0d4-75b6110b1621",
        "colab": {
          "base_uri": "https://localhost:8080/",
          "height": 90
        }
      },
      "source": [
        "# Por ejemplo, haciendo uso de las variables de la pregunta (a)\n",
        "prob_exito = 1/720\n",
        "prob_fracaso = 1 - prob_exito\n",
        "n = 24*60 # 24 horas expresadas en minutos\n",
        "# En python \"lambda\" es una palabra reservada por lo que para resolver los ejercicios estaremos usando la variable L\n",
        "L = n * prob_exito\n",
        "\n",
        "# Podemos hallar los valores que describen nuestra distribución, por medio del método stats\n",
        "media, var, sesgo, curt = poisson.stats(L, moments='mvsk')\n",
        "print('Media:', media)\n",
        "print('Varianza:', var)\n",
        "print('Sesgo:', sesgo)\n",
        "print('Curtosis:', curt)"
      ],
      "execution_count": 11,
      "outputs": [
        {
          "output_type": "stream",
          "text": [
            "Media: 2.0\n",
            "Varianza: 2.0\n",
            "Sesgo: 0.7071067811865476\n",
            "Curtosis: 0.5\n"
          ],
          "name": "stdout"
        }
      ]
    },
    {
      "cell_type": "code",
      "metadata": {
        "id": "xubPzGJld2Fq",
        "outputId": "97e94495-9169-458e-8fc5-46d4ec39e2d5",
        "colab": {
          "base_uri": "https://localhost:8080/",
          "height": 127
        }
      },
      "source": [
        "# Usando los valores de la pregunta (b) y (c):\n",
        "n = 12*60 # 12 horas expresadas en minutos\n",
        "L = n * prob_exito # Para actualizar el valor de L, debemos volver a ejecutar esta línea de código\n",
        "\n",
        "# Creamos un objeto del tipo poisson al que llamaremos dist_poisson, y que contiene los datos del problema\n",
        "dist_poisson = poisson(L)\n",
        "\n",
        "# Podriamos calcular, en un solo paso, la distribución de probabilidades para obtener 0, 1, 2, 3, 4... 20 \"me gusta\" en un intervalo de 12 horas\n",
        "# Definamos los valores de x\n",
        "x = range(21) # crea un objeto iterable de 0 a 20\n",
        "p = dist_poisson.pmf(x) # calcula la distribución de probabilidades para cada valor de x dado\n",
        "\n",
        "# Imprimimos el vector p\n",
        "print(p)"
      ],
      "execution_count": 16,
      "outputs": [
        {
          "output_type": "stream",
          "text": [
            "[3.67879441e-01 3.67879441e-01 1.83939721e-01 6.13132402e-02\n",
            " 1.53283100e-02 3.06566201e-03 5.10943668e-04 7.29919526e-05\n",
            " 9.12399408e-06 1.01377712e-06 1.01377712e-07 9.21615563e-09\n",
            " 7.68012969e-10 5.90779207e-11 4.21985148e-12 2.81323432e-13\n",
            " 1.75827145e-14 1.03427732e-15 5.74598513e-17 3.02420270e-18\n",
            " 1.51210135e-19]\n"
          ],
          "name": "stdout"
        }
      ]
    },
    {
      "cell_type": "markdown",
      "metadata": {
        "id": "pCVpqN-Khq1B"
      },
      "source": [
        "Podríamos aprovechar lo anterior para graficar la distribución de probabilidades de Poisson, comparando los resultados para diferentes intervalos de tiempo. Usemos 24 horas y 12 horas, como en las preguntas (a) y (b) de manera a entender como esto afecta a las probabilidades."
      ]
    },
    {
      "cell_type": "code",
      "metadata": {
        "id": "XosvMcEckTgi",
        "outputId": "840d358b-0894-4399-8a5f-5058a5e32187",
        "colab": {
          "base_uri": "https://localhost:8080/",
          "height": 127
        }
      },
      "source": [
        "# Hallemos p(x) para los datos en (a). Siendo x = [0, 1, 2, 3, ... 20]\n",
        "# Como anteriormente definimos x, no necesitamos volver a hacerlo, ya que los valores asignados son los mismos\n",
        "n = 24*60 # 24 horas expresadas en minutos\n",
        "L = n * prob_exito # Para actualizar el valor de L, debemos volver a ejecutar esta línea de código\n",
        "\n",
        "# Otra forma de caldular la probabilidad sin definir antes un objeto del tipo Poisson\n",
        "p24 = poisson.pmf(x, L) \n",
        "\n",
        "# Imprimimos p24(x)\n",
        "print(p24)"
      ],
      "execution_count": 25,
      "outputs": [
        {
          "output_type": "stream",
          "text": [
            "[1.35335283e-01 2.70670566e-01 2.70670566e-01 1.80447044e-01\n",
            " 9.02235222e-02 3.60894089e-02 1.20298030e-02 3.43708656e-03\n",
            " 8.59271640e-04 1.90949253e-04 3.81898506e-05 6.94360921e-06\n",
            " 1.15726820e-06 1.78041262e-07 2.54344660e-08 3.39126213e-09\n",
            " 4.23907766e-10 4.98715019e-11 5.54127799e-12 5.83292420e-13\n",
            " 5.83292420e-14]\n"
          ],
          "name": "stdout"
        }
      ]
    },
    {
      "cell_type": "code",
      "metadata": {
        "id": "aU-O2W8Rf728",
        "outputId": "5d64a8d8-1f21-48f0-ad56-fc2deb7a4156",
        "colab": {
          "base_uri": "https://localhost:8080/",
          "height": 517
        }
      },
      "source": [
        "# Finalmente podemos graficar la función haciendo uso del módulo matplotlib.plotlib, al que llamamos con el alias de plt\n",
        "fig, ax = plt.subplots(1, 1, figsize= (16,8)) # Creamos un lienzo para nuestro gráfico\n",
        "\n",
        "# El gráfico está dado por:\n",
        "\n",
        "# Distribución de probabilidades para 24 hs.\n",
        "ax.plot(x, p24, 'go', ms= 10, label= '24 horas') # Agregamos nuestro gráfico en forma de puntos verdes con el comando 'go' -> g: green (verde)- o: puntos, ms determina el tamaño del punto, que lo hacemos más grande para que sea visible\n",
        "ax.vlines(x= x, ymin= 0, ymax= p24, colors='g') # Agregamos las líneas verticales desde ymin= 0 hasta ymax = p(x), de color verde\n",
        "# Distribución de probabilidades para 12 hs.\n",
        "ax.plot(x, p, 'bo', label= '12 horas') # Agregamos nuestro gráfico en forma de puntos azules con el comando 'bo' -> b: blue (azul)- o: puntos\n",
        "ax.vlines(x= x, ymin= 0, ymax= p, colors='b') # Agregamos las líneas verticales desde ymin= 0 hasta ymax = p(x), de color azul\n",
        "\n",
        "# Los demás complementos, opcionales:\n",
        "ax.grid() # Agrega las grillas al gráfico\n",
        "plt.xticks(x) # Modifica los puntos representados en el eje x, y la grilla para que coincidan exactamente a intervalos enteros\n",
        "ax.set_title('Distribución de probabilidades', fontsize='x-large', fontweight= 'bold')\n",
        "ax.set_xlabel('Cantidad de \"Me Gusta\"', fontsize='large')\n",
        "ax.set_ylabel('Probabilidad de obtener \"Me Gusta\" en 12 hs.', fontsize='large')\n",
        "ax.legend(loc= 'best')\n",
        "plt.show()"
      ],
      "execution_count": 34,
      "outputs": [
        {
          "output_type": "display_data",
          "data": {
            "image/png": "[encoded data removed]",
            "text/plain": [
              "<Figure size 1152x576 with 1 Axes>"
            ]
          },
          "metadata": {
            "tags": [],
            "needs_background": "light"
          }
        }
      ]
    },
    {
      "cell_type": "markdown",
      "metadata": {
        "id": "Ti2VnZjem0Wd"
      },
      "source": [
        "Del gráfico, resulta muy interesante observar lo siguiente:\n",
        "1. La probabilidad de recibir 0 o 1 \"me gusta\" es menor en un periodo de 24 horas que en uno de 12 horas. Si analizamos, esto nos resulta bastante intuitivo, ya que en un mayor periodo de tiempo sería menos probable que nadie o solo una persona le de \"me gusta\" a la página.\n",
        "2. Por otro lado, la probabilidad de recibir 2, 3, 4, 5, 6 y 7 \"me gusta\" es mayor en un perdiodo de 24 horas que en uno de 12 horas. "
      ]
    },
    {
      "cell_type": "code",
      "metadata": {
        "id": "0bs1L4Xagy5Z"
      },
      "source": [
        ""
      ],
      "execution_count": null,
      "outputs": []
    }
  ]
}