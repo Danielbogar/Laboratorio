{
  "nbformat": 4,
  "nbformat_minor": 0,
  "metadata": {
    "colab": {
      "name": "Primera clase Laboratorio de Python",
      "provenance": [],
      "collapsed_sections": [
        "KTCGhTyntggf"
      ],
      "mount_file_id": "1JT8sHj3LLpn4fBCmxJE9kUNW2N_8vBJg",
      "authorship_tag": "ABX9TyMoBg6/ZqWsCgY1EGr/jhXp",
      "include_colab_link": true
    },
    "kernelspec": {
      "name": "python3",
      "display_name": "Python 3"
    },
    "language_info": {
      "name": "python"
    }
  },
  "cells": [
    {
      "cell_type": "markdown",
      "metadata": {
        "id": "view-in-github",
        "colab_type": "text"
      },
      "source": [
        "<a href=\"https://colab.research.google.com/github/pyefiuna/Laboratorio/blob/master/notebooks/Introduccion%20a%20Python/Primera_clase_Laboratorio_de_Python.ipynb\" target=\"_parent\"><img src=\"https://colab.research.google.com/assets/colab-badge.svg\" alt=\"Open In Colab\"/></a>"
      ]
    },
    {
      "cell_type": "markdown",
      "metadata": {
        "id": "ZjcIm159rTHx"
      },
      "source": [
        "![logo-horizontal.png](http://www.ing.una.py/images/logo-horizontal.png)\n",
        "# PROBABILIDAD Y ESTADÍSTICA\n",
        "## Laboratorio de Python\n",
        "---"
      ]
    },
    {
      "cell_type": "markdown",
      "metadata": {
        "id": "oD66QCF9r5YQ"
      },
      "source": [
        "# Introducción a Python\n",
        "## Operaciones aritmeticas básicas y manejo de variables"
      ]
    },
    {
      "cell_type": "code",
      "metadata": {
        "id": "93jFPCJqq1S0",
        "colab": {
          "base_uri": "https://localhost:8080/"
        },
        "outputId": "73eb4504-7fc1-4297-bd78-32fa345c9877"
      },
      "source": [
        "5 + 6"
      ],
      "execution_count": null,
      "outputs": [
        {
          "output_type": "execute_result",
          "data": {
            "text/plain": [
              "11"
            ]
          },
          "metadata": {
            "tags": []
          },
          "execution_count": 1
        }
      ]
    },
    {
      "cell_type": "code",
      "metadata": {
        "colab": {
          "base_uri": "https://localhost:8080/"
        },
        "id": "lyC3uIgX85fx",
        "outputId": "d3c208ac-e9de-47f3-aa9e-9131a86fe851"
      },
      "source": [
        "5 - 6"
      ],
      "execution_count": null,
      "outputs": [
        {
          "output_type": "execute_result",
          "data": {
            "text/plain": [
              "-1"
            ]
          },
          "metadata": {
            "tags": []
          },
          "execution_count": 2
        }
      ]
    },
    {
      "cell_type": "code",
      "metadata": {
        "colab": {
          "base_uri": "https://localhost:8080/"
        },
        "id": "I41BIfSn8_VR",
        "outputId": "105cc8a0-c9f2-41a9-ab13-f0d359eb7cc0"
      },
      "source": [
        "5 * 6"
      ],
      "execution_count": null,
      "outputs": [
        {
          "output_type": "execute_result",
          "data": {
            "text/plain": [
              "30"
            ]
          },
          "metadata": {
            "tags": []
          },
          "execution_count": 3
        }
      ]
    },
    {
      "cell_type": "code",
      "metadata": {
        "colab": {
          "base_uri": "https://localhost:8080/"
        },
        "id": "_dl44edC9Knk",
        "outputId": "16ebc59a-cddb-4ac7-c1a2-d6efad2a2e3e"
      },
      "source": [
        "5 ** 6"
      ],
      "execution_count": null,
      "outputs": [
        {
          "output_type": "execute_result",
          "data": {
            "text/plain": [
              "15625"
            ]
          },
          "metadata": {
            "tags": []
          },
          "execution_count": 4
        }
      ]
    },
    {
      "cell_type": "code",
      "metadata": {
        "colab": {
          "base_uri": "https://localhost:8080/"
        },
        "id": "AMcyI15b9YML",
        "outputId": "48e2bcc9-f1e1-4aaa-e1e2-3874c3c52dce"
      },
      "source": [
        "6 / 5"
      ],
      "execution_count": null,
      "outputs": [
        {
          "output_type": "execute_result",
          "data": {
            "text/plain": [
              "1.2"
            ]
          },
          "metadata": {
            "tags": []
          },
          "execution_count": 5
        }
      ]
    },
    {
      "cell_type": "code",
      "metadata": {
        "colab": {
          "base_uri": "https://localhost:8080/"
        },
        "id": "eVpO2rNG9jP7",
        "outputId": "69fc668e-09c9-4146-d3d6-8ce2b4f42fb7"
      },
      "source": [
        "6 // 5 # Esto es una división Entera"
      ],
      "execution_count": null,
      "outputs": [
        {
          "output_type": "execute_result",
          "data": {
            "text/plain": [
              "1"
            ]
          },
          "metadata": {
            "tags": []
          },
          "execution_count": 6
        }
      ]
    },
    {
      "cell_type": "code",
      "metadata": {
        "colab": {
          "base_uri": "https://localhost:8080/",
          "height": 36
        },
        "id": "WkF-sz1_94UD",
        "outputId": "960a1e4a-df7c-4c09-9db1-45190526eaf8"
      },
      "source": [
        "a = 5\n",
        "a = 'Esta es una cadena de texto'\n",
        "a"
      ],
      "execution_count": null,
      "outputs": [
        {
          "output_type": "execute_result",
          "data": {
            "application/vnd.google.colaboratory.intrinsic+json": {
              "type": "string"
            },
            "text/plain": [
              "'Esta es una cadena de texto'"
            ]
          },
          "metadata": {
            "tags": []
          },
          "execution_count": 12
        }
      ]
    },
    {
      "cell_type": "code",
      "metadata": {
        "colab": {
          "base_uri": "https://localhost:8080/"
        },
        "id": "fxy6unjk-qfg",
        "outputId": "4d76b56a-b6e9-4276-b383-eb11c3b9149e"
      },
      "source": [
        "a = 5\n",
        "b = 6\n",
        "a + b"
      ],
      "execution_count": null,
      "outputs": [
        {
          "output_type": "execute_result",
          "data": {
            "text/plain": [
              "11"
            ]
          },
          "metadata": {
            "tags": []
          },
          "execution_count": 21
        }
      ]
    },
    {
      "cell_type": "markdown",
      "metadata": {
        "id": "0lXlZeMjsllx"
      },
      "source": [
        "## Algunas funciones básicas"
      ]
    },
    {
      "cell_type": "code",
      "metadata": {
        "id": "3ud3vOZfstfS",
        "colab": {
          "base_uri": "https://localhost:8080/"
        },
        "outputId": "29b12644-8654-4652-ce70-f7e3403c91ec"
      },
      "source": [
        "# print\n",
        "print('El valor de a es:', a)"
      ],
      "execution_count": null,
      "outputs": [
        {
          "output_type": "stream",
          "text": [
            "El valor de a es: 5\n"
          ],
          "name": "stdout"
        }
      ]
    },
    {
      "cell_type": "code",
      "metadata": {
        "id": "rlkUHst4sxOO",
        "colab": {
          "base_uri": "https://localhost:8080/"
        },
        "outputId": "2c9aeb0e-e250-489e-9b7f-134f22f13343"
      },
      "source": [
        "# len\n",
        "a = '    '\n",
        "len(a)"
      ],
      "execution_count": null,
      "outputs": [
        {
          "output_type": "execute_result",
          "data": {
            "text/plain": [
              "4"
            ]
          },
          "metadata": {
            "tags": []
          },
          "execution_count": 24
        }
      ]
    },
    {
      "cell_type": "code",
      "metadata": {
        "id": "xYpAMTkG_65a"
      },
      "source": [
        "# Listas \n",
        "lista = [a, b, 5.5, 'hola']\n",
        "# len(lista)\n",
        "\n",
        "# Tuplas\n",
        "tupla = (a, b)\n",
        "len(tupla)\n",
        "\n",
        "# Diccionario\n",
        "d = {'key 1': 'valor 1'}"
      ],
      "execution_count": null,
      "outputs": []
    },
    {
      "cell_type": "code",
      "metadata": {
        "id": "8SCd3RYpsy0k",
        "colab": {
          "base_uri": "https://localhost:8080/"
        },
        "outputId": "82e61948-5677-4c12-9f3b-a3bba4913f67"
      },
      "source": [
        "# max y min\n",
        "max(a, b)"
      ],
      "execution_count": null,
      "outputs": [
        {
          "output_type": "execute_result",
          "data": {
            "text/plain": [
              "6"
            ]
          },
          "metadata": {
            "tags": []
          },
          "execution_count": 22
        }
      ]
    },
    {
      "cell_type": "code",
      "metadata": {
        "colab": {
          "base_uri": "https://localhost:8080/"
        },
        "id": "htJVS2VNCD0x",
        "outputId": "f5dcbea3-58e8-4947-d0bf-b6a840bda458"
      },
      "source": [
        "# linea 1\n",
        "# 2\n",
        "# 3\n",
        "\n",
        "'''\n",
        "esto es un comentario\n",
        "de varias lineas\n",
        "Docstring\n",
        "'''\n",
        "print('no va a hacer nada')"
      ],
      "execution_count": null,
      "outputs": [
        {
          "output_type": "stream",
          "text": [
            "no va a hacer nada\n"
          ],
          "name": "stdout"
        }
      ]
    },
    {
      "cell_type": "code",
      "metadata": {
        "colab": {
          "base_uri": "https://localhost:8080/"
        },
        "id": "u8QAjcitDM-M",
        "outputId": "c4a62283-07e1-4509-b730-5807a9aa9cb4"
      },
      "source": [
        "print(\"mita'i\")"
      ],
      "execution_count": null,
      "outputs": [
        {
          "output_type": "stream",
          "text": [
            "mita'i\n"
          ],
          "name": "stdout"
        }
      ]
    },
    {
      "cell_type": "code",
      "metadata": {
        "id": "dkUyaSZYs3-N",
        "colab": {
          "base_uri": "https://localhost:8080/"
        },
        "outputId": "fe7c9950-c94a-414a-d6b6-170906196810"
      },
      "source": [
        "# if, elif\n",
        "if a > b:\n",
        "  print('a es mayor que b')\n",
        "elif b > a:\n",
        "  print('b es mayor que a')\n",
        "else:\n",
        "  print('a no es mayor que b')"
      ],
      "execution_count": null,
      "outputs": [
        {
          "output_type": "stream",
          "text": [
            "b es mayor que a\n"
          ],
          "name": "stdout"
        }
      ]
    },
    {
      "cell_type": "code",
      "metadata": {
        "id": "61vMDs_ftFEh",
        "colab": {
          "base_uri": "https://localhost:8080/"
        },
        "outputId": "e88b1c96-6f4d-4226-ec39-dd1f742c7e5f"
      },
      "source": [
        "# for, range\n",
        "\n",
        "# for( int i = 0; i <=10; i++){} esto es para c++\n",
        "\n",
        "for i in range(0,10, 3):\n",
        "  if i < 7:\n",
        "    print(i)\n",
        "  else:\n",
        "    break"
      ],
      "execution_count": null,
      "outputs": [
        {
          "output_type": "stream",
          "text": [
            "0\n",
            "3\n",
            "6\n"
          ],
          "name": "stdout"
        }
      ]
    },
    {
      "cell_type": "markdown",
      "metadata": {
        "id": "KTCGhTyntggf"
      },
      "source": [
        "## ¿Cómo crear mis propias funciones?"
      ]
    },
    {
      "cell_type": "code",
      "metadata": {
        "id": "-4W3BrK2tmQR"
      },
      "source": [
        "def calcular_firma(PP, SP, T):\n",
        "  print('La firma del alumno es:', PP+SP+T)\n",
        "\n",
        "def calcular_taller():\n",
        "  print('El puntaje de taller es: 10')"
      ],
      "execution_count": null,
      "outputs": []
    },
    {
      "cell_type": "code",
      "metadata": {
        "colab": {
          "base_uri": "https://localhost:8080/"
        },
        "id": "kC0tyt1QHYR7",
        "outputId": "e60ddc8d-a780-4d67-fad7-8dd9fcb59830"
      },
      "source": [
        "calcular_firma(20, 27, 10)"
      ],
      "execution_count": null,
      "outputs": [
        {
          "output_type": "stream",
          "text": [
            "La firma del alumno es: 57\n"
          ],
          "name": "stdout"
        }
      ]
    },
    {
      "cell_type": "markdown",
      "metadata": {
        "id": "6gUu6NAMubDU"
      },
      "source": [
        "# Introducción a los módulos (librerías)\n",
        "## ¿Cómo conectar Colab y Drive?"
      ]
    },
    {
      "cell_type": "code",
      "metadata": {
        "id": "Ue7X2gefu2tX"
      },
      "source": [
        "ruta = '/content/drive/MyDrive/Probabilidad y Estadística/2021-2/Clase 1 - Introducción/Asuncion-Poblacion-estimada-y-proyectada-segun-grupos-de-edad-2000-2025.xlsx'"
      ],
      "execution_count": 1,
      "outputs": []
    },
    {
      "cell_type": "markdown",
      "metadata": {
        "id": "tmZMJXVLu3P1"
      },
      "source": [
        "## ¿Cómo importar módulos?"
      ]
    },
    {
      "cell_type": "code",
      "metadata": {
        "id": "88R7UaStveVQ"
      },
      "source": [
        "import pandas as pd"
      ],
      "execution_count": 2,
      "outputs": []
    },
    {
      "cell_type": "markdown",
      "metadata": {
        "id": "SE9W6kxSve4G"
      },
      "source": [
        "# Introducción a Pandas\n",
        "## Cargar y visualizar tablas"
      ]
    },
    {
      "cell_type": "code",
      "metadata": {
        "id": "XxOln449viXP"
      },
      "source": [
        "poblacion = pd.read_excel(ruta)"
      ],
      "execution_count": 3,
      "outputs": []
    },
    {
      "cell_type": "code",
      "metadata": {
        "id": "xeIPqOZZvtX_",
        "colab": {
          "base_uri": "https://localhost:8080/"
        },
        "outputId": "66019e29-0970-42da-aa9e-ae409f3717c5"
      },
      "source": [
        "# info()\n",
        "poblacion.info()"
      ],
      "execution_count": 4,
      "outputs": [
        {
          "output_type": "stream",
          "text": [
            "<class 'pandas.core.frame.DataFrame'>\n",
            "RangeIndex: 54 entries, 0 to 53\n",
            "Data columns (total 27 columns):\n",
            " #   Column  Non-Null Count  Dtype  \n",
            "---  ------  --------------  -----  \n",
            " 0   #       54 non-null     object \n",
            " 1   2000    54 non-null     int64  \n",
            " 2   2001    54 non-null     float64\n",
            " 3   2002    54 non-null     float64\n",
            " 4   2003    54 non-null     float64\n",
            " 5   2004    54 non-null     float64\n",
            " 6   2005    54 non-null     float64\n",
            " 7   2006    54 non-null     float64\n",
            " 8   2007    54 non-null     float64\n",
            " 9   2008    54 non-null     float64\n",
            " 10  2009    54 non-null     float64\n",
            " 11  2010    54 non-null     float64\n",
            " 12  2011    54 non-null     float64\n",
            " 13  2012    54 non-null     float64\n",
            " 14  2013    54 non-null     float64\n",
            " 15  2014    54 non-null     float64\n",
            " 16  2015    54 non-null     float64\n",
            " 17  2016    54 non-null     float64\n",
            " 18  2017    54 non-null     float64\n",
            " 19  2018    54 non-null     float64\n",
            " 20  2019    54 non-null     float64\n",
            " 21  2020    54 non-null     float64\n",
            " 22  2021    54 non-null     float64\n",
            " 23  2022    54 non-null     float64\n",
            " 24  2023    54 non-null     float64\n",
            " 25  2024    54 non-null     float64\n",
            " 26  2025    54 non-null     float64\n",
            "dtypes: float64(25), int64(1), object(1)\n",
            "memory usage: 11.5+ KB\n"
          ],
          "name": "stdout"
        }
      ]
    },
    {
      "cell_type": "code",
      "metadata": {
        "id": "zC17rrWgvvHF",
        "colab": {
          "base_uri": "https://localhost:8080/",
          "height": 400
        },
        "outputId": "5bb7b48e-1daa-4c2c-e262-0eb1a9ed3872"
      },
      "source": [
        "# head()\n",
        "poblacion.head(10)"
      ],
      "execution_count": null,
      "outputs": [
        {
          "output_type": "execute_result",
          "data": {
            "text/html": [
              "<div>\n",
              "<style scoped>\n",
              "    .dataframe tbody tr th:only-of-type {\n",
              "        vertical-align: middle;\n",
              "    }\n",
              "\n",
              "    .dataframe tbody tr th {\n",
              "        vertical-align: top;\n",
              "    }\n",
              "\n",
              "    .dataframe thead th {\n",
              "        text-align: right;\n",
              "    }\n",
              "</style>\n",
              "<table border=\"1\" class=\"dataframe\">\n",
              "  <thead>\n",
              "    <tr style=\"text-align: right;\">\n",
              "      <th></th>\n",
              "      <th>#</th>\n",
              "      <th>2000</th>\n",
              "      <th>2001</th>\n",
              "      <th>2002</th>\n",
              "      <th>2003</th>\n",
              "      <th>2004</th>\n",
              "      <th>2005</th>\n",
              "      <th>2006</th>\n",
              "      <th>2007</th>\n",
              "      <th>2008</th>\n",
              "      <th>2009</th>\n",
              "      <th>2010</th>\n",
              "      <th>2011</th>\n",
              "      <th>2012</th>\n",
              "      <th>2013</th>\n",
              "      <th>2014</th>\n",
              "      <th>2015</th>\n",
              "      <th>2016</th>\n",
              "      <th>2017</th>\n",
              "      <th>2018</th>\n",
              "      <th>2019</th>\n",
              "      <th>2020</th>\n",
              "      <th>2021</th>\n",
              "      <th>2022</th>\n",
              "      <th>2023</th>\n",
              "      <th>2024</th>\n",
              "      <th>2025</th>\n",
              "    </tr>\n",
              "  </thead>\n",
              "  <tbody>\n",
              "    <tr>\n",
              "      <th>0</th>\n",
              "      <td>Asuncion-Total</td>\n",
              "      <td>527712</td>\n",
              "      <td>528865.42170</td>\n",
              "      <td>529802.84880</td>\n",
              "      <td>530565.21180</td>\n",
              "      <td>531153.41720</td>\n",
              "      <td>531561.05870</td>\n",
              "      <td>531780.91790</td>\n",
              "      <td>531831.03410</td>\n",
              "      <td>531701.20830</td>\n",
              "      <td>531388.90870</td>\n",
              "      <td>530895.41600</td>\n",
              "      <td>530226.73510</td>\n",
              "      <td>529432.79950</td>\n",
              "      <td>528528.08090</td>\n",
              "      <td>527496.55670</td>\n",
              "      <td>526407.67090</td>\n",
              "      <td>525293.51860</td>\n",
              "      <td>524189.53890</td>\n",
              "      <td>523183.97950</td>\n",
              "      <td>522286.80260</td>\n",
              "      <td>521558.83140</td>\n",
              "      <td>521101.15060</td>\n",
              "      <td>520917.44110</td>\n",
              "      <td>521091.10960</td>\n",
              "      <td>521630.49700</td>\n",
              "      <td>522615.83870</td>\n",
              "    </tr>\n",
              "    <tr>\n",
              "      <th>1</th>\n",
              "      <td>0 a 4</td>\n",
              "      <td>48938</td>\n",
              "      <td>49810.19573</td>\n",
              "      <td>50614.80990</td>\n",
              "      <td>51276.77317</td>\n",
              "      <td>51653.78400</td>\n",
              "      <td>51592.29355</td>\n",
              "      <td>51307.54161</td>\n",
              "      <td>50929.79009</td>\n",
              "      <td>50409.99215</td>\n",
              "      <td>49742.00536</td>\n",
              "      <td>48932.31795</td>\n",
              "      <td>47997.59837</td>\n",
              "      <td>46966.49085</td>\n",
              "      <td>45865.96249</td>\n",
              "      <td>44686.08036</td>\n",
              "      <td>43496.95795</td>\n",
              "      <td>42328.67055</td>\n",
              "      <td>41173.43983</td>\n",
              "      <td>40103.41836</td>\n",
              "      <td>39147.64098</td>\n",
              "      <td>38300.80355</td>\n",
              "      <td>37627.34036</td>\n",
              "      <td>37093.77102</td>\n",
              "      <td>36700.12936</td>\n",
              "      <td>36440.59703</td>\n",
              "      <td>36335.13143</td>\n",
              "    </tr>\n",
              "    <tr>\n",
              "      <th>2</th>\n",
              "      <td>5 a 9</td>\n",
              "      <td>47774</td>\n",
              "      <td>47276.68816</td>\n",
              "      <td>46890.51326</td>\n",
              "      <td>46726.99726</td>\n",
              "      <td>46926.23392</td>\n",
              "      <td>47612.88279</td>\n",
              "      <td>48470.37335</td>\n",
              "      <td>49266.64140</td>\n",
              "      <td>49925.83041</td>\n",
              "      <td>50306.09144</td>\n",
              "      <td>50254.11174</td>\n",
              "      <td>49984.27793</td>\n",
              "      <td>49626.42699</td>\n",
              "      <td>49131.56871</td>\n",
              "      <td>48493.45631</td>\n",
              "      <td>47718.68193</td>\n",
              "      <td>46823.90435</td>\n",
              "      <td>45837.41723</td>\n",
              "      <td>44786.31673</td>\n",
              "      <td>43660.75059</td>\n",
              "      <td>42530.23945</td>\n",
              "      <td>41425.02399</td>\n",
              "      <td>40337.37378</td>\n",
              "      <td>39338.98792</td>\n",
              "      <td>38459.17976</td>\n",
              "      <td>37692.59410</td>\n",
              "    </tr>\n",
              "    <tr>\n",
              "      <th>3</th>\n",
              "      <td>10 a 14</td>\n",
              "      <td>49455</td>\n",
              "      <td>48183.84797</td>\n",
              "      <td>47261.66574</td>\n",
              "      <td>46586.89934</td>\n",
              "      <td>46016.27717</td>\n",
              "      <td>45453.72993</td>\n",
              "      <td>44919.47089</td>\n",
              "      <td>44505.73552</td>\n",
              "      <td>44323.69935</td>\n",
              "      <td>44513.18218</td>\n",
              "      <td>45198.53779</td>\n",
              "      <td>46063.95748</td>\n",
              "      <td>46878.26468</td>\n",
              "      <td>47565.73732</td>\n",
              "      <td>47984.78361</td>\n",
              "      <td>47982.56615</td>\n",
              "      <td>47772.98544</td>\n",
              "      <td>47485.28037</td>\n",
              "      <td>47070.79494</td>\n",
              "      <td>46523.19994</td>\n",
              "      <td>45848.88175</td>\n",
              "      <td>45064.62452</td>\n",
              "      <td>44198.72105</td>\n",
              "      <td>43277.94094</td>\n",
              "      <td>42292.58316</td>\n",
              "      <td>41312.10081</td>\n",
              "    </tr>\n",
              "    <tr>\n",
              "      <th>4</th>\n",
              "      <td>15 a 19</td>\n",
              "      <td>56256</td>\n",
              "      <td>54545.90015</td>\n",
              "      <td>52559.77590</td>\n",
              "      <td>50472.67116</td>\n",
              "      <td>48507.43540</td>\n",
              "      <td>46827.38461</td>\n",
              "      <td>45522.02566</td>\n",
              "      <td>44574.36024</td>\n",
              "      <td>43883.27158</td>\n",
              "      <td>43306.37551</td>\n",
              "      <td>42748.07242</td>\n",
              "      <td>42228.42178</td>\n",
              "      <td>41839.65084</td>\n",
              "      <td>41692.51263</td>\n",
              "      <td>41926.30201</td>\n",
              "      <td>42665.09752</td>\n",
              "      <td>43593.93621</td>\n",
              "      <td>44482.32690</td>\n",
              "      <td>45255.15262</td>\n",
              "      <td>45771.38328</td>\n",
              "      <td>45878.70577</td>\n",
              "      <td>45790.56760</td>\n",
              "      <td>45635.49235</td>\n",
              "      <td>45364.69630</td>\n",
              "      <td>44972.00701</td>\n",
              "      <td>44463.84133</td>\n",
              "    </tr>\n",
              "    <tr>\n",
              "      <th>5</th>\n",
              "      <td>20 a 24</td>\n",
              "      <td>56546</td>\n",
              "      <td>56715.87452</td>\n",
              "      <td>56392.52646</td>\n",
              "      <td>55619.63205</td>\n",
              "      <td>54474.78348</td>\n",
              "      <td>53034.55248</td>\n",
              "      <td>51294.68764</td>\n",
              "      <td>49292.90756</td>\n",
              "      <td>47202.62854</td>\n",
              "      <td>45245.11537</td>\n",
              "      <td>43582.28666</td>\n",
              "      <td>42302.64742</td>\n",
              "      <td>41389.72637</td>\n",
              "      <td>40743.22642</td>\n",
              "      <td>40221.94561</td>\n",
              "      <td>39731.34159</td>\n",
              "      <td>39291.50469</td>\n",
              "      <td>38994.00166</td>\n",
              "      <td>38949.21339</td>\n",
              "      <td>39295.54127</td>\n",
              "      <td>40156.25540</td>\n",
              "      <td>41218.05509</td>\n",
              "      <td>42252.19438</td>\n",
              "      <td>43183.81325</td>\n",
              "      <td>43872.94654</td>\n",
              "      <td>44168.23864</td>\n",
              "    </tr>\n",
              "    <tr>\n",
              "      <th>6</th>\n",
              "      <td>25 a 29</td>\n",
              "      <td>46609</td>\n",
              "      <td>48085.00853</td>\n",
              "      <td>49620.73074</td>\n",
              "      <td>51048.87188</td>\n",
              "      <td>52154.81258</td>\n",
              "      <td>52786.59816</td>\n",
              "      <td>52902.79645</td>\n",
              "      <td>52545.51250</td>\n",
              "      <td>51757.30033</td>\n",
              "      <td>50614.79293</td>\n",
              "      <td>49193.36566</td>\n",
              "      <td>47488.15086</td>\n",
              "      <td>45536.70228</td>\n",
              "      <td>43510.79258</td>\n",
              "      <td>41629.77444</td>\n",
              "      <td>40054.70365</td>\n",
              "      <td>38873.61021</td>\n",
              "      <td>38070.12646</td>\n",
              "      <td>37545.32429</td>\n",
              "      <td>37159.07542</td>\n",
              "      <td>36817.35179</td>\n",
              "      <td>36540.43917</td>\n",
              "      <td>36419.34581</td>\n",
              "      <td>36563.43663</td>\n",
              "      <td>37110.57877</td>\n",
              "      <td>38183.72867</td>\n",
              "    </tr>\n",
              "    <tr>\n",
              "      <th>7</th>\n",
              "      <td>30 a 34</td>\n",
              "      <td>37578</td>\n",
              "      <td>38084.34272</td>\n",
              "      <td>38809.52493</td>\n",
              "      <td>39739.06682</td>\n",
              "      <td>40847.57696</td>\n",
              "      <td>42097.92394</td>\n",
              "      <td>43487.61628</td>\n",
              "      <td>44955.65587</td>\n",
              "      <td>46336.19115</td>\n",
              "      <td>47416.81036</td>\n",
              "      <td>48046.60922</td>\n",
              "      <td>48183.86083</td>\n",
              "      <td>47870.39823</td>\n",
              "      <td>47147.92175</td>\n",
              "      <td>46091.90914</td>\n",
              "      <td>44777.17721</td>\n",
              "      <td>43198.80597</td>\n",
              "      <td>41393.60936</td>\n",
              "      <td>39532.36302</td>\n",
              "      <td>37832.53312</td>\n",
              "      <td>36453.72539</td>\n",
              "      <td>35483.86360</td>\n",
              "      <td>34906.95360</td>\n",
              "      <td>34624.51077</td>\n",
              "      <td>34497.79791</td>\n",
              "      <td>34433.73264</td>\n",
              "    </tr>\n",
              "    <tr>\n",
              "      <th>8</th>\n",
              "      <td>35 a 39</td>\n",
              "      <td>33243</td>\n",
              "      <td>33032.28562</td>\n",
              "      <td>32819.39235</td>\n",
              "      <td>32668.46410</td>\n",
              "      <td>32660.52512</td>\n",
              "      <td>32849.83919</td>\n",
              "      <td>33269.93469</td>\n",
              "      <td>33925.93669</td>\n",
              "      <td>34803.61438</td>\n",
              "      <td>35878.29877</td>\n",
              "      <td>37113.42174</td>\n",
              "      <td>38506.19256</td>\n",
              "      <td>39996.64557</td>\n",
              "      <td>41420.58782</td>\n",
              "      <td>42567.46484</td>\n",
              "      <td>43287.97833</td>\n",
              "      <td>43540.82767</td>\n",
              "      <td>43366.95380</td>\n",
              "      <td>42807.79534</td>\n",
              "      <td>41937.54513</td>\n",
              "      <td>40829.71334</td>\n",
              "      <td>39479.69348</td>\n",
              "      <td>37924.08544</td>\n",
              "      <td>36331.67427</td>\n",
              "      <td>34918.43210</td>\n",
              "      <td>33842.99224</td>\n",
              "    </tr>\n",
              "    <tr>\n",
              "      <th>9</th>\n",
              "      <td>40 a 44</td>\n",
              "      <td>30190</td>\n",
              "      <td>30226.97499</td>\n",
              "      <td>30173.06015</td>\n",
              "      <td>30041.19025</td>\n",
              "      <td>29847.44560</td>\n",
              "      <td>29610.03547</td>\n",
              "      <td>29346.32990</td>\n",
              "      <td>29094.41861</td>\n",
              "      <td>28917.50475</td>\n",
              "      <td>28895.63638</td>\n",
              "      <td>29082.44994</td>\n",
              "      <td>29510.61758</td>\n",
              "      <td>30185.46517</td>\n",
              "      <td>31093.26963</td>\n",
              "      <td>32209.85515</td>\n",
              "      <td>33499.54360</td>\n",
              "      <td>34959.76678</td>\n",
              "      <td>36531.02051</td>\n",
              "      <td>38051.44097</td>\n",
              "      <td>39312.77123</td>\n",
              "      <td>40167.09809</td>\n",
              "      <td>40573.95494</td>\n",
              "      <td>40573.87422</td>\n",
              "      <td>40207.00612</td>\n",
              "      <td>39546.49394</td>\n",
              "      <td>38664.79064</td>\n",
              "    </tr>\n",
              "  </tbody>\n",
              "</table>\n",
              "</div>"
            ],
            "text/plain": [
              "                #    2000  ...          2024          2025\n",
              "0  Asuncion-Total  527712  ...  521630.49700  522615.83870\n",
              "1           0 a 4   48938  ...   36440.59703   36335.13143\n",
              "2           5 a 9   47774  ...   38459.17976   37692.59410\n",
              "3         10 a 14   49455  ...   42292.58316   41312.10081\n",
              "4         15 a 19   56256  ...   44972.00701   44463.84133\n",
              "5         20 a 24   56546  ...   43872.94654   44168.23864\n",
              "6         25 a 29   46609  ...   37110.57877   38183.72867\n",
              "7         30 a 34   37578  ...   34497.79791   34433.73264\n",
              "8         35 a 39   33243  ...   34918.43210   33842.99224\n",
              "9         40 a 44   30190  ...   39546.49394   38664.79064\n",
              "\n",
              "[10 rows x 27 columns]"
            ]
          },
          "metadata": {
            "tags": []
          },
          "execution_count": 13
        }
      ]
    },
    {
      "cell_type": "code",
      "metadata": {
        "colab": {
          "base_uri": "https://localhost:8080/",
          "height": 581
        },
        "id": "1aDH2DA3QJZh",
        "outputId": "21ca6420-4aa3-4736-887e-31b1fe9f81ec"
      },
      "source": [
        "poblacion.tail(8)"
      ],
      "execution_count": null,
      "outputs": [
        {
          "output_type": "execute_result",
          "data": {
            "text/html": [
              "<div>\n",
              "<style scoped>\n",
              "    .dataframe tbody tr th:only-of-type {\n",
              "        vertical-align: middle;\n",
              "    }\n",
              "\n",
              "    .dataframe tbody tr th {\n",
              "        vertical-align: top;\n",
              "    }\n",
              "\n",
              "    .dataframe thead th {\n",
              "        text-align: right;\n",
              "    }\n",
              "</style>\n",
              "<table border=\"1\" class=\"dataframe\">\n",
              "  <thead>\n",
              "    <tr style=\"text-align: right;\">\n",
              "      <th></th>\n",
              "      <th>#</th>\n",
              "      <th>2000</th>\n",
              "      <th>2001</th>\n",
              "      <th>2002</th>\n",
              "      <th>2003</th>\n",
              "      <th>2004</th>\n",
              "      <th>2005</th>\n",
              "      <th>2006</th>\n",
              "      <th>2007</th>\n",
              "      <th>2008</th>\n",
              "      <th>2009</th>\n",
              "      <th>2010</th>\n",
              "      <th>2011</th>\n",
              "      <th>2012</th>\n",
              "      <th>2013</th>\n",
              "      <th>2014</th>\n",
              "      <th>2015</th>\n",
              "      <th>2016</th>\n",
              "      <th>2017</th>\n",
              "      <th>2018</th>\n",
              "      <th>2019</th>\n",
              "      <th>2020</th>\n",
              "      <th>2021</th>\n",
              "      <th>2022</th>\n",
              "      <th>2023</th>\n",
              "      <th>2024</th>\n",
              "      <th>2025</th>\n",
              "    </tr>\n",
              "  </thead>\n",
              "  <tbody>\n",
              "    <tr>\n",
              "      <th>46</th>\n",
              "      <td>45 a 49</td>\n",
              "      <td>14559</td>\n",
              "      <td>14753.951120</td>\n",
              "      <td>14914.205930</td>\n",
              "      <td>15039.400140</td>\n",
              "      <td>15130.003590</td>\n",
              "      <td>15187.893260</td>\n",
              "      <td>15208.581740</td>\n",
              "      <td>15186.775970</td>\n",
              "      <td>15124.289870</td>\n",
              "      <td>15023.046530</td>\n",
              "      <td>14889.002940</td>\n",
              "      <td>14727.737560</td>\n",
              "      <td>14562.879490</td>\n",
              "      <td>14439.412450</td>\n",
              "      <td>14415.362970</td>\n",
              "      <td>14530.715660</td>\n",
              "      <td>14799.179910</td>\n",
              "      <td>15216.006850</td>\n",
              "      <td>15776.325760</td>\n",
              "      <td>16468.865410</td>\n",
              "      <td>17273.367390</td>\n",
              "      <td>18194.956820</td>\n",
              "      <td>19199.478080</td>\n",
              "      <td>20178.790550</td>\n",
              "      <td>20993.225770</td>\n",
              "      <td>21542.397350</td>\n",
              "    </tr>\n",
              "    <tr>\n",
              "      <th>47</th>\n",
              "      <td>50 a 54</td>\n",
              "      <td>12317</td>\n",
              "      <td>12571.518700</td>\n",
              "      <td>12829.210670</td>\n",
              "      <td>13081.259680</td>\n",
              "      <td>13316.433910</td>\n",
              "      <td>13526.699700</td>\n",
              "      <td>13707.787560</td>\n",
              "      <td>13858.340000</td>\n",
              "      <td>13977.814010</td>\n",
              "      <td>14066.689910</td>\n",
              "      <td>14126.763200</td>\n",
              "      <td>14153.504140</td>\n",
              "      <td>14141.777130</td>\n",
              "      <td>14093.242530</td>\n",
              "      <td>14009.674600</td>\n",
              "      <td>13896.977600</td>\n",
              "      <td>13760.532390</td>\n",
              "      <td>13623.273570</td>\n",
              "      <td>13529.402460</td>\n",
              "      <td>13535.651050</td>\n",
              "      <td>13681.191820</td>\n",
              "      <td>13979.431790</td>\n",
              "      <td>14425.802850</td>\n",
              "      <td>15015.695160</td>\n",
              "      <td>15738.551170</td>\n",
              "      <td>16574.679450</td>\n",
              "    </tr>\n",
              "    <tr>\n",
              "      <th>48</th>\n",
              "      <td>55 a 59</td>\n",
              "      <td>10275</td>\n",
              "      <td>10453.675890</td>\n",
              "      <td>10649.276310</td>\n",
              "      <td>10859.978780</td>\n",
              "      <td>11082.703820</td>\n",
              "      <td>11314.233780</td>\n",
              "      <td>11554.295760</td>\n",
              "      <td>11799.969220</td>\n",
              "      <td>12042.674750</td>\n",
              "      <td>12271.728300</td>\n",
              "      <td>12479.461750</td>\n",
              "      <td>12661.667290</td>\n",
              "      <td>12817.076240</td>\n",
              "      <td>12945.021820</td>\n",
              "      <td>13045.844080</td>\n",
              "      <td>13121.300830</td>\n",
              "      <td>13166.935700</td>\n",
              "      <td>13177.587650</td>\n",
              "      <td>13154.966930</td>\n",
              "      <td>13100.621150</td>\n",
              "      <td>13020.243260</td>\n",
              "      <td>12919.003510</td>\n",
              "      <td>12819.163940</td>\n",
              "      <td>12763.594360</td>\n",
              "      <td>12807.612650</td>\n",
              "      <td>12989.243250</td>\n",
              "    </tr>\n",
              "    <tr>\n",
              "      <th>49</th>\n",
              "      <td>60 a 64</td>\n",
              "      <td>8671</td>\n",
              "      <td>8780.328807</td>\n",
              "      <td>8883.982829</td>\n",
              "      <td>8990.633938</td>\n",
              "      <td>9112.315808</td>\n",
              "      <td>9257.042131</td>\n",
              "      <td>9424.470055</td>\n",
              "      <td>9609.813870</td>\n",
              "      <td>9811.324913</td>\n",
              "      <td>10026.309150</td>\n",
              "      <td>10251.893010</td>\n",
              "      <td>10487.731210</td>\n",
              "      <td>10731.095060</td>\n",
              "      <td>10973.779200</td>\n",
              "      <td>11205.644290</td>\n",
              "      <td>11419.486830</td>\n",
              "      <td>11611.271790</td>\n",
              "      <td>11779.610270</td>\n",
              "      <td>11923.952690</td>\n",
              "      <td>12044.407750</td>\n",
              "      <td>12142.578440</td>\n",
              "      <td>12214.166050</td>\n",
              "      <td>12254.248780</td>\n",
              "      <td>12264.301660</td>\n",
              "      <td>12245.944160</td>\n",
              "      <td>12204.484090</td>\n",
              "    </tr>\n",
              "    <tr>\n",
              "      <th>50</th>\n",
              "      <td>65 a 69</td>\n",
              "      <td>7122</td>\n",
              "      <td>7163.637656</td>\n",
              "      <td>7248.435714</td>\n",
              "      <td>7361.062908</td>\n",
              "      <td>7480.147368</td>\n",
              "      <td>7591.796369</td>\n",
              "      <td>7693.267342</td>\n",
              "      <td>7791.341496</td>\n",
              "      <td>7893.874558</td>\n",
              "      <td>8011.968421</td>\n",
              "      <td>8153.066387</td>\n",
              "      <td>8316.754065</td>\n",
              "      <td>8498.724096</td>\n",
              "      <td>8697.369953</td>\n",
              "      <td>8910.318651</td>\n",
              "      <td>9135.040013</td>\n",
              "      <td>9371.140826</td>\n",
              "      <td>9615.887816</td>\n",
              "      <td>9861.824072</td>\n",
              "      <td>10099.431380</td>\n",
              "      <td>10322.029580</td>\n",
              "      <td>10525.883900</td>\n",
              "      <td>10709.743850</td>\n",
              "      <td>10872.910210</td>\n",
              "      <td>11015.609800</td>\n",
              "      <td>11139.098120</td>\n",
              "    </tr>\n",
              "    <tr>\n",
              "      <th>51</th>\n",
              "      <td>70 a 74</td>\n",
              "      <td>6198</td>\n",
              "      <td>6160.285224</td>\n",
              "      <td>6096.618823</td>\n",
              "      <td>6029.509700</td>\n",
              "      <td>5984.675401</td>\n",
              "      <td>5980.026889</td>\n",
              "      <td>6021.105991</td>\n",
              "      <td>6100.800183</td>\n",
              "      <td>6205.671853</td>\n",
              "      <td>6317.282382</td>\n",
              "      <td>6423.794819</td>\n",
              "      <td>6522.895984</td>\n",
              "      <td>6620.693067</td>\n",
              "      <td>6724.095094</td>\n",
              "      <td>6842.912789</td>\n",
              "      <td>6983.724605</td>\n",
              "      <td>7146.028575</td>\n",
              "      <td>7325.860671</td>\n",
              "      <td>7522.036168</td>\n",
              "      <td>7732.481626</td>\n",
              "      <td>7955.042434</td>\n",
              "      <td>8189.338609</td>\n",
              "      <td>8432.904661</td>\n",
              "      <td>8678.920210</td>\n",
              "      <td>8919.063910</td>\n",
              "      <td>9147.158934</td>\n",
              "    </tr>\n",
              "    <tr>\n",
              "      <th>52</th>\n",
              "      <td>75 a 79</td>\n",
              "      <td>4553</td>\n",
              "      <td>4683.760664</td>\n",
              "      <td>4791.718306</td>\n",
              "      <td>4869.467647</td>\n",
              "      <td>4911.623793</td>\n",
              "      <td>4916.885751</td>\n",
              "      <td>4890.028421</td>\n",
              "      <td>4842.797099</td>\n",
              "      <td>4793.845108</td>\n",
              "      <td>4764.648039</td>\n",
              "      <td>4770.113671</td>\n",
              "      <td>4814.553584</td>\n",
              "      <td>4891.878193</td>\n",
              "      <td>4990.872393</td>\n",
              "      <td>5096.360985</td>\n",
              "      <td>5198.676200</td>\n",
              "      <td>5295.972421</td>\n",
              "      <td>5393.341183</td>\n",
              "      <td>5496.803758</td>\n",
              "      <td>5614.548267</td>\n",
              "      <td>5752.107511</td>\n",
              "      <td>5908.952466</td>\n",
              "      <td>6081.765335</td>\n",
              "      <td>6269.563508</td>\n",
              "      <td>6470.966097</td>\n",
              "      <td>6684.091771</td>\n",
              "    </tr>\n",
              "    <tr>\n",
              "      <th>53</th>\n",
              "      <td>80 y+</td>\n",
              "      <td>5671</td>\n",
              "      <td>5782.668435</td>\n",
              "      <td>5910.895302</td>\n",
              "      <td>6054.250049</td>\n",
              "      <td>6209.479468</td>\n",
              "      <td>6372.097499</td>\n",
              "      <td>6536.017254</td>\n",
              "      <td>6694.391926</td>\n",
              "      <td>6841.151952</td>\n",
              "      <td>6970.815331</td>\n",
              "      <td>7080.302802</td>\n",
              "      <td>7169.680660</td>\n",
              "      <td>7243.824339</td>\n",
              "      <td>7312.919906</td>\n",
              "      <td>7389.180442</td>\n",
              "      <td>7480.621005</td>\n",
              "      <td>7588.865538</td>\n",
              "      <td>7711.130043</td>\n",
              "      <td>7845.588645</td>\n",
              "      <td>7989.117466</td>\n",
              "      <td>8140.412803</td>\n",
              "      <td>8299.713780</td>\n",
              "      <td>8469.464956</td>\n",
              "      <td>8653.099176</td>\n",
              "      <td>8854.911692</td>\n",
              "      <td>9077.692782</td>\n",
              "    </tr>\n",
              "  </tbody>\n",
              "</table>\n",
              "</div>"
            ],
            "text/plain": [
              "          #   2000          2001  ...          2023          2024          2025\n",
              "46  45 a 49  14559  14753.951120  ...  20178.790550  20993.225770  21542.397350\n",
              "47  50 a 54  12317  12571.518700  ...  15015.695160  15738.551170  16574.679450\n",
              "48  55 a 59  10275  10453.675890  ...  12763.594360  12807.612650  12989.243250\n",
              "49  60 a 64   8671   8780.328807  ...  12264.301660  12245.944160  12204.484090\n",
              "50  65 a 69   7122   7163.637656  ...  10872.910210  11015.609800  11139.098120\n",
              "51  70 a 74   6198   6160.285224  ...   8678.920210   8919.063910   9147.158934\n",
              "52  75 a 79   4553   4683.760664  ...   6269.563508   6470.966097   6684.091771\n",
              "53    80 y+   5671   5782.668435  ...   8653.099176   8854.911692   9077.692782\n",
              "\n",
              "[8 rows x 27 columns]"
            ]
          },
          "metadata": {
            "tags": []
          },
          "execution_count": 15
        }
      ]
    },
    {
      "cell_type": "markdown",
      "metadata": {
        "id": "6SuiXFjpwA8T"
      },
      "source": [
        "## Selección de columnas, filas, selección de segmentos de tabla y selección condicional"
      ]
    },
    {
      "cell_type": "code",
      "metadata": {
        "id": "RYM6i3VzvpF0",
        "colab": {
          "base_uri": "https://localhost:8080/",
          "height": 112
        },
        "outputId": "6a1f79ac-3d37-4544-abb6-c1d9431db5b9"
      },
      "source": [
        "poblacion[['#',2022,2023]].head(2)"
      ],
      "execution_count": null,
      "outputs": [
        {
          "output_type": "execute_result",
          "data": {
            "text/html": [
              "<div>\n",
              "<style scoped>\n",
              "    .dataframe tbody tr th:only-of-type {\n",
              "        vertical-align: middle;\n",
              "    }\n",
              "\n",
              "    .dataframe tbody tr th {\n",
              "        vertical-align: top;\n",
              "    }\n",
              "\n",
              "    .dataframe thead th {\n",
              "        text-align: right;\n",
              "    }\n",
              "</style>\n",
              "<table border=\"1\" class=\"dataframe\">\n",
              "  <thead>\n",
              "    <tr style=\"text-align: right;\">\n",
              "      <th></th>\n",
              "      <th>#</th>\n",
              "      <th>2022</th>\n",
              "      <th>2023</th>\n",
              "    </tr>\n",
              "  </thead>\n",
              "  <tbody>\n",
              "    <tr>\n",
              "      <th>0</th>\n",
              "      <td>Asuncion-Total</td>\n",
              "      <td>520917.44110</td>\n",
              "      <td>521091.10960</td>\n",
              "    </tr>\n",
              "    <tr>\n",
              "      <th>1</th>\n",
              "      <td>0 a 4</td>\n",
              "      <td>37093.77102</td>\n",
              "      <td>36700.12936</td>\n",
              "    </tr>\n",
              "  </tbody>\n",
              "</table>\n",
              "</div>"
            ],
            "text/plain": [
              "                #          2022          2023\n",
              "0  Asuncion-Total  520917.44110  521091.10960\n",
              "1           0 a 4   37093.77102   36700.12936"
            ]
          },
          "metadata": {
            "tags": []
          },
          "execution_count": 21
        }
      ]
    },
    {
      "cell_type": "code",
      "metadata": {
        "colab": {
          "base_uri": "https://localhost:8080/"
        },
        "id": "ZkRrhGT2Rn4-",
        "outputId": "811e61e8-142c-4c16-ab5e-aa16607be36b"
      },
      "source": [
        "list(range(2000, 2011))"
      ],
      "execution_count": null,
      "outputs": [
        {
          "output_type": "execute_result",
          "data": {
            "text/plain": [
              "[2000, 2001, 2002, 2003, 2004, 2005, 2006, 2007, 2008, 2009, 2010]"
            ]
          },
          "metadata": {
            "tags": []
          },
          "execution_count": 24
        }
      ]
    },
    {
      "cell_type": "code",
      "metadata": {
        "colab": {
          "base_uri": "https://localhost:8080/",
          "height": 226
        },
        "id": "SSH3pGEjR8uD",
        "outputId": "f3fccb64-9eb1-434a-b4dd-2cdf02c61667"
      },
      "source": [
        "poblacion[list(range(2000, 2011))].head()"
      ],
      "execution_count": null,
      "outputs": [
        {
          "output_type": "execute_result",
          "data": {
            "text/html": [
              "<div>\n",
              "<style scoped>\n",
              "    .dataframe tbody tr th:only-of-type {\n",
              "        vertical-align: middle;\n",
              "    }\n",
              "\n",
              "    .dataframe tbody tr th {\n",
              "        vertical-align: top;\n",
              "    }\n",
              "\n",
              "    .dataframe thead th {\n",
              "        text-align: right;\n",
              "    }\n",
              "</style>\n",
              "<table border=\"1\" class=\"dataframe\">\n",
              "  <thead>\n",
              "    <tr style=\"text-align: right;\">\n",
              "      <th></th>\n",
              "      <th>2000</th>\n",
              "      <th>2001</th>\n",
              "      <th>2002</th>\n",
              "      <th>2003</th>\n",
              "      <th>2004</th>\n",
              "      <th>2005</th>\n",
              "      <th>2006</th>\n",
              "      <th>2007</th>\n",
              "      <th>2008</th>\n",
              "      <th>2009</th>\n",
              "      <th>2010</th>\n",
              "    </tr>\n",
              "  </thead>\n",
              "  <tbody>\n",
              "    <tr>\n",
              "      <th>0</th>\n",
              "      <td>527712</td>\n",
              "      <td>528865.42170</td>\n",
              "      <td>529802.84880</td>\n",
              "      <td>530565.21180</td>\n",
              "      <td>531153.41720</td>\n",
              "      <td>531561.05870</td>\n",
              "      <td>531780.91790</td>\n",
              "      <td>531831.03410</td>\n",
              "      <td>531701.20830</td>\n",
              "      <td>531388.90870</td>\n",
              "      <td>530895.41600</td>\n",
              "    </tr>\n",
              "    <tr>\n",
              "      <th>1</th>\n",
              "      <td>48938</td>\n",
              "      <td>49810.19573</td>\n",
              "      <td>50614.80990</td>\n",
              "      <td>51276.77317</td>\n",
              "      <td>51653.78400</td>\n",
              "      <td>51592.29355</td>\n",
              "      <td>51307.54161</td>\n",
              "      <td>50929.79009</td>\n",
              "      <td>50409.99215</td>\n",
              "      <td>49742.00536</td>\n",
              "      <td>48932.31795</td>\n",
              "    </tr>\n",
              "    <tr>\n",
              "      <th>2</th>\n",
              "      <td>47774</td>\n",
              "      <td>47276.68816</td>\n",
              "      <td>46890.51326</td>\n",
              "      <td>46726.99726</td>\n",
              "      <td>46926.23392</td>\n",
              "      <td>47612.88279</td>\n",
              "      <td>48470.37335</td>\n",
              "      <td>49266.64140</td>\n",
              "      <td>49925.83041</td>\n",
              "      <td>50306.09144</td>\n",
              "      <td>50254.11174</td>\n",
              "    </tr>\n",
              "    <tr>\n",
              "      <th>3</th>\n",
              "      <td>49455</td>\n",
              "      <td>48183.84797</td>\n",
              "      <td>47261.66574</td>\n",
              "      <td>46586.89934</td>\n",
              "      <td>46016.27717</td>\n",
              "      <td>45453.72993</td>\n",
              "      <td>44919.47089</td>\n",
              "      <td>44505.73552</td>\n",
              "      <td>44323.69935</td>\n",
              "      <td>44513.18218</td>\n",
              "      <td>45198.53779</td>\n",
              "    </tr>\n",
              "    <tr>\n",
              "      <th>4</th>\n",
              "      <td>56256</td>\n",
              "      <td>54545.90015</td>\n",
              "      <td>52559.77590</td>\n",
              "      <td>50472.67116</td>\n",
              "      <td>48507.43540</td>\n",
              "      <td>46827.38461</td>\n",
              "      <td>45522.02566</td>\n",
              "      <td>44574.36024</td>\n",
              "      <td>43883.27158</td>\n",
              "      <td>43306.37551</td>\n",
              "      <td>42748.07242</td>\n",
              "    </tr>\n",
              "  </tbody>\n",
              "</table>\n",
              "</div>"
            ],
            "text/plain": [
              "     2000          2001          2002  ...          2008          2009          2010\n",
              "0  527712  528865.42170  529802.84880  ...  531701.20830  531388.90870  530895.41600\n",
              "1   48938   49810.19573   50614.80990  ...   50409.99215   49742.00536   48932.31795\n",
              "2   47774   47276.68816   46890.51326  ...   49925.83041   50306.09144   50254.11174\n",
              "3   49455   48183.84797   47261.66574  ...   44323.69935   44513.18218   45198.53779\n",
              "4   56256   54545.90015   52559.77590  ...   43883.27158   43306.37551   42748.07242\n",
              "\n",
              "[5 rows x 11 columns]"
            ]
          },
          "metadata": {
            "tags": []
          },
          "execution_count": 26
        }
      ]
    },
    {
      "cell_type": "code",
      "metadata": {
        "colab": {
          "base_uri": "https://localhost:8080/",
          "height": 268
        },
        "id": "bzdRs14kSGw0",
        "outputId": "37092c09-ad0b-4b52-84ee-0a9862a0987f"
      },
      "source": [
        "poblacion.loc[[3, 4, 5]]"
      ],
      "execution_count": null,
      "outputs": [
        {
          "output_type": "execute_result",
          "data": {
            "text/html": [
              "<div>\n",
              "<style scoped>\n",
              "    .dataframe tbody tr th:only-of-type {\n",
              "        vertical-align: middle;\n",
              "    }\n",
              "\n",
              "    .dataframe tbody tr th {\n",
              "        vertical-align: top;\n",
              "    }\n",
              "\n",
              "    .dataframe thead th {\n",
              "        text-align: right;\n",
              "    }\n",
              "</style>\n",
              "<table border=\"1\" class=\"dataframe\">\n",
              "  <thead>\n",
              "    <tr style=\"text-align: right;\">\n",
              "      <th></th>\n",
              "      <th>#</th>\n",
              "      <th>2000</th>\n",
              "      <th>2001</th>\n",
              "      <th>2002</th>\n",
              "      <th>2003</th>\n",
              "      <th>2004</th>\n",
              "      <th>2005</th>\n",
              "      <th>2006</th>\n",
              "      <th>2007</th>\n",
              "      <th>2008</th>\n",
              "      <th>2009</th>\n",
              "      <th>2010</th>\n",
              "      <th>2011</th>\n",
              "      <th>2012</th>\n",
              "      <th>2013</th>\n",
              "      <th>2014</th>\n",
              "      <th>2015</th>\n",
              "      <th>2016</th>\n",
              "      <th>2017</th>\n",
              "      <th>2018</th>\n",
              "      <th>2019</th>\n",
              "      <th>2020</th>\n",
              "      <th>2021</th>\n",
              "      <th>2022</th>\n",
              "      <th>2023</th>\n",
              "      <th>2024</th>\n",
              "      <th>2025</th>\n",
              "    </tr>\n",
              "  </thead>\n",
              "  <tbody>\n",
              "    <tr>\n",
              "      <th>3</th>\n",
              "      <td>10 a 14</td>\n",
              "      <td>49455</td>\n",
              "      <td>48183.84797</td>\n",
              "      <td>47261.66574</td>\n",
              "      <td>46586.89934</td>\n",
              "      <td>46016.27717</td>\n",
              "      <td>45453.72993</td>\n",
              "      <td>44919.47089</td>\n",
              "      <td>44505.73552</td>\n",
              "      <td>44323.69935</td>\n",
              "      <td>44513.18218</td>\n",
              "      <td>45198.53779</td>\n",
              "      <td>46063.95748</td>\n",
              "      <td>46878.26468</td>\n",
              "      <td>47565.73732</td>\n",
              "      <td>47984.78361</td>\n",
              "      <td>47982.56615</td>\n",
              "      <td>47772.98544</td>\n",
              "      <td>47485.28037</td>\n",
              "      <td>47070.79494</td>\n",
              "      <td>46523.19994</td>\n",
              "      <td>45848.88175</td>\n",
              "      <td>45064.62452</td>\n",
              "      <td>44198.72105</td>\n",
              "      <td>43277.94094</td>\n",
              "      <td>42292.58316</td>\n",
              "      <td>41312.10081</td>\n",
              "    </tr>\n",
              "    <tr>\n",
              "      <th>4</th>\n",
              "      <td>15 a 19</td>\n",
              "      <td>56256</td>\n",
              "      <td>54545.90015</td>\n",
              "      <td>52559.77590</td>\n",
              "      <td>50472.67116</td>\n",
              "      <td>48507.43540</td>\n",
              "      <td>46827.38461</td>\n",
              "      <td>45522.02566</td>\n",
              "      <td>44574.36024</td>\n",
              "      <td>43883.27158</td>\n",
              "      <td>43306.37551</td>\n",
              "      <td>42748.07242</td>\n",
              "      <td>42228.42178</td>\n",
              "      <td>41839.65084</td>\n",
              "      <td>41692.51263</td>\n",
              "      <td>41926.30201</td>\n",
              "      <td>42665.09752</td>\n",
              "      <td>43593.93621</td>\n",
              "      <td>44482.32690</td>\n",
              "      <td>45255.15262</td>\n",
              "      <td>45771.38328</td>\n",
              "      <td>45878.70577</td>\n",
              "      <td>45790.56760</td>\n",
              "      <td>45635.49235</td>\n",
              "      <td>45364.69630</td>\n",
              "      <td>44972.00701</td>\n",
              "      <td>44463.84133</td>\n",
              "    </tr>\n",
              "    <tr>\n",
              "      <th>5</th>\n",
              "      <td>20 a 24</td>\n",
              "      <td>56546</td>\n",
              "      <td>56715.87452</td>\n",
              "      <td>56392.52646</td>\n",
              "      <td>55619.63205</td>\n",
              "      <td>54474.78348</td>\n",
              "      <td>53034.55248</td>\n",
              "      <td>51294.68764</td>\n",
              "      <td>49292.90756</td>\n",
              "      <td>47202.62854</td>\n",
              "      <td>45245.11537</td>\n",
              "      <td>43582.28666</td>\n",
              "      <td>42302.64742</td>\n",
              "      <td>41389.72637</td>\n",
              "      <td>40743.22642</td>\n",
              "      <td>40221.94561</td>\n",
              "      <td>39731.34159</td>\n",
              "      <td>39291.50469</td>\n",
              "      <td>38994.00166</td>\n",
              "      <td>38949.21339</td>\n",
              "      <td>39295.54127</td>\n",
              "      <td>40156.25540</td>\n",
              "      <td>41218.05509</td>\n",
              "      <td>42252.19438</td>\n",
              "      <td>43183.81325</td>\n",
              "      <td>43872.94654</td>\n",
              "      <td>44168.23864</td>\n",
              "    </tr>\n",
              "  </tbody>\n",
              "</table>\n",
              "</div>"
            ],
            "text/plain": [
              "         #   2000         2001  ...         2023         2024         2025\n",
              "3  10 a 14  49455  48183.84797  ...  43277.94094  42292.58316  41312.10081\n",
              "4  15 a 19  56256  54545.90015  ...  45364.69630  44972.00701  44463.84133\n",
              "5  20 a 24  56546  56715.87452  ...  43183.81325  43872.94654  44168.23864\n",
              "\n",
              "[3 rows x 27 columns]"
            ]
          },
          "metadata": {
            "tags": []
          },
          "execution_count": 34
        }
      ]
    },
    {
      "cell_type": "code",
      "metadata": {
        "colab": {
          "base_uri": "https://localhost:8080/",
          "height": 143
        },
        "id": "QeCTxAcOSYwh",
        "outputId": "9b4c4f62-b1c4-4999-c326-895862412ef5"
      },
      "source": [
        "poblacion[[2021,2022, 2023]].loc[[3, 4, 5]]"
      ],
      "execution_count": null,
      "outputs": [
        {
          "output_type": "execute_result",
          "data": {
            "text/html": [
              "<div>\n",
              "<style scoped>\n",
              "    .dataframe tbody tr th:only-of-type {\n",
              "        vertical-align: middle;\n",
              "    }\n",
              "\n",
              "    .dataframe tbody tr th {\n",
              "        vertical-align: top;\n",
              "    }\n",
              "\n",
              "    .dataframe thead th {\n",
              "        text-align: right;\n",
              "    }\n",
              "</style>\n",
              "<table border=\"1\" class=\"dataframe\">\n",
              "  <thead>\n",
              "    <tr style=\"text-align: right;\">\n",
              "      <th></th>\n",
              "      <th>2021</th>\n",
              "      <th>2022</th>\n",
              "      <th>2023</th>\n",
              "    </tr>\n",
              "  </thead>\n",
              "  <tbody>\n",
              "    <tr>\n",
              "      <th>3</th>\n",
              "      <td>45064.62452</td>\n",
              "      <td>44198.72105</td>\n",
              "      <td>43277.94094</td>\n",
              "    </tr>\n",
              "    <tr>\n",
              "      <th>4</th>\n",
              "      <td>45790.56760</td>\n",
              "      <td>45635.49235</td>\n",
              "      <td>45364.69630</td>\n",
              "    </tr>\n",
              "    <tr>\n",
              "      <th>5</th>\n",
              "      <td>41218.05509</td>\n",
              "      <td>42252.19438</td>\n",
              "      <td>43183.81325</td>\n",
              "    </tr>\n",
              "  </tbody>\n",
              "</table>\n",
              "</div>"
            ],
            "text/plain": [
              "          2021         2022         2023\n",
              "3  45064.62452  44198.72105  43277.94094\n",
              "4  45790.56760  45635.49235  45364.69630\n",
              "5  41218.05509  42252.19438  43183.81325"
            ]
          },
          "metadata": {
            "tags": []
          },
          "execution_count": 35
        }
      ]
    },
    {
      "cell_type": "code",
      "metadata": {
        "colab": {
          "base_uri": "https://localhost:8080/"
        },
        "id": "1ixltJsWSkyE",
        "outputId": "2c514684-8d93-4997-f536-b4a9e06f95e0"
      },
      "source": [
        "poblacion.loc[3,[2021,2022, 2023]]"
      ],
      "execution_count": null,
      "outputs": [
        {
          "output_type": "execute_result",
          "data": {
            "text/plain": [
              "2021    45064.6\n",
              "2022    44198.7\n",
              "2023    43277.9\n",
              "Name: 3, dtype: object"
            ]
          },
          "metadata": {
            "tags": []
          },
          "execution_count": 29
        }
      ]
    },
    {
      "cell_type": "code",
      "metadata": {
        "id": "1dMTeJv7lO8T"
      },
      "source": [
        "nueva_poblacion = poblacion[[2021,2022,2023]].loc[0:10]"
      ],
      "execution_count": 5,
      "outputs": []
    },
    {
      "cell_type": "code",
      "metadata": {
        "colab": {
          "base_uri": "https://localhost:8080/",
          "height": 394
        },
        "id": "TZrTMZptlpBJ",
        "outputId": "31c31f04-fe8b-4e51-df2b-f01703617c5f"
      },
      "source": [
        "nueva_poblacion"
      ],
      "execution_count": 6,
      "outputs": [
        {
          "output_type": "execute_result",
          "data": {
            "text/html": [
              "<div>\n",
              "<style scoped>\n",
              "    .dataframe tbody tr th:only-of-type {\n",
              "        vertical-align: middle;\n",
              "    }\n",
              "\n",
              "    .dataframe tbody tr th {\n",
              "        vertical-align: top;\n",
              "    }\n",
              "\n",
              "    .dataframe thead th {\n",
              "        text-align: right;\n",
              "    }\n",
              "</style>\n",
              "<table border=\"1\" class=\"dataframe\">\n",
              "  <thead>\n",
              "    <tr style=\"text-align: right;\">\n",
              "      <th></th>\n",
              "      <th>2021</th>\n",
              "      <th>2022</th>\n",
              "      <th>2023</th>\n",
              "    </tr>\n",
              "  </thead>\n",
              "  <tbody>\n",
              "    <tr>\n",
              "      <th>0</th>\n",
              "      <td>521101.15060</td>\n",
              "      <td>520917.44110</td>\n",
              "      <td>521091.10960</td>\n",
              "    </tr>\n",
              "    <tr>\n",
              "      <th>1</th>\n",
              "      <td>37627.34036</td>\n",
              "      <td>37093.77102</td>\n",
              "      <td>36700.12936</td>\n",
              "    </tr>\n",
              "    <tr>\n",
              "      <th>2</th>\n",
              "      <td>41425.02399</td>\n",
              "      <td>40337.37378</td>\n",
              "      <td>39338.98792</td>\n",
              "    </tr>\n",
              "    <tr>\n",
              "      <th>3</th>\n",
              "      <td>45064.62452</td>\n",
              "      <td>44198.72105</td>\n",
              "      <td>43277.94094</td>\n",
              "    </tr>\n",
              "    <tr>\n",
              "      <th>4</th>\n",
              "      <td>45790.56760</td>\n",
              "      <td>45635.49235</td>\n",
              "      <td>45364.69630</td>\n",
              "    </tr>\n",
              "    <tr>\n",
              "      <th>5</th>\n",
              "      <td>41218.05509</td>\n",
              "      <td>42252.19438</td>\n",
              "      <td>43183.81325</td>\n",
              "    </tr>\n",
              "    <tr>\n",
              "      <th>6</th>\n",
              "      <td>36540.43917</td>\n",
              "      <td>36419.34581</td>\n",
              "      <td>36563.43663</td>\n",
              "    </tr>\n",
              "    <tr>\n",
              "      <th>7</th>\n",
              "      <td>35483.86360</td>\n",
              "      <td>34906.95360</td>\n",
              "      <td>34624.51077</td>\n",
              "    </tr>\n",
              "    <tr>\n",
              "      <th>8</th>\n",
              "      <td>39479.69348</td>\n",
              "      <td>37924.08544</td>\n",
              "      <td>36331.67427</td>\n",
              "    </tr>\n",
              "    <tr>\n",
              "      <th>9</th>\n",
              "      <td>40573.95494</td>\n",
              "      <td>40573.87422</td>\n",
              "      <td>40207.00612</td>\n",
              "    </tr>\n",
              "    <tr>\n",
              "      <th>10</th>\n",
              "      <td>32875.59929</td>\n",
              "      <td>34530.92141</td>\n",
              "      <td>36145.12501</td>\n",
              "    </tr>\n",
              "  </tbody>\n",
              "</table>\n",
              "</div>"
            ],
            "text/plain": [
              "            2021          2022          2023\n",
              "0   521101.15060  520917.44110  521091.10960\n",
              "1    37627.34036   37093.77102   36700.12936\n",
              "2    41425.02399   40337.37378   39338.98792\n",
              "3    45064.62452   44198.72105   43277.94094\n",
              "4    45790.56760   45635.49235   45364.69630\n",
              "5    41218.05509   42252.19438   43183.81325\n",
              "6    36540.43917   36419.34581   36563.43663\n",
              "7    35483.86360   34906.95360   34624.51077\n",
              "8    39479.69348   37924.08544   36331.67427\n",
              "9    40573.95494   40573.87422   40207.00612\n",
              "10   32875.59929   34530.92141   36145.12501"
            ]
          },
          "metadata": {},
          "execution_count": 6
        }
      ]
    },
    {
      "cell_type": "code",
      "metadata": {
        "id": "9ZGY-NVvl5Qq"
      },
      "source": [
        "filas = nueva_poblacion[2021] > 40000"
      ],
      "execution_count": 9,
      "outputs": []
    },
    {
      "cell_type": "code",
      "metadata": {
        "colab": {
          "base_uri": "https://localhost:8080/",
          "height": 237
        },
        "id": "60shkuQEmUHw",
        "outputId": "96e33d34-acf6-4d01-d027-9ef5c5f37f84"
      },
      "source": [
        "nueva_poblacion[filas]"
      ],
      "execution_count": 11,
      "outputs": [
        {
          "output_type": "execute_result",
          "data": {
            "text/html": [
              "<div>\n",
              "<style scoped>\n",
              "    .dataframe tbody tr th:only-of-type {\n",
              "        vertical-align: middle;\n",
              "    }\n",
              "\n",
              "    .dataframe tbody tr th {\n",
              "        vertical-align: top;\n",
              "    }\n",
              "\n",
              "    .dataframe thead th {\n",
              "        text-align: right;\n",
              "    }\n",
              "</style>\n",
              "<table border=\"1\" class=\"dataframe\">\n",
              "  <thead>\n",
              "    <tr style=\"text-align: right;\">\n",
              "      <th></th>\n",
              "      <th>2021</th>\n",
              "      <th>2022</th>\n",
              "      <th>2023</th>\n",
              "    </tr>\n",
              "  </thead>\n",
              "  <tbody>\n",
              "    <tr>\n",
              "      <th>0</th>\n",
              "      <td>521101.15060</td>\n",
              "      <td>520917.44110</td>\n",
              "      <td>521091.10960</td>\n",
              "    </tr>\n",
              "    <tr>\n",
              "      <th>2</th>\n",
              "      <td>41425.02399</td>\n",
              "      <td>40337.37378</td>\n",
              "      <td>39338.98792</td>\n",
              "    </tr>\n",
              "    <tr>\n",
              "      <th>3</th>\n",
              "      <td>45064.62452</td>\n",
              "      <td>44198.72105</td>\n",
              "      <td>43277.94094</td>\n",
              "    </tr>\n",
              "    <tr>\n",
              "      <th>4</th>\n",
              "      <td>45790.56760</td>\n",
              "      <td>45635.49235</td>\n",
              "      <td>45364.69630</td>\n",
              "    </tr>\n",
              "    <tr>\n",
              "      <th>5</th>\n",
              "      <td>41218.05509</td>\n",
              "      <td>42252.19438</td>\n",
              "      <td>43183.81325</td>\n",
              "    </tr>\n",
              "    <tr>\n",
              "      <th>9</th>\n",
              "      <td>40573.95494</td>\n",
              "      <td>40573.87422</td>\n",
              "      <td>40207.00612</td>\n",
              "    </tr>\n",
              "  </tbody>\n",
              "</table>\n",
              "</div>"
            ],
            "text/plain": [
              "           2021          2022          2023\n",
              "0  521101.15060  520917.44110  521091.10960\n",
              "2   41425.02399   40337.37378   39338.98792\n",
              "3   45064.62452   44198.72105   43277.94094\n",
              "4   45790.56760   45635.49235   45364.69630\n",
              "5   41218.05509   42252.19438   43183.81325\n",
              "9   40573.95494   40573.87422   40207.00612"
            ]
          },
          "metadata": {},
          "execution_count": 11
        }
      ]
    },
    {
      "cell_type": "code",
      "metadata": {
        "colab": {
          "base_uri": "https://localhost:8080/",
          "height": 237
        },
        "id": "ukDwVhqvmjo_",
        "outputId": "5f5b45ee-1e9e-4b81-83b1-dd495ca8b39f"
      },
      "source": [
        "nueva_poblacion[nueva_poblacion[2021] > 40000]"
      ],
      "execution_count": 12,
      "outputs": [
        {
          "output_type": "execute_result",
          "data": {
            "text/html": [
              "<div>\n",
              "<style scoped>\n",
              "    .dataframe tbody tr th:only-of-type {\n",
              "        vertical-align: middle;\n",
              "    }\n",
              "\n",
              "    .dataframe tbody tr th {\n",
              "        vertical-align: top;\n",
              "    }\n",
              "\n",
              "    .dataframe thead th {\n",
              "        text-align: right;\n",
              "    }\n",
              "</style>\n",
              "<table border=\"1\" class=\"dataframe\">\n",
              "  <thead>\n",
              "    <tr style=\"text-align: right;\">\n",
              "      <th></th>\n",
              "      <th>2021</th>\n",
              "      <th>2022</th>\n",
              "      <th>2023</th>\n",
              "    </tr>\n",
              "  </thead>\n",
              "  <tbody>\n",
              "    <tr>\n",
              "      <th>0</th>\n",
              "      <td>521101.15060</td>\n",
              "      <td>520917.44110</td>\n",
              "      <td>521091.10960</td>\n",
              "    </tr>\n",
              "    <tr>\n",
              "      <th>2</th>\n",
              "      <td>41425.02399</td>\n",
              "      <td>40337.37378</td>\n",
              "      <td>39338.98792</td>\n",
              "    </tr>\n",
              "    <tr>\n",
              "      <th>3</th>\n",
              "      <td>45064.62452</td>\n",
              "      <td>44198.72105</td>\n",
              "      <td>43277.94094</td>\n",
              "    </tr>\n",
              "    <tr>\n",
              "      <th>4</th>\n",
              "      <td>45790.56760</td>\n",
              "      <td>45635.49235</td>\n",
              "      <td>45364.69630</td>\n",
              "    </tr>\n",
              "    <tr>\n",
              "      <th>5</th>\n",
              "      <td>41218.05509</td>\n",
              "      <td>42252.19438</td>\n",
              "      <td>43183.81325</td>\n",
              "    </tr>\n",
              "    <tr>\n",
              "      <th>9</th>\n",
              "      <td>40573.95494</td>\n",
              "      <td>40573.87422</td>\n",
              "      <td>40207.00612</td>\n",
              "    </tr>\n",
              "  </tbody>\n",
              "</table>\n",
              "</div>"
            ],
            "text/plain": [
              "           2021          2022          2023\n",
              "0  521101.15060  520917.44110  521091.10960\n",
              "2   41425.02399   40337.37378   39338.98792\n",
              "3   45064.62452   44198.72105   43277.94094\n",
              "4   45790.56760   45635.49235   45364.69630\n",
              "5   41218.05509   42252.19438   43183.81325\n",
              "9   40573.95494   40573.87422   40207.00612"
            ]
          },
          "metadata": {},
          "execution_count": 12
        }
      ]
    },
    {
      "cell_type": "markdown",
      "metadata": {
        "id": "XdFwAVQTvplW"
      },
      "source": [
        "## Crear nuevas columnas, borrar filas y columnas"
      ]
    },
    {
      "cell_type": "code",
      "metadata": {
        "id": "FfnJXJ3BwKSx"
      },
      "source": [
        "nueva_poblacion['Suma'] = nueva_poblacion[2021] + nueva_poblacion[2022] + nueva_poblacion[2023]"
      ],
      "execution_count": 13,
      "outputs": []
    },
    {
      "cell_type": "code",
      "metadata": {
        "colab": {
          "base_uri": "https://localhost:8080/",
          "height": 206
        },
        "id": "SEZy8MqtnZl4",
        "outputId": "85828a8c-a17e-41d4-aebf-289028b09367"
      },
      "source": [
        "nueva_poblacion.head()"
      ],
      "execution_count": 14,
      "outputs": [
        {
          "output_type": "execute_result",
          "data": {
            "text/html": [
              "<div>\n",
              "<style scoped>\n",
              "    .dataframe tbody tr th:only-of-type {\n",
              "        vertical-align: middle;\n",
              "    }\n",
              "\n",
              "    .dataframe tbody tr th {\n",
              "        vertical-align: top;\n",
              "    }\n",
              "\n",
              "    .dataframe thead th {\n",
              "        text-align: right;\n",
              "    }\n",
              "</style>\n",
              "<table border=\"1\" class=\"dataframe\">\n",
              "  <thead>\n",
              "    <tr style=\"text-align: right;\">\n",
              "      <th></th>\n",
              "      <th>2021</th>\n",
              "      <th>2022</th>\n",
              "      <th>2023</th>\n",
              "      <th>Suma</th>\n",
              "    </tr>\n",
              "  </thead>\n",
              "  <tbody>\n",
              "    <tr>\n",
              "      <th>0</th>\n",
              "      <td>521101.15060</td>\n",
              "      <td>520917.44110</td>\n",
              "      <td>521091.10960</td>\n",
              "      <td>1.563110e+06</td>\n",
              "    </tr>\n",
              "    <tr>\n",
              "      <th>1</th>\n",
              "      <td>37627.34036</td>\n",
              "      <td>37093.77102</td>\n",
              "      <td>36700.12936</td>\n",
              "      <td>1.114212e+05</td>\n",
              "    </tr>\n",
              "    <tr>\n",
              "      <th>2</th>\n",
              "      <td>41425.02399</td>\n",
              "      <td>40337.37378</td>\n",
              "      <td>39338.98792</td>\n",
              "      <td>1.211014e+05</td>\n",
              "    </tr>\n",
              "    <tr>\n",
              "      <th>3</th>\n",
              "      <td>45064.62452</td>\n",
              "      <td>44198.72105</td>\n",
              "      <td>43277.94094</td>\n",
              "      <td>1.325413e+05</td>\n",
              "    </tr>\n",
              "    <tr>\n",
              "      <th>4</th>\n",
              "      <td>45790.56760</td>\n",
              "      <td>45635.49235</td>\n",
              "      <td>45364.69630</td>\n",
              "      <td>1.367908e+05</td>\n",
              "    </tr>\n",
              "  </tbody>\n",
              "</table>\n",
              "</div>"
            ],
            "text/plain": [
              "           2021          2022          2023          Suma\n",
              "0  521101.15060  520917.44110  521091.10960  1.563110e+06\n",
              "1   37627.34036   37093.77102   36700.12936  1.114212e+05\n",
              "2   41425.02399   40337.37378   39338.98792  1.211014e+05\n",
              "3   45064.62452   44198.72105   43277.94094  1.325413e+05\n",
              "4   45790.56760   45635.49235   45364.69630  1.367908e+05"
            ]
          },
          "metadata": {},
          "execution_count": 14
        }
      ]
    },
    {
      "cell_type": "code",
      "metadata": {
        "id": "EcGW9hoTniXi"
      },
      "source": [
        "nueva_poblacion.drop('Suma', axis= 1, inplace= True)"
      ],
      "execution_count": 18,
      "outputs": []
    },
    {
      "cell_type": "code",
      "metadata": {
        "colab": {
          "base_uri": "https://localhost:8080/",
          "height": 206
        },
        "id": "Y7SS2QDzn5Ss",
        "outputId": "940912c1-0eee-43b7-c591-ca7eff0d8d0e"
      },
      "source": [
        "nueva_poblacion.head()"
      ],
      "execution_count": 19,
      "outputs": [
        {
          "output_type": "execute_result",
          "data": {
            "text/html": [
              "<div>\n",
              "<style scoped>\n",
              "    .dataframe tbody tr th:only-of-type {\n",
              "        vertical-align: middle;\n",
              "    }\n",
              "\n",
              "    .dataframe tbody tr th {\n",
              "        vertical-align: top;\n",
              "    }\n",
              "\n",
              "    .dataframe thead th {\n",
              "        text-align: right;\n",
              "    }\n",
              "</style>\n",
              "<table border=\"1\" class=\"dataframe\">\n",
              "  <thead>\n",
              "    <tr style=\"text-align: right;\">\n",
              "      <th></th>\n",
              "      <th>2021</th>\n",
              "      <th>2022</th>\n",
              "      <th>2023</th>\n",
              "    </tr>\n",
              "  </thead>\n",
              "  <tbody>\n",
              "    <tr>\n",
              "      <th>0</th>\n",
              "      <td>521101.15060</td>\n",
              "      <td>520917.44110</td>\n",
              "      <td>521091.10960</td>\n",
              "    </tr>\n",
              "    <tr>\n",
              "      <th>1</th>\n",
              "      <td>37627.34036</td>\n",
              "      <td>37093.77102</td>\n",
              "      <td>36700.12936</td>\n",
              "    </tr>\n",
              "    <tr>\n",
              "      <th>2</th>\n",
              "      <td>41425.02399</td>\n",
              "      <td>40337.37378</td>\n",
              "      <td>39338.98792</td>\n",
              "    </tr>\n",
              "    <tr>\n",
              "      <th>3</th>\n",
              "      <td>45064.62452</td>\n",
              "      <td>44198.72105</td>\n",
              "      <td>43277.94094</td>\n",
              "    </tr>\n",
              "    <tr>\n",
              "      <th>4</th>\n",
              "      <td>45790.56760</td>\n",
              "      <td>45635.49235</td>\n",
              "      <td>45364.69630</td>\n",
              "    </tr>\n",
              "  </tbody>\n",
              "</table>\n",
              "</div>"
            ],
            "text/plain": [
              "           2021          2022          2023\n",
              "0  521101.15060  520917.44110  521091.10960\n",
              "1   37627.34036   37093.77102   36700.12936\n",
              "2   41425.02399   40337.37378   39338.98792\n",
              "3   45064.62452   44198.72105   43277.94094\n",
              "4   45790.56760   45635.49235   45364.69630"
            ]
          },
          "metadata": {},
          "execution_count": 19
        }
      ]
    },
    {
      "cell_type": "code",
      "metadata": {
        "id": "6NwHBkNFoMGn"
      },
      "source": [
        "nueva_poblacion.drop([0, 5, 10], inplace= True)"
      ],
      "execution_count": 22,
      "outputs": []
    },
    {
      "cell_type": "code",
      "metadata": {
        "colab": {
          "base_uri": "https://localhost:8080/",
          "height": 300
        },
        "id": "NhWOQDviogq6",
        "outputId": "6cf4f204-534c-4df6-f75e-5d7b11da45d3"
      },
      "source": [
        "nueva_poblacion"
      ],
      "execution_count": 36,
      "outputs": [
        {
          "output_type": "execute_result",
          "data": {
            "text/html": [
              "<div>\n",
              "<style scoped>\n",
              "    .dataframe tbody tr th:only-of-type {\n",
              "        vertical-align: middle;\n",
              "    }\n",
              "\n",
              "    .dataframe tbody tr th {\n",
              "        vertical-align: top;\n",
              "    }\n",
              "\n",
              "    .dataframe thead th {\n",
              "        text-align: right;\n",
              "    }\n",
              "</style>\n",
              "<table border=\"1\" class=\"dataframe\">\n",
              "  <thead>\n",
              "    <tr style=\"text-align: right;\">\n",
              "      <th></th>\n",
              "      <th>2021</th>\n",
              "      <th>2022</th>\n",
              "      <th>2023</th>\n",
              "    </tr>\n",
              "  </thead>\n",
              "  <tbody>\n",
              "    <tr>\n",
              "      <th>1</th>\n",
              "      <td>37627.34036</td>\n",
              "      <td>37093.77102</td>\n",
              "      <td>36700.12936</td>\n",
              "    </tr>\n",
              "    <tr>\n",
              "      <th>2</th>\n",
              "      <td>41425.02399</td>\n",
              "      <td>40337.37378</td>\n",
              "      <td>39338.98792</td>\n",
              "    </tr>\n",
              "    <tr>\n",
              "      <th>3</th>\n",
              "      <td>45064.62452</td>\n",
              "      <td>44198.72105</td>\n",
              "      <td>43277.94094</td>\n",
              "    </tr>\n",
              "    <tr>\n",
              "      <th>4</th>\n",
              "      <td>45790.56760</td>\n",
              "      <td>45635.49235</td>\n",
              "      <td>45364.69630</td>\n",
              "    </tr>\n",
              "    <tr>\n",
              "      <th>6</th>\n",
              "      <td>NaN</td>\n",
              "      <td>36419.34581</td>\n",
              "      <td>36563.43663</td>\n",
              "    </tr>\n",
              "    <tr>\n",
              "      <th>7</th>\n",
              "      <td>35483.86360</td>\n",
              "      <td>34906.95360</td>\n",
              "      <td>34624.51077</td>\n",
              "    </tr>\n",
              "    <tr>\n",
              "      <th>8</th>\n",
              "      <td>39479.69348</td>\n",
              "      <td>NaN</td>\n",
              "      <td>36331.67427</td>\n",
              "    </tr>\n",
              "    <tr>\n",
              "      <th>9</th>\n",
              "      <td>40573.95494</td>\n",
              "      <td>40573.87422</td>\n",
              "      <td>40207.00612</td>\n",
              "    </tr>\n",
              "  </tbody>\n",
              "</table>\n",
              "</div>"
            ],
            "text/plain": [
              "          2021         2022         2023\n",
              "1  37627.34036  37093.77102  36700.12936\n",
              "2  41425.02399  40337.37378  39338.98792\n",
              "3  45064.62452  44198.72105  43277.94094\n",
              "4  45790.56760  45635.49235  45364.69630\n",
              "6          NaN  36419.34581  36563.43663\n",
              "7  35483.86360  34906.95360  34624.51077\n",
              "8  39479.69348          NaN  36331.67427\n",
              "9  40573.95494  40573.87422  40207.00612"
            ]
          },
          "metadata": {},
          "execution_count": 36
        }
      ]
    },
    {
      "cell_type": "code",
      "metadata": {
        "id": "UD3zGYvmpjSD"
      },
      "source": [
        "import numpy as np"
      ],
      "execution_count": 29,
      "outputs": []
    },
    {
      "cell_type": "code",
      "metadata": {
        "id": "oBPtaz-0pswM"
      },
      "source": [
        "nueva_poblacion.loc[6, 2021] = np.nan"
      ],
      "execution_count": 31,
      "outputs": []
    },
    {
      "cell_type": "code",
      "metadata": {
        "id": "gQuXA-4PqAtY"
      },
      "source": [
        "nueva_poblacion.loc[8, 2022] = np.nan"
      ],
      "execution_count": 33,
      "outputs": []
    },
    {
      "cell_type": "markdown",
      "metadata": {
        "id": "oaXDO1v9wOb2"
      },
      "source": [
        "## Manejo de datos faltantes"
      ]
    },
    {
      "cell_type": "code",
      "metadata": {
        "colab": {
          "base_uri": "https://localhost:8080/",
          "height": 237
        },
        "id": "xpV6oV-FpXkz",
        "outputId": "e743e352-7e00-4184-b34e-b80936084539"
      },
      "source": [
        "nueva_poblacion.dropna()"
      ],
      "execution_count": 37,
      "outputs": [
        {
          "output_type": "execute_result",
          "data": {
            "text/html": [
              "<div>\n",
              "<style scoped>\n",
              "    .dataframe tbody tr th:only-of-type {\n",
              "        vertical-align: middle;\n",
              "    }\n",
              "\n",
              "    .dataframe tbody tr th {\n",
              "        vertical-align: top;\n",
              "    }\n",
              "\n",
              "    .dataframe thead th {\n",
              "        text-align: right;\n",
              "    }\n",
              "</style>\n",
              "<table border=\"1\" class=\"dataframe\">\n",
              "  <thead>\n",
              "    <tr style=\"text-align: right;\">\n",
              "      <th></th>\n",
              "      <th>2021</th>\n",
              "      <th>2022</th>\n",
              "      <th>2023</th>\n",
              "    </tr>\n",
              "  </thead>\n",
              "  <tbody>\n",
              "    <tr>\n",
              "      <th>1</th>\n",
              "      <td>37627.34036</td>\n",
              "      <td>37093.77102</td>\n",
              "      <td>36700.12936</td>\n",
              "    </tr>\n",
              "    <tr>\n",
              "      <th>2</th>\n",
              "      <td>41425.02399</td>\n",
              "      <td>40337.37378</td>\n",
              "      <td>39338.98792</td>\n",
              "    </tr>\n",
              "    <tr>\n",
              "      <th>3</th>\n",
              "      <td>45064.62452</td>\n",
              "      <td>44198.72105</td>\n",
              "      <td>43277.94094</td>\n",
              "    </tr>\n",
              "    <tr>\n",
              "      <th>4</th>\n",
              "      <td>45790.56760</td>\n",
              "      <td>45635.49235</td>\n",
              "      <td>45364.69630</td>\n",
              "    </tr>\n",
              "    <tr>\n",
              "      <th>7</th>\n",
              "      <td>35483.86360</td>\n",
              "      <td>34906.95360</td>\n",
              "      <td>34624.51077</td>\n",
              "    </tr>\n",
              "    <tr>\n",
              "      <th>9</th>\n",
              "      <td>40573.95494</td>\n",
              "      <td>40573.87422</td>\n",
              "      <td>40207.00612</td>\n",
              "    </tr>\n",
              "  </tbody>\n",
              "</table>\n",
              "</div>"
            ],
            "text/plain": [
              "          2021         2022         2023\n",
              "1  37627.34036  37093.77102  36700.12936\n",
              "2  41425.02399  40337.37378  39338.98792\n",
              "3  45064.62452  44198.72105  43277.94094\n",
              "4  45790.56760  45635.49235  45364.69630\n",
              "7  35483.86360  34906.95360  34624.51077\n",
              "9  40573.95494  40573.87422  40207.00612"
            ]
          },
          "metadata": {},
          "execution_count": 37
        }
      ]
    },
    {
      "cell_type": "code",
      "metadata": {
        "colab": {
          "base_uri": "https://localhost:8080/",
          "height": 300
        },
        "id": "moCKPyr0qkD_",
        "outputId": "f3868a9b-bb6f-415d-bfff-f24a96b65418"
      },
      "source": [
        "nueva_poblacion.fillna(value= 'Valor de reemplazo')"
      ],
      "execution_count": 42,
      "outputs": [
        {
          "output_type": "execute_result",
          "data": {
            "text/html": [
              "<div>\n",
              "<style scoped>\n",
              "    .dataframe tbody tr th:only-of-type {\n",
              "        vertical-align: middle;\n",
              "    }\n",
              "\n",
              "    .dataframe tbody tr th {\n",
              "        vertical-align: top;\n",
              "    }\n",
              "\n",
              "    .dataframe thead th {\n",
              "        text-align: right;\n",
              "    }\n",
              "</style>\n",
              "<table border=\"1\" class=\"dataframe\">\n",
              "  <thead>\n",
              "    <tr style=\"text-align: right;\">\n",
              "      <th></th>\n",
              "      <th>2021</th>\n",
              "      <th>2022</th>\n",
              "      <th>2023</th>\n",
              "    </tr>\n",
              "  </thead>\n",
              "  <tbody>\n",
              "    <tr>\n",
              "      <th>1</th>\n",
              "      <td>37627.3</td>\n",
              "      <td>37093.8</td>\n",
              "      <td>36700.12936</td>\n",
              "    </tr>\n",
              "    <tr>\n",
              "      <th>2</th>\n",
              "      <td>41425</td>\n",
              "      <td>40337.4</td>\n",
              "      <td>39338.98792</td>\n",
              "    </tr>\n",
              "    <tr>\n",
              "      <th>3</th>\n",
              "      <td>45064.6</td>\n",
              "      <td>44198.7</td>\n",
              "      <td>43277.94094</td>\n",
              "    </tr>\n",
              "    <tr>\n",
              "      <th>4</th>\n",
              "      <td>45790.6</td>\n",
              "      <td>45635.5</td>\n",
              "      <td>45364.69630</td>\n",
              "    </tr>\n",
              "    <tr>\n",
              "      <th>6</th>\n",
              "      <td>Valor de reemplazo</td>\n",
              "      <td>36419.3</td>\n",
              "      <td>36563.43663</td>\n",
              "    </tr>\n",
              "    <tr>\n",
              "      <th>7</th>\n",
              "      <td>35483.9</td>\n",
              "      <td>34907</td>\n",
              "      <td>34624.51077</td>\n",
              "    </tr>\n",
              "    <tr>\n",
              "      <th>8</th>\n",
              "      <td>39479.7</td>\n",
              "      <td>Valor de reemplazo</td>\n",
              "      <td>36331.67427</td>\n",
              "    </tr>\n",
              "    <tr>\n",
              "      <th>9</th>\n",
              "      <td>40574</td>\n",
              "      <td>40573.9</td>\n",
              "      <td>40207.00612</td>\n",
              "    </tr>\n",
              "  </tbody>\n",
              "</table>\n",
              "</div>"
            ],
            "text/plain": [
              "                 2021                2022         2023\n",
              "1             37627.3             37093.8  36700.12936\n",
              "2               41425             40337.4  39338.98792\n",
              "3             45064.6             44198.7  43277.94094\n",
              "4             45790.6             45635.5  45364.69630\n",
              "6  Valor de reemplazo             36419.3  36563.43663\n",
              "7             35483.9               34907  34624.51077\n",
              "8             39479.7  Valor de reemplazo  36331.67427\n",
              "9               40574             40573.9  40207.00612"
            ]
          },
          "metadata": {},
          "execution_count": 42
        }
      ]
    },
    {
      "cell_type": "markdown",
      "metadata": {
        "id": "DwsZaZDVwRV1"
      },
      "source": [
        "## Algunas funciones estadísticas"
      ]
    },
    {
      "cell_type": "code",
      "metadata": {
        "id": "5PzpxtMJw6D2",
        "colab": {
          "base_uri": "https://localhost:8080/",
          "height": 320
        },
        "outputId": "784d6b38-128f-490c-8661-2a773a7aac82"
      },
      "source": [
        "# describe()\n",
        "poblacion.describe()"
      ],
      "execution_count": 59,
      "outputs": [
        {
          "output_type": "execute_result",
          "data": {
            "text/html": [
              "<div>\n",
              "<style scoped>\n",
              "    .dataframe tbody tr th:only-of-type {\n",
              "        vertical-align: middle;\n",
              "    }\n",
              "\n",
              "    .dataframe tbody tr th {\n",
              "        vertical-align: top;\n",
              "    }\n",
              "\n",
              "    .dataframe thead th {\n",
              "        text-align: right;\n",
              "    }\n",
              "</style>\n",
              "<table border=\"1\" class=\"dataframe\">\n",
              "  <thead>\n",
              "    <tr style=\"text-align: right;\">\n",
              "      <th></th>\n",
              "      <th>2000</th>\n",
              "      <th>2001</th>\n",
              "      <th>2002</th>\n",
              "      <th>2003</th>\n",
              "      <th>2004</th>\n",
              "      <th>2005</th>\n",
              "      <th>2006</th>\n",
              "      <th>2007</th>\n",
              "      <th>2008</th>\n",
              "      <th>2009</th>\n",
              "      <th>2010</th>\n",
              "      <th>2011</th>\n",
              "      <th>2012</th>\n",
              "      <th>2013</th>\n",
              "      <th>2014</th>\n",
              "      <th>2015</th>\n",
              "      <th>2016</th>\n",
              "      <th>2017</th>\n",
              "      <th>2018</th>\n",
              "      <th>2019</th>\n",
              "      <th>2020</th>\n",
              "      <th>2021</th>\n",
              "      <th>2022</th>\n",
              "      <th>2023</th>\n",
              "      <th>2024</th>\n",
              "      <th>2025</th>\n",
              "    </tr>\n",
              "  </thead>\n",
              "  <tbody>\n",
              "    <tr>\n",
              "      <th>count</th>\n",
              "      <td>54.000000</td>\n",
              "      <td>54.000000</td>\n",
              "      <td>54.000000</td>\n",
              "      <td>54.000000</td>\n",
              "      <td>54.000000</td>\n",
              "      <td>54.000000</td>\n",
              "      <td>54.000000</td>\n",
              "      <td>54.000000</td>\n",
              "      <td>54.000000</td>\n",
              "      <td>54.000000</td>\n",
              "      <td>54.000000</td>\n",
              "      <td>54.000000</td>\n",
              "      <td>54.000000</td>\n",
              "      <td>54.000000</td>\n",
              "      <td>54.000000</td>\n",
              "      <td>54.000000</td>\n",
              "      <td>54.000000</td>\n",
              "      <td>54.000000</td>\n",
              "      <td>54.000000</td>\n",
              "      <td>54.000000</td>\n",
              "      <td>54.000000</td>\n",
              "      <td>54.000000</td>\n",
              "      <td>54.000000</td>\n",
              "      <td>54.000000</td>\n",
              "      <td>54.000000</td>\n",
              "      <td>54.000000</td>\n",
              "    </tr>\n",
              "    <tr>\n",
              "      <th>mean</th>\n",
              "      <td>39089.777778</td>\n",
              "      <td>39175.216422</td>\n",
              "      <td>39244.655465</td>\n",
              "      <td>39301.126800</td>\n",
              "      <td>39344.697571</td>\n",
              "      <td>39374.893237</td>\n",
              "      <td>39391.179103</td>\n",
              "      <td>39394.891416</td>\n",
              "      <td>39385.274689</td>\n",
              "      <td>39362.141384</td>\n",
              "      <td>39325.586371</td>\n",
              "      <td>39276.054449</td>\n",
              "      <td>39217.244406</td>\n",
              "      <td>39150.228215</td>\n",
              "      <td>39073.819018</td>\n",
              "      <td>38993.160808</td>\n",
              "      <td>38910.631009</td>\n",
              "      <td>38828.854734</td>\n",
              "      <td>38754.368853</td>\n",
              "      <td>38687.911304</td>\n",
              "      <td>38633.987512</td>\n",
              "      <td>38600.085233</td>\n",
              "      <td>38586.477114</td>\n",
              "      <td>38599.341453</td>\n",
              "      <td>38639.296072</td>\n",
              "      <td>38712.284347</td>\n",
              "    </tr>\n",
              "    <tr>\n",
              "      <th>std</th>\n",
              "      <td>83301.045978</td>\n",
              "      <td>83462.141726</td>\n",
              "      <td>83589.381667</td>\n",
              "      <td>83689.546624</td>\n",
              "      <td>83762.413437</td>\n",
              "      <td>83806.236213</td>\n",
              "      <td>83819.914489</td>\n",
              "      <td>83806.759365</td>\n",
              "      <td>83765.287327</td>\n",
              "      <td>83694.756964</td>\n",
              "      <td>83594.704464</td>\n",
              "      <td>83466.315990</td>\n",
              "      <td>83318.129309</td>\n",
              "      <td>83152.770641</td>\n",
              "      <td>82967.533697</td>\n",
              "      <td>82772.995556</td>\n",
              "      <td>82574.565361</td>\n",
              "      <td>82378.421214</td>\n",
              "      <td>82198.775697</td>\n",
              "      <td>82036.837931</td>\n",
              "      <td>81901.634815</td>\n",
              "      <td>81809.355919</td>\n",
              "      <td>81761.020966</td>\n",
              "      <td>81769.934708</td>\n",
              "      <td>81836.927655</td>\n",
              "      <td>81974.008882</td>\n",
              "    </tr>\n",
              "    <tr>\n",
              "      <th>min</th>\n",
              "      <td>2590.000000</td>\n",
              "      <td>2655.433087</td>\n",
              "      <td>2731.472680</td>\n",
              "      <td>2817.143250</td>\n",
              "      <td>2910.435932</td>\n",
              "      <td>3008.686197</td>\n",
              "      <td>3080.553364</td>\n",
              "      <td>3077.411017</td>\n",
              "      <td>3075.061944</td>\n",
              "      <td>3085.941640</td>\n",
              "      <td>3118.274899</td>\n",
              "      <td>3173.424033</td>\n",
              "      <td>3247.095301</td>\n",
              "      <td>3333.033974</td>\n",
              "      <td>3423.112124</td>\n",
              "      <td>3512.168404</td>\n",
              "      <td>3599.938264</td>\n",
              "      <td>3688.652196</td>\n",
              "      <td>3778.953964</td>\n",
              "      <td>3871.905427</td>\n",
              "      <td>3968.476584</td>\n",
              "      <td>4066.795503</td>\n",
              "      <td>4166.201501</td>\n",
              "      <td>4270.456496</td>\n",
              "      <td>4384.443947</td>\n",
              "      <td>4510.985008</td>\n",
              "    </tr>\n",
              "    <tr>\n",
              "      <th>25%</th>\n",
              "      <td>10068.750000</td>\n",
              "      <td>10209.136597</td>\n",
              "      <td>10265.592005</td>\n",
              "      <td>10254.060578</td>\n",
              "      <td>10267.638480</td>\n",
              "      <td>10325.685047</td>\n",
              "      <td>10433.746865</td>\n",
              "      <td>10582.921038</td>\n",
              "      <td>10756.594830</td>\n",
              "      <td>10932.509683</td>\n",
              "      <td>11096.802870</td>\n",
              "      <td>11241.771732</td>\n",
              "      <td>11264.657120</td>\n",
              "      <td>11271.772870</td>\n",
              "      <td>11372.588145</td>\n",
              "      <td>11588.364812</td>\n",
              "      <td>11784.610003</td>\n",
              "      <td>11988.817060</td>\n",
              "      <td>12191.252652</td>\n",
              "      <td>12357.340227</td>\n",
              "      <td>12531.464765</td>\n",
              "      <td>12710.569742</td>\n",
              "      <td>12846.875713</td>\n",
              "      <td>12882.360397</td>\n",
              "      <td>12998.534160</td>\n",
              "      <td>13458.432193</td>\n",
              "    </tr>\n",
              "    <tr>\n",
              "      <th>50%</th>\n",
              "      <td>19151.000000</td>\n",
              "      <td>19457.006240</td>\n",
              "      <td>19835.613405</td>\n",
              "      <td>20286.250350</td>\n",
              "      <td>20805.251925</td>\n",
              "      <td>21382.680865</td>\n",
              "      <td>21437.367185</td>\n",
              "      <td>21469.901275</td>\n",
              "      <td>21548.777850</td>\n",
              "      <td>21615.456450</td>\n",
              "      <td>21374.036210</td>\n",
              "      <td>21114.210890</td>\n",
              "      <td>21082.191750</td>\n",
              "      <td>20770.890175</td>\n",
              "      <td>20667.800760</td>\n",
              "      <td>20388.359905</td>\n",
              "      <td>19959.812350</td>\n",
              "      <td>19844.911905</td>\n",
              "      <td>19556.524365</td>\n",
              "      <td>19600.447300</td>\n",
              "      <td>19150.401775</td>\n",
              "      <td>18813.670180</td>\n",
              "      <td>19066.122910</td>\n",
              "      <td>19007.451400</td>\n",
              "      <td>18784.114020</td>\n",
              "      <td>19091.864335</td>\n",
              "    </tr>\n",
              "    <tr>\n",
              "      <th>75%</th>\n",
              "      <td>29229.500000</td>\n",
              "      <td>28511.692122</td>\n",
              "      <td>27640.809897</td>\n",
              "      <td>27507.781122</td>\n",
              "      <td>28079.351640</td>\n",
              "      <td>28295.490058</td>\n",
              "      <td>27566.372500</td>\n",
              "      <td>27196.192420</td>\n",
              "      <td>26978.735042</td>\n",
              "      <td>26864.695635</td>\n",
              "      <td>26377.186830</td>\n",
              "      <td>26083.349945</td>\n",
              "      <td>25911.968842</td>\n",
              "      <td>25535.971158</td>\n",
              "      <td>25053.788987</td>\n",
              "      <td>24748.406323</td>\n",
              "      <td>24565.056312</td>\n",
              "      <td>24406.420115</td>\n",
              "      <td>24295.995860</td>\n",
              "      <td>24290.603498</td>\n",
              "      <td>24429.830630</td>\n",
              "      <td>24796.785505</td>\n",
              "      <td>25365.604123</td>\n",
              "      <td>26134.398933</td>\n",
              "      <td>27105.286767</td>\n",
              "      <td>28265.395168</td>\n",
              "    </tr>\n",
              "    <tr>\n",
              "      <th>max</th>\n",
              "      <td>527712.000000</td>\n",
              "      <td>528865.421700</td>\n",
              "      <td>529802.848800</td>\n",
              "      <td>530565.211800</td>\n",
              "      <td>531153.417200</td>\n",
              "      <td>531561.058700</td>\n",
              "      <td>531780.917900</td>\n",
              "      <td>531831.034100</td>\n",
              "      <td>531701.208300</td>\n",
              "      <td>531388.908700</td>\n",
              "      <td>530895.416000</td>\n",
              "      <td>530226.735100</td>\n",
              "      <td>529432.799500</td>\n",
              "      <td>528528.080900</td>\n",
              "      <td>527496.556700</td>\n",
              "      <td>526407.670900</td>\n",
              "      <td>525293.518600</td>\n",
              "      <td>524189.538900</td>\n",
              "      <td>523183.979500</td>\n",
              "      <td>522286.802600</td>\n",
              "      <td>521558.831400</td>\n",
              "      <td>521101.150600</td>\n",
              "      <td>520917.441100</td>\n",
              "      <td>521091.109600</td>\n",
              "      <td>521630.497000</td>\n",
              "      <td>522615.838700</td>\n",
              "    </tr>\n",
              "  </tbody>\n",
              "</table>\n",
              "</div>"
            ],
            "text/plain": [
              "                2000           2001  ...           2024           2025\n",
              "count      54.000000      54.000000  ...      54.000000      54.000000\n",
              "mean    39089.777778   39175.216422  ...   38639.296072   38712.284347\n",
              "std     83301.045978   83462.141726  ...   81836.927655   81974.008882\n",
              "min      2590.000000    2655.433087  ...    4384.443947    4510.985008\n",
              "25%     10068.750000   10209.136597  ...   12998.534160   13458.432193\n",
              "50%     19151.000000   19457.006240  ...   18784.114020   19091.864335\n",
              "75%     29229.500000   28511.692122  ...   27105.286767   28265.395168\n",
              "max    527712.000000  528865.421700  ...  521630.497000  522615.838700\n",
              "\n",
              "[8 rows x 26 columns]"
            ]
          },
          "metadata": {},
          "execution_count": 59
        }
      ]
    },
    {
      "cell_type": "code",
      "metadata": {
        "id": "ME5QKvcXw8H6",
        "colab": {
          "base_uri": "https://localhost:8080/"
        },
        "outputId": "55e9fe1e-7546-468e-8f89-75b127eea3c2"
      },
      "source": [
        "# count()\n",
        "poblacion[2021].count()"
      ],
      "execution_count": 61,
      "outputs": [
        {
          "output_type": "execute_result",
          "data": {
            "text/plain": [
              "54"
            ]
          },
          "metadata": {},
          "execution_count": 61
        }
      ]
    },
    {
      "cell_type": "code",
      "metadata": {
        "id": "upAVX580xEn8",
        "colab": {
          "base_uri": "https://localhost:8080/"
        },
        "outputId": "62b5c7e1-e2ad-419f-f21e-689fc4b5a14b"
      },
      "source": [
        "# mean()\n",
        "poblacion[2021].mean()"
      ],
      "execution_count": 62,
      "outputs": [
        {
          "output_type": "execute_result",
          "data": {
            "text/plain": [
              "38600.08523298149"
            ]
          },
          "metadata": {},
          "execution_count": 62
        }
      ]
    },
    {
      "cell_type": "code",
      "metadata": {
        "id": "ZUmP1jVcxF0x",
        "colab": {
          "base_uri": "https://localhost:8080/"
        },
        "outputId": "589bbf3c-7de7-430b-a616-0f475836d0cf"
      },
      "source": [
        "# median()\n",
        "poblacion[2021].median()"
      ],
      "execution_count": 63,
      "outputs": [
        {
          "output_type": "execute_result",
          "data": {
            "text/plain": [
              "18813.67018"
            ]
          },
          "metadata": {},
          "execution_count": 63
        }
      ]
    },
    {
      "cell_type": "code",
      "metadata": {
        "id": "6yralsEOxMci",
        "colab": {
          "base_uri": "https://localhost:8080/"
        },
        "outputId": "b3570010-4c19-4fc6-c4cb-6e21abc3665e"
      },
      "source": [
        "# std()\n",
        "poblacion[2021].std()"
      ],
      "execution_count": 65,
      "outputs": [
        {
          "output_type": "execute_result",
          "data": {
            "text/plain": [
              "81809.35591881633"
            ]
          },
          "metadata": {},
          "execution_count": 64
        },
        {
          "output_type": "execute_result",
          "data": {
            "text/plain": [
              "81809.35591881633"
            ]
          },
          "metadata": {},
          "execution_count": 65
        }
      ]
    },
    {
      "cell_type": "code",
      "metadata": {
        "colab": {
          "base_uri": "https://localhost:8080/",
          "height": 300
        },
        "id": "g0GEHji6ty7Q",
        "outputId": "67765164-97a5-44e1-fbb7-2b3d18311319"
      },
      "source": [
        "nueva_poblacion"
      ],
      "execution_count": 66,
      "outputs": [
        {
          "output_type": "execute_result",
          "data": {
            "text/html": [
              "<div>\n",
              "<style scoped>\n",
              "    .dataframe tbody tr th:only-of-type {\n",
              "        vertical-align: middle;\n",
              "    }\n",
              "\n",
              "    .dataframe tbody tr th {\n",
              "        vertical-align: top;\n",
              "    }\n",
              "\n",
              "    .dataframe thead th {\n",
              "        text-align: right;\n",
              "    }\n",
              "</style>\n",
              "<table border=\"1\" class=\"dataframe\">\n",
              "  <thead>\n",
              "    <tr style=\"text-align: right;\">\n",
              "      <th></th>\n",
              "      <th>2021</th>\n",
              "      <th>2022</th>\n",
              "      <th>2023</th>\n",
              "    </tr>\n",
              "  </thead>\n",
              "  <tbody>\n",
              "    <tr>\n",
              "      <th>1</th>\n",
              "      <td>37627.34036</td>\n",
              "      <td>37093.77102</td>\n",
              "      <td>36700.12936</td>\n",
              "    </tr>\n",
              "    <tr>\n",
              "      <th>2</th>\n",
              "      <td>41425.02399</td>\n",
              "      <td>40337.37378</td>\n",
              "      <td>39338.98792</td>\n",
              "    </tr>\n",
              "    <tr>\n",
              "      <th>3</th>\n",
              "      <td>45064.62452</td>\n",
              "      <td>44198.72105</td>\n",
              "      <td>43277.94094</td>\n",
              "    </tr>\n",
              "    <tr>\n",
              "      <th>4</th>\n",
              "      <td>45790.56760</td>\n",
              "      <td>45635.49235</td>\n",
              "      <td>45364.69630</td>\n",
              "    </tr>\n",
              "    <tr>\n",
              "      <th>6</th>\n",
              "      <td>NaN</td>\n",
              "      <td>36419.34581</td>\n",
              "      <td>36563.43663</td>\n",
              "    </tr>\n",
              "    <tr>\n",
              "      <th>7</th>\n",
              "      <td>35483.86360</td>\n",
              "      <td>34906.95360</td>\n",
              "      <td>34624.51077</td>\n",
              "    </tr>\n",
              "    <tr>\n",
              "      <th>8</th>\n",
              "      <td>39479.69348</td>\n",
              "      <td>NaN</td>\n",
              "      <td>36331.67427</td>\n",
              "    </tr>\n",
              "    <tr>\n",
              "      <th>9</th>\n",
              "      <td>40573.95494</td>\n",
              "      <td>40573.87422</td>\n",
              "      <td>40207.00612</td>\n",
              "    </tr>\n",
              "  </tbody>\n",
              "</table>\n",
              "</div>"
            ],
            "text/plain": [
              "          2021         2022         2023\n",
              "1  37627.34036  37093.77102  36700.12936\n",
              "2  41425.02399  40337.37378  39338.98792\n",
              "3  45064.62452  44198.72105  43277.94094\n",
              "4  45790.56760  45635.49235  45364.69630\n",
              "6          NaN  36419.34581  36563.43663\n",
              "7  35483.86360  34906.95360  34624.51077\n",
              "8  39479.69348          NaN  36331.67427\n",
              "9  40573.95494  40573.87422  40207.00612"
            ]
          },
          "metadata": {},
          "execution_count": 66
        }
      ]
    },
    {
      "cell_type": "code",
      "metadata": {
        "id": "gtIY50dwuDoj"
      },
      "source": [
        "nueva_poblacion[2021].fillna(value= nueva_poblacion[2021].mean(), inplace= True)"
      ],
      "execution_count": 69,
      "outputs": []
    },
    {
      "cell_type": "code",
      "metadata": {
        "colab": {
          "base_uri": "https://localhost:8080/",
          "height": 300
        },
        "id": "nmsq0s-juRBp",
        "outputId": "0b2ba911-c846-4703-a8da-81c2e8d0547e"
      },
      "source": [
        "nueva_poblacion"
      ],
      "execution_count": 70,
      "outputs": [
        {
          "output_type": "execute_result",
          "data": {
            "text/html": [
              "<div>\n",
              "<style scoped>\n",
              "    .dataframe tbody tr th:only-of-type {\n",
              "        vertical-align: middle;\n",
              "    }\n",
              "\n",
              "    .dataframe tbody tr th {\n",
              "        vertical-align: top;\n",
              "    }\n",
              "\n",
              "    .dataframe thead th {\n",
              "        text-align: right;\n",
              "    }\n",
              "</style>\n",
              "<table border=\"1\" class=\"dataframe\">\n",
              "  <thead>\n",
              "    <tr style=\"text-align: right;\">\n",
              "      <th></th>\n",
              "      <th>2021</th>\n",
              "      <th>2022</th>\n",
              "      <th>2023</th>\n",
              "    </tr>\n",
              "  </thead>\n",
              "  <tbody>\n",
              "    <tr>\n",
              "      <th>1</th>\n",
              "      <td>37627.340360</td>\n",
              "      <td>37093.77102</td>\n",
              "      <td>36700.12936</td>\n",
              "    </tr>\n",
              "    <tr>\n",
              "      <th>2</th>\n",
              "      <td>41425.023990</td>\n",
              "      <td>40337.37378</td>\n",
              "      <td>39338.98792</td>\n",
              "    </tr>\n",
              "    <tr>\n",
              "      <th>3</th>\n",
              "      <td>45064.624520</td>\n",
              "      <td>44198.72105</td>\n",
              "      <td>43277.94094</td>\n",
              "    </tr>\n",
              "    <tr>\n",
              "      <th>4</th>\n",
              "      <td>45790.567600</td>\n",
              "      <td>45635.49235</td>\n",
              "      <td>45364.69630</td>\n",
              "    </tr>\n",
              "    <tr>\n",
              "      <th>6</th>\n",
              "      <td>40777.866927</td>\n",
              "      <td>36419.34581</td>\n",
              "      <td>36563.43663</td>\n",
              "    </tr>\n",
              "    <tr>\n",
              "      <th>7</th>\n",
              "      <td>35483.863600</td>\n",
              "      <td>34906.95360</td>\n",
              "      <td>34624.51077</td>\n",
              "    </tr>\n",
              "    <tr>\n",
              "      <th>8</th>\n",
              "      <td>39479.693480</td>\n",
              "      <td>NaN</td>\n",
              "      <td>36331.67427</td>\n",
              "    </tr>\n",
              "    <tr>\n",
              "      <th>9</th>\n",
              "      <td>40573.954940</td>\n",
              "      <td>40573.87422</td>\n",
              "      <td>40207.00612</td>\n",
              "    </tr>\n",
              "  </tbody>\n",
              "</table>\n",
              "</div>"
            ],
            "text/plain": [
              "           2021         2022         2023\n",
              "1  37627.340360  37093.77102  36700.12936\n",
              "2  41425.023990  40337.37378  39338.98792\n",
              "3  45064.624520  44198.72105  43277.94094\n",
              "4  45790.567600  45635.49235  45364.69630\n",
              "6  40777.866927  36419.34581  36563.43663\n",
              "7  35483.863600  34906.95360  34624.51077\n",
              "8  39479.693480          NaN  36331.67427\n",
              "9  40573.954940  40573.87422  40207.00612"
            ]
          },
          "metadata": {},
          "execution_count": 70
        }
      ]
    },
    {
      "cell_type": "code",
      "metadata": {
        "id": "dZq4Hhr0ubGb"
      },
      "source": [
        ""
      ],
      "execution_count": null,
      "outputs": []
    }
  ]
}