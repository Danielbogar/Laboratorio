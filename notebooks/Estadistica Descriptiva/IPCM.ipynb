{
  "nbformat": 4,
  "nbformat_minor": 0,
  "metadata": {
    "colab": {
      "name": "IPCM.ipynb",
      "provenance": []
    },
    "kernelspec": {
      "name": "python3",
      "display_name": "Python 3"
    },
    "language_info": {
      "name": "python"
    }
  },
  "cells": [
    {
      "cell_type": "markdown",
      "metadata": {
        "id": "6A0IcoNa-ddN"
      },
      "source": [
        "Comparar el perfil socio-económico (Ingreso per cápita mensual) de las personas que se encuentren en el rango de edades entre 25 y 60 años (inclusive), y:\n",
        "\n",
        "G1) Su título más alto es de EEB (1° y 2° Ciclo) (6° grado);\n",
        "\n",
        "G2) Posee título Universitario (superior universitario) o postgrado (especialización, maestría y doctorado).\n"
      ]
    },
    {
      "cell_type": "code",
      "metadata": {
        "id": "1vEm05YD5CML"
      },
      "source": [
        "import pandas as pd\n"
      ],
      "execution_count": 1,
      "outputs": []
    },
    {
      "cell_type": "code",
      "metadata": {
        "colab": {
          "base_uri": "https://localhost:8080/",
          "height": 452
        },
        "id": "_dmjBJ_hBTSf",
        "outputId": "ca7e0f5e-da43-4ed8-e4a4-57608ba8aa47"
      },
      "source": [
        "df=pd.read_csv(\"/content/drive/MyDrive/probabilidad /Archivo de Datos.csv\")#se abre la base de datos\n",
        "df.head()"
      ],
      "execution_count": 20,
      "outputs": [
        {
          "output_type": "stream",
          "name": "stderr",
          "text": [
            "/usr/local/lib/python3.7/dist-packages/IPython/core/interactiveshell.py:2718: DtypeWarning: Columns (0,1,2,3,4,5,6,7,8,9,10,11,12,13,14,15,16,17,18,19,20,21,22,23,24,25,26,27,28,29,30,31,32,33,34,35,36,37,38,39,40,41,42,43,44,45,46,47,48,49,50,51,52,53,54,55,56,57) have mixed types.Specify dtype option on import or set low_memory=False.\n",
            "  interactivity=interactivity, compiler=compiler, result=result)\n"
          ]
        },
        {
          "output_type": "execute_result",
          "data": {
            "text/html": [
              "<div>\n",
              "<style scoped>\n",
              "    .dataframe tbody tr th:only-of-type {\n",
              "        vertical-align: middle;\n",
              "    }\n",
              "\n",
              "    .dataframe tbody tr th {\n",
              "        vertical-align: top;\n",
              "    }\n",
              "\n",
              "    .dataframe thead th {\n",
              "        text-align: right;\n",
              "    }\n",
              "</style>\n",
              "<table border=\"1\" class=\"dataframe\">\n",
              "  <thead>\n",
              "    <tr style=\"text-align: right;\">\n",
              "      <th></th>\n",
              "      <th>Departamento de residencia</th>\n",
              "      <th>AREA de Residencia</th>\n",
              "      <th>Edad</th>\n",
              "      <th>Sexo</th>\n",
              "      <th>Año de nacimiento</th>\n",
              "      <th>Estado civil</th>\n",
              "      <th>Ingreso mensual Ocupación Principal declarado</th>\n",
              "      <th>Ingreso mensual Ocupación Secundaria declarado</th>\n",
              "      <th>Ingreso mensual Otras Ocupaciones declarado</th>\n",
              "      <th>Ingreso mensual Alquileres o Rentas neto declarado</th>\n",
              "      <th>Ingreso mensual Intereses, Dividendos o Utilidades declarado</th>\n",
              "      <th>Ingreso mensual Ayuda Familiar del país declarado</th>\n",
              "      <th>Ingreso mensual Prestaciones por divorcio O cuidado de hijos declarado</th>\n",
              "      <th>Ingreso mensual Jubilación declarado</th>\n",
              "      <th>Ingresos del Estado (Monetario: Tekopora) declarado</th>\n",
              "      <th>Ingreso mensual Pensión declarado</th>\n",
              "      <th>Ingresos del Estado (Monetario: Adulto Mayor) declarado</th>\n",
              "      <th>Ingresos por Víveres de alguna institución pública</th>\n",
              "      <th>Otros ingresos mensuales declarado</th>\n",
              "      <th>Idioma que habla en la casa la mayor parte del tiempo</th>\n",
              "      <th>¿Sabe leer y escibir?</th>\n",
              "      <th>Asiste o asistió a una institución de ens. educativa</th>\n",
              "      <th>Nivel y grado aprobado</th>\n",
              "      <th>Título o diploma que obtuvo</th>\n",
              "      <th>Asiste actualmente a una institución de enseñanza</th>\n",
              "      <th>Sector de la Institución donde asiste</th>\n",
              "      <th>Por qué no asiste o dejó de asistir</th>\n",
              "      <th>Realizó algún curso no formal del país para trabajar, ejercer un  oficio o mejorar nivel cultural</th>\n",
              "      <th>Qué tipo de curso fue el mas importante que hizo</th>\n",
              "      <th>Terminó este curso</th>\n",
              "      <th>En qué año terminó este curso</th>\n",
              "      <th>Qué institución dictó este curso que realizó</th>\n",
              "      <th>Nivel de instrucción del Padre</th>\n",
              "      <th>Nivel de instrucción de la Madre</th>\n",
              "      <th>Años de estudio</th>\n",
              "      <th>Ing por actividad principal corregido</th>\n",
              "      <th>Ing por actividad secundaria corregido</th>\n",
              "      <th>Ing por otras actividades corregido</th>\n",
              "      <th>Ing por alquileres o rentas netas</th>\n",
              "      <th>Ing por intereses o dividendos</th>\n",
              "      <th>Ing por ayuda familiar del país</th>\n",
              "      <th>Ing por divorcio o cuidado de hijos</th>\n",
              "      <th>Ing por jubilación</th>\n",
              "      <th>Ing del Estado Monetario Tekopora</th>\n",
              "      <th>Ing por pensión</th>\n",
              "      <th>Ing del Estado Monetario Adulto Mayor</th>\n",
              "      <th>Ing por víveres de alguna institución pública</th>\n",
              "      <th>Otros ingresos</th>\n",
              "      <th>Otros ingresos agro asignados al jefe</th>\n",
              "      <th>Ing por ayuda familiar del exterior 1</th>\n",
              "      <th>Ing por ayuda familiar del exterior 2</th>\n",
              "      <th>Ingreso percapita mensual</th>\n",
              "      <th>Estatus de pobreza</th>\n",
              "      <th>Condición de pobreza</th>\n",
              "      <th>Quintiles para el total país</th>\n",
              "      <th>Deciles para el total país</th>\n",
              "      <th>Quintiles para cada área</th>\n",
              "      <th>Deciles para cada área</th>\n",
              "    </tr>\n",
              "  </thead>\n",
              "  <tbody>\n",
              "    <tr>\n",
              "      <th>0</th>\n",
              "      <td>DPTO</td>\n",
              "      <td>AREA</td>\n",
              "      <td>P02</td>\n",
              "      <td>P06</td>\n",
              "      <td>P08A</td>\n",
              "      <td>P09</td>\n",
              "      <td>E01A</td>\n",
              "      <td>E01B</td>\n",
              "      <td>E01C</td>\n",
              "      <td>E01D</td>\n",
              "      <td>E01E</td>\n",
              "      <td>E01F</td>\n",
              "      <td>E01G</td>\n",
              "      <td>E01H</td>\n",
              "      <td>E01I</td>\n",
              "      <td>E01J</td>\n",
              "      <td>E01K</td>\n",
              "      <td>E01L</td>\n",
              "      <td>E01M</td>\n",
              "      <td>ED01</td>\n",
              "      <td>ED02</td>\n",
              "      <td>ED03</td>\n",
              "      <td>ED0504</td>\n",
              "      <td>ED06C</td>\n",
              "      <td>ED08</td>\n",
              "      <td>ED09</td>\n",
              "      <td>ED10</td>\n",
              "      <td>ED12</td>\n",
              "      <td>ED13</td>\n",
              "      <td>ED14</td>\n",
              "      <td>ED14A</td>\n",
              "      <td>ED15</td>\n",
              "      <td>NPAD</td>\n",
              "      <td>NMAD</td>\n",
              "      <td>v1</td>\n",
              "      <td>E01AIMDE</td>\n",
              "      <td>E01BIMDE</td>\n",
              "      <td>E01CIMDE</td>\n",
              "      <td>E01DDE</td>\n",
              "      <td>E01EDE</td>\n",
              "      <td>E01FDE</td>\n",
              "      <td>E01GDE</td>\n",
              "      <td>E01HDE</td>\n",
              "      <td>E01IDE</td>\n",
              "      <td>E01JDE</td>\n",
              "      <td>E01KDE</td>\n",
              "      <td>E01LDE</td>\n",
              "      <td>E01MDE</td>\n",
              "      <td>E01KJDE</td>\n",
              "      <td>E02L1BDE</td>\n",
              "      <td>E02L2BDE</td>\n",
              "      <td>IPCM</td>\n",
              "      <td>POBREZAI</td>\n",
              "      <td>POBNOPOI</td>\n",
              "      <td>quintili</td>\n",
              "      <td>decili</td>\n",
              "      <td>quintiai</td>\n",
              "      <td>decilai</td>\n",
              "    </tr>\n",
              "    <tr>\n",
              "      <th>1</th>\n",
              "      <td>NaN</td>\n",
              "      <td>1</td>\n",
              "      <td>70</td>\n",
              "      <td>1</td>\n",
              "      <td>1946</td>\n",
              "      <td>1</td>\n",
              "      <td>NaN</td>\n",
              "      <td>NaN</td>\n",
              "      <td>NaN</td>\n",
              "      <td>NaN</td>\n",
              "      <td>NaN</td>\n",
              "      <td>NaN</td>\n",
              "      <td>NaN</td>\n",
              "      <td>10000000</td>\n",
              "      <td>NaN</td>\n",
              "      <td>NaN</td>\n",
              "      <td>NaN</td>\n",
              "      <td>NaN</td>\n",
              "      <td>NaN</td>\n",
              "      <td>3</td>\n",
              "      <td>1</td>\n",
              "      <td>1</td>\n",
              "      <td>2404</td>\n",
              "      <td>14</td>\n",
              "      <td>NaN</td>\n",
              "      <td>NaN</td>\n",
              "      <td>NaN</td>\n",
              "      <td>NaN</td>\n",
              "      <td>NaN</td>\n",
              "      <td>NaN</td>\n",
              "      <td>NaN</td>\n",
              "      <td>NaN</td>\n",
              "      <td>8888</td>\n",
              "      <td>8888</td>\n",
              "      <td>16</td>\n",
              "      <td>NaN</td>\n",
              "      <td>NaN</td>\n",
              "      <td>NaN</td>\n",
              "      <td>NaN</td>\n",
              "      <td>NaN</td>\n",
              "      <td>NaN</td>\n",
              "      <td>NaN</td>\n",
              "      <td>10000000</td>\n",
              "      <td>NaN</td>\n",
              "      <td>NaN</td>\n",
              "      <td>NaN</td>\n",
              "      <td>NaN</td>\n",
              "      <td>NaN</td>\n",
              "      <td>NaN</td>\n",
              "      <td>NaN</td>\n",
              "      <td>NaN</td>\n",
              "      <td>5578541.667</td>\n",
              "      <td>3</td>\n",
              "      <td>NaN</td>\n",
              "      <td>5</td>\n",
              "      <td>10</td>\n",
              "      <td>5</td>\n",
              "      <td>10</td>\n",
              "    </tr>\n",
              "    <tr>\n",
              "      <th>2</th>\n",
              "      <td>NaN</td>\n",
              "      <td>1</td>\n",
              "      <td>64</td>\n",
              "      <td>6</td>\n",
              "      <td>1952</td>\n",
              "      <td>1</td>\n",
              "      <td>NaN</td>\n",
              "      <td>NaN</td>\n",
              "      <td>NaN</td>\n",
              "      <td>NaN</td>\n",
              "      <td>NaN</td>\n",
              "      <td>NaN</td>\n",
              "      <td>NaN</td>\n",
              "      <td>NaN</td>\n",
              "      <td>NaN</td>\n",
              "      <td>NaN</td>\n",
              "      <td>NaN</td>\n",
              "      <td>NaN</td>\n",
              "      <td>NaN</td>\n",
              "      <td>3</td>\n",
              "      <td>1</td>\n",
              "      <td>1</td>\n",
              "      <td>606</td>\n",
              "      <td>NaN</td>\n",
              "      <td>NaN</td>\n",
              "      <td>NaN</td>\n",
              "      <td>NaN</td>\n",
              "      <td>6</td>\n",
              "      <td>NaN</td>\n",
              "      <td>NaN</td>\n",
              "      <td>NaN</td>\n",
              "      <td>NaN</td>\n",
              "      <td>8888</td>\n",
              "      <td>8888</td>\n",
              "      <td>12</td>\n",
              "      <td>NaN</td>\n",
              "      <td>NaN</td>\n",
              "      <td>NaN</td>\n",
              "      <td>NaN</td>\n",
              "      <td>NaN</td>\n",
              "      <td>NaN</td>\n",
              "      <td>NaN</td>\n",
              "      <td>NaN</td>\n",
              "      <td>NaN</td>\n",
              "      <td>NaN</td>\n",
              "      <td>NaN</td>\n",
              "      <td>NaN</td>\n",
              "      <td>NaN</td>\n",
              "      <td>NaN</td>\n",
              "      <td>NaN</td>\n",
              "      <td>NaN</td>\n",
              "      <td>5578541.667</td>\n",
              "      <td>3</td>\n",
              "      <td>NaN</td>\n",
              "      <td>5</td>\n",
              "      <td>10</td>\n",
              "      <td>5</td>\n",
              "      <td>10</td>\n",
              "    </tr>\n",
              "    <tr>\n",
              "      <th>3</th>\n",
              "      <td>NaN</td>\n",
              "      <td>1</td>\n",
              "      <td>45</td>\n",
              "      <td>6</td>\n",
              "      <td>1971</td>\n",
              "      <td>5</td>\n",
              "      <td>6600000</td>\n",
              "      <td>NaN</td>\n",
              "      <td>NaN</td>\n",
              "      <td>NaN</td>\n",
              "      <td>NaN</td>\n",
              "      <td>NaN</td>\n",
              "      <td>NaN</td>\n",
              "      <td>NaN</td>\n",
              "      <td>NaN</td>\n",
              "      <td>NaN</td>\n",
              "      <td>NaN</td>\n",
              "      <td>NaN</td>\n",
              "      <td>NaN</td>\n",
              "      <td>3</td>\n",
              "      <td>1</td>\n",
              "      <td>1</td>\n",
              "      <td>2405</td>\n",
              "      <td>1</td>\n",
              "      <td>19</td>\n",
              "      <td>NaN</td>\n",
              "      <td>5</td>\n",
              "      <td>1</td>\n",
              "      <td>1</td>\n",
              "      <td>2014</td>\n",
              "      <td>6</td>\n",
              "      <td>3</td>\n",
              "      <td>2404</td>\n",
              "      <td>606</td>\n",
              "      <td>17</td>\n",
              "      <td>6600000</td>\n",
              "      <td>NaN</td>\n",
              "      <td>NaN</td>\n",
              "      <td>NaN</td>\n",
              "      <td>NaN</td>\n",
              "      <td>NaN</td>\n",
              "      <td>NaN</td>\n",
              "      <td>NaN</td>\n",
              "      <td>NaN</td>\n",
              "      <td>NaN</td>\n",
              "      <td>NaN</td>\n",
              "      <td>NaN</td>\n",
              "      <td>NaN</td>\n",
              "      <td>NaN</td>\n",
              "      <td>NaN</td>\n",
              "      <td>NaN</td>\n",
              "      <td>5578541.667</td>\n",
              "      <td>3</td>\n",
              "      <td>NaN</td>\n",
              "      <td>5</td>\n",
              "      <td>10</td>\n",
              "      <td>5</td>\n",
              "      <td>10</td>\n",
              "    </tr>\n",
              "    <tr>\n",
              "      <th>4</th>\n",
              "      <td>NaN</td>\n",
              "      <td>1</td>\n",
              "      <td>36</td>\n",
              "      <td>6</td>\n",
              "      <td>1980</td>\n",
              "      <td>5</td>\n",
              "      <td>3000000</td>\n",
              "      <td>NaN</td>\n",
              "      <td>NaN</td>\n",
              "      <td>NaN</td>\n",
              "      <td>NaN</td>\n",
              "      <td>NaN</td>\n",
              "      <td>NaN</td>\n",
              "      <td>NaN</td>\n",
              "      <td>NaN</td>\n",
              "      <td>NaN</td>\n",
              "      <td>NaN</td>\n",
              "      <td>NaN</td>\n",
              "      <td>NaN</td>\n",
              "      <td>3</td>\n",
              "      <td>1</td>\n",
              "      <td>1</td>\n",
              "      <td>2405</td>\n",
              "      <td>1</td>\n",
              "      <td>19</td>\n",
              "      <td>NaN</td>\n",
              "      <td>5</td>\n",
              "      <td>1</td>\n",
              "      <td>1</td>\n",
              "      <td>2014</td>\n",
              "      <td>6</td>\n",
              "      <td>3</td>\n",
              "      <td>2404</td>\n",
              "      <td>606</td>\n",
              "      <td>17</td>\n",
              "      <td>3000000</td>\n",
              "      <td>NaN</td>\n",
              "      <td>NaN</td>\n",
              "      <td>NaN</td>\n",
              "      <td>NaN</td>\n",
              "      <td>NaN</td>\n",
              "      <td>NaN</td>\n",
              "      <td>NaN</td>\n",
              "      <td>NaN</td>\n",
              "      <td>NaN</td>\n",
              "      <td>NaN</td>\n",
              "      <td>NaN</td>\n",
              "      <td>NaN</td>\n",
              "      <td>NaN</td>\n",
              "      <td>NaN</td>\n",
              "      <td>NaN</td>\n",
              "      <td>5578541.667</td>\n",
              "      <td>3</td>\n",
              "      <td>NaN</td>\n",
              "      <td>5</td>\n",
              "      <td>10</td>\n",
              "      <td>5</td>\n",
              "      <td>10</td>\n",
              "    </tr>\n",
              "  </tbody>\n",
              "</table>\n",
              "</div>"
            ],
            "text/plain": [
              "  Departamento de residencia  ... Deciles para cada área\n",
              "0                       DPTO  ...                decilai\n",
              "1                        NaN  ...                     10\n",
              "2                        NaN  ...                     10\n",
              "3                        NaN  ...                     10\n",
              "4                        NaN  ...                     10\n",
              "\n",
              "[5 rows x 58 columns]"
            ]
          },
          "metadata": {},
          "execution_count": 20
        }
      ]
    },
    {
      "cell_type": "code",
      "metadata": {
        "colab": {
          "base_uri": "https://localhost:8080/"
        },
        "id": "mVzvrth0CdLd",
        "outputId": "273baaf2-1041-460c-a8ae-55473cc15bf8"
      },
      "source": [
        "df.info()#se imprime los nombres de las columnas"
      ],
      "execution_count": 21,
      "outputs": [
        {
          "output_type": "stream",
          "name": "stdout",
          "text": [
            "<class 'pandas.core.frame.DataFrame'>\n",
            "RangeIndex: 37815 entries, 0 to 37814\n",
            "Data columns (total 58 columns):\n",
            " #   Column                                                                                             Non-Null Count  Dtype \n",
            "---  ------                                                                                             --------------  ----- \n",
            " 0   Departamento de residencia                                                                         35206 non-null  object\n",
            " 1   AREA de Residencia                                                                                 37815 non-null  object\n",
            " 2   Edad                                                                                               37123 non-null  object\n",
            " 3   Sexo                                                                                               37815 non-null  object\n",
            " 4   Año de nacimiento                                                                                  37815 non-null  object\n",
            " 5   Estado civil                                                                                       37815 non-null  object\n",
            " 6   Ingreso mensual Ocupación Principal declarado                                                      13586 non-null  object\n",
            " 7   Ingreso mensual Ocupación Secundaria declarado                                                     1269 non-null   object\n",
            " 8   Ingreso mensual Otras Ocupaciones declarado                                                        104 non-null    object\n",
            " 9   Ingreso mensual Alquileres o Rentas neto declarado                                                 454 non-null    object\n",
            " 10  Ingreso mensual Intereses, Dividendos o Utilidades declarado                                       122 non-null    object\n",
            " 11  Ingreso mensual Ayuda Familiar del país declarado                                                  2325 non-null   object\n",
            " 12  Ingreso mensual Prestaciones por divorcio O cuidado de hijos declarado                             436 non-null    object\n",
            " 13  Ingreso mensual Jubilación declarado                                                               509 non-null    object\n",
            " 14  Ingresos del Estado (Monetario: Tekopora) declarado                                                886 non-null    object\n",
            " 15  Ingreso mensual Pensión declarado                                                                  122 non-null    object\n",
            " 16  Ingresos del Estado (Monetario: Adulto Mayor) declarado                                            1029 non-null   object\n",
            " 17  Ingresos por Víveres de alguna institución pública                                                 28 non-null     object\n",
            " 18  Otros ingresos mensuales declarado                                                                 441 non-null    object\n",
            " 19  Idioma que habla en la casa la mayor parte del tiempo                                              34307 non-null  object\n",
            " 20  ¿Sabe leer y escibir?                                                                              34307 non-null  object\n",
            " 21  Asiste o asistió a una institución de ens. educativa                                               34307 non-null  object\n",
            " 22  Nivel y grado aprobado                                                                             32618 non-null  object\n",
            " 23  Título o diploma que obtuvo                                                                        4657 non-null   object\n",
            " 24  Asiste actualmente a una institución de enseñanza                                                  26329 non-null  object\n",
            " 25  Sector de la Institución donde asiste                                                              11188 non-null  object\n",
            " 26  Por qué no asiste o dejó de asistir                                                                16177 non-null  object\n",
            " 27  Realizó algún curso no formal del país para trabajar, ejercer un  oficio o mejorar nivel cultural  24067 non-null  object\n",
            " 28  Qué tipo de curso fue el mas importante que hizo                                                   5820 non-null   object\n",
            " 29  Terminó este curso                                                                                 5820 non-null   object\n",
            " 30  En qué año terminó este curso                                                                      5820 non-null   object\n",
            " 31  Qué institución dictó este curso que realizó                                                       5820 non-null   object\n",
            " 32  Nivel de instrucción del Padre                                                                     37620 non-null  object\n",
            " 33  Nivel de instrucción de la Madre                                                                   37162 non-null  object\n",
            " 34  Años de estudio                                                                                    31514 non-null  object\n",
            " 35  Ing por actividad principal corregido                                                              15920 non-null  object\n",
            " 36  Ing por actividad secundaria corregido                                                             1603 non-null   object\n",
            " 37  Ing por otras actividades corregido                                                                116 non-null    object\n",
            " 38  Ing por alquileres o rentas netas                                                                  421 non-null    object\n",
            " 39  Ing por intereses o dividendos                                                                     82 non-null     object\n",
            " 40  Ing por ayuda familiar del país                                                                    2289 non-null   object\n",
            " 41  Ing por divorcio o cuidado de hijos                                                                414 non-null    object\n",
            " 42  Ing por jubilación                                                                                 496 non-null    object\n",
            " 43  Ing del Estado Monetario Tekopora                                                                  884 non-null    object\n",
            " 44  Ing por pensión                                                                                    122 non-null    object\n",
            " 45  Ing del Estado Monetario Adulto Mayor                                                              1027 non-null   object\n",
            " 46  Ing por víveres de alguna institución pública                                                      20 non-null     object\n",
            " 47  Otros ingresos                                                                                     416 non-null    object\n",
            " 48  Otros ingresos agro asignados al jefe                                                              1704 non-null   object\n",
            " 49  Ing por ayuda familiar del exterior 1                                                              746 non-null    object\n",
            " 50  Ing por ayuda familiar del exterior 2                                                              33 non-null     object\n",
            " 51  Ingreso percapita mensual                                                                          37714 non-null  object\n",
            " 52  Estatus de pobreza                                                                                 37714 non-null  object\n",
            " 53  Condición de pobreza                                                                               11977 non-null  object\n",
            " 54  Quintiles para el total país                                                                       37714 non-null  object\n",
            " 55  Deciles para el total país                                                                         37714 non-null  object\n",
            " 56  Quintiles para cada área                                                                           37714 non-null  object\n",
            " 57  Deciles para cada área                                                                             37714 non-null  object\n",
            "dtypes: object(58)\n",
            "memory usage: 16.7+ MB\n"
          ]
        }
      ]
    },
    {
      "cell_type": "code",
      "metadata": {
        "colab": {
          "base_uri": "https://localhost:8080/",
          "height": 206
        },
        "id": "eswewxDLDlkl",
        "outputId": "d459228b-5db0-4f7f-ffda-b2bb2fb3ecb8"
      },
      "source": [
        "df=df[[\"Edad\",\"Título o diploma que obtuvo\",\"Ingreso percapita mensual\"]]#separamos solo las columnas que nos interesa\n",
        "df.head()"
      ],
      "execution_count": 22,
      "outputs": [
        {
          "output_type": "execute_result",
          "data": {
            "text/html": [
              "<div>\n",
              "<style scoped>\n",
              "    .dataframe tbody tr th:only-of-type {\n",
              "        vertical-align: middle;\n",
              "    }\n",
              "\n",
              "    .dataframe tbody tr th {\n",
              "        vertical-align: top;\n",
              "    }\n",
              "\n",
              "    .dataframe thead th {\n",
              "        text-align: right;\n",
              "    }\n",
              "</style>\n",
              "<table border=\"1\" class=\"dataframe\">\n",
              "  <thead>\n",
              "    <tr style=\"text-align: right;\">\n",
              "      <th></th>\n",
              "      <th>Edad</th>\n",
              "      <th>Título o diploma que obtuvo</th>\n",
              "      <th>Ingreso percapita mensual</th>\n",
              "    </tr>\n",
              "  </thead>\n",
              "  <tbody>\n",
              "    <tr>\n",
              "      <th>0</th>\n",
              "      <td>P02</td>\n",
              "      <td>ED06C</td>\n",
              "      <td>IPCM</td>\n",
              "    </tr>\n",
              "    <tr>\n",
              "      <th>1</th>\n",
              "      <td>70</td>\n",
              "      <td>14</td>\n",
              "      <td>5578541.667</td>\n",
              "    </tr>\n",
              "    <tr>\n",
              "      <th>2</th>\n",
              "      <td>64</td>\n",
              "      <td>NaN</td>\n",
              "      <td>5578541.667</td>\n",
              "    </tr>\n",
              "    <tr>\n",
              "      <th>3</th>\n",
              "      <td>45</td>\n",
              "      <td>1</td>\n",
              "      <td>5578541.667</td>\n",
              "    </tr>\n",
              "    <tr>\n",
              "      <th>4</th>\n",
              "      <td>36</td>\n",
              "      <td>1</td>\n",
              "      <td>5578541.667</td>\n",
              "    </tr>\n",
              "  </tbody>\n",
              "</table>\n",
              "</div>"
            ],
            "text/plain": [
              "  Edad Título o diploma que obtuvo Ingreso percapita mensual\n",
              "0  P02                       ED06C                      IPCM\n",
              "1   70                          14               5578541.667\n",
              "2   64                         NaN               5578541.667\n",
              "3   45                           1               5578541.667\n",
              "4   36                           1               5578541.667"
            ]
          },
          "metadata": {},
          "execution_count": 22
        }
      ]
    },
    {
      "cell_type": "code",
      "metadata": {
        "id": "y8h1ubv4EsxS"
      },
      "source": [
        "df=df.drop(index=0)#borramos las fila 1"
      ],
      "execution_count": 23,
      "outputs": []
    },
    {
      "cell_type": "code",
      "metadata": {
        "colab": {
          "base_uri": "https://localhost:8080/",
          "height": 206
        },
        "id": "Uitn4dmOFSXp",
        "outputId": "fc42ed4e-df0b-4e1e-deef-3145355071cf"
      },
      "source": [
        "df.head()"
      ],
      "execution_count": 24,
      "outputs": [
        {
          "output_type": "execute_result",
          "data": {
            "text/html": [
              "<div>\n",
              "<style scoped>\n",
              "    .dataframe tbody tr th:only-of-type {\n",
              "        vertical-align: middle;\n",
              "    }\n",
              "\n",
              "    .dataframe tbody tr th {\n",
              "        vertical-align: top;\n",
              "    }\n",
              "\n",
              "    .dataframe thead th {\n",
              "        text-align: right;\n",
              "    }\n",
              "</style>\n",
              "<table border=\"1\" class=\"dataframe\">\n",
              "  <thead>\n",
              "    <tr style=\"text-align: right;\">\n",
              "      <th></th>\n",
              "      <th>Edad</th>\n",
              "      <th>Título o diploma que obtuvo</th>\n",
              "      <th>Ingreso percapita mensual</th>\n",
              "    </tr>\n",
              "  </thead>\n",
              "  <tbody>\n",
              "    <tr>\n",
              "      <th>1</th>\n",
              "      <td>70</td>\n",
              "      <td>14</td>\n",
              "      <td>5578541.667</td>\n",
              "    </tr>\n",
              "    <tr>\n",
              "      <th>2</th>\n",
              "      <td>64</td>\n",
              "      <td>NaN</td>\n",
              "      <td>5578541.667</td>\n",
              "    </tr>\n",
              "    <tr>\n",
              "      <th>3</th>\n",
              "      <td>45</td>\n",
              "      <td>1</td>\n",
              "      <td>5578541.667</td>\n",
              "    </tr>\n",
              "    <tr>\n",
              "      <th>4</th>\n",
              "      <td>36</td>\n",
              "      <td>1</td>\n",
              "      <td>5578541.667</td>\n",
              "    </tr>\n",
              "    <tr>\n",
              "      <th>5</th>\n",
              "      <td>67</td>\n",
              "      <td>NaN</td>\n",
              "      <td>9500000</td>\n",
              "    </tr>\n",
              "  </tbody>\n",
              "</table>\n",
              "</div>"
            ],
            "text/plain": [
              "  Edad Título o diploma que obtuvo Ingreso percapita mensual\n",
              "1   70                          14               5578541.667\n",
              "2   64                         NaN               5578541.667\n",
              "3   45                           1               5578541.667\n",
              "4   36                           1               5578541.667\n",
              "5   67                         NaN                   9500000"
            ]
          },
          "metadata": {},
          "execution_count": 24
        }
      ]
    },
    {
      "cell_type": "code",
      "metadata": {
        "colab": {
          "base_uri": "https://localhost:8080/"
        },
        "id": "osEEUAmaHHfS",
        "outputId": "84152249-6722-4269-b841-05d8504ad099"
      },
      "source": [
        "df.dtypes#imprimimos el tipo de variable que contiene cada columna "
      ],
      "execution_count": 25,
      "outputs": [
        {
          "output_type": "execute_result",
          "data": {
            "text/plain": [
              "Edad                           object\n",
              "Título o diploma que obtuvo    object\n",
              "Ingreso percapita mensual      object\n",
              "dtype: object"
            ]
          },
          "metadata": {},
          "execution_count": 25
        }
      ]
    },
    {
      "cell_type": "code",
      "metadata": {
        "id": "eT0C603UHZkf"
      },
      "source": [
        "df=df.dropna()#borramos las filas que contengan espacios vacios \n",
        "df[\"Edad\"]=df[\"Edad\"].astype(int)#convertimos la fila Edad de objeto a numerico entero"
      ],
      "execution_count": 26,
      "outputs": []
    },
    {
      "cell_type": "code",
      "metadata": {
        "id": "29L7Dc3KIfPI",
        "colab": {
          "base_uri": "https://localhost:8080/"
        },
        "outputId": "01cb0f55-57de-484e-b775-090d15d72244"
      },
      "source": [
        "df.dtypes"
      ],
      "execution_count": 27,
      "outputs": [
        {
          "output_type": "execute_result",
          "data": {
            "text/plain": [
              "Edad                            int64\n",
              "Título o diploma que obtuvo    object\n",
              "Ingreso percapita mensual      object\n",
              "dtype: object"
            ]
          },
          "metadata": {},
          "execution_count": 27
        }
      ]
    },
    {
      "cell_type": "code",
      "metadata": {
        "colab": {
          "base_uri": "https://localhost:8080/",
          "height": 206
        },
        "id": "E-FPwjH4GwV5",
        "outputId": "09d224dc-be53-4306-b647-85b48bb35122"
      },
      "source": [
        "df=df[(df[\"Edad\"]>=25) & (df[\"Edad\"]<=60)]#aplicamos el primer filtro\n",
        "df.head()"
      ],
      "execution_count": 28,
      "outputs": [
        {
          "output_type": "execute_result",
          "data": {
            "text/html": [
              "<div>\n",
              "<style scoped>\n",
              "    .dataframe tbody tr th:only-of-type {\n",
              "        vertical-align: middle;\n",
              "    }\n",
              "\n",
              "    .dataframe tbody tr th {\n",
              "        vertical-align: top;\n",
              "    }\n",
              "\n",
              "    .dataframe thead th {\n",
              "        text-align: right;\n",
              "    }\n",
              "</style>\n",
              "<table border=\"1\" class=\"dataframe\">\n",
              "  <thead>\n",
              "    <tr style=\"text-align: right;\">\n",
              "      <th></th>\n",
              "      <th>Edad</th>\n",
              "      <th>Título o diploma que obtuvo</th>\n",
              "      <th>Ingreso percapita mensual</th>\n",
              "    </tr>\n",
              "  </thead>\n",
              "  <tbody>\n",
              "    <tr>\n",
              "      <th>3</th>\n",
              "      <td>45</td>\n",
              "      <td>1</td>\n",
              "      <td>5578541.667</td>\n",
              "    </tr>\n",
              "    <tr>\n",
              "      <th>4</th>\n",
              "      <td>36</td>\n",
              "      <td>1</td>\n",
              "      <td>5578541.667</td>\n",
              "    </tr>\n",
              "    <tr>\n",
              "      <th>7</th>\n",
              "      <td>35</td>\n",
              "      <td>14</td>\n",
              "      <td>5937500</td>\n",
              "    </tr>\n",
              "    <tr>\n",
              "      <th>8</th>\n",
              "      <td>34</td>\n",
              "      <td>1</td>\n",
              "      <td>5937500</td>\n",
              "    </tr>\n",
              "    <tr>\n",
              "      <th>24</th>\n",
              "      <td>52</td>\n",
              "      <td>1</td>\n",
              "      <td>2804166.667</td>\n",
              "    </tr>\n",
              "  </tbody>\n",
              "</table>\n",
              "</div>"
            ],
            "text/plain": [
              "    Edad Título o diploma que obtuvo Ingreso percapita mensual\n",
              "3     45                           1               5578541.667\n",
              "4     36                           1               5578541.667\n",
              "7     35                          14                   5937500\n",
              "8     34                           1                   5937500\n",
              "24    52                           1               2804166.667"
            ]
          },
          "metadata": {},
          "execution_count": 28
        }
      ]
    },
    {
      "cell_type": "code",
      "metadata": {
        "id": "Y_bb_sU_K5Rv",
        "colab": {
          "base_uri": "https://localhost:8080/"
        },
        "outputId": "76c56d04-62db-447c-9aa4-da2c33fdc0e8"
      },
      "source": [
        "df[\"Título o diploma que obtuvo\"]=df[\"Título o diploma que obtuvo\"].astype(int)#convertimos la columna \"Título o diploma que obtuvo\" de objeto a numerico entero \n",
        "df.dtypes"
      ],
      "execution_count": 29,
      "outputs": [
        {
          "output_type": "execute_result",
          "data": {
            "text/plain": [
              "Edad                            int64\n",
              "Título o diploma que obtuvo     int64\n",
              "Ingreso percapita mensual      object\n",
              "dtype: object"
            ]
          },
          "metadata": {},
          "execution_count": 29
        }
      ]
    },
    {
      "cell_type": "code",
      "metadata": {
        "id": "Uj-ULRVZL9Rz",
        "colab": {
          "base_uri": "https://localhost:8080/"
        },
        "outputId": "12787080-f2b8-4dc6-c4a0-4b4283be9738"
      },
      "source": [
        "G1=df[df[\"Título o diploma que obtuvo\"]==3]#separamos el primer grupo por medio de un filtro\n",
        "G1=G1[\"Ingreso percapita mensual\"]#apartamos solo la columna que nos interesa \n",
        "G1"
      ],
      "execution_count": 30,
      "outputs": [
        {
          "output_type": "execute_result",
          "data": {
            "text/plain": [
              "260       1004810.75\n",
              "269          1684000\n",
              "1145     347151.4025\n",
              "1250       1527848.6\n",
              "1417     5348788.912\n",
              "            ...     \n",
              "37270    1.20752e+06\n",
              "37286    1.25944e+06\n",
              "37373    1.89433e+06\n",
              "37492         907122\n",
              "37623         950000\n",
              "Name: Ingreso percapita mensual, Length: 296, dtype: object"
            ]
          },
          "metadata": {},
          "execution_count": 30
        }
      ]
    },
    {
      "cell_type": "code",
      "metadata": {
        "colab": {
          "base_uri": "https://localhost:8080/"
        },
        "id": "hzfTcV0OMetZ",
        "outputId": "6e578151-7c55-4673-a3c3-c6b976c17dad"
      },
      "source": [
        "#G2=df[(df[\"Título o diploma que obtuvo\"]>=8) & (df[\"Título o diploma que obtuvo\"]<=10)]\n",
        "G2=df[df[\"Título o diploma que obtuvo\"].between(8,10)]#separamos el segundo grupo por medio de dos filtros\n",
        "G22=df[df[\"Título o diploma que obtuvo\"]==1]\n",
        "G2=pd.concat([G2,G22],axis=0)#unimos los dos filtro aplicados \n",
        "G2=G2[\"Ingreso percapita mensual\"]\n",
        "G2"
      ],
      "execution_count": 32,
      "outputs": [
        {
          "output_type": "execute_result",
          "data": {
            "text/plain": [
              "200      3979366.848\n",
              "211      5255381.356\n",
              "724      14270676.69\n",
              "733      4373929.141\n",
              "909          7735500\n",
              "            ...     \n",
              "37789    4.86073e+06\n",
              "37799     2.0957e+06\n",
              "37800     2.0957e+06\n",
              "37804    1.68212e+06\n",
              "37809       4.75e+06\n",
              "Name: Ingreso percapita mensual, Length: 1510, dtype: object"
            ]
          },
          "metadata": {},
          "execution_count": 32
        }
      ]
    },
    {
      "cell_type": "code",
      "metadata": {
        "id": "D7Y00hAGRHOC"
      },
      "source": [
        "G1=G1.astype(float)#hacemos que la unica columna de esta variable sea flotante"
      ],
      "execution_count": 33,
      "outputs": []
    },
    {
      "cell_type": "code",
      "metadata": {
        "id": "krBJTqRBQccz"
      },
      "source": [
        "print(\"Grupo 1:\")#imprimimos los datos estadisticos\n",
        "print(f\"Cantidad: {G1.count()}\")\n",
        "print(f\"Media: {G1.mean()}\")\n",
        "print(f\"Maximo: {G1.max()}\")\n",
        "print(f\"Minimo: {G1.min()}\")\n",
        "print(f\"Rango: {G1.max()-G1.min()}\")\n",
        "print(f\"Desv Estandar: {G1.std()}\")"
      ],
      "execution_count": null,
      "outputs": []
    },
    {
      "cell_type": "code",
      "metadata": {
        "id": "dHVBzG0RS4D4"
      },
      "source": [
        "G2=G2.astype(float)"
      ],
      "execution_count": 34,
      "outputs": []
    },
    {
      "cell_type": "code",
      "metadata": {
        "colab": {
          "base_uri": "https://localhost:8080/"
        },
        "id": "e1oQQvvbSzUs",
        "outputId": "ca5f3333-8ad2-4872-9567-6a16820ff549"
      },
      "source": [
        "print(\"Grupo 1:\")\n",
        "print(f\"Cantidad: {G2.count()}\")\n",
        "print(f\"Media: {G2.mean()}\")\n",
        "print(f\"Maximo: {G2.max()}\")\n",
        "print(f\"Minimo: {G2.min()}\")\n",
        "print(f\"Rango: {G2.max()-G2.min()}\")\n",
        "print(f\"Desv Estandar: {G2.std()}\")"
      ],
      "execution_count": 35,
      "outputs": [
        {
          "output_type": "stream",
          "name": "stdout",
          "text": [
            "Grupo 1:\n",
            "Cantidad: 1510\n",
            "Media: 3321965.6871535117\n",
            "Maximo: 32491666.67\n",
            "Minimo: 304829.3333\n",
            "Rango: 32186837.336700004\n",
            "Desv Estandar: 3376603.991328809\n"
          ]
        }
      ]
    },
    {
      "cell_type": "code",
      "metadata": {
        "colab": {
          "base_uri": "https://localhost:8080/",
          "height": 206
        },
        "id": "W8NuMcw5Tb9w",
        "outputId": "f07f90d2-fae8-4d19-bfc4-3f3921dbcc4d"
      },
      "source": [
        "GT=pd.concat([G1.rename(\"G1\"),G2.rename(\"G2\")],axis=1)#unimos ambos grupos en una sola varible, una al lado de otra\n",
        "GT.head()"
      ],
      "execution_count": 36,
      "outputs": [
        {
          "output_type": "execute_result",
          "data": {
            "text/html": [
              "<div>\n",
              "<style scoped>\n",
              "    .dataframe tbody tr th:only-of-type {\n",
              "        vertical-align: middle;\n",
              "    }\n",
              "\n",
              "    .dataframe tbody tr th {\n",
              "        vertical-align: top;\n",
              "    }\n",
              "\n",
              "    .dataframe thead th {\n",
              "        text-align: right;\n",
              "    }\n",
              "</style>\n",
              "<table border=\"1\" class=\"dataframe\">\n",
              "  <thead>\n",
              "    <tr style=\"text-align: right;\">\n",
              "      <th></th>\n",
              "      <th>G1</th>\n",
              "      <th>G2</th>\n",
              "    </tr>\n",
              "  </thead>\n",
              "  <tbody>\n",
              "    <tr>\n",
              "      <th>3</th>\n",
              "      <td>NaN</td>\n",
              "      <td>5578541.667</td>\n",
              "    </tr>\n",
              "    <tr>\n",
              "      <th>4</th>\n",
              "      <td>NaN</td>\n",
              "      <td>5578541.667</td>\n",
              "    </tr>\n",
              "    <tr>\n",
              "      <th>8</th>\n",
              "      <td>NaN</td>\n",
              "      <td>5937500.000</td>\n",
              "    </tr>\n",
              "    <tr>\n",
              "      <th>24</th>\n",
              "      <td>NaN</td>\n",
              "      <td>2804166.667</td>\n",
              "    </tr>\n",
              "    <tr>\n",
              "      <th>25</th>\n",
              "      <td>NaN</td>\n",
              "      <td>2804166.667</td>\n",
              "    </tr>\n",
              "  </tbody>\n",
              "</table>\n",
              "</div>"
            ],
            "text/plain": [
              "    G1           G2\n",
              "3  NaN  5578541.667\n",
              "4  NaN  5578541.667\n",
              "8  NaN  5937500.000\n",
              "24 NaN  2804166.667\n",
              "25 NaN  2804166.667"
            ]
          },
          "metadata": {},
          "execution_count": 36
        }
      ]
    },
    {
      "cell_type": "code",
      "metadata": {
        "id": "4RWCBSN_TIgJ",
        "colab": {
          "base_uri": "https://localhost:8080/"
        },
        "outputId": "c4d5b9e4-b5e2-4dea-934f-9259b25ac9a2"
      },
      "source": [
        "intervalos=pd.interval_range(start=0,end=GT.max().max()+2000000, freq=2000000,closed=\"left\")#generamos los intervalos de clases\n",
        "for inter in intervalos:\n",
        "  print(inter)"
      ],
      "execution_count": 37,
      "outputs": [
        {
          "output_type": "stream",
          "name": "stdout",
          "text": [
            "[0.0, 2000000.0)\n",
            "[2000000.0, 4000000.0)\n",
            "[4000000.0, 6000000.0)\n",
            "[6000000.0, 8000000.0)\n",
            "[8000000.0, 10000000.0)\n",
            "[10000000.0, 12000000.0)\n",
            "[12000000.0, 14000000.0)\n",
            "[14000000.0, 16000000.0)\n",
            "[16000000.0, 18000000.0)\n",
            "[18000000.0, 20000000.0)\n",
            "[20000000.0, 22000000.0)\n",
            "[22000000.0, 24000000.0)\n",
            "[24000000.0, 26000000.0)\n",
            "[26000000.0, 28000000.0)\n",
            "[28000000.0, 30000000.0)\n",
            "[30000000.0, 32000000.0)\n",
            "[32000000.0, 34000000.0)\n"
          ]
        }
      ]
    },
    {
      "cell_type": "code",
      "metadata": {
        "id": "h9nrFIe5VMDz",
        "colab": {
          "base_uri": "https://localhost:8080/",
          "height": 582
        },
        "outputId": "45f9d9b0-6cec-4076-fff2-5616204f882f"
      },
      "source": [
        "F1=pd.cut(GT[\"G1\"],bins=intervalos).rename(\"G1\")#identificamos a que intervalo pertenece cada dato\n",
        "F2=pd.cut(GT[\"G2\"],bins=intervalos).rename(\"G2\")\n",
        "F1=F1.groupby(F1).count()#identificamos la frecuencia de cada clase\n",
        "F2=F2.groupby(F2).count()\n",
        "FT=pd.concat([F1,F2],axis=1)#concatenamos una frecuencia al lado de otra\n",
        "FT"
      ],
      "execution_count": 39,
      "outputs": [
        {
          "output_type": "execute_result",
          "data": {
            "text/html": [
              "<div>\n",
              "<style scoped>\n",
              "    .dataframe tbody tr th:only-of-type {\n",
              "        vertical-align: middle;\n",
              "    }\n",
              "\n",
              "    .dataframe tbody tr th {\n",
              "        vertical-align: top;\n",
              "    }\n",
              "\n",
              "    .dataframe thead th {\n",
              "        text-align: right;\n",
              "    }\n",
              "</style>\n",
              "<table border=\"1\" class=\"dataframe\">\n",
              "  <thead>\n",
              "    <tr style=\"text-align: right;\">\n",
              "      <th></th>\n",
              "      <th>G1</th>\n",
              "      <th>G2</th>\n",
              "    </tr>\n",
              "  </thead>\n",
              "  <tbody>\n",
              "    <tr>\n",
              "      <th>[0.0, 2000000.0)</th>\n",
              "      <td>211</td>\n",
              "      <td>622</td>\n",
              "    </tr>\n",
              "    <tr>\n",
              "      <th>[2000000.0, 4000000.0)</th>\n",
              "      <td>67</td>\n",
              "      <td>538</td>\n",
              "    </tr>\n",
              "    <tr>\n",
              "      <th>[4000000.0, 6000000.0)</th>\n",
              "      <td>15</td>\n",
              "      <td>179</td>\n",
              "    </tr>\n",
              "    <tr>\n",
              "      <th>[6000000.0, 8000000.0)</th>\n",
              "      <td>1</td>\n",
              "      <td>81</td>\n",
              "    </tr>\n",
              "    <tr>\n",
              "      <th>[8000000.0, 10000000.0)</th>\n",
              "      <td>0</td>\n",
              "      <td>23</td>\n",
              "    </tr>\n",
              "    <tr>\n",
              "      <th>[10000000.0, 12000000.0)</th>\n",
              "      <td>0</td>\n",
              "      <td>22</td>\n",
              "    </tr>\n",
              "    <tr>\n",
              "      <th>[12000000.0, 14000000.0)</th>\n",
              "      <td>0</td>\n",
              "      <td>16</td>\n",
              "    </tr>\n",
              "    <tr>\n",
              "      <th>[14000000.0, 16000000.0)</th>\n",
              "      <td>1</td>\n",
              "      <td>8</td>\n",
              "    </tr>\n",
              "    <tr>\n",
              "      <th>[16000000.0, 18000000.0)</th>\n",
              "      <td>1</td>\n",
              "      <td>3</td>\n",
              "    </tr>\n",
              "    <tr>\n",
              "      <th>[18000000.0, 20000000.0)</th>\n",
              "      <td>0</td>\n",
              "      <td>5</td>\n",
              "    </tr>\n",
              "    <tr>\n",
              "      <th>[20000000.0, 22000000.0)</th>\n",
              "      <td>0</td>\n",
              "      <td>4</td>\n",
              "    </tr>\n",
              "    <tr>\n",
              "      <th>[22000000.0, 24000000.0)</th>\n",
              "      <td>0</td>\n",
              "      <td>1</td>\n",
              "    </tr>\n",
              "    <tr>\n",
              "      <th>[24000000.0, 26000000.0)</th>\n",
              "      <td>0</td>\n",
              "      <td>3</td>\n",
              "    </tr>\n",
              "    <tr>\n",
              "      <th>[26000000.0, 28000000.0)</th>\n",
              "      <td>0</td>\n",
              "      <td>1</td>\n",
              "    </tr>\n",
              "    <tr>\n",
              "      <th>[28000000.0, 30000000.0)</th>\n",
              "      <td>0</td>\n",
              "      <td>2</td>\n",
              "    </tr>\n",
              "    <tr>\n",
              "      <th>[30000000.0, 32000000.0)</th>\n",
              "      <td>0</td>\n",
              "      <td>1</td>\n",
              "    </tr>\n",
              "    <tr>\n",
              "      <th>[32000000.0, 34000000.0)</th>\n",
              "      <td>0</td>\n",
              "      <td>1</td>\n",
              "    </tr>\n",
              "  </tbody>\n",
              "</table>\n",
              "</div>"
            ],
            "text/plain": [
              "                           G1   G2\n",
              "[0.0, 2000000.0)          211  622\n",
              "[2000000.0, 4000000.0)     67  538\n",
              "[4000000.0, 6000000.0)     15  179\n",
              "[6000000.0, 8000000.0)      1   81\n",
              "[8000000.0, 10000000.0)     0   23\n",
              "[10000000.0, 12000000.0)    0   22\n",
              "[12000000.0, 14000000.0)    0   16\n",
              "[14000000.0, 16000000.0)    1    8\n",
              "[16000000.0, 18000000.0)    1    3\n",
              "[18000000.0, 20000000.0)    0    5\n",
              "[20000000.0, 22000000.0)    0    4\n",
              "[22000000.0, 24000000.0)    0    1\n",
              "[24000000.0, 26000000.0)    0    3\n",
              "[26000000.0, 28000000.0)    0    1\n",
              "[28000000.0, 30000000.0)    0    2\n",
              "[30000000.0, 32000000.0)    0    1\n",
              "[32000000.0, 34000000.0)    0    1"
            ]
          },
          "metadata": {},
          "execution_count": 39
        }
      ]
    },
    {
      "cell_type": "code",
      "metadata": {
        "colab": {
          "base_uri": "https://localhost:8080/",
          "height": 777
        },
        "id": "kEOyfA4EWnsO",
        "outputId": "5de7f856-c17a-4728-c94b-62395556ecb2"
      },
      "source": [
        "import matplotlib.pyplot as plt#importamos la libreria que nos permite graficar\n",
        "FT.plot(kind=\"bar\",subplots=True)#graficamos cada clase por separado\n",
        "FT.plot(kind=\"bar\",alpha=0.5)#graficamos todas clase juntas\n",
        "plt.show()"
      ],
      "execution_count": 40,
      "outputs": [
        {
          "output_type": "display_data",
          "data": {
            "image/png": "[encoded data removed]",
            "text/plain": [
              "<Figure size 432x288 with 2 Axes>"
            ]
          },
          "metadata": {
            "needs_background": "light"
          }
        },
        {
          "output_type": "display_data",
          "data": {
            "image/png": "[encoded data removed]",
            "text/plain": [
              "<Figure size 432x288 with 1 Axes>"
            ]
          },
          "metadata": {
            "needs_background": "light"
          }
        }
      ]
    }
  ]
}