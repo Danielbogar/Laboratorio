{
  "nbformat": 4,
  "nbformat_minor": 0,
  "metadata": {
    "colab": {
      "name": "Ejercicios propuestos de Distribución Binomial",
      "provenance": [],
      "collapsed_sections": [],
      "authorship_tag": "ABX9TyM5feSWV9GNDNIrL+Jy2zPF",
      "include_colab_link": true
    },
    "kernelspec": {
      "name": "python3",
      "display_name": "Python 3"
    }
  },
  "cells": [
    {
      "cell_type": "markdown",
      "metadata": {
        "id": "view-in-github",
        "colab_type": "text"
      },
      "source": [
        "<a href=\"https://colab.research.google.com/github/pyefiuna/Laboratorio/blob/master/notebooks/Distribuciones%20de%20Probabilidad/Ejercicios_propuestos_de_Distribuci%C3%B3n_Binomial.ipynb\" target=\"_parent\"><img src=\"https://colab.research.google.com/assets/colab-badge.svg\" alt=\"Open In Colab\"/></a>"
      ]
    },
    {
      "cell_type": "markdown",
      "metadata": {
        "id": "MkLqkeK890ic"
      },
      "source": [
        "!['Logo FIUNA'](http://www.ing.una.py/images/logo-horizontal.png)\r\n",
        "# PROBABILIDAD Y ESTADÍSTICA\r\n",
        "## Ejercicios de Distribución Binomial\r\n",
        "---\r\n",
        "\r\n",
        "De manera a guiarte en la resolución de los ejercicios propuestos, la metodología de trabajo será la siguiente:\r\n",
        "1. Este espacio de trabajo (notebook) no está vacío, se han dejado las celdas que necesites para el desarrollo de cada tema.\r\n",
        "2. Cada celda está precedida de una explicación de lo que tenés que hacer de manera a resolver el ejercicio.\r\n",
        "3. La dificultad va ir en aumento, así como las ayudas van a ser cada vez menos.\r\n",
        "\r\n",
        "Esperamos que esto te sea útil para aprender a resolver ejercicios de __Distribución Binomial con Python.__ Éxitos! "
      ]
    },
    {
      "cell_type": "markdown",
      "metadata": {
        "id": "cgKJvEF6Cfsp"
      },
      "source": [
        "Antes de empezar, tenemos que importar la clase `binom` del módulo `scipy.stats`."
      ]
    },
    {
      "cell_type": "code",
      "metadata": {
        "id": "V4QZZa4i9f85"
      },
      "source": [
        "# Usá esta celda para importar la clase binom\r\n"
      ],
      "execution_count": null,
      "outputs": []
    },
    {
      "cell_type": "markdown",
      "metadata": {
        "id": "HBbRcqzZD2sP"
      },
      "source": [
        "## Ejercicios propuestos:\r\n",
        "\r\n",
        "1. La probabilidad de que un alumno de FIUNA, en un día soleado, llegue tarde a su clase es del 30%. Si en tu sección de Probabilidad y Estadística hay 60 matriculados, calcular:\r\n",
        "> a) ¿Cuál es la probabilidad de que ningún alumno de tu sección llegue tarde a la clase?.  \r\n",
        "b) ¿Cuál es la probabilidad de que menos de 5 alumnos lleguen tarde a la clase de Proba?  \r\n",
        "c) ¿Cuál es la probabilidad de que todos los alumnos de la sección lleguen tarde?\r\n",
        "\r\n",
        "Si en los días de lluvia la probabilidad de llegar tarde sube hasta 80%, calcular:\r\n",
        "> d) La probabilidad de que ningún alumno llegue tarde.  \r\n",
        "e) La probabilidad de que todos lleguen tarde.\r\n",
        "\r\n",
        "### Desarrollo\r\n",
        "Empecemos por declarar las variables de la primera parte del ejercicio, para un día soleado:\r\n"
      ]
    },
    {
      "cell_type": "code",
      "metadata": {
        "id": "bHCd_qzrDfpW"
      },
      "source": [
        "# No hace falta que borres nada, solo completá los valores al lado de cada signo igual\r\n",
        "\r\n",
        "n =   # Recordemos que n es el tamaño de la muestra o la cantidad de ensayos\r\n",
        "p =   # p es la probabilidad de éxito, para nuestro caso la probabilidad de llegar tarde"
      ],
      "execution_count": null,
      "outputs": []
    },
    {
      "cell_type": "markdown",
      "metadata": {
        "id": "3lgYRiDFImAl"
      },
      "source": [
        "El siguiente paso es crear un objeto (también conocido como instancia) de la clase `binom` con los datos de nuestro ejercicio, para esto creamos una variable con el nombre que quieras, por ejemplo: `dist_binomial`"
      ]
    },
    {
      "cell_type": "code",
      "metadata": {
        "id": "qqWJli_HJZ6F"
      },
      "source": [
        "# Recordá que la clase binom necesita de al menos dos datos para crearse correctamente, estos datos deben ir en orden y separados por una coma ( , )\r\n",
        "dist_binomial = binom()\r\n",
        "\r\n",
        "# Pro tip:  En Python la Documentación de una clase, una función o método se llama docstring, \r\n",
        "#           ahí vas a encontrar una explicación de lo que podés hacer con ese objeto, y cuales \r\n",
        "#           son los parámetros que se requieren y en que orden.\r\n",
        "\r\n",
        "#           Si estás trabajando desde Google Colab, dejando el cursor sobre el método binom te aparece la documentación (docstring).\r\n",
        "#           Si estás trabajando de manera local, con Jupyter Notebook, situándote dentro de los paréntesis de binom y apretando Shift + Tab vas a obtener la misma documentación"
      ],
      "execution_count": null,
      "outputs": []
    },
    {
      "cell_type": "markdown",
      "metadata": {
        "id": "l1lWojTnMdds"
      },
      "source": [
        "> a) Para hallar la probabilidad de que ningún alumno de tu sección llegue tarde, tenemos que hallar la probabilidad de $P(0)$, haciendo uso del método `pmf(x)` _probability mass function_:\r\n",
        "\r\n"
      ]
    },
    {
      "cell_type": "code",
      "metadata": {
        "id": "YR52J50sMWrc"
      },
      "source": [
        "# A la función pmf(x) tenemos que pasarle el parámetro x = 0\r\n",
        "p0 = dist_binomial.pmf()"
      ],
      "execution_count": null,
      "outputs": []
    },
    {
      "cell_type": "markdown",
      "metadata": {
        "id": "F2gucu_ANgGi"
      },
      "source": [
        "Ya calculamos la probabilidad deseada, pero ¿Dónde está el resultado, por qué no lo vemos?.\r\n",
        "\r\n",
        "- El resultado se almacenó en la variable `p0`, si queremos ver cuál es la respuesta tenemos que imprimir el valor de `p0` haciendo uso de la función `print()`"
      ]
    },
    {
      "cell_type": "code",
      "metadata": {
        "id": "s5OUKNIBOLic"
      },
      "source": [
        "# print muestra en pantalla todo lo que le pasemos dentro de los paréntesis, pudiendo ser texto o el valor de una variable:\r\n",
        "print('La probabilidad de que ningún alumno de mi sección llegue tardes es de:', p0)"
      ],
      "execution_count": null,
      "outputs": []
    },
    {
      "cell_type": "markdown",
      "metadata": {
        "id": "4UxlXeOHPEdq"
      },
      "source": [
        "> b) Para hallar la probabilidad de que menos de 5 alumnos lleguen tarde, podemos usar la función `cdf(x)` _cumulative distribution function_ la cual nos va a calcular la probabilidad acumulada de que ocurra x, es decir: \r\n",
        "$cdf(x) = P(0) + P(1) + P(2) + ... + P(x)$"
      ]
    },
    {
      "cell_type": "code",
      "metadata": {
        "id": "RtEYVxIhQtAX"
      },
      "source": [
        "# Atender al elegir el valor de x, ya que cdf(x) calcula el valor acumulado hasta x INCLUSIVE. \r\n",
        "p_menos_de_5 = dist_binomial.cdf()\r\n",
        "\r\n",
        "# A continuación responder a la pregunta de manera explicita y entendible:\r\n",
        "print()"
      ],
      "execution_count": null,
      "outputs": []
    },
    {
      "cell_type": "markdown",
      "metadata": {
        "id": "rzMOCSVrS3Im"
      },
      "source": [
        "c) Para hallar la probabilidad de que todos lleguen tarde volvemos a hacer uso del método `pmf(x)`. "
      ]
    },
    {
      "cell_type": "code",
      "metadata": {
        "id": "Mb1o8vbqUIQz"
      },
      "source": [
        "# Crea una variable en la cual guardar el resultado\r\n",
        "\r\n",
        "# Imprimí la respuesta a continuación, de manera explicita y entendible:\r\n"
      ],
      "execution_count": null,
      "outputs": []
    },
    {
      "cell_type": "markdown",
      "metadata": {
        "id": "jD7iP0tOUcSV"
      },
      "source": [
        "> d) Para hallar la probabilidad de que nadie llegue tarde en un día de lluvia, tenemos que tener en cuenta que cambia la probabilidad de éxito, por lo tanto cambia nuestra distribución normal, para ello tenemos que volver a crear una instancia de la clase `binom` con los valores dados. Y luego proceder como en el paso (a)"
      ]
    },
    {
      "cell_type": "code",
      "metadata": {
        "id": "vORFE__OXEu-"
      },
      "source": [
        "# En este paso podríamos sobreescribir las variables anteriores o crear nuevas:\r\n",
        "nueva_p =   # La nueva probabilidad de éxito\r\n",
        "nueva_dist_normal = binom() # la nueva instancia, para el caso de días lluviosos"
      ],
      "execution_count": null,
      "outputs": []
    },
    {
      "cell_type": "code",
      "metadata": {
        "id": "-g0LmckeYKQJ"
      },
      "source": [
        "# Ahora haciendo uso de pmf(x) ya podemos hallar la probabilidad solicitada\r\n",
        "nueva_p0 =    # Tener en cuenta de usar la nueva instancia de distribución binomial\r\n",
        "\r\n",
        "# Imprimí la respuesta a continuación:\r\n"
      ],
      "execution_count": null,
      "outputs": []
    },
    {
      "cell_type": "markdown",
      "metadata": {
        "id": "78LxembsYoXV"
      },
      "source": [
        "> e) Probabilidad de que todos lleguen tarde:"
      ]
    },
    {
      "cell_type": "code",
      "metadata": {
        "id": "dMu0srIIYvFM"
      },
      "source": [
        "# Crea una variable en la cual guardar el resultado\r\n",
        "\r\n",
        "# Imprimí la respuesta a continuación, de manera explicita y entendible:\r\n"
      ],
      "execution_count": null,
      "outputs": []
    },
    {
      "cell_type": "markdown",
      "metadata": {
        "id": "Inuxp_wvlNX8"
      },
      "source": [
        "2. Se sabe, que este semestre (2021-1), la FIUNA tiene 1835 alumnos matriculados, de los cuales 1228 están cursando al menos una materia de Cursos Básicos y que en la cátedra de Probabilidad y Estadísticas hay 358 alumnos matriculados. Si elegimos 10 alumnos al azar, calcule:\r\n",
        "> a) La probabilidad de que todos sean alumnos que cursen al menos una materia de CB.  \r\n",
        "b) La probabilidad de que al menos 5 sean alumnos de Probabilidad y Estadísticas.  \r\n",
        "Si se sabe que los 10 alumnos elegidos fueron escogidos solo del grupo de alumnos de CB:  \r\n",
        "c) ¿Cuál es la probabilidad de que ninguno sea alumno de Proba?  \r\n",
        "d) ¿Cuál es la probabilidad que menos de 6 sean alumnos de Proba?  \r\n",
        "  \r\n",
        "### Desarrollo.\r\n",
        "Como en el ejercicio anterior, empecemos declarando las variables de la primera parte del problema."
      ]
    },
    {
      "cell_type": "code",
      "metadata": {
        "id": "I9h5H_wla9Bw"
      },
      "source": [
        "# No hace falta que borres nada, solo completá los valores al lado de cada signo igual\r\n",
        "\r\n",
        "n =   # Recordemos que n es el tamaño de la muestra o la cantidad de ensayos\r\n",
        "\r\n",
        "# Como no sabemos la probabilidad de éxito, podemos calcularla así p = (casos favorables) / (casos posibles)\r\n",
        "alumnos_FIUNA = \r\n",
        "alumnos_CB = \r\n",
        "alumnos_Proba = \r\n",
        "\r\n",
        "p_CB = # Probabilidad de éxito de que el alumno curse al menos una materia de CB.\r\n",
        "p_Proba = # Probabilidad de éxito de que el alumno curse Proba, sobre el total de alumnos de FIUNA"
      ],
      "execution_count": null,
      "outputs": []
    },
    {
      "cell_type": "markdown",
      "metadata": {
        "id": "6yLxK7HVdpva"
      },
      "source": [
        "A continuación creamos dos instancias de binom, con los datos obtenidos, una para la pregunta (a) y otra para la pregunta (b)."
      ]
    },
    {
      "cell_type": "code",
      "metadata": {
        "id": "FRysk7CjdoG6"
      },
      "source": [
        "dist_binom_CB = # Utilizá los datos adecuados para responder la pregunta (a)\r\n",
        "dist_binom_Proba = #Utilizá los datos adecuados para responder la pregunta (b)"
      ],
      "execution_count": null,
      "outputs": []
    },
    {
      "cell_type": "markdown",
      "metadata": {
        "id": "_m_RwkxxfJ7G"
      },
      "source": [
        "a) Para hallar la probabilidad de que los 10 alumnos elegidos cursen al menos una materia de CB, usamos el método `pmf(x)`."
      ]
    },
    {
      "cell_type": "code",
      "metadata": {
        "id": "MTeBmSVjfZ_n"
      },
      "source": [
        "# Crea una variable en la cual guardar el resultado\r\n",
        "\r\n",
        "# Imprimí la respuesta a continuación, de manera explicita y entendible:\r\n"
      ],
      "execution_count": null,
      "outputs": []
    },
    {
      "cell_type": "markdown",
      "metadata": {
        "id": "AJ2wuVvrf4DH"
      },
      "source": [
        "b) Para hallar la probabilidad de que al menos 5 de los 10 alumnos elegidos, sean alumnos de Proba podemos usar el método `cdf(x)` que halla la probabilidad acumulada de que ocurra x."
      ]
    },
    {
      "cell_type": "code",
      "metadata": {
        "id": "XAUWkCIbgNIk"
      },
      "source": [
        "# Crea una variable en la cual guardar el resultado\r\n",
        "\r\n",
        "# Imprimí la respuesta a continuación, de manera explicita y entendible:\r\n"
      ],
      "execution_count": null,
      "outputs": []
    },
    {
      "cell_type": "markdown",
      "metadata": {
        "id": "Q8G9y3pBgU-y"
      },
      "source": [
        "Si se sabe que los 10 alumnos elegidos cursan al menos una materia de CB, cambia la probabilidad de éxito. Por lo tanto debemos crear una nueva instancia con los nuevos parámetros."
      ]
    },
    {
      "cell_type": "code",
      "metadata": {
        "id": "HqALRUjtgo0I"
      },
      "source": [
        "# Creá una variable que te sirva para almacenar la nueva probabilidad de exito.\r\n",
        "\r\n",
        "# Creá una instancia de binom con los datos nuevos\r\n"
      ],
      "execution_count": null,
      "outputs": []
    },
    {
      "cell_type": "markdown",
      "metadata": {
        "id": "-b7BUYAOhnXU"
      },
      "source": [
        "c) ¿Cuál es la probabilidad de que ninguno sea alumno de Proba?"
      ]
    },
    {
      "cell_type": "code",
      "metadata": {
        "id": "dcfdV9m5hmva"
      },
      "source": [
        "# Crea una variable en la cual guardar el resultado\r\n",
        "\r\n",
        "# Imprimí la respuesta a continuación, de manera explicita y entendible:\r\n"
      ],
      "execution_count": null,
      "outputs": []
    },
    {
      "cell_type": "markdown",
      "metadata": {
        "id": "Ra8-gYEohthi"
      },
      "source": [
        "d) ¿Cuál es la probabilidad que menos de 6 sean alumnos de Proba?"
      ]
    },
    {
      "cell_type": "code",
      "metadata": {
        "id": "Tx_Oni-KhwXW"
      },
      "source": [
        "# Crea una variable en la cual guardar el resultado\r\n",
        "\r\n",
        "# Imprimí la respuesta a continuación, de manera explicita y entendible:\r\n"
      ],
      "execution_count": null,
      "outputs": []
    }
  ]
}