{
  "nbformat": 4,
  "nbformat_minor": 0,
  "metadata": {
    "colab": {
      "name": "Ejercicios Propuestos.ipynb",
      "provenance": [],
      "collapsed_sections": [],
      "toc_visible": true,
      "authorship_tag": "ABX9TyMIuYl97+q1ehxqvB1XSixV",
      "include_colab_link": true
    },
    "kernelspec": {
      "name": "python3",
      "display_name": "Python 3"
    }
  },
  "cells": [
    {
      "cell_type": "markdown",
      "metadata": {
        "id": "view-in-github",
        "colab_type": "text"
      },
      "source": [
        "<a href=\"https://colab.research.google.com/github/pyefiuna/Laboratorio/blob/master/notebooks/Semana%204/Ejercicios_Propuestos.ipynb\" target=\"_parent\"><img src=\"https://colab.research.google.com/assets/colab-badge.svg\" alt=\"Open In Colab\"/></a>"
      ]
    },
    {
      "cell_type": "code",
      "metadata": {
        "id": "0EVZ-AUr-Dse"
      },
      "source": [
        "from scipy.stats import norm, binom\n",
        "from math import sqrt, ceil\n",
        "import random\n",
        "import matplotlib.pyplot as plt\n",
        "import numpy as np"
      ],
      "execution_count": 1,
      "outputs": []
    },
    {
      "cell_type": "markdown",
      "metadata": {
        "id": "xEwW9E0hOTru"
      },
      "source": [
        "# Ejercicio 1\n",
        "\n",
        "Un experimento consiste en lanzar un dado varias veces. Determine la\n",
        "probabilidad de que aparezca:"
      ]
    },
    {
      "cell_type": "markdown",
      "metadata": {
        "id": "O6y-gG_HOdkM"
      },
      "source": [
        "## Ítem a\n",
        "La cara 6, entre 29 y 32 inclusive, si el dado es lanzado 180 veces."
      ]
    },
    {
      "cell_type": "code",
      "metadata": {
        "id": "cZkTk0mkOxgP"
      },
      "source": [
        "N = 180 # número de ensayos\n",
        "p = 1/6 # probabilidad de éxito\n",
        "q = 1-p # probabilidad de fallar\n",
        "mu = N*p # media\n",
        "sigma = sqrt(N*p*q) # desviación estándar\n",
        "dist_dados = norm(loc = mu, scale = sigma) # distribución normal"
      ],
      "execution_count": 2,
      "outputs": []
    },
    {
      "cell_type": "code",
      "metadata": {
        "colab": {
          "base_uri": "https://localhost:8080/",
          "height": 265
        },
        "id": "JQcs0te9YgC5",
        "outputId": "16e56453-5c76-4676-e067-260342152738"
      },
      "source": [
        "x = np.linspace(mu - 4*sigma, mu + 4*sigma, 1000)\n",
        "plt.plot(x, dist_dados.pdf(x))\n",
        "plt.show()"
      ],
      "execution_count": 3,
      "outputs": [
        {
          "output_type": "display_data",
          "data": {
            "image/png": "[encoded data removed]",
            "text/plain": [
              "<Figure size 432x288 with 1 Axes>"
            ]
          },
          "metadata": {
            "tags": [],
            "needs_background": "light"
          }
        }
      ]
    },
    {
      "cell_type": "code",
      "metadata": {
        "colab": {
          "base_uri": "https://localhost:8080/"
        },
        "id": "dm2mZ26SPYiC",
        "outputId": "28c56484-ad95-46b0-8cd2-23772441c676"
      },
      "source": [
        "print(f'Probabilidad: {(dist_dados.cdf(32.5)-dist_dados.cdf(28.5))*100} %')"
      ],
      "execution_count": 4,
      "outputs": [
        {
          "output_type": "stream",
          "text": [
            "Probabilidad: 30.937388346296572 %\n"
          ],
          "name": "stdout"
        }
      ]
    },
    {
      "cell_type": "markdown",
      "metadata": {
        "id": "9dALhaHZOjXn"
      },
      "source": [
        "## Ítem b\n",
        "La cara 6, menos de 22 veces, si el dado es lanzado 180 veces."
      ]
    },
    {
      "cell_type": "code",
      "metadata": {
        "colab": {
          "base_uri": "https://localhost:8080/"
        },
        "id": "IREYU8HdVqkV",
        "outputId": "6c769c41-7728-472b-c0bb-4de3a0db8473"
      },
      "source": [
        "print(f'Probabilidad: {dist_dados.cdf(21.5)*100} %')"
      ],
      "execution_count": 5,
      "outputs": [
        {
          "output_type": "stream",
          "text": [
            "Probabilidad: 4.456546275854304 %\n"
          ],
          "name": "stdout"
        }
      ]
    },
    {
      "cell_type": "markdown",
      "metadata": {
        "id": "aMutVEsMOoJ7"
      },
      "source": [
        "## Ítem c\n",
        "La cara 6, exactamente 30 veces, si el dado es lanzado 180 veces."
      ]
    },
    {
      "cell_type": "code",
      "metadata": {
        "colab": {
          "base_uri": "https://localhost:8080/"
        },
        "id": "OMGzW6xRWF1J",
        "outputId": "95ab92cb-a7a8-493b-a8b2-4050184dafea"
      },
      "source": [
        "print(f'Probabilidad: {(dist_dados.cdf(30.5)-dist_dados.cdf(29.5))*100} %')"
      ],
      "execution_count": 6,
      "outputs": [
        {
          "output_type": "stream",
          "text": [
            "Probabilidad: 7.965567455405798 %\n"
          ],
          "name": "stdout"
        }
      ]
    },
    {
      "cell_type": "markdown",
      "metadata": {
        "id": "48Ba4S66WdcW"
      },
      "source": [
        "## Comprobación de los resultados"
      ]
    },
    {
      "cell_type": "code",
      "metadata": {
        "colab": {
          "base_uri": "https://localhost:8080/"
        },
        "id": "DAhadvewWf-w",
        "outputId": "b628833c-9e2f-4799-fb3d-518d57687983"
      },
      "source": [
        "pruebas = [random.randint(1,6) for i in range(N)] # se hacen 180 ensayos con distribución uniforme\n",
        "print(pruebas)"
      ],
      "execution_count": 7,
      "outputs": [
        {
          "output_type": "stream",
          "text": [
            "[1, 2, 4, 6, 2, 3, 3, 6, 5, 5, 3, 3, 1, 2, 1, 4, 3, 4, 2, 2, 4, 2, 5, 4, 5, 5, 1, 2, 4, 6, 1, 5, 6, 2, 6, 5, 2, 1, 4, 4, 4, 3, 2, 2, 5, 2, 5, 3, 5, 6, 5, 2, 1, 6, 2, 2, 6, 4, 3, 3, 6, 5, 5, 4, 3, 6, 2, 2, 1, 2, 1, 2, 1, 1, 3, 1, 4, 2, 4, 1, 2, 3, 1, 1, 4, 5, 4, 4, 3, 3, 4, 2, 5, 1, 6, 2, 1, 2, 6, 4, 5, 1, 1, 5, 3, 5, 4, 1, 2, 2, 2, 3, 6, 3, 1, 1, 6, 5, 6, 3, 2, 2, 4, 2, 5, 6, 6, 2, 5, 6, 2, 6, 3, 2, 2, 4, 6, 6, 3, 2, 4, 5, 2, 6, 3, 1, 1, 4, 1, 4, 1, 5, 5, 3, 5, 5, 3, 4, 6, 6, 4, 1, 1, 3, 4, 6, 6, 6, 4, 2, 4, 2, 1, 3, 3, 3, 3, 6, 2, 1]\n"
          ],
          "name": "stdout"
        }
      ]
    },
    {
      "cell_type": "code",
      "metadata": {
        "colab": {
          "base_uri": "https://localhost:8080/"
        },
        "id": "QOtRLlHXXeAE",
        "outputId": "8125f20c-8040-48f6-f95a-18fd46b5bd11"
      },
      "source": [
        "pruebas.count(6)\n",
        "# Para el ítem a, verificar si el número está entre 29 y 32 (esto ocurre con un 31 % de probabilidad)\n",
        "# Para el ítem b, verificar si este número es menor que 22 (esto ocurre con un 4.5 % de probabilidad)\n",
        "# Para el ítem c, verificar si este número es 30 (esto ocurre con un 8 % de probabilidad)\n",
        "# Por ende, lo más probable es que se cumpla el ítem a (de cumplirse alguno de los ítems)"
      ],
      "execution_count": 8,
      "outputs": [
        {
          "output_type": "execute_result",
          "data": {
            "text/plain": [
              "28"
            ]
          },
          "metadata": {
            "tags": []
          },
          "execution_count": 8
        }
      ]
    },
    {
      "cell_type": "markdown",
      "metadata": {
        "id": "b8xVatJwZen7"
      },
      "source": [
        "# Ejercicio 2\n",
        "\n",
        "Una fábrica produce varillas de sección circular cuyo diámetro es una variable continua que sigue una distribución normal con media 1cm y desviación estándar 0,02 cm. Si se mide el diámetro de una varilla al azar:"
      ]
    },
    {
      "cell_type": "markdown",
      "metadata": {
        "id": "3gakbfuHZeoA"
      },
      "source": [
        "## Ítem a\n",
        "¿cuál es la probabilidad de que esté entre 1±0,003cm?"
      ]
    },
    {
      "cell_type": "code",
      "metadata": {
        "id": "CQgvXkEqZuR-"
      },
      "source": [
        "mu = 1 # media\n",
        "sigma = 0.02 # desviación estándar\n",
        "dist_varillas = norm(loc = mu, scale = sigma) # distribución normal"
      ],
      "execution_count": 9,
      "outputs": []
    },
    {
      "cell_type": "code",
      "metadata": {
        "colab": {
          "base_uri": "https://localhost:8080/",
          "height": 265
        },
        "id": "tqbZ5YdBhESz",
        "outputId": "2fd790fb-d841-4690-efef-ad9ae7e87b1d"
      },
      "source": [
        "x = np.linspace(mu - 4*sigma, mu + 4*sigma, 1000)\n",
        "plt.plot(x, dist_varillas.pdf(x))\n",
        "plt.show()"
      ],
      "execution_count": 10,
      "outputs": [
        {
          "output_type": "display_data",
          "data": {
            "image/png": "[encoded data removed]",
            "text/plain": [
              "<Figure size 432x288 with 1 Axes>"
            ]
          },
          "metadata": {
            "tags": [],
            "needs_background": "light"
          }
        }
      ]
    },
    {
      "cell_type": "code",
      "metadata": {
        "colab": {
          "base_uri": "https://localhost:8080/"
        },
        "id": "uQnElta4ZuSH",
        "outputId": "f8f67c54-d394-4c04-b7db-ba5a8a9a87d9"
      },
      "source": [
        "print(f'Probabilidad: {(dist_varillas.cdf(1+0.003)-dist_varillas.cdf(1-0.003))*100} %')"
      ],
      "execution_count": 11,
      "outputs": [
        {
          "output_type": "stream",
          "text": [
            "Probabilidad: 11.923538474048295 %\n"
          ],
          "name": "stdout"
        }
      ]
    },
    {
      "cell_type": "markdown",
      "metadata": {
        "id": "DLk7lHqHaCRs"
      },
      "source": [
        "## Ítem b\n",
        "¿y de que sea menos de 0,98 cm?"
      ]
    },
    {
      "cell_type": "code",
      "metadata": {
        "colab": {
          "base_uri": "https://localhost:8080/"
        },
        "id": "gfAaI7sFaCR8",
        "outputId": "f0c07457-8b7f-4fca-9319-6379f1091e4d"
      },
      "source": [
        "print(f'Probabilidad: {dist_varillas.cdf(0.98)*100} %')"
      ],
      "execution_count": 12,
      "outputs": [
        {
          "output_type": "stream",
          "text": [
            "Probabilidad: 15.865525393145685 %\n"
          ],
          "name": "stdout"
        }
      ]
    },
    {
      "cell_type": "markdown",
      "metadata": {
        "id": "STUsUS5CaeE1"
      },
      "source": [
        "## Ítem c\n",
        "Si se toman 10 varillas al azar, hallar la probabilidad de que exactamente 2 tengan menos de 0,98 cm de diámetro."
      ]
    },
    {
      "cell_type": "code",
      "metadata": {
        "colab": {
          "base_uri": "https://localhost:8080/"
        },
        "id": "JazEOchvaeE2",
        "outputId": "5ca64050-b2d9-4be7-f927-6834cb904075"
      },
      "source": [
        "prob_menos_de_098 = dist_varillas.cdf(0.98)\n",
        "print(f'Probabilidad: {binom.pmf(2, 10, prob_menos_de_098)*100} %')"
      ],
      "execution_count": 13,
      "outputs": [
        {
          "output_type": "stream",
          "text": [
            "Probabilidad: 28.438934902619234 %\n"
          ],
          "name": "stdout"
        }
      ]
    },
    {
      "cell_type": "markdown",
      "metadata": {
        "id": "_S8DmhCPdR8B"
      },
      "source": [
        "# Ejercicio 3\n",
        "\n",
        "Una fábrica produce en cada turno 100.000 piezas de forma que la\n",
        "probabilidad de que una sea defectuosa es 0,04. En el control de calidad se\n",
        "revisan todas las piezas y se depositan las defectuosas en un recipiente que\n",
        "se vacía al final de cada turno. ¿Cuántas piezas ha de contener el recipiente\n",
        "para que la probabilidad de que su capacidad no se vea rebasado al final de\n",
        "cada turno sea mayor a 0,95?"
      ]
    },
    {
      "cell_type": "code",
      "metadata": {
        "id": "j0ILwCTpdXwJ"
      },
      "source": [
        "N = 100000 # número de piezas\n",
        "p = 0.04 # probabilidad de que sea defectuosa\n",
        "q = 1-q # probabilidad de que sea buena\n",
        "mu = N*p # media\n",
        "sigma = sqrt(N*p*q) # desviación estándar\n",
        "dist_piezas = norm(loc = mu, scale = sigma) # distribución normal"
      ],
      "execution_count": 14,
      "outputs": []
    },
    {
      "cell_type": "code",
      "metadata": {
        "colab": {
          "base_uri": "https://localhost:8080/",
          "height": 266
        },
        "id": "u2PObOdxfF3f",
        "outputId": "a1e5a890-d113-45f3-ccb2-7c89c94b414a"
      },
      "source": [
        "x = np.linspace(mu - 4*sigma, mu + 4*sigma, 1000)\n",
        "plt.plot(x, dist_piezas.pdf(x))\n",
        "plt.show()"
      ],
      "execution_count": 15,
      "outputs": [
        {
          "output_type": "display_data",
          "data": {
            "image/png": "[encoded data removed]",
            "text/plain": [
              "<Figure size 432x288 with 1 Axes>"
            ]
          },
          "metadata": {
            "tags": [],
            "needs_background": "light"
          }
        }
      ]
    },
    {
      "cell_type": "code",
      "metadata": {
        "colab": {
          "base_uri": "https://localhost:8080/"
        },
        "id": "JlymERMrdnU-",
        "outputId": "29b7a5f0-48aa-4c03-914e-9a0088270dc8"
      },
      "source": [
        "prob_rebasado = 1-0.95\n",
        "print(f'Cantidad de piezas: {ceil(dist_piezas.isf(prob_rebasado))}')\n",
        "# se usa la función ceil (techo) para redondear hacia arriba la cantidad de piezas"
      ],
      "execution_count": 16,
      "outputs": [
        {
          "output_type": "stream",
          "text": [
            "Cantidad de piezas: 4043\n"
          ],
          "name": "stdout"
        }
      ]
    },
    {
      "cell_type": "markdown",
      "metadata": {
        "id": "PT8JKmqvglSI"
      },
      "source": [
        "## Comprobación del resultado\n",
        "\n",
        "A continuación, se cuenta la cantidad de piezas que salen defectuosas, considerando que cada pieza es defectuosa con una probabilidad del 4%. Se toman 100.000 piezas como muestra y se obtiene un array de ceros y unos. Si se suman todos los elementos de este array, el resultado es la cantidad de piezas defectuosas (la cual esperamos que sea menor que el resultado 4102 en un 95 % de las veces."
      ]
    },
    {
      "cell_type": "code",
      "metadata": {
        "colab": {
          "base_uri": "https://localhost:8080/"
        },
        "id": "U7DgzgLqgAcW",
        "outputId": "0384011a-9900-4e2a-fdeb-5c635b8d011d"
      },
      "source": [
        "binom.rvs(n = 1, p = p, loc=0, size=100000).sum() # se cuenta la cantidad de veces que salen piezas defectuosas"
      ],
      "execution_count": 17,
      "outputs": [
        {
          "output_type": "execute_result",
          "data": {
            "text/plain": [
              "4047"
            ]
          },
          "metadata": {
            "tags": []
          },
          "execution_count": 17
        }
      ]
    }
  ]
}