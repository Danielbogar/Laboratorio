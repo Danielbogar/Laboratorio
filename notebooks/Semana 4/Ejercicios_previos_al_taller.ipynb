{
  "nbformat": 4,
  "nbformat_minor": 0,
  "metadata": {
    "colab": {
      "name": "Ejercicios previos al taller.ipynb",
      "provenance": [],
      "collapsed_sections": [],
      "authorship_tag": "ABX9TyPQ43rL0wO6b3ZC/sSOXhVx",
      "include_colab_link": true
    },
    "kernelspec": {
      "name": "python3",
      "display_name": "Python 3"
    }
  },
  "cells": [
    {
      "cell_type": "markdown",
      "metadata": {
        "id": "view-in-github",
        "colab_type": "text"
      },
      "source": [
        "<a href=\"https://colab.research.google.com/github/pyefiuna/Laboratorio/blob/master/notebooks/Semana%204/Ejercicios_previos_al_taller.ipynb\" target=\"_parent\"><img src=\"https://colab.research.google.com/assets/colab-badge.svg\" alt=\"Open In Colab\"/></a>"
      ]
    },
    {
      "cell_type": "code",
      "metadata": {
        "id": "-Vjle5GqxGaT"
      },
      "source": [
        "from scipy.stats import norm, binom\n",
        "from math import sqrt\n",
        "import random\n",
        "import matplotlib.pyplot as plt\n",
        "import numpy as np"
      ],
      "execution_count": 1,
      "outputs": []
    },
    {
      "cell_type": "markdown",
      "metadata": {
        "id": "MBehqYv8w3kf"
      },
      "source": [
        "# Ejercicio 1\n",
        "Un test de inteligencia consta de 200 preguntas de verdadero o falso. Para una persona que respondiese al azar, calcular la probabilidad de que acertase:"
      ]
    },
    {
      "cell_type": "markdown",
      "metadata": {
        "id": "6UM4u-TGw6fD"
      },
      "source": [
        "## Ítem a\n",
        "50 preguntas o menos"
      ]
    },
    {
      "cell_type": "code",
      "metadata": {
        "id": "wZVYtavdxL6p"
      },
      "source": [
        "N = 200 # número de ensayos\n",
        "p = 1/2 # probabilidad de éxito (moneda equilibrada)\n",
        "q = 1-p # probabilidad de fallar\n",
        "mu = N*p # media\n",
        "sigma = sqrt(N*p*q) # desviación estándar\n",
        "dist_test = norm(loc = mu, scale = sigma) # distribución normal"
      ],
      "execution_count": 2,
      "outputs": []
    },
    {
      "cell_type": "code",
      "metadata": {
        "colab": {
          "base_uri": "https://localhost:8080/",
          "height": 265
        },
        "id": "f9RGKU3MxVqw",
        "outputId": "2aa1322d-67f1-4835-ebf4-74c85b9abefe"
      },
      "source": [
        "x = np.linspace(mu - 6*sigma, mu + 6*sigma, 1000)\n",
        "plt.plot(x, dist_test.pdf(x))\n",
        "plt.show()"
      ],
      "execution_count": 3,
      "outputs": [
        {
          "output_type": "display_data",
          "data": {
            "image/png": "[encoded data removed]",
            "text/plain": [
              "<Figure size 432x288 with 1 Axes>"
            ]
          },
          "metadata": {
            "tags": [],
            "needs_background": "light"
          }
        }
      ]
    },
    {
      "cell_type": "code",
      "metadata": {
        "colab": {
          "base_uri": "https://localhost:8080/"
        },
        "id": "nZBc_kN3xZlh",
        "outputId": "9f965c55-d4ba-48e0-dc4d-73a9b30c5d20"
      },
      "source": [
        "print(f'Probabilidad: {dist_test.cdf(50.5)*100} %')"
      ],
      "execution_count": 4,
      "outputs": [
        {
          "output_type": "stream",
          "text": [
            "Probabilidad: 1.276554301425639e-10 %\n"
          ],
          "name": "stdout"
        }
      ]
    },
    {
      "cell_type": "markdown",
      "metadata": {
        "id": "6nAU9jJ-w-MN"
      },
      "source": [
        "## Ítem b\n",
        "Más de 50 preguntas y menos de 100"
      ]
    },
    {
      "cell_type": "code",
      "metadata": {
        "colab": {
          "base_uri": "https://localhost:8080/"
        },
        "id": "lFgk75m4xyk5",
        "outputId": "aad6e8c4-b175-4303-8264-9bd0f0fa410b"
      },
      "source": [
        "print(f'Probabilidad: {(dist_test.cdf(99.5)-dist_test.cdf(50.5))*100} %')"
      ],
      "execution_count": 5,
      "outputs": [
        {
          "output_type": "stream",
          "text": [
            "Probabilidad: 47.18140111002151 %\n"
          ],
          "name": "stdout"
        }
      ]
    },
    {
      "cell_type": "markdown",
      "metadata": {
        "id": "e6_kKvWsxAgg"
      },
      "source": [
        "## Ítem c\n",
        "Más de 120 preguntas"
      ]
    },
    {
      "cell_type": "code",
      "metadata": {
        "colab": {
          "base_uri": "https://localhost:8080/"
        },
        "id": "DGKH84ofx5OI",
        "outputId": "ffdbc8f8-98b9-41df-aba2-06ef9ddc360e"
      },
      "source": [
        "print(f'Probabilidad: {dist_test.sf(120.5)*100} %')"
      ],
      "execution_count": 6,
      "outputs": [
        {
          "output_type": "stream",
          "text": [
            "Probabilidad: 0.18709519777715605 %\n"
          ],
          "name": "stdout"
        }
      ]
    },
    {
      "cell_type": "markdown",
      "metadata": {
        "id": "A00i7NgNyFb0"
      },
      "source": [
        "## Comprobación de los resultados\n",
        "Una simulación de un test se lleva a cabo y se cuenta la cantidad de respuestas correctas:"
      ]
    },
    {
      "cell_type": "code",
      "metadata": {
        "colab": {
          "base_uri": "https://localhost:8080/"
        },
        "id": "4RmBIln5yUHo",
        "outputId": "0c68f382-7b0c-435b-bef2-e5471dcde623"
      },
      "source": [
        "prueba = [random.randint(0,1) for i in range(N)]\n",
        "print('Respuestas correctas:', prueba.count(1)) # es de esperar que la respuesta sea cercana a 100"
      ],
      "execution_count": 7,
      "outputs": [
        {
          "output_type": "stream",
          "text": [
            "Respuestas correctas: 93\n"
          ],
          "name": "stdout"
        }
      ]
    },
    {
      "cell_type": "markdown",
      "metadata": {
        "id": "vzHPe6L7zIMZ"
      },
      "source": [
        "# Ejercicio 2\n",
        "La duración de un láser semiconductor a potencia constante tiene una distribución normal con media de 7000 horas y desviación típica de 600 horas."
      ]
    },
    {
      "cell_type": "code",
      "metadata": {
        "id": "GWyNJZVXzcMj"
      },
      "source": [
        "mu = 7000 # media\n",
        "sigma = 600 # desviación estándar\n",
        "dist_laser = norm(loc = mu, scale = sigma) # distribución normal"
      ],
      "execution_count": 8,
      "outputs": []
    },
    {
      "cell_type": "code",
      "metadata": {
        "colab": {
          "base_uri": "https://localhost:8080/",
          "height": 265
        },
        "id": "Z5_rLCtLzh2M",
        "outputId": "f235f3e2-822e-49e7-f7af-21159c04da98"
      },
      "source": [
        "x = np.linspace(mu - 6*sigma, mu + 6*sigma, 1000)\n",
        "plt.plot(x, dist_laser.pdf(x))\n",
        "plt.show()"
      ],
      "execution_count": 9,
      "outputs": [
        {
          "output_type": "display_data",
          "data": {
            "image/png": "[encoded data removed]",
            "text/plain": [
              "<Figure size 432x288 with 1 Axes>"
            ]
          },
          "metadata": {
            "tags": [],
            "needs_background": "light"
          }
        }
      ]
    },
    {
      "cell_type": "markdown",
      "metadata": {
        "id": "HIUnYmhdzM_0"
      },
      "source": [
        "## Ítem a\n",
        "¿Cuál es la probabilidad de que el láser falle antes de 5000 horas?"
      ]
    },
    {
      "cell_type": "code",
      "metadata": {
        "colab": {
          "base_uri": "https://localhost:8080/"
        },
        "id": "XLWWnDS7zq-s",
        "outputId": "589ee4ff-4b9c-4750-a3aa-bdb786a8026f"
      },
      "source": [
        "print(f'Probabilidad: {dist_laser.cdf(5000)*100} %')"
      ],
      "execution_count": 10,
      "outputs": [
        {
          "output_type": "stream",
          "text": [
            "Probabilidad: 0.04290603331968372 %\n"
          ],
          "name": "stdout"
        }
      ]
    },
    {
      "cell_type": "markdown",
      "metadata": {
        "id": "aqGCJhV4zO06"
      },
      "source": [
        "## Ítem b\n",
        "¿Cuál es la probabilidad que un láser siga funcionando después de 7000 horas?"
      ]
    },
    {
      "cell_type": "code",
      "metadata": {
        "colab": {
          "base_uri": "https://localhost:8080/"
        },
        "id": "efrNRq4Pz2O3",
        "outputId": "fc70cafb-eeab-4b68-95b7-989c197e92ed"
      },
      "source": [
        "print(f'Probabilidad: {dist_laser.sf(7000)*100} %')"
      ],
      "execution_count": 11,
      "outputs": [
        {
          "output_type": "stream",
          "text": [
            "Probabilidad: 50.0 %\n"
          ],
          "name": "stdout"
        }
      ]
    },
    {
      "cell_type": "markdown",
      "metadata": {
        "id": "yqi4Hl7xzSSO"
      },
      "source": [
        "## Ítem c\n",
        "Si se hace uso de tres láseres en un producto y se supone que fallan de manera independiente. ¿Cuál es la probabilidad de que tres sigan funcionando después de 7.000 horas?"
      ]
    },
    {
      "cell_type": "code",
      "metadata": {
        "colab": {
          "base_uri": "https://localhost:8080/"
        },
        "id": "TLFQWLWHyD4g",
        "outputId": "dab9e912-54ba-4bee-eba4-3f9bc288a6d6"
      },
      "source": [
        "print(f'Probabilidad: {binom.pmf(3,3,dist_laser.sf(7000))*100} %')"
      ],
      "execution_count": 12,
      "outputs": [
        {
          "output_type": "stream",
          "text": [
            "Probabilidad: 12.500000000000004 %\n"
          ],
          "name": "stdout"
        }
      ]
    },
    {
      "cell_type": "markdown",
      "metadata": {
        "id": "cxoQZ4iv1dyK"
      },
      "source": [
        "# Ejercicio 3\n",
        "Se producen arandelas cuyo diámetro interno está distribuido normalmente con media 0.5 pulgadas (in) y desviación estándar 0.005 in. Las arandelas se consideran defectuosas si su diámetro interno es de menos de 0.490 in o si es de más de 0.510 in.  \n",
        "Si se mide el diámetro interno de una arandela al azar:"
      ]
    },
    {
      "cell_type": "code",
      "metadata": {
        "id": "wtSEoWAe3F66"
      },
      "source": [
        "mu = 0.5 # media\n",
        "sigma = 0.005 # desviación estándar\n",
        "dist_arandelas = norm(loc = mu, scale = sigma) # distribución normal"
      ],
      "execution_count": 13,
      "outputs": []
    },
    {
      "cell_type": "code",
      "metadata": {
        "colab": {
          "base_uri": "https://localhost:8080/",
          "height": 265
        },
        "id": "2NqzTz7I3F67",
        "outputId": "b06d7fd4-95c6-4c72-b794-88266a237118"
      },
      "source": [
        "x = np.linspace(mu - 6*sigma, mu + 6*sigma, 1000)\n",
        "plt.plot(x, dist_arandelas.pdf(x))\n",
        "plt.show()"
      ],
      "execution_count": 14,
      "outputs": [
        {
          "output_type": "display_data",
          "data": {
            "image/png": "[encoded data removed]",
            "text/plain": [
              "<Figure size 432x288 with 1 Axes>"
            ]
          },
          "metadata": {
            "tags": [],
            "needs_background": "light"
          }
        }
      ]
    },
    {
      "cell_type": "markdown",
      "metadata": {
        "id": "b5hQ_H202yH2"
      },
      "source": [
        "## Ítem a\n",
        "¿Cuál es la probabilidad de que no sea una defectuosa?"
      ]
    },
    {
      "cell_type": "code",
      "metadata": {
        "colab": {
          "base_uri": "https://localhost:8080/"
        },
        "id": "EFoSYZ7X3g2f",
        "outputId": "da8d375c-b35d-4529-f05d-b52620b06e5f"
      },
      "source": [
        "prob_defectuosa = dist_arandelas.sf(0.510)+dist_arandelas.cdf(0.490)\n",
        "print(f'Probabilidad: {(1-prob_defectuosa)*100} %')"
      ],
      "execution_count": 15,
      "outputs": [
        {
          "output_type": "stream",
          "text": [
            "Probabilidad: 95.44997361036418 %\n"
          ],
          "name": "stdout"
        }
      ]
    },
    {
      "cell_type": "markdown",
      "metadata": {
        "id": "4YVNRzJf26OE"
      },
      "source": [
        "## Ítem b\n",
        "Si se toman 10 varillas al azar, ¿cuál es la probabilidad de que exactamente 4 sean defectuosas?"
      ]
    },
    {
      "cell_type": "code",
      "metadata": {
        "colab": {
          "base_uri": "https://localhost:8080/"
        },
        "id": "EsCB3Oso2wsu",
        "outputId": "afdecff4-59a5-4e4c-9d66-9af917b491c5"
      },
      "source": [
        "print(f'Probabilidad: {binom.pmf(4,10,prob_defectuosa)*100} %')"
      ],
      "execution_count": 16,
      "outputs": [
        {
          "output_type": "stream",
          "text": [
            "Probabilidad: 0.0680659378387401 %\n"
          ],
          "name": "stdout"
        }
      ]
    },
    {
      "cell_type": "markdown",
      "metadata": {
        "id": "tMfml_8v4b5j"
      },
      "source": [
        "# Ejercicio 4\n",
        "Una máquina automática llena latas de una bebida gaseosa siguiendo una distribución normal de media 0,35 l. y desviación típica 0,015 l."
      ]
    },
    {
      "cell_type": "code",
      "metadata": {
        "id": "GRGRNUSd4uyy"
      },
      "source": [
        "mu = 0.35 # media\n",
        "sigma = 0.015 # desviación estándar\n",
        "dist_latas = norm(loc = mu, scale = sigma) # distribución normal"
      ],
      "execution_count": 17,
      "outputs": []
    },
    {
      "cell_type": "code",
      "metadata": {
        "colab": {
          "base_uri": "https://localhost:8080/",
          "height": 265
        },
        "id": "c7OZBWOU4uy0",
        "outputId": "7edbc224-dd7a-43f5-ee4d-8704044cf99d"
      },
      "source": [
        "x = np.linspace(mu - 6*sigma, mu + 6*sigma, 1000)\n",
        "plt.plot(x, dist_latas.pdf(x))\n",
        "plt.show()"
      ],
      "execution_count": 18,
      "outputs": [
        {
          "output_type": "display_data",
          "data": {
            "image/png": "[encoded data removed]",
            "text/plain": [
              "<Figure size 432x288 with 1 Axes>"
            ]
          },
          "metadata": {
            "tags": [],
            "needs_background": "light"
          }
        }
      ]
    },
    {
      "cell_type": "markdown",
      "metadata": {
        "id": "Pe9MOH8o4fgY"
      },
      "source": [
        "## Ítem a\n",
        "Si se toma una lata de gaseosa al azar, ¿cuál es la probabilidad de que esa lata contenga menos de 0,34 l. de gaseosa?"
      ]
    },
    {
      "cell_type": "code",
      "metadata": {
        "colab": {
          "base_uri": "https://localhost:8080/"
        },
        "id": "hZvbk62a46Ve",
        "outputId": "20925216-30ca-4637-808c-0017005a3b0a"
      },
      "source": [
        "print(f'Probabilidad: {dist_latas.cdf(0.34)*100} %')"
      ],
      "execution_count": 19,
      "outputs": [
        {
          "output_type": "stream",
          "text": [
            "Probabilidad: 25.24925375469239 %\n"
          ],
          "name": "stdout"
        }
      ]
    },
    {
      "cell_type": "markdown",
      "metadata": {
        "id": "EvaY_VRG4iKw"
      },
      "source": [
        "## Ítem b\n",
        "Si se desechan las latas de gaseosa que contengan menos del volumen mínimo equivalente a z=-0,3. ¿Cuál es el volumen mínimo que debe tener la lata para que no sea desechada?"
      ]
    },
    {
      "cell_type": "code",
      "metadata": {
        "colab": {
          "base_uri": "https://localhost:8080/"
        },
        "id": "VgXfeoWd5H_5",
        "outputId": "eb4b171c-0a0c-4f1d-a2d0-1f5a9278cf73"
      },
      "source": [
        "prob_rechazo = norm.cdf(-0.3)\n",
        "print(f'Mínimo: {dist_latas.ppf(prob_rechazo)} litros')"
      ],
      "execution_count": 20,
      "outputs": [
        {
          "output_type": "stream",
          "text": [
            "Mínimo: 0.3455 litros\n"
          ],
          "name": "stdout"
        }
      ]
    },
    {
      "cell_type": "markdown",
      "metadata": {
        "id": "wesxKZiJ4lag"
      },
      "source": [
        "## Ítem c\n",
        "¿cuál es la probabilidad de que tomando una lata al azar, sea una desechada?"
      ]
    },
    {
      "cell_type": "code",
      "metadata": {
        "colab": {
          "base_uri": "https://localhost:8080/"
        },
        "id": "PFGCSxGj5cvt",
        "outputId": "93a11e9d-2cb7-416b-bc00-dc8c8d263363"
      },
      "source": [
        "print(f'Probabilidad: {prob_rechazo*100} %')"
      ],
      "execution_count": 21,
      "outputs": [
        {
          "output_type": "stream",
          "text": [
            "Probabilidad: 38.20885778110474 %\n"
          ],
          "name": "stdout"
        }
      ]
    },
    {
      "cell_type": "markdown",
      "metadata": {
        "id": "6NCvHHij4oFx"
      },
      "source": [
        "## Ítem d\n",
        "Si se eligen 500 latas llenadas con la máquina, ¿cuál es la probabilidad de que al menos 100 sean desechadas?"
      ]
    },
    {
      "cell_type": "code",
      "metadata": {
        "colab": {
          "base_uri": "https://localhost:8080/"
        },
        "id": "p-z3tUlE4dh1",
        "outputId": "555e1d82-921a-4c65-c5b8-6f7ba05e15e4"
      },
      "source": [
        "print(f'Probabilidad: {binom.sf(100,500,prob_rechazo)*100} %')"
      ],
      "execution_count": 22,
      "outputs": [
        {
          "output_type": "stream",
          "text": [
            "Probabilidad: 99.99999999999999 %\n"
          ],
          "name": "stdout"
        }
      ]
    }
  ]
}