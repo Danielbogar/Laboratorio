{
  "nbformat": 4,
  "nbformat_minor": 0,
  "metadata": {
    "colab": {
      "name": "Ejercicios Propuestos.ipynb",
      "provenance": [],
      "collapsed_sections": [],
      "toc_visible": true,
      "authorship_tag": "ABX9TyMMVZEZ/WAw/gfp7sz6aA8k",
      "include_colab_link": true
    },
    "kernelspec": {
      "name": "python3",
      "display_name": "Python 3"
    }
  },
  "cells": [
    {
      "cell_type": "markdown",
      "metadata": {
        "id": "view-in-github",
        "colab_type": "text"
      },
      "source": [
        "<a href=\"https://colab.research.google.com/github/pyefiuna/Laboratorio/blob/master/notebooks/Semana%204/Ejercicios_Propuestos.ipynb\" target=\"_parent\"><img src=\"https://colab.research.google.com/assets/colab-badge.svg\" alt=\"Open In Colab\"/></a>"
      ]
    },
    {
      "cell_type": "code",
      "metadata": {
        "id": "0EVZ-AUr-Dse"
      },
      "source": [
        "from scipy.stats import norm\n",
        "from math import sqrt\n",
        "import random\n",
        "import matplotlib.pyplot as plt\n",
        "import numpy as np"
      ],
      "execution_count": null,
      "outputs": []
    },
    {
      "cell_type": "markdown",
      "metadata": {
        "id": "xEwW9E0hOTru"
      },
      "source": [
        "# Ejercicio 1\n",
        "\n",
        "Un experimento consiste en lanzar un dado varias veces. Determine la\n",
        "probabilidad de que aparezca:"
      ]
    },
    {
      "cell_type": "markdown",
      "metadata": {
        "id": "O6y-gG_HOdkM"
      },
      "source": [
        "## Ítem a\n",
        "La cara 6, entre 29 y 32 inclusive, si el dado es lanzado 180 veces."
      ]
    },
    {
      "cell_type": "code",
      "metadata": {
        "id": "cZkTk0mkOxgP"
      },
      "source": [
        "N = 180 # número de ensayos\n",
        "p = 1/6 # probabilidad de éxito\n",
        "q = 1-p # probabilidad de fallar\n",
        "mu = N*p # media\n",
        "sigma = sqrt(N*p*q) # desviación estándar\n",
        "dist_dados = norm(loc = mu, scale = sigma) # distribución normal"
      ],
      "execution_count": null,
      "outputs": []
    },
    {
      "cell_type": "code",
      "metadata": {
        "colab": {
          "base_uri": "https://localhost:8080/"
        },
        "id": "dm2mZ26SPYiC",
        "outputId": "b80a8df7-2c0b-4ed5-d40d-2896805934d2"
      },
      "source": [
        "print(f'Probabilidad: {(dist_dados.cdf(32.5)-dist_dados.cdf(28.5))*100} %')"
      ],
      "execution_count": 11,
      "outputs": [
        {
          "output_type": "stream",
          "text": [
            "Probabilidad: 30.937388346296572 %\n"
          ],
          "name": "stdout"
        }
      ]
    },
    {
      "cell_type": "markdown",
      "metadata": {
        "id": "9dALhaHZOjXn"
      },
      "source": [
        "## Ítem b\n",
        "La cara 6, menos de 22 veces, si el dado es lanzado 180 veces."
      ]
    },
    {
      "cell_type": "code",
      "metadata": {
        "colab": {
          "base_uri": "https://localhost:8080/"
        },
        "id": "IREYU8HdVqkV",
        "outputId": "4968d84e-ead1-488d-baaf-9542b696f74a"
      },
      "source": [
        "print(f'Probabilidad: {dist_dados.cdf(21.5)*100} %')"
      ],
      "execution_count": 14,
      "outputs": [
        {
          "output_type": "stream",
          "text": [
            "Probabilidad: 4.456546275854304 %\n"
          ],
          "name": "stdout"
        }
      ]
    },
    {
      "cell_type": "markdown",
      "metadata": {
        "id": "aMutVEsMOoJ7"
      },
      "source": [
        "## Ítem c\n",
        "La cara 6, exactamente 30 veces, si el dado es lanzado 180 veces."
      ]
    },
    {
      "cell_type": "code",
      "metadata": {
        "colab": {
          "base_uri": "https://localhost:8080/"
        },
        "id": "OMGzW6xRWF1J",
        "outputId": "8d35c074-585d-40ba-f72f-e5e0322f7e08"
      },
      "source": [
        "print(f'Probabilidad: {(dist_dados.cdf(30.5)-dist_dados.cdf(29.5))*100} %')"
      ],
      "execution_count": 13,
      "outputs": [
        {
          "output_type": "stream",
          "text": [
            "Probabilidad: 7.965567455405798 %\n"
          ],
          "name": "stdout"
        }
      ]
    },
    {
      "cell_type": "markdown",
      "metadata": {
        "id": "48Ba4S66WdcW"
      },
      "source": [
        "## Comprobación de los resultados"
      ]
    },
    {
      "cell_type": "code",
      "metadata": {
        "colab": {
          "base_uri": "https://localhost:8080/"
        },
        "id": "DAhadvewWf-w",
        "outputId": "3f320dce-66e8-4e6e-aed3-129a5d9b92e7"
      },
      "source": [
        "pruebas = [random.randint(1,6) for i in range(N)] # se hacen 180 ensayos con distribución uniforme\n",
        "print(pruebas)"
      ],
      "execution_count": 17,
      "outputs": [
        {
          "output_type": "stream",
          "text": [
            "[3, 3, 2, 6, 2, 1, 5, 1, 4, 1, 4, 4, 4, 5, 1, 1, 6, 2, 4, 5, 6, 2, 6, 5, 4, 3, 5, 4, 4, 5, 2, 4, 3, 1, 4, 6, 6, 2, 4, 5, 1, 4, 2, 5, 3, 4, 4, 1, 2, 5, 6, 2, 2, 3, 1, 3, 3, 6, 6, 1, 2, 6, 1, 2, 3, 5, 6, 5, 1, 5, 1, 6, 5, 5, 1, 2, 3, 5, 1, 6, 1, 1, 1, 1, 6, 6, 2, 3, 4, 5, 4, 2, 3, 5, 4, 2, 1, 2, 2, 6, 3, 4, 4, 3, 2, 5, 5, 5, 6, 1, 4, 2, 4, 5, 4, 6, 2, 1, 2, 5, 2, 3, 2, 3, 6, 2, 1, 5, 5, 5, 6, 4, 1, 3, 1, 5, 4, 6, 2, 4, 4, 2, 1, 6, 3, 5, 6, 1, 2, 4, 4, 1, 6, 2, 4, 4, 5, 5, 5, 5, 1, 6, 4, 5, 4, 2, 5, 1, 3, 2, 5, 6, 1, 5, 6, 4, 3, 4, 1, 5]\n"
          ],
          "name": "stdout"
        }
      ]
    },
    {
      "cell_type": "code",
      "metadata": {
        "colab": {
          "base_uri": "https://localhost:8080/"
        },
        "id": "QOtRLlHXXeAE",
        "outputId": "7c319bbf-b58b-4de8-e472-06e1527e6f0d"
      },
      "source": [
        "pruebas.count(6)\n",
        "# Para el ítem a, verificar si el número está entre 29 y 32 (esto ocurre con un 31 % de probabilidad)\n",
        "# Para el ítem b, verificar si este número es menor que 22 (esto ocurre con un 4.5 % de probabilidad)\n",
        "# Para el ítem c, verificar si este número es 30 (esto ocurre con un 8 % de probabilidad)\n",
        "# Por ende, lo más probable es que se cumpla el ítem a (de cumplirse alguno de los ítems)"
      ],
      "execution_count": 19,
      "outputs": [
        {
          "output_type": "execute_result",
          "data": {
            "text/plain": [
              "27"
            ]
          },
          "metadata": {
            "tags": []
          },
          "execution_count": 19
        }
      ]
    },
    {
      "cell_type": "code",
      "metadata": {
        "colab": {
          "base_uri": "https://localhost:8080/",
          "height": 265
        },
        "id": "JQcs0te9YgC5",
        "outputId": "d7a5754c-1ec3-489c-8efe-bc616a799289"
      },
      "source": [
        "x = np.linspace(mu - 4*sigma, mu + 4*sigma, 1000)\n",
        "plt.plot(x, dist_dados.pdf(x))\n",
        "plt.show()"
      ],
      "execution_count": 23,
      "outputs": [
        {
          "output_type": "display_data",
          "data": {
            "image/png": "[encoded data removed]",
            "text/plain": [
              "<Figure size 432x288 with 1 Axes>"
            ]
          },
          "metadata": {
            "tags": [],
            "needs_background": "light"
          }
        }
      ]
    }
  ]
}