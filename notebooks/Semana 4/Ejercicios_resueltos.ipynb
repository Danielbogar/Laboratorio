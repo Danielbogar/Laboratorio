{
  "nbformat": 4,
  "nbformat_minor": 0,
  "metadata": {
    "colab": {
      "name": "Ejercicios resueltos.ipynb",
      "provenance": [],
      "collapsed_sections": [],
      "toc_visible": true,
      "authorship_tag": "ABX9TyOAp1eEq5gNR23UFpPwMb/6",
      "include_colab_link": true
    },
    "kernelspec": {
      "name": "python3",
      "display_name": "Python 3"
    }
  },
  "cells": [
    {
      "cell_type": "markdown",
      "metadata": {
        "id": "view-in-github",
        "colab_type": "text"
      },
      "source": [
        "<a href=\"https://colab.research.google.com/github/pyefiuna/Laboratorio/blob/master/notebooks/Semana%204/Ejercicios_resueltos.ipynb\" target=\"_parent\"><img src=\"https://colab.research.google.com/assets/colab-badge.svg\" alt=\"Open In Colab\"/></a>"
      ]
    },
    {
      "cell_type": "code",
      "metadata": {
        "id": "kTdbQx9QR32C"
      },
      "source": [
        "from scipy.stats import norm, binom\n",
        "from math import sqrt, ceil\n",
        "import random\n",
        "import matplotlib.pyplot as plt\n",
        "import numpy as np"
      ],
      "execution_count": 1,
      "outputs": []
    },
    {
      "cell_type": "markdown",
      "metadata": {
        "id": "ezJqDFUSCjt7"
      },
      "source": [
        "# Ejercicio 1\n",
        "Una compañía que fabrica y embotella jugo de manzana usa una máquina que llena automáticamente botellas de medio litro. Sin embargo, hay alguna variación en las cantidades de líquido dispensado en las botellas que se llenan.  \n",
        "Se ha observado que la cantidad dispensada se distribuye aproximadamente normal con una media de 0,5 litros y una desviación estándar de 0,03 litros. Si se elige una botella al azar:"
      ]
    },
    {
      "cell_type": "markdown",
      "metadata": {
        "id": "m7DCqOq0DXay"
      },
      "source": [
        "## Ítem a\n",
        "¿cuál es la probabilidad de que esa botella contenga menos de 0,44 litros?"
      ]
    },
    {
      "cell_type": "code",
      "metadata": {
        "id": "7KBjaRbWR7sy"
      },
      "source": [
        "mu = 0.5 # media\n",
        "sigma = 0.03 # desviación estándar\n",
        "dist_botellas = norm(loc = mu, scale = sigma) # distribución normal"
      ],
      "execution_count": 2,
      "outputs": []
    },
    {
      "cell_type": "code",
      "metadata": {
        "colab": {
          "base_uri": "https://localhost:8080/",
          "height": 265
        },
        "id": "0f_OvPAcSKau",
        "outputId": "1730f639-6ad0-428e-a030-f8bfd02fc5d8"
      },
      "source": [
        "x = np.linspace(mu - 4*sigma, mu + 4*sigma, 1000)\n",
        "plt.plot(x, dist_botellas.pdf(x))\n",
        "plt.show()"
      ],
      "execution_count": 3,
      "outputs": [
        {
          "output_type": "display_data",
          "data": {
            "image/png": "[encoded data removed]",
            "text/plain": [
              "<Figure size 432x288 with 1 Axes>"
            ]
          },
          "metadata": {
            "tags": [],
            "needs_background": "light"
          }
        }
      ]
    },
    {
      "cell_type": "code",
      "metadata": {
        "colab": {
          "base_uri": "https://localhost:8080/"
        },
        "id": "DqROBtFUSY4I",
        "outputId": "d6a66c7a-056a-429a-fa3c-cdf08e687a28"
      },
      "source": [
        "print(f'Probabilidad: {dist_botellas.cdf(0.44)*100} %')"
      ],
      "execution_count": 4,
      "outputs": [
        {
          "output_type": "stream",
          "text": [
            "Probabilidad: 2.2750131948179195 %\n"
          ],
          "name": "stdout"
        }
      ]
    },
    {
      "cell_type": "markdown",
      "metadata": {
        "id": "Z_QwOC9HDcXd"
      },
      "source": [
        "## Ítem b\n",
        "¿cuál es la probabilidad de que esa botella contenga más de 0,53 litros?"
      ]
    },
    {
      "cell_type": "code",
      "metadata": {
        "colab": {
          "base_uri": "https://localhost:8080/"
        },
        "id": "YmrvrISNShK9",
        "outputId": "64d1aefd-c8cf-43ea-bd30-aae250ead92d"
      },
      "source": [
        "print(f'Probabilidad: {dist_botellas.sf(0.53)*100} %') # sf = survival function"
      ],
      "execution_count": 5,
      "outputs": [
        {
          "output_type": "stream",
          "text": [
            "Probabilidad: 15.865525393145685 %\n"
          ],
          "name": "stdout"
        }
      ]
    },
    {
      "cell_type": "markdown",
      "metadata": {
        "id": "f31q7iIuDhv0"
      },
      "source": [
        "## Ítem c\n",
        "¿Cuál es la probabilidad de que esa botella contenga entre 0,47 y 0,53 litros?  "
      ]
    },
    {
      "cell_type": "code",
      "metadata": {
        "colab": {
          "base_uri": "https://localhost:8080/"
        },
        "id": "jyyUDf8uTCdm",
        "outputId": "0acea53d-1c17-4819-83c0-f32b1f2a6d77"
      },
      "source": [
        "print(f'Probabilidad: {(dist_botellas.cdf(0.53)-dist_botellas.cdf(0.47))*100} %')"
      ],
      "execution_count": 6,
      "outputs": [
        {
          "output_type": "stream",
          "text": [
            "Probabilidad: 68.26894921370862 %\n"
          ],
          "name": "stdout"
        }
      ]
    },
    {
      "cell_type": "markdown",
      "metadata": {
        "id": "zlhVvsmoTBur"
      },
      "source": [
        "El criterio para que la botella se tape y se comercialice es que alcance el volumen mínimo equivalente a z=-1,50."
      ]
    },
    {
      "cell_type": "markdown",
      "metadata": {
        "id": "ZPd4yRvqDoae"
      },
      "source": [
        "## Ítem d\n",
        "¿Cuál es el volumen mínimo que debe cargarse en la botella para que esta pueda comercializarse?"
      ]
    },
    {
      "cell_type": "code",
      "metadata": {
        "colab": {
          "base_uri": "https://localhost:8080/"
        },
        "id": "Egk3bicXTwCX",
        "outputId": "1fd3c2c2-d5ea-4464-fc82-86c47f19162b"
      },
      "source": [
        "import scipy.stats as st\n",
        "prob_rechazo = st.norm.cdf(-1.50)\n",
        "print(f'Mínimo: {dist_botellas.ppf(prob_rechazo)} litros')"
      ],
      "execution_count": 7,
      "outputs": [
        {
          "output_type": "stream",
          "text": [
            "Mínimo: 0.45499999999999996 litros\n"
          ],
          "name": "stdout"
        }
      ]
    },
    {
      "cell_type": "markdown",
      "metadata": {
        "id": "MhHXFXueDtkM"
      },
      "source": [
        "Si la producción diaria es de 1.500 botellas,"
      ]
    },
    {
      "cell_type": "markdown",
      "metadata": {
        "id": "Puybq0ZpD0_W"
      },
      "source": [
        "## Ítem e\n",
        "¿cuántas botellas se esperan diariamente que sean rechazadas?"
      ]
    },
    {
      "cell_type": "code",
      "metadata": {
        "colab": {
          "base_uri": "https://localhost:8080/"
        },
        "id": "jK2K8ml_VdRo",
        "outputId": "e6df9bdd-7422-4e26-c6c1-c3b0ed98986d"
      },
      "source": [
        "N = 1500 # producción diaria de botellas\n",
        "print(f'Se espera que diariamente se rechacen {round(N*prob_rechazo)} botellas')"
      ],
      "execution_count": 8,
      "outputs": [
        {
          "output_type": "stream",
          "text": [
            "Se espera que diariamente se rechacen 100 botellas\n"
          ],
          "name": "stdout"
        }
      ]
    },
    {
      "cell_type": "markdown",
      "metadata": {
        "id": "8Yee12K_Eg-Y"
      },
      "source": [
        "## Ítem f\n",
        "¿cuál es la probabilidad que, tomando una botella al azar, corresponda a una botella rechazada?"
      ]
    },
    {
      "cell_type": "code",
      "metadata": {
        "colab": {
          "base_uri": "https://localhost:8080/"
        },
        "id": "xjpH-EqdV57x",
        "outputId": "d43ef61f-8395-41db-9354-06f8c000e7a9"
      },
      "source": [
        "print(f'Probabilidad: {binom.pmf(1,N,prob_rechazo)*100} %')"
      ],
      "execution_count": 9,
      "outputs": [
        {
          "output_type": "stream",
          "text": [
            "Probabilidad: 9.727725577395332e-42 %\n"
          ],
          "name": "stdout"
        }
      ]
    },
    {
      "cell_type": "markdown",
      "metadata": {
        "id": "XM3yyPKpEl1J"
      },
      "source": [
        "## Ítem g\n",
        "¿cuál es el volumen correspondiente al percentil 85?"
      ]
    },
    {
      "cell_type": "code",
      "metadata": {
        "colab": {
          "base_uri": "https://localhost:8080/"
        },
        "id": "1Qd61wmZWTUQ",
        "outputId": "fe38d2d6-710c-482e-d51d-4e3892c3bf35"
      },
      "source": [
        "print(f'El volumn correspondiente es de {dist_botellas.ppf(.85)} litros')"
      ],
      "execution_count": 10,
      "outputs": [
        {
          "output_type": "stream",
          "text": [
            "El volumn correspondiente es de 0.5310930016848137 litros\n"
          ],
          "name": "stdout"
        }
      ]
    },
    {
      "cell_type": "markdown",
      "metadata": {
        "id": "yyFwP5BxEqrs"
      },
      "source": [
        "La producción se almacena en cajas conteniendo 10 botellas cada caja."
      ]
    },
    {
      "cell_type": "markdown",
      "metadata": {
        "id": "FYRP1xjrEr5r"
      },
      "source": [
        "## Ítem h\n",
        "Si tomamos una caja al azar, ¿cuál es la probabilidad de que exactamente 4 botellas tengan más de 0,53 litros?"
      ]
    },
    {
      "cell_type": "code",
      "metadata": {
        "colab": {
          "base_uri": "https://localhost:8080/"
        },
        "id": "h4Ff7nL_WzJs",
        "outputId": "6b7faf87-c52b-4949-ebcc-8c33d38d4ac0"
      },
      "source": [
        "print(f'Probabilidad: {binom.pmf(4,10,dist_botellas.sf(0.53))*100} %')"
      ],
      "execution_count": 11,
      "outputs": [
        {
          "output_type": "stream",
          "text": [
            "Probabilidad: 4.719337655508036 %\n"
          ],
          "name": "stdout"
        }
      ]
    },
    {
      "cell_type": "markdown",
      "metadata": {
        "id": "OhINzWbPEvu4"
      },
      "source": [
        "## Ítem i\n",
        "Las botellas tienen una capacidad máxima de 0,575 litros y la embotelladora tiene una alarma que suena cuando el volumen cargado supera los 0,56 litros.  \n",
        "Si se disparo la alarma porque el volumen cargado supero los 0,56 litros, ¿cuál es la probabilidad de que la botella haya rebozado?"
      ]
    },
    {
      "cell_type": "code",
      "metadata": {
        "colab": {
          "base_uri": "https://localhost:8080/"
        },
        "id": "eUL7iqYdaOp1",
        "outputId": "45c34100-ccb4-4f39-cdb7-cba206c79efe"
      },
      "source": [
        "print(f'Probabilidad: {dist_botellas.sf(0.575)/dist_botellas.sf(0.56)*100} %')"
      ],
      "execution_count": 12,
      "outputs": [
        {
          "output_type": "stream",
          "text": [
            "Probabilidad: 27.29507389196999 %\n"
          ],
          "name": "stdout"
        }
      ]
    },
    {
      "cell_type": "markdown",
      "metadata": {
        "id": "kz8isaNFFONe"
      },
      "source": [
        "# Ejercicio 2\n",
        "Se lanza una moneda equilibrada 400 veces. Hallar la probabilidad de que el número de caras sea:"
      ]
    },
    {
      "cell_type": "code",
      "metadata": {
        "id": "taDpUZaJcV8P"
      },
      "source": [
        "N = 400 # número de ensayos\n",
        "p = 1/2 # probabilidad de éxito (moneda equilibrada)\n",
        "q = 1-p # probabilidad de fallar\n",
        "mu = N*p # media\n",
        "sigma = sqrt(N*p*q) # desviación estándar\n",
        "dist_monedas = norm(loc = mu, scale = sigma) # distribución normal"
      ],
      "execution_count": 13,
      "outputs": []
    },
    {
      "cell_type": "code",
      "metadata": {
        "colab": {
          "base_uri": "https://localhost:8080/",
          "height": 265
        },
        "id": "qClF7zNocZJx",
        "outputId": "ebcc7e7a-3d1c-454c-9296-9cf893a35c28"
      },
      "source": [
        "x = np.linspace(mu - 4*sigma, mu + 4*sigma, 1000)\n",
        "plt.plot(x, dist_monedas.pdf(x))\n",
        "plt.show()"
      ],
      "execution_count": 14,
      "outputs": [
        {
          "output_type": "display_data",
          "data": {
            "image/png": "[encoded data removed]",
            "text/plain": [
              "<Figure size 432x288 with 1 Axes>"
            ]
          },
          "metadata": {
            "tags": [],
            "needs_background": "light"
          }
        }
      ]
    },
    {
      "cell_type": "markdown",
      "metadata": {
        "id": "IprrTXufFR7M"
      },
      "source": [
        "## Ítem a\n",
        "Exactamente 200."
      ]
    },
    {
      "cell_type": "code",
      "metadata": {
        "colab": {
          "base_uri": "https://localhost:8080/"
        },
        "id": "risDC6PGcfCC",
        "outputId": "b5b29eb2-887c-47f2-f504-91c3c38bac05"
      },
      "source": [
        "print(f'Probabilidad: {(dist_monedas.cdf(200.5)-dist_monedas.cdf(199.5))*100} %')"
      ],
      "execution_count": 15,
      "outputs": [
        {
          "output_type": "stream",
          "text": [
            "Probabilidad: 3.9877611676744973 %\n"
          ],
          "name": "stdout"
        }
      ]
    },
    {
      "cell_type": "markdown",
      "metadata": {
        "id": "_c2yufkqFazD"
      },
      "source": [
        "## Ítem b\n",
        "Mayor a 210."
      ]
    },
    {
      "cell_type": "code",
      "metadata": {
        "colab": {
          "base_uri": "https://localhost:8080/"
        },
        "id": "88ERnQtgdKpi",
        "outputId": "ef620c66-e2dc-4486-e302-51509599826b"
      },
      "source": [
        "print(f'Probabilidad: {dist_monedas.sf(210.5)*100} %')"
      ],
      "execution_count": 16,
      "outputs": [
        {
          "output_type": "stream",
          "text": [
            "Probabilidad: 14.685905637589592 %\n"
          ],
          "name": "stdout"
        }
      ]
    },
    {
      "cell_type": "markdown",
      "metadata": {
        "id": "UC-oo4pyFgyu"
      },
      "source": [
        "## Ítem c\n",
        "Entre 200 a 210 inclusive."
      ]
    },
    {
      "cell_type": "code",
      "metadata": {
        "colab": {
          "base_uri": "https://localhost:8080/"
        },
        "id": "uioaZ93AdSeY",
        "outputId": "115c869a-3dca-417b-f21f-d8006ee333ff"
      },
      "source": [
        "print(f'Probabilidad: {(dist_monedas.cdf(210.5)-dist_monedas.cdf(199.5))*100} %')"
      ],
      "execution_count": 17,
      "outputs": [
        {
          "output_type": "stream",
          "text": [
            "Probabilidad: 37.307974946247654 %\n"
          ],
          "name": "stdout"
        }
      ]
    }
  ]
}