{
  "nbformat": 4,
  "nbformat_minor": 0,
  "metadata": {
    "colab": {
      "name": "Ejercicio.ipynb",
      "provenance": []
    },
    "kernelspec": {
      "name": "python3",
      "display_name": "Python 3"
    },
    "language_info": {
      "name": "python"
    }
  },
  "cells": [
    {
      "cell_type": "markdown",
      "metadata": {
        "id": "Ev2PcjPAdJuc"
      },
      "source": [
        "La siguiente tabla muestra la edad y el sexo de personas que dieron positivo a una rara enfermedad.\n",
        "Separe en dos grupos segun el sexo de las personas y elabore una tabla con los datos estadisticos y un histograma por cada grupo.\n",
        "Para el histograma cree clases de amplitud 5 años "
      ]
    },
    {
      "cell_type": "code",
      "metadata": {
        "id": "FkjkFu5Xa1De"
      },
      "source": [
        "import pandas as pd\n",
        "import matplotlib.pyplot as plt"
      ],
      "execution_count": null,
      "outputs": []
    },
    {
      "cell_type": "code",
      "metadata": {
        "colab": {
          "base_uri": "https://localhost:8080/",
          "height": 204
        },
        "id": "TiFPNGYQbMbP",
        "outputId": "530b0a42-1c9a-4e02-b451-fbf9f86249cb"
      },
      "source": [
        "df=pd.read_excel('/content/drive/MyDrive/Colab Notebooks/datos.xlsx')\n",
        "df.head()"
      ],
      "execution_count": null,
      "outputs": [
        {
          "output_type": "execute_result",
          "data": {
            "text/html": [
              "<div>\n",
              "<style scoped>\n",
              "    .dataframe tbody tr th:only-of-type {\n",
              "        vertical-align: middle;\n",
              "    }\n",
              "\n",
              "    .dataframe tbody tr th {\n",
              "        vertical-align: top;\n",
              "    }\n",
              "\n",
              "    .dataframe thead th {\n",
              "        text-align: right;\n",
              "    }\n",
              "</style>\n",
              "<table border=\"1\" class=\"dataframe\">\n",
              "  <thead>\n",
              "    <tr style=\"text-align: right;\">\n",
              "      <th></th>\n",
              "      <th>Edad</th>\n",
              "      <th>Sexo</th>\n",
              "    </tr>\n",
              "  </thead>\n",
              "  <tbody>\n",
              "    <tr>\n",
              "      <th>0</th>\n",
              "      <td>62</td>\n",
              "      <td>2</td>\n",
              "    </tr>\n",
              "    <tr>\n",
              "      <th>1</th>\n",
              "      <td>62</td>\n",
              "      <td>2</td>\n",
              "    </tr>\n",
              "    <tr>\n",
              "      <th>2</th>\n",
              "      <td>82</td>\n",
              "      <td>2</td>\n",
              "    </tr>\n",
              "    <tr>\n",
              "      <th>3</th>\n",
              "      <td>86</td>\n",
              "      <td>1</td>\n",
              "    </tr>\n",
              "    <tr>\n",
              "      <th>4</th>\n",
              "      <td>80</td>\n",
              "      <td>2</td>\n",
              "    </tr>\n",
              "  </tbody>\n",
              "</table>\n",
              "</div>"
            ],
            "text/plain": [
              "   Edad  Sexo\n",
              "0    62     2\n",
              "1    62     2\n",
              "2    82     2\n",
              "3    86     1\n",
              "4    80     2"
            ]
          },
          "metadata": {},
          "execution_count": 4
        }
      ]
    },
    {
      "cell_type": "code",
      "metadata": {
        "colab": {
          "base_uri": "https://localhost:8080/"
        },
        "id": "TP0Xpy3odInU",
        "outputId": "d1d45427-1e1d-4642-d2e0-d40427dd0e0a"
      },
      "source": [
        "Mujeres=df[df[\"Sexo\"]==1]\n",
        "print(Mujeres.head())"
      ],
      "execution_count": null,
      "outputs": [
        {
          "output_type": "stream",
          "text": [
            "    Edad  Sexo\n",
            "3     86     1\n",
            "7     91     1\n",
            "8     77     1\n",
            "9     59     1\n",
            "11    46     1\n"
          ],
          "name": "stdout"
        }
      ]
    },
    {
      "cell_type": "code",
      "metadata": {
        "colab": {
          "base_uri": "https://localhost:8080/"
        },
        "id": "gBQEMugzhi0C",
        "outputId": "5184185a-8021-4674-875a-ac47c052e72f"
      },
      "source": [
        "Mujeres=Mujeres[\"Edad\"]\n",
        "print(Mujeres.head())"
      ],
      "execution_count": null,
      "outputs": [
        {
          "output_type": "stream",
          "text": [
            "3     86\n",
            "7     91\n",
            "8     77\n",
            "9     59\n",
            "11    46\n",
            "Name: Edad, dtype: int64\n"
          ],
          "name": "stdout"
        }
      ]
    },
    {
      "cell_type": "code",
      "metadata": {
        "colab": {
          "base_uri": "https://localhost:8080/"
        },
        "id": "-cgzGLGSh5Q7",
        "outputId": "3c92b635-bede-44e7-f5a2-c43727a406d4"
      },
      "source": [
        "Hombres=df[df[\"Sexo\"]==2]\n",
        "print(Hombres.head())"
      ],
      "execution_count": null,
      "outputs": [
        {
          "output_type": "stream",
          "text": [
            "   Edad  Sexo\n",
            "0    62     2\n",
            "1    62     2\n",
            "2    82     2\n",
            "4    80     2\n",
            "5    52     2\n"
          ],
          "name": "stdout"
        }
      ]
    },
    {
      "cell_type": "code",
      "metadata": {
        "colab": {
          "base_uri": "https://localhost:8080/"
        },
        "id": "PJKJ-R-Ih_rE",
        "outputId": "dda2fe3a-51e7-403f-98e2-90fcdcf06920"
      },
      "source": [
        "Hombres=Hombres[\"Edad\"]\n",
        "print(Hombres.head())"
      ],
      "execution_count": null,
      "outputs": [
        {
          "output_type": "stream",
          "text": [
            "0    62\n",
            "1    62\n",
            "2    82\n",
            "4    80\n",
            "5    52\n",
            "Name: Edad, dtype: int64\n"
          ],
          "name": "stdout"
        }
      ]
    },
    {
      "cell_type": "code",
      "metadata": {
        "colab": {
          "base_uri": "https://localhost:8080/"
        },
        "id": "dMyAlqV7o294",
        "outputId": "a1b5d93c-5033-4192-f51a-4e1e38600376"
      },
      "source": [
        "print(\"Mujeres: \")\n",
        "print(f\"Cantidad: {Mujeres.count()}\")\n",
        "print(f\"Media: {Mujeres.mean()}\")\n",
        "print(f\"Mediana: {Mujeres.median()}\")\n",
        "print(f\"Maximo: {Mujeres.max()}\")\n",
        "print(f\"Minimo: {Mujeres.min()}\")\n",
        "print(f\"Rango: {Mujeres.max()-Mujeres.min()}\")\n",
        "print(f\"Moda: {Mujeres.mode()}\")\n",
        "print(f\"Des Esta: {Mujeres.std()}\")"
      ],
      "execution_count": null,
      "outputs": [
        {
          "output_type": "stream",
          "text": [
            "Mujeres: \n",
            "Cantidad: 38\n",
            "Media: 57.18421052631579\n",
            "Mediana: 58.0\n",
            "Maximo: 91\n",
            "Minimo: 20\n",
            "Rango: 71\n",
            "Moda: 0    56\n",
            "dtype: int64\n",
            "Des Esta: 15.585605387851707\n"
          ],
          "name": "stdout"
        }
      ]
    },
    {
      "cell_type": "code",
      "metadata": {
        "colab": {
          "base_uri": "https://localhost:8080/"
        },
        "id": "hlj_Nz4uxTfb",
        "outputId": "db9f3cc2-8da4-4b0e-faf6-a77310c890c5"
      },
      "source": [
        "print(\"Hombres: \")\n",
        "print(f\"Cantidad: {Hombres.count()}\")\n",
        "print(f\"Media: {Hombres.mean()}\")\n",
        "print(f\"Mediana: {Hombres.median()}\")\n",
        "print(f\"Maximo: {Hombres.max()}\")\n",
        "print(f\"Minimo: {Hombres.min()}\")\n",
        "print(f\"Rango: {Hombres.max()-Mujeres.min()}\")\n",
        "print(f\"Moda: {Hombres.mode()}\")\n",
        "print(f\"Des Esta: {Hombres.std()}\")"
      ],
      "execution_count": null,
      "outputs": [
        {
          "output_type": "stream",
          "text": [
            "Hombres: \n",
            "Cantidad: 80\n",
            "Media: 55.975\n",
            "Mediana: 57.0\n",
            "Maximo: 82\n",
            "Minimo: 20\n",
            "Rango: 62\n",
            "Moda: 0    62\n",
            "dtype: int64\n",
            "Des Esta: 12.275296794473242\n"
          ],
          "name": "stdout"
        }
      ]
    },
    {
      "cell_type": "code",
      "metadata": {
        "colab": {
          "base_uri": "https://localhost:8080/"
        },
        "id": "hZ6FXk0vxfZ3",
        "outputId": "5b78e800-e409-4780-a980-597176eeca02"
      },
      "source": [
        "intervalos = pd.interval_range(start=20,\n",
        "                               end=95,\n",
        "                               freq=5,\n",
        "                               closed='left')\n",
        "for inter in intervalos:\n",
        " print(inter)"
      ],
      "execution_count": null,
      "outputs": [
        {
          "output_type": "stream",
          "text": [
            "[20, 25)\n",
            "[25, 30)\n",
            "[30, 35)\n",
            "[35, 40)\n",
            "[40, 45)\n",
            "[45, 50)\n",
            "[50, 55)\n",
            "[55, 60)\n",
            "[60, 65)\n",
            "[65, 70)\n",
            "[70, 75)\n",
            "[75, 80)\n",
            "[80, 85)\n",
            "[85, 90)\n",
            "[90, 95)\n"
          ],
          "name": "stdout"
        }
      ]
    },
    {
      "cell_type": "code",
      "metadata": {
        "colab": {
          "base_uri": "https://localhost:8080/"
        },
        "id": "BACS3x9W3XmT",
        "outputId": "b88b7687-de68-4d80-ffe3-71f430dc5b4f"
      },
      "source": [
        "FM=pd.cut(Mujeres, bins=intervalos).rename(\"Edad\")\n",
        "FM=FM.groupby(FM).count()\n",
        "FM"
      ],
      "execution_count": null,
      "outputs": [
        {
          "output_type": "execute_result",
          "data": {
            "text/plain": [
              "Edad\n",
              "[20, 25)    1\n",
              "[25, 30)    1\n",
              "[30, 35)    1\n",
              "[35, 40)    2\n",
              "[40, 45)    1\n",
              "[45, 50)    4\n",
              "[50, 55)    5\n",
              "[55, 60)    7\n",
              "[60, 65)    6\n",
              "[65, 70)    4\n",
              "[70, 75)    0\n",
              "[75, 80)    3\n",
              "[80, 85)    1\n",
              "[85, 90)    1\n",
              "[90, 95)    1\n",
              "Name: Edad, dtype: int64"
            ]
          },
          "metadata": {},
          "execution_count": 12
        }
      ]
    },
    {
      "cell_type": "code",
      "metadata": {
        "colab": {
          "base_uri": "https://localhost:8080/"
        },
        "id": "wfnM_9_1C9g8",
        "outputId": "82af00fb-1b79-4e77-a029-568a5e1ea8cf"
      },
      "source": [
        "FH=pd.cut(Hombres, bins=intervalos).rename(\"Edad\")\n",
        "FH=FH.groupby(FH).count()\n",
        "FH"
      ],
      "execution_count": null,
      "outputs": [
        {
          "output_type": "execute_result",
          "data": {
            "text/plain": [
              "Edad\n",
              "[20, 25)     1\n",
              "[25, 30)     2\n",
              "[30, 35)     2\n",
              "[35, 40)     1\n",
              "[40, 45)     7\n",
              "[45, 50)     8\n",
              "[50, 55)    13\n",
              "[55, 60)    13\n",
              "[60, 65)    16\n",
              "[65, 70)     8\n",
              "[70, 75)     4\n",
              "[75, 80)     3\n",
              "[80, 85)     2\n",
              "[85, 90)     0\n",
              "[90, 95)     0\n",
              "Name: Edad, dtype: int64"
            ]
          },
          "metadata": {},
          "execution_count": 14
        }
      ]
    },
    {
      "cell_type": "code",
      "metadata": {
        "colab": {
          "base_uri": "https://localhost:8080/",
          "height": 309
        },
        "id": "xSF-NnT6Dr1H",
        "outputId": "6b1321f6-6bf0-46f4-f635-735e7bb05fbc"
      },
      "source": [
        "FM.plot(kind=\"bar\")\n",
        "plt.show()"
      ],
      "execution_count": null,
      "outputs": [
        {
          "output_type": "display_data",
          "data": {
            "image/png": "[encoded data removed]",
            "text/plain": [
              "<Figure size 432x288 with 1 Axes>"
            ]
          },
          "metadata": {
            "needs_background": "light"
          }
        }
      ]
    },
    {
      "cell_type": "code",
      "metadata": {
        "colab": {
          "base_uri": "https://localhost:8080/",
          "height": 309
        },
        "id": "h-G8674yEaCa",
        "outputId": "ca0b53dc-87eb-41e6-f036-ba3d9421a1bd"
      },
      "source": [
        "FH.plot(kind=\"bar\")\n",
        "plt.show()"
      ],
      "execution_count": null,
      "outputs": [
        {
          "output_type": "display_data",
          "data": {
            "image/png": "[encoded data removed]",
            "text/plain": [
              "<Figure size 432x288 with 1 Axes>"
            ]
          },
          "metadata": {
            "needs_background": "light"
          }
        }
      ]
    }
  ]
}