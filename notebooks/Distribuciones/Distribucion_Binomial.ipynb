{
  "nbformat": 4,
  "nbformat_minor": 0,
  "metadata": {
    "colab": {
      "name": "Distribución Binomial",
      "provenance": [],
      "collapsed_sections": [],
      "authorship_tag": "ABX9TyOYqHg3Tokoz7EtSkVAJPTK",
      "include_colab_link": true
    },
    "kernelspec": {
      "name": "python3",
      "display_name": "Python 3"
    }
  },
  "cells": [
    {
      "cell_type": "markdown",
      "metadata": {
        "id": "view-in-github",
        "colab_type": "text"
      },
      "source": [
        "<a href=\"https://colab.research.google.com/github/pyefiuna/Laboratorio/blob/master/notebooks/Semana%203/Distribucion_Binomial.ipynb\" target=\"_parent\"><img src=\"https://colab.research.google.com/assets/colab-badge.svg\" alt=\"Open In Colab\"/></a>"
      ]
    },
    {
      "cell_type": "markdown",
      "metadata": {
        "id": "DlqMfhq3BwGV"
      },
      "source": [
        "!['Logo FIUNA'](http://www.ing.una.py/images/logo-horizontal.png)\n",
        "# PROBABILIDAD Y ESTADÍSTICA\n",
        "---\n"
      ]
    },
    {
      "cell_type": "markdown",
      "metadata": {
        "id": "bX1rIDKUCign"
      },
      "source": [
        "## Semana 3 - Distribuciones de probabilidad\n",
        "### Distribución Binomial"
      ]
    },
    {
      "cell_type": "markdown",
      "metadata": {
        "id": "l5nAlRx6GPjU"
      },
      "source": [
        "### Materiales y recursos\n",
        "##### Teoría:\n",
        "* [Distribución Binomial](https://drive.google.com/file/d/1nsSupN3fb80MjWT8yokAAgJBLtAmdk40/view?ts=5f19b9dc)\n",
        "\n",
        "##### Actividades de laboratorio\n",
        "* [Vídeos de ejercicios de distribución binomial resueltos (en excel)](https://www.youtube.com/playlist?list=PLwx_FbswjRXy0PUH06vFIl3YJpy5daNqC)\n",
        "* [Enunciados de ejercicios de distribución binomial](https://eaula.ing.una.py/pluginfile.php/76573/mod_resource/content/1/5.%20Distribuci%C3%B3n%20binomial%20Laboratorio%20-%20Enunciados.pdf)\n"
      ]
    },
    {
      "cell_type": "markdown",
      "metadata": {
        "id": "WqsUQvtQDpYM"
      },
      "source": [
        "### Importar módulos necesarios\n",
        "* En esta sección, estaremos usando el módulo [scipy.stats](https://docs.scipy.org/doc/scipy/reference/tutorial/stats.html), el cual nos provee la clases `binom` , para la resolución de problemas de distribución de probabilidades binomiales.\n",
        "* Complementariamente usaremos el módulo matplotlib.pyplot para realizar todos los gráficos que necesitemos."
      ]
    },
    {
      "cell_type": "code",
      "metadata": {
        "id": "aYw6xQEfDwNv"
      },
      "source": [
        "from scipy.stats import binom   # De esta manera importamos solamente la clase deseada y no todo el módulo scipy.stats\n",
        "import matplotlib.pyplot as plt # De esta manera importamos el módulo matplotlib.pyplot y le asignamos el alias de \"plt\" por conveniencia a la hora de trabajar con el mismo"
      ],
      "execution_count": null,
      "outputs": []
    },
    {
      "cell_type": "markdown",
      "metadata": {
        "id": "4MrlLbWRKJ90"
      },
      "source": [
        "# Ejercicios de distribución de probabilidad binomial\n",
        "1. La probabilidad de que el comprador de un osciloscopio haga uso del servicedentro del plazo  de  garantía  es  0,2.  Para  los  5  osciloscopios  que  cierta  empresa  ha  vendido independientemente a 5 compradores este mes:\n",
        "> (a). ¿Cuál es la probabilidad de que exactamente 3 de los compradores hagan uso de la garantía?\n",
        "(b). ¿Cuál es la probabilidad de que 3 o más compradores hagan uso de la garantía?"
      ]
    },
    {
      "cell_type": "code",
      "metadata": {
        "id": "ee5xtCXcFlWd"
      },
      "source": [
        "# Declaramos las variables que necesitaremos para el ejercicio:\n",
        "cant_ensayos = 5\n",
        "prob_exito = 0.2\n",
        "\n",
        "# Creamos un objeto del tipo \"binom\" distribución binomial, con los parametros anteriores:\n",
        "dist_binomial = binom(cant_ensayos, prob_exito)\n",
        "\n",
        "# A partir de este momento, solo necesitamos llamar al objeto dist_binomial cada\n",
        "# vez que necesitemos hacer un cálculo referente a la distribución con binomial \n",
        "# con los parámetros dados en el ejercicio."
      ],
      "execution_count": null,
      "outputs": []
    },
    {
      "cell_type": "markdown",
      "metadata": {
        "id": "RvhMrey1Maju"
      },
      "source": [
        "(a). Para hallar la probabilidad de que **exactamente** 3 de los compradores hagan uso de la garantía, debemos aplicar el método `pmf()` _probability mass function_ al cual debemos pasar como parémetro x el número de ocurrencias del cual necesitamos calcular la probabilidad, para la función binomial dada."
      ]
    },
    {
      "cell_type": "code",
      "metadata": {
        "id": "ad-uLNL5MNRU",
        "outputId": "76b9416f-6b1f-4699-a3ad-653ceca1caa4",
        "colab": {
          "base_uri": "https://localhost:8080/",
          "height": 35
        }
      },
      "source": [
        "# Para ello aplicamos la función pmf() a nuestra distribución binomial, a la cual habíamos llamado dist_binomial, de la siguiente manera:\n",
        "prob_de_3 = dist_binomial.pmf(3) # Guardamos el valor calculado dentro de la variable \"prob_de_3\"\n",
        "\n",
        "# A continuación imprimimos lo calculado haciendo uso de la funcion print()\n",
        "# También redondeamos el resultado a 5 digitos decimales\n",
        "print('La probabilidad de que exactamente 3 compradores hagan uso de su garantía es:', round(prob_de_3, 5))\n"
      ],
      "execution_count": null,
      "outputs": [
        {
          "output_type": "stream",
          "text": [
            "La probabilidad de que exactamente 3 compradores hagan uso de su garantía es: 0.0512\n"
          ],
          "name": "stdout"
        }
      ]
    },
    {
      "cell_type": "markdown",
      "metadata": {
        "id": "IG_Y_zeWS7qF"
      },
      "source": [
        "Antes de resolver el ítem (b), recordemos que: \n",
        "> $p(0) + p(1) + p(2) + p(3) + p(4) + p(5) = 1$\n",
        "\n",
        "es decir, que si queremos hallar la probabilidad de que al menos dos clientes hagan uso de la garantía podemos hallar:\n",
        "> $ p(x>2) = 1 - [p(0) + p(1) + p(2)]$\n",
        "\n",
        "(b). Para hallar la probabilidad de que 3 o más compradores hagan uso de la garantía tenemos dos opciones:\n",
        "* Aplicar la fórmula indicada más arriba. Usando el método `cdf(x)` _cumulative distribution function_ podemos calcular la probabilidad acumulada, para x = 2, de que 0, 1 y 2 compradores hagan uso de la garantía, o\n",
        "* Hacer uso del método `sf()` _survival function_ la cual calcula el valor $1-cdf(x)$ dónde cdf es la probabilidad acumulada de x."
      ]
    },
    {
      "cell_type": "code",
      "metadata": {
        "id": "T8ictH-AOP9q",
        "outputId": "7ec88a41-d1be-41a0-ad5a-47b20e441d3b",
        "colab": {
          "base_uri": "https://localhost:8080/",
          "height": 35
        }
      },
      "source": [
        "# Hallemos la respuesta usando la primera opción, la probabilidad acumulada para x=2 está dada por:\n",
        "prob_acum_2 = dist_binomial.cdf(2) # Recordemos que: prob_acum_2 = p(0) + p(1) + p(2)\n",
        "\n",
        "prob_almenos_3 = 1 - prob_acum_2\n",
        "# Imprimimos la respuesta redondeada a 5 dígitos decimales\n",
        "print('La probabilidad de que al menos 3 personas hagan uso de la garantía es:', round(prob_almenos_3, 5))"
      ],
      "execution_count": null,
      "outputs": [
        {
          "output_type": "stream",
          "text": [
            "La probabilidad de que al menos 3 personas hagan uso de la garantía es: 0.05792\n"
          ],
          "name": "stdout"
        }
      ]
    },
    {
      "cell_type": "code",
      "metadata": {
        "id": "hh_qI3MYSnTw",
        "outputId": "b3cb6753-e827-41d7-fb53-19f829a0ee50",
        "colab": {
          "base_uri": "https://localhost:8080/",
          "height": 35
        }
      },
      "source": [
        "# Hallemos ahora la respuesta usando la segunda opción, para evitar confución vamos a usar otra variable: \"p_al_menos_3\":\n",
        "p_al_menos_3 = dist_binomial.sf(2)\n",
        "\n",
        "# Imprimimos la respuesta redondeada a 5 dígitos decimales:\n",
        "print('La probabilidad de que al menos 3 personas hagan uso de la garantía es:', round(p_al_menos_3, 5))\n",
        "\n",
        "# Podemos comparar ambos resultados y comprobar que ambos métodos son factibles"
      ],
      "execution_count": null,
      "outputs": [
        {
          "output_type": "stream",
          "text": [
            "La probabilidad de que al menos 3 personas hagan uso de la garantía es: 0.05792\n"
          ],
          "name": "stdout"
        }
      ]
    },
    {
      "cell_type": "markdown",
      "metadata": {
        "id": "fFsS0jZZc0Qu"
      },
      "source": [
        "### Opcional\n",
        "De manera a conocer el potencial que nos ofrece el módulo `scipy.stats` haremos uso de algunas de sus funciones para hallar otros parámetros de la función binomial dada (n=5, p= 0,2)"
      ]
    },
    {
      "cell_type": "code",
      "metadata": {
        "id": "VDGRDLpMZbrZ",
        "outputId": "aecfca50-a3dd-4935-a20a-ae3e3c511fd7",
        "colab": {
          "base_uri": "https://localhost:8080/",
          "height": 90
        }
      },
      "source": [
        "# Si quisieramos calcular la media, varianza, sesgo y kurtosis para los parámetros dados, solo tendríamos que hacer uso de:\n",
        "media, var, sesgo, kurt = dist_binomial.stats(moments='mvsk')\n",
        "\n",
        "print('Media:', media)\n",
        "print('Varianza:', var)\n",
        "print('Sesgo:', sesgo)\n",
        "print('Kurtosis:', kurt)"
      ],
      "execution_count": null,
      "outputs": [
        {
          "output_type": "stream",
          "text": [
            "Media: 1.0\n",
            "Varianza: 0.8\n",
            "Sesgo: 0.670820393249937\n",
            "Kurtosis: 0.04999999999999977\n"
          ],
          "name": "stdout"
        }
      ]
    },
    {
      "cell_type": "markdown",
      "metadata": {
        "id": "SuVCKoZ3eHGF"
      },
      "source": [
        "También podríamos valernos de una lista de valores para x, en este caso de 0 a 5 clientes que hacen uso de la garantía y obtener una lista de probabilidades para cada valor correspondiente de x. Esto es particularmente útil para graficar la distribución de probabilidades del problema."
      ]
    },
    {
      "cell_type": "code",
      "metadata": {
        "id": "6jBh-oKYa--E",
        "outputId": "15abbe0c-bd19-4dd4-c384-bb1975544b36",
        "colab": {
          "base_uri": "https://localhost:8080/",
          "height": 35
        }
      },
      "source": [
        "# Creamos una variable x con un rango de valores de 0 a 5\n",
        "x = range(6) # La función range nos devuelve un objeto iterable que inicia en 0 (por defecto) y termina en el valor dado sin incluirlo es decir 0, 1, 2, 3, 4, 5.\n",
        "\n",
        "# Calculemos las probabilidades para cada valor de x, las cuales guardaremos en la variable p\n",
        "p = dist_binomial.pmf(x)\n",
        "\n",
        "# Si imprimimos p, vemos que es una lista (vector) con el valor de probabilidad para cada valor de x dado\n",
        "print(p) # Recordemos que x va de 0 a 5, por lo tanto p(3) es el cuarto valor de la lista p"
      ],
      "execution_count": null,
      "outputs": [
        {
          "output_type": "stream",
          "text": [
            "[3.2768e-01 4.0960e-01 2.0480e-01 5.1200e-02 6.4000e-03 3.2000e-04]\n"
          ],
          "name": "stdout"
        }
      ]
    },
    {
      "cell_type": "code",
      "metadata": {
        "id": "TuDWB5c_ckqK",
        "outputId": "68129ce5-b097-4ab8-cc42-04f58bc88a5b",
        "colab": {
          "base_uri": "https://localhost:8080/",
          "height": 295
        }
      },
      "source": [
        "# Finalmente podemos graficar la función haciendo uso del módulo matplotlib.plotlib, al que llamamos con el alias de plt\n",
        "fig, ax = plt.subplots(1, 1) # Creamos un lienzo para nuestro gráfico\n",
        "\n",
        "# El gráfico está dado por:\n",
        "ax.plot(x, p, 'bo') # Agregamos nuestro gráfico en forma de puntos azules con el comando 'bo' -> b: blue (azul)- o: puntos\n",
        "ax.vlines(x= x, ymin= 0, ymax= p, colors='b') # Agregamos las líneas verticales desde ymin= 0 hasta ymax = p(x), de color azul\n",
        "\n",
        "# Los demás complementos, opcionales:\n",
        "ax.grid() # Agrega las grillas al gráfico\n",
        "ax.set_title('Distribución de probabilidades')\n",
        "ax.set_xlabel('Cantidad de clientes')\n",
        "ax.set_ylabel('Probabilidad de que usen la garantía')\n",
        "plt.show()"
      ],
      "execution_count": null,
      "outputs": [
        {
          "output_type": "display_data",
          "data": {
            "image/png": "[encoded data removed]",
            "text/plain": [
              "<Figure size 432x288 with 1 Axes>"
            ]
          },
          "metadata": {
            "tags": [],
            "needs_background": "light"
          }
        }
      ]
    },
    {
      "cell_type": "markdown",
      "metadata": {
        "id": "CNVhmB_Ho4C5"
      },
      "source": [
        "2. Un examen de estadística de elección múltiple contenía 20 preguntas y cada una de ellas 5 respuestas. Solo hay una respuesta correcta por pregunta. Si un estudiante desconocía todas las respuestas y contestó al azar.\n",
        "> (a).¿Cuál es la probabilidad de que conteste correctamente a 5 preguntas? (b).¿Cuál es la probabilidad de que conteste correctamente a lo más 5 preguntas?"
      ]
    },
    {
      "cell_type": "code",
      "metadata": {
        "id": "trWNeboyg1Rp"
      },
      "source": [
        "# Declaramos las variables que necesitaremos para el ejercicio:\n",
        "resp_correctas = 1\n",
        "resp_posibles = 5\n",
        "cant_ensayos = 20\n",
        "prob_exito = resp_correctas / resp_posibles\n",
        "\n",
        "# Creamos un objeto del tipo \"binom\" distribución binomial, con los parametros anteriores:\n",
        "dist_binomial = binom(cant_ensayos, prob_exito)\n",
        "\n",
        "# A partir de este momento, solo necesitamos llamar al objeto dist_binomial cada\n",
        "# vez que necesitemos hacer un cálculo referente a la distribución con binomial \n",
        "# con los parámetros dados en el ejercicio."
      ],
      "execution_count": null,
      "outputs": []
    },
    {
      "cell_type": "markdown",
      "metadata": {
        "id": "2Ie_G4t1rj9U"
      },
      "source": [
        "(a).¿Cuál es la probabilidad de que conteste correctamente a 5 preguntas? Para responder a esta pregunta usamos el método `pmf()` de la clase `binom`. Para ello, recordemos que en el paso anterior ya creamos un objeto del tipo `binom` al que llamamos `dist_binomial` el cual ya contiene los datos del problema."
      ]
    },
    {
      "cell_type": "code",
      "metadata": {
        "id": "nCqX6TyOqy4P",
        "outputId": "41ae8180-48b4-49da-f323-6833e099130b",
        "colab": {
          "base_uri": "https://localhost:8080/",
          "height": 35
        }
      },
      "source": [
        "# Para ello aplicamoc la función pmf() a nuestra distribución binomial:\n",
        "prob_de_exact_5 = dist_binomial.pmf(5) # Guardamos el valor calculado dentro de la variable \"prob_de_exact_5\"\n",
        "\n",
        "# A continuación imprimimos lo calculado haciendo uso de la funcion print()\n",
        "# También redondeamos el resultado a 5 digitos decimales\n",
        "print('La probabilidad de que responda correctamente a exactamente 5 preguntas es:', round(prob_de_exact_5, 5))"
      ],
      "execution_count": null,
      "outputs": [
        {
          "output_type": "stream",
          "text": [
            "La probabilidad de que responda correctamente a exactamente 5 preguntas es: 0.17456\n"
          ],
          "name": "stdout"
        }
      ]
    },
    {
      "cell_type": "markdown",
      "metadata": {
        "id": "ZIVcO4mDsydT"
      },
      "source": [
        "(b).¿Cuál es la probabilidad de que conteste correctamente a lo más 5 preguntas?. O dicho de otra manera cuál es la probabilidad de que conteste 0, 1, 2, 3, 4 o 5 respuestas correctamente. Para ello, hacemos uso del método `cdf(x)` lo aplicamos a nuestro objeto `dist_binom` con $x = 5$ y tendremos la respuesta buscada."
      ]
    },
    {
      "cell_type": "code",
      "metadata": {
        "id": "KkkpvZyCsqjY",
        "outputId": "d5784430-0c01-4b9e-a164-7ed6f7806cfc",
        "colab": {
          "base_uri": "https://localhost:8080/",
          "height": 35
        }
      },
      "source": [
        "prob_hasta_5 = dist_binomial.cdf(5)\n",
        "\n",
        "# A continuación imprimimos lo calculado haciendo uso de la funcion print()\n",
        "# También redondeamos el resultado a 5 digitos decimales\n",
        "print('La probabilidad de que responda correctamente a lo más 5 preguntas es:', round(prob_hasta_5, 5))"
      ],
      "execution_count": null,
      "outputs": [
        {
          "output_type": "stream",
          "text": [
            "La probabilidad de que responda correctamente a lo más 5 preguntas es: 0.80421\n"
          ],
          "name": "stdout"
        }
      ]
    },
    {
      "cell_type": "markdown",
      "metadata": {
        "id": "Up7VV0gTuMle"
      },
      "source": [
        "### Opcional\n",
        "Graficar la distribución de probabilidades para responder correctamente 0, 1, 2... 20 preguntas del examen."
      ]
    },
    {
      "cell_type": "code",
      "metadata": {
        "id": "W-jUxtewu1qm"
      },
      "source": [
        "# Primero creamos el eje x\n",
        "x = range(21) # recordemos que esto crea un objeto iterable \"range\" con valores desde 0 (por defecto) hasta 20 (21 valores en total)\n",
        "\n",
        "# Luego calculamos los valores de probabilidad para cada x:\n",
        "p = dist_binomial.pmf(x)"
      ],
      "execution_count": null,
      "outputs": []
    },
    {
      "cell_type": "code",
      "metadata": {
        "id": "kWrZ0sQ9t-ke",
        "outputId": "03baf46b-804b-4c67-9a70-deefce36b3e9",
        "colab": {
          "base_uri": "https://localhost:8080/",
          "height": 517
        }
      },
      "source": [
        "fig, ax = plt.subplots(1, 1, figsize= (16,8)) # Creamos un lienzo para nuestro gráfico\n",
        "\n",
        "# El gráfico está dado por:\n",
        "ax.plot(x, p, 'bo') # Agregamos nuestro gráfico en forma de puntos azules con el comando 'bo' -> b: blue (azul)- o: puntos\n",
        "ax.vlines(x= x, ymin= 0, ymax= p, colors='b') # Agregamos las líneas verticales desde ymin= 0 hasta ymax = p(x), de color azul\n",
        "\n",
        "# Los demás complementos, opcionales:\n",
        "ax.grid() # Agrega las grillas al gráfico\n",
        "ax.set_title('Distribución de probabilidades', fontsize='x-large', fontweight= 'bold') # Agrega un título, con tamaño de fuente extra grande y en negritas\n",
        "ax.set_xlabel('Cantidad de preguntas', fontsize='large') # Agrega texto al eje x\n",
        "ax.set_ylabel('Probabilidad de responder correctamente', fontsize='large') # Agrega texto al eje y\n",
        "plt.xticks(x) # Modifica los puntos representados en el eje x, y la grilla para que coincidan exactamente a intervalos enteros\n",
        "plt.show() # Para mostrar el gráfico"
      ],
      "execution_count": null,
      "outputs": [
        {
          "output_type": "display_data",
          "data": {
            "image/png": "[encoded data removed]",
            "text/plain": [
              "<Figure size 1152x576 with 1 Axes>"
            ]
          },
          "metadata": {
            "tags": [],
            "needs_background": "light"
          }
        }
      ]
    },
    {
      "cell_type": "markdown",
      "metadata": {
        "id": "OGotdtCSDVLU"
      },
      "source": [
        "3. Un  experimento  consiste  en  lanzar  un  dado  varias  veces.  Determine  la  probabilidad  de que aparezca:\n",
        "> (a). La cara 6 entre 29 y 32 veces inclusive, si el dado es lanzado 170 veces\n",
        "(b). La cara 6 menos de 22 veces, si el dado es lanzado 170 veces\n",
        "(c). Algún número par, si el dado es lanzado 5 veces"
      ]
    },
    {
      "cell_type": "code",
      "metadata": {
        "id": "nW0zWnMVvcD6"
      },
      "source": [
        "# Empezamos por definir los parámetros para las primeras dos preguntas.\n",
        "# Declaramos las variables que necesitaremos para el ejercicio:\n",
        "casos_favorables = 1  # Que salga la cara 6\n",
        "casos_posibles = 6    # Por las 6 caras del dado\n",
        "cant_ensayos = 170\n",
        "prob_exito = casos_favorables / casos_posibles\n",
        "\n",
        "# Creamos un objeto del tipo \"binom\" distribución binomial, con los parametros anteriores:\n",
        "dist_binomial = binom(cant_ensayos, prob_exito)\n",
        "\n",
        "# A partir de este momento, solo necesitamos llamar al objeto dist_binomial cada\n",
        "# vez que necesitemos hacer un cálculo referente a la distribución con binomial \n",
        "# con los parámetros dados en el ejercicio."
      ],
      "execution_count": null,
      "outputs": []
    },
    {
      "cell_type": "markdown",
      "metadata": {
        "id": "kN2xdarjGC9G"
      },
      "source": [
        "(a). La cara 6 entre 29 y 32 veces inclusive, si el dado es lanzado 170 veces. Para resolver esto podemos hallar la probabilidad acumulada de 32 y a esta restar la probabilidad acumulada de 28, haciendo uso del método `cdf(x)`"
      ]
    },
    {
      "cell_type": "code",
      "metadata": {
        "id": "jczf7hnEFBat",
        "outputId": "d4af223c-fbf6-4c80-b427-8d5e7ebe70a1",
        "colab": {
          "base_uri": "https://localhost:8080/",
          "height": 35
        }
      },
      "source": [
        "# Hallamos la probabilidad acumulada de 32:\n",
        "prob_acum_32 = dist_binomial.cdf(32)\n",
        "# Hallamos la probabilidad acumulada de 28:\n",
        "prob_acum_28 = dist_binomial.cdf(28)\n",
        "\n",
        "# Hallamos la diferencia de ambas\n",
        "prob_entre_29_y_32 = prob_acum_32 - prob_acum_28\n",
        "\n",
        "# Imprimimos el resultado redondeado a 5 dígitos decimales\n",
        "print('La probabilidad de que la cara 6 salga entre 29 y 32 veces es de:', round(prob_entre_29_y_32, 5))"
      ],
      "execution_count": null,
      "outputs": [
        {
          "output_type": "stream",
          "text": [
            "La probabilidad de que la cara 6 salga entre 29 y 32 veces es de: 0.28336\n"
          ],
          "name": "stdout"
        }
      ]
    },
    {
      "cell_type": "markdown",
      "metadata": {
        "id": "ieYGhMyQIrNR"
      },
      "source": [
        "(b). La cara 6 menos de 22 veces, si el dado es lanzado 170 veces. Es decir la probabilidad acumulada de 21. "
      ]
    },
    {
      "cell_type": "code",
      "metadata": {
        "id": "yFa1RRzAHunp",
        "outputId": "0559f7ec-c3e4-4a81-9927-cd3bed45db6d",
        "colab": {
          "base_uri": "https://localhost:8080/",
          "height": 35
        }
      },
      "source": [
        "prob_acum_21 = dist_binomial.cdf(21)\n",
        "\n",
        "# Imprimimos el resultado redondeado a 5 dígitos decimales\n",
        "print('La probabilidad de que la cara 6 salga menos de 22 veces es:', round(prob_acum_21, 5))"
      ],
      "execution_count": null,
      "outputs": [
        {
          "output_type": "stream",
          "text": [
            "La probabilidad de que la cara 6 salga menos de 22 veces es: 0.07597\n"
          ],
          "name": "stdout"
        }
      ]
    },
    {
      "cell_type": "markdown",
      "metadata": {
        "id": "H_2Y30tiLMq0"
      },
      "source": [
        " (c). Algún número par, si el dado es lanzado 5 veces. Para responder a esta pregunta debemos volver a crear el objeto dist_binomial, o crear uno distinto,para los datos dados. Hecho esto, debemos considerar que la respuesta estará satisfecha si obtenemos 1, 2, 3, 4 o 5 numeros pares.\n"
      ]
    },
    {
      "cell_type": "code",
      "metadata": {
        "id": "AaO5V0l8JaMM"
      },
      "source": [
        "# Declaramos las variables con los nuevos datos:\n",
        "casos_favorables = 3  # Cantidad de números pares del dado: 2, 4 y 6\n",
        "casos_posibles = 6    # El total de caras del dado\n",
        "prob_exito = casos_favorables / casos_posibles\n",
        "cant_ensayos = 5\n",
        "\n",
        "# Para este ejemplo, simplmente vamos a reutilizar nuestra variable\n",
        "dist_binomial = binom(cant_ensayos, prob_exito)"
      ],
      "execution_count": null,
      "outputs": []
    },
    {
      "cell_type": "code",
      "metadata": {
        "id": "OT7aSH8zM7ds",
        "outputId": "80857b26-7f12-4ea0-f287-f229a81fe12c",
        "colab": {
          "base_uri": "https://localhost:8080/",
          "height": 35
        }
      },
      "source": [
        "# Una forma de hacer esto es calcular la probabilidad para x= 1, 2, 3, 4, 5 y sumar todos los resultados:\n",
        "# Calcular las probabilidades para x=[1,2,3,4,5] puede hacerse en un solo paso, como vimos al hacer los gráficos\n",
        "p = dist_binomial.pmf(range(1,6)) # Esto nos devuelve un vector con todas las probabilidades, para x=[1,2,3,4,5]\n",
        "\n",
        "prob_algun_par = sum(p) # Esto nos permite hallar la suma de todos los valores obtenidos en el array p.\n",
        "\n",
        "# Imprimimos el resultado\n",
        "print('La probabilidad de que salga algú número par, si el dado es lanzado 5 veces, es:', round(prob_algun_par, 5))"
      ],
      "execution_count": null,
      "outputs": [
        {
          "output_type": "stream",
          "text": [
            "La probabilidad de que salga algú número par, si el dado es lanzado 5 veces, es: 0.96875\n"
          ],
          "name": "stdout"
        }
      ]
    },
    {
      "cell_type": "markdown",
      "metadata": {
        "id": "S2M2kPyBZU0h"
      },
      "source": [
        "4. Una fábrica produce en cada turno 100 piezas de forma que la probabilidad de que una sea defectuosa es 0.05. En elcontrol de calidad se revisan todas las piezas y se depositan las defectuosas en un recipiente que se vacía al final de cada turno. \n",
        "> ¿Cuántas piezas ha de contener el recipiente para que la probabilidad de que su capacidad no se vea rebasada al final de cada turno sea mayor o igual a 0,95?"
      ]
    },
    {
      "cell_type": "markdown",
      "metadata": {
        "id": "HFik6tjyaBK6"
      },
      "source": [
        "En otras palabras, tenemos que hallar la cantidad de botellas defectuosas (x) para la cual la probabilidad acumulada, sea mayor o igual a 0,95.\n",
        "Para esto hacemos usa del método `ppf()` _percent point function_ el cual es la inversa del método `cdf()`"
      ]
    },
    {
      "cell_type": "code",
      "metadata": {
        "id": "iuHi8iUUXv46",
        "outputId": "1fa47614-591e-411c-c212-2ea071064071",
        "colab": {
          "base_uri": "https://localhost:8080/",
          "height": 35
        }
      },
      "source": [
        "# Definimos las variables conocidas:\n",
        "cant_ensayos = 100\n",
        "prob_exito = 0.05\n",
        "\n",
        "# Creamos un objeto del tipo \"binom\" distribución binomial, con los parametros anteriores:\n",
        "dist_binomial = binom(cant_ensayos, prob_exito)\n",
        "\n",
        "# Hallamos x, para que satisfaga p(x) >= 0.95\n",
        "x = dist_binomial.ppf(0.95)\n",
        "\n",
        "# Imprimimos el resultado\n",
        "print('El recipiente debe contener al menos:', int(x), 'botellas para que la probabilidad de que su capacidad no se vea rebasada al final de cada turno sea mayor o igual a 0,95')"
      ],
      "execution_count": null,
      "outputs": [
        {
          "output_type": "stream",
          "text": [
            "El recipiente debe contener al menos: 9 botellas para que la probabilidad de que su capacidad no se vea rebasada al final de cada turno sea mayor o igual a 0,95\n"
          ],
          "name": "stdout"
        }
      ]
    },
    {
      "cell_type": "markdown",
      "metadata": {
        "id": "xX2XHkqodWXf"
      },
      "source": [
        "5. Se estima que la probabilidad de que una muestra de agua del lago Ypacarai de 1 $cm^{3}$ contenga alguna bacteria es de 0,86. \n",
        "> (a). Si se toman en forma independiente 8 muestras de agua de 1 $cm^{3}$ cada una, ¿cuál es la  probabilidad  de  que  por  lo  menos  una  muestra  contenga  alguna  colonia  de bacterias? (b). ¿Cuál es el número mínimo de muestras de 1 $cm^{3}$ que deberían tomarse para tener al menos 99% de probabilidad de observar al menos una colonia?"
      ]
    },
    {
      "cell_type": "code",
      "metadata": {
        "id": "Stv8cq84b6vg"
      },
      "source": [
        "# Definimos las variables del problema:\n",
        "cant_ensayos = 8\n",
        "prob_exito = 0.86\n",
        "\n",
        "# Creamos un objeto del tipo \"binom\" distribución binomial, con los parametros anteriores:\n",
        "dist_binomial = binom(cant_ensayos, prob_exito)"
      ],
      "execution_count": null,
      "outputs": []
    },
    {
      "cell_type": "markdown",
      "metadata": {
        "id": "Ri1EmhCbn_jr"
      },
      "source": [
        "> (a). Si se toman en forma independiente 8 muestras de agua de 1 $cm^{3}$ cada una, ¿cuál es la probabilidad de que por lo menos una muestra contenga alguna colonia de bacterias?\n",
        "\n",
        "Para esto usamos la función `sf(x)` con $x = 0$ "
      ]
    },
    {
      "cell_type": "code",
      "metadata": {
        "id": "53GuYkS1n9L_",
        "outputId": "fe4eefe9-f13f-4361-831d-7fd653c59bfe",
        "colab": {
          "base_uri": "https://localhost:8080/",
          "height": 35
        }
      },
      "source": [
        "prob_al_menos_1 = dist_binomial.sf(0)\n",
        "\n",
        "# Imprimimos el resultado redondeado a 5 digitos decimales\n",
        "print('La probabilidad de que al menos una de las muestras contenga alguna colonia de bacterias es:', prob_al_menos_1)"
      ],
      "execution_count": null,
      "outputs": [
        {
          "output_type": "stream",
          "text": [
            "La probabilidad de que al menos una de las muestras contenga alguna colonia de bacterias es: 0.9999998524210943\n"
          ],
          "name": "stdout"
        }
      ]
    },
    {
      "cell_type": "markdown",
      "metadata": {
        "id": "nqPux4eWqMAS"
      },
      "source": [
        "> (b). ¿Cuál es el número mínimo de muestras de 1 $cm^{3}$ que deberían tomarse para tener al menos 99% de probabilidad de observar al menos una colonia?\n",
        "\n",
        "En este caso, lo que tendremos que ir variando es el la cantidad de ensayos, y con esto encontrar el número mínimo de ensayos a realizar para que almenos una muestra contenga alguna colonia de bacterias con una probabilidad de 99%. Como en la parte (a) vemos que para 8 ensayos la probabilidad de obtener al menos una colonia de bacterias era más de 99,99%, tomaremos 8 como nuestro límite superior para la cantidad de ensayos a realizar. "
      ]
    },
    {
      "cell_type": "code",
      "metadata": {
        "id": "ddZOq6x-p0P-",
        "outputId": "0f3306b0-1b45-4181-966a-54c721b80267",
        "colab": {
          "base_uri": "https://localhost:8080/",
          "height": 54
        }
      },
      "source": [
        "# Definimos la cantidad de ensayos como el intervalo de 1 a 8\n",
        "cant_ensayos = range(1, 9) # Rango desde 1 (inclusive) hasta 9 (excluyendo al 9)\n",
        "\n",
        "# Esta vez no definimos un único objeto \"binom\" ya que la forma de la distribución binomial cambia con la cantidad de ensayos\n",
        "# Por lo tanto para calcular la probabilidad para cada caso solicitado escribimos la siguiente expresión:\n",
        "p = binom.sf(0, cant_ensayos, prob_exito)\n",
        "print(p)"
      ],
      "execution_count": null,
      "outputs": [
        {
          "output_type": "stream",
          "text": [
            "[0.86       0.9804     0.997256   0.99961584 0.99994622 0.99999247\n",
            " 0.99999895 0.99999985]\n"
          ],
          "name": "stdout"
        }
      ]
    },
    {
      "cell_type": "markdown",
      "metadata": {
        "id": "ib6omzvDyOWA"
      },
      "source": [
        "Al imprimir p obtenemos las probabilidades de encontrar al menos una colonia de bacterias para los distintos valores de muestra.\n",
        "> $p = [0.86, 0.9804, 0.997256, 0.99961584, 0.99994622, 0.99999247, 0.99999895, 0.99999985]$\n",
        "\n",
        "Vemos que el 3er elemento satisface la condición de que su probabilidad sea de 99% por lo tanto la respuesta buscada es:\n",
        "$n = 3$"
      ]
    },
    {
      "cell_type": "code",
      "metadata": {
        "id": "mPIV3pRbxVtr"
      },
      "source": [
        ""
      ],
      "execution_count": null,
      "outputs": []
    }
  ]
}
